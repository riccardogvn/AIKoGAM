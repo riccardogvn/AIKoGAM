{
 "cells": [
  {
   "cell_type": "code",
   "execution_count": 2,
   "id": "aca876cf-ce13-48e6-be5c-aec2c7b602bc",
   "metadata": {},
   "outputs": [],
   "source": [
    "import os\n",
    "import json\n",
    "import re\n",
    "import spacy\n",
    "from src.utils import utils\n",
    "from tqdm.notebook import tqdm\n",
    "from src.utils.transl import text_to_target_lang\n",
    "import spacy\n",
    "from spacy.cli.download import download\n",
    "from transformers import pipeline  # Add this import statement\n",
    "def extract_named_entities(ner_model, text):\n",
    "    \"\"\"\n",
    "    Extract named entities from text.\n",
    "\n",
    "    Parameters\n",
    "    ----------\n",
    "    ner_model : LANGUAGE\n",
    "        NAMED ENTITY REGOGNITION MODEL.\n",
    "    text : STR\n",
    "        TEXT TO EXTRACT NAMED ENTITIES FROM.\n",
    "\n",
    "    Returns\n",
    "    -------\n",
    "    entities : LIST\n",
    "        LIST OF NAMED ENTITIES.\n",
    "\n",
    "    \"\"\"\n",
    "    nlp = ner_model(text)\n",
    "\n",
    "    entities = {}\n",
    "    for ent in nlp.ents:\n",
    "        if ent.label_ not in entities:\n",
    "            entities[ent.label_] = [ent.text]\n",
    "        else:\n",
    "            entities[ent.label_].append(ent.text)\n",
    "    return entities\n",
    "\n",
    "def clean_provenance(prov):\n",
    "    \"\"\"\n",
    "    Proprocess provenance text.\n",
    "\n",
    "    Parameters\n",
    "    ----------\n",
    "    prov : STR\n",
    "        PROPVENANCE TEXT.\n",
    "\n",
    "    Returns\n",
    "    -------\n",
    "    prov : STR\n",
    "        PREPROCESSED PROPVENANCE TEXT.\n",
    "\n",
    "    \"\"\" \n",
    "    # Remove the parts of the provenance that are inside brackets (to facilitate extracting events)\n",
    "    prov = re.sub(\"\\s[\\[\\(].*?[\\)\\]]\", \"\", prov)\n",
    "    \n",
    "    # This is to avoid the splitting of provenance with such kind of dots \n",
    "    prov = re.sub(\"Dr\\.|Mr\\.|Ms\\.|Mrs\\.|Prof\\.|St\\.|Rev\\.|acc\\.|vol\\.|no\\.|pl\\.|inv\\.\", \"\", prov, flags=re.IGNORECASE)\n",
    "    \n",
    "    # The \":\" and \";\" act as event separator such as the \".\"\n",
    "    prov = prov.replace(':', '.')\n",
    "    prov = prov.replace(';', '.')\n",
    "    \n",
    "    # Cleaning\n",
    "    prov = prov.replace('. ,', ',')\n",
    "    prov = prov.replace('. ;', ',')    \n",
    "    prov = prov.replace('.,', ',')\n",
    "    \n",
    "    prov = prov.replace('_', '')\n",
    "    prov = prov.replace('<em>', '')\n",
    "\n",
    "\n",
    "    \n",
    "    return prov\n",
    "\n",
    "\n",
    "def samply(population, desired_power=0.95, alpha=0.05, effect_size=0.2, ratio=0.5, alternative='two-sided'):\n",
    "    import statsmodels.api as sm\n",
    "    import numpy as np\n",
    "    \"\"\"\n",
    "    Estimate the required sample size for a given population size and desired statistical parameters.\n",
    "\n",
    "    Parameters:\n",
    "    population (list): Your dataset\n",
    "    desired_power (float): Desired statistical power (e.g., 0.95 for 95% power).\n",
    "    alpha (float): Significance level (e.g., 0.05 for 5% significance).\n",
    "    effect_size (float): Effect size (Cohen's d, small effect).\n",
    "    ratio (float): Ratio of sample size to population size (adjust based on dataset size).\n",
    "    alternative (str): Type of hypothesis test ('two-sided', 'larger', or 'smaller').\n",
    "\n",
    "    Returns:\n",
    "    int: The estimated required sample size.\n",
    "    \"\"\"\n",
    "    # Calculate the required sample size\n",
    "    population_size = int(len(population))\n",
    "    required_sample_size = sm.stats.tt_ind_solve_power(\n",
    "        effect_size=effect_size, # Effect size (Cohen's d, small effect)\n",
    "        alpha=alpha, # Significance level (e.g., 0.05 for 5% significance)\n",
    "        power=desired_power, # Desired power (e.g., 80% power)\n",
    "        ratio=ratio, # You can adjust this ratio based on your dataset size\n",
    "        alternative=alternative  # Change to 'larger' or 'smaller' based on your hypothesis\n",
    "    )\n",
    "\n",
    "    # Calculate the percentage of the population that the required sample represents\n",
    "    sample_percentage = (required_sample_size / population_size) * 100\n",
    "    print(f\"Desired Power: {desired_power}\")\n",
    "    print(f\"Significance Level (alpha): {alpha}\")\n",
    "    print(f\"Effect Size (Cohen's d): {effect_size}\")\n",
    "    print(f\"Total Population Size: {population_size}\")\n",
    "    print(f\"Required Sample Size for Desired Power: {required_sample_size:.0f}\")\n",
    "    print(f\"Sample Size as a Percentage of the Population: {sample_percentage:.2f}%\")\n",
    "    required_sample_size = int(f'{required_sample_size:.0f}')\n",
    "    sample = required_sample_size\n",
    "    \n",
    "    return sample\n",
    "\n",
    "def extract_named_entities(text, spacy_model, old_model, nlp):\n",
    "    \"\"\"\n",
    "    Extract named entities from text.\n",
    "    \n",
    "    Parameters\n",
    "    ----------\n",
    "    text : STR\n",
    "        TEXT TO EXTRACT NAMED ENTITIES FROM.\n",
    "\n",
    "    Returns\n",
    "    -------\n",
    "    entities : LIST\n",
    "        LIST OF NAMED ENTITIES.\n",
    "\n",
    "    Detectable Languages:\n",
    "    Modern: Bulgarian (bg), Croatian (hr), Czech (cs), Danish (da), Dutch (nl), English (en),\n",
    "    Estonian (et), Finnish (fi), French (fr), German (de), Greek (el), Hungarian (hu), Irish (ga),\n",
    "    Italian (it), Latvian (lv), Lithuanian (lt), Maltese (mt), Polish (pl), Portuguese (pt),\n",
    "    Romanian (ro), Slovak (sk), Slovenian (sl), Spanish (es), Swedish (sv), Russian (ru),\n",
    "    Turkish (tr), Basque (eu), Catalan (ca), Albanian (sq), Serbian (se), Ukrainian (uk),\n",
    "    Norwegian (no), Arabic (ar), Chinese (zh), Hebrew (he)\n",
    "\n",
    "    Medieval: Middle High German (mhd), Latin (la), Middle Low German (gml), Old French (fro),\n",
    "    Old Church Slavonic (chu), Early New High German (fnhd), Ancient and Medieval Greek (grc)\n",
    "    \"\"\"\n",
    "    # Language detection using the specified model\n",
    "    \n",
    "    if spacy_model != old_model:\n",
    "        try:\n",
    "            nlp = spacy.load(spacy_model)\n",
    "            print(f\"{spacy_model} loaded\")\n",
    "        except OSError:\n",
    "            print(f\"Download {spacy_model}\")\n",
    "            try:\n",
    "                download(spacy_model)  # Download the Spacy model\n",
    "                nlp = spacy.load(spacy_model)\n",
    "            except:\n",
    "                nlp = spacy.load('en_core_news_md')\n",
    "    else:\n",
    "        spacy_model = spacy_model\n",
    "        print(f\"mantaining {old_model}\")\n",
    "\n",
    "    # Use the Spacy model for named entity recognition\n",
    "    entities = {}\n",
    "    for ent in nlp(text).ents:\n",
    "        for k,v in new_dict.items():\n",
    "            for i in v:\n",
    "                if ent.label_ == i:\n",
    "                    ent.label_ = k\n",
    "        if ent.label_ not in entities:\n",
    "            entities[ent.label_] = [ent.text]\n",
    "        else:\n",
    "            entities[ent.label_].append(ent.text)\n",
    "    old_model = spacy_model\n",
    "    return entities, old_model, nlp\n"
   ]
  },
  {
   "cell_type": "code",
   "execution_count": 216,
   "id": "f67712c9-4c5b-494d-a8c5-4ef8831a2716",
   "metadata": {},
   "outputs": [
    {
     "name": "stdout",
     "output_type": "stream",
     "text": [
      "\u001b[38;5;2m✔ Download and installation successful\u001b[0m\n",
      "You can now load the package via spacy.load('mk_core_news_sm')\n"
     ]
    }
   ],
   "source": [
    "download('mk_core_news_sm')"
   ]
  },
  {
   "cell_type": "code",
   "execution_count": 208,
   "id": "07d1a867-ab1b-4c76-bfd3-a36dc15d2442",
   "metadata": {},
   "outputs": [
    {
     "name": "stdout",
     "output_type": "stream",
     "text": [
      "CARDINAL -> ['CARDINAL', 'NUMERIC_VALUE']\n",
      "DATE -> ['date', 'DATETIME', 'DATE', 'PERIOD', 'TME', 'time', 'TIME']\n",
      "EVENT -> ['EVT', 'EVN', 'EVENT']\n",
      "FAC -> ['FAC', 'FACILITY']\n",
      "GPE -> ['GPE', 'GPE_ORG', 'GPE_LOC', 'placeName', 'LOC', 'geogName']\n",
      "LANGUAGE -> ['LANGUAGE']\n",
      "LAW -> ['LAW']\n",
      "LOC -> ['placeName', 'LOC', 'geogName']\n",
      "MONEY -> ['MONEY']\n",
      "MOVEMENT -> ['MOVEMENT']\n",
      "NORP -> ['NAT_REL_POL', 'NORP']\n",
      "ORDINAL -> ['ORDINAL']\n",
      "ORG -> ['MSR', 'ORGANIZATION', 'orgName', 'DRV', 'OBJ', 'ORG']\n",
      "PERCENT -> ['PERCENT']\n",
      "PERSON -> ['PER', 'PERSON', 'PRS', 'persName', 'DERIV_PER', 'PET_NAME']\n",
      "PRODUCT -> ['PRODUCT', 'PROD']\n",
      "QUANTITY -> ['QUANTITY']\n",
      "WORK_OF_ART -> ['WRK', 'WORK_OF_ART']\n",
      "OTHER -> ['TITLE_AFFIX', 'PHONE', 'MISC']\n"
     ]
    }
   ],
   "source": [
    "\n",
    "\n",
    "# Dictionary to map NER labels for each model to English labels\n",
    "ner_label_mapping = {}\n",
    "\n",
    "# Define label mappings for each model\n",
    "label_mappings = {\n",
    "    'da_core_news_sm': {'LOC': 'LOC', 'MISC': 'MISC', 'ORG': 'ORG', 'PER': 'PERSON'},\n",
    "    'fr_core_news_sm': {'LOC': 'LOC', 'MISC': 'MISC', 'ORG': 'ORG', 'PER': 'PERSON'},\n",
    "    'lt_core_news_sm': {'GPE': 'GPE', 'LOC': 'LOC', 'ORG': 'ORG', 'PERSON': 'PERSON', 'PRODUCT': 'PRODUCT', 'TIME': 'TIME'},\n",
    "    'en_core_web_md': {'CARDINAL': 'CARDINAL', 'DATE': 'DATE', 'EVENT': 'EVENT', 'FAC': 'FAC', 'GPE': 'GPE',\n",
    "                       'LANGUAGE': 'LANGUAGE', 'LAW': 'LAW', 'LOC': 'LOC', 'MONEY': 'MONEY', 'NORP': 'NORP',\n",
    "                       'ORDINAL': 'ORDINAL', 'ORG': 'ORG', 'PERCENT': 'PERCENT', 'PERSON': 'PERSON', 'PRODUCT': 'PRODUCT',\n",
    "                       'QUANTITY': 'QUANTITY', 'TIME': 'TIME', 'WORK_OF_ART': 'WORK_OF_ART'},\n",
    "    'ja_core_news_sm': {'CARDINAL': 'CARDINAL', 'DATE': 'DATE', 'EVENT': 'EVENT', 'FAC': 'FAC', 'GPE': 'GPE',\n",
    "                        'LANGUAGE': 'LANGUAGE', 'LAW': 'LAW', 'LOC': 'LOC', 'MONEY': 'MONEY', 'MOVEMENT': 'MOVEMENT',\n",
    "                        'NORP': 'NORP', 'ORDINAL': 'ORDINAL', 'ORG': 'ORG', 'PERCENT': 'PERCENT', 'PERSON': 'PERSON',\n",
    "                        'PET_NAME': 'PERSON', 'PHONE': 'PHONE', 'PRODUCT': 'PRODUCT', 'QUANTITY': 'QUANTITY', 'TIME': 'TIME',\n",
    "                        'TITLE_AFFIX': 'TITLE_AFFIX', 'WORK_OF_ART': 'WORK_OF_ART'},\n",
    "    'es_core_news_sm': {'LOC': 'LOC', 'MISC': 'MISC', 'ORG': 'ORG', 'PER': 'PERSON'},\n",
    "    'zh_core_web_sm': {'CARDINAL': 'CARDINAL', 'DATE': 'DATE', 'EVENT': 'EVENT', 'FAC': 'FAC', 'GPE': 'GPE',\n",
    "                       'LANGUAGE': 'LANGUAGE', 'LAW': 'LAW', 'LOC': 'LOC', 'MONEY': 'MONEY', 'NORP': 'NORP',\n",
    "                       'ORDINAL': 'ORDINAL', 'ORG': 'ORG', 'PERCENT': 'PERCENT', 'PERSON': 'PERSON', 'PRODUCT': 'PRODUCT',\n",
    "                       'QUANTITY': 'QUANTITY', 'TIME': 'TIME', 'WORK_OF_ART': 'WORK_OF_ART'},\n",
    "    'fi_core_news_sm': {'CARDINAL': 'CARDINAL', 'DATE': 'DATE', 'EVENT': 'EVENT', 'FAC': 'FAC', 'GPE': 'GPE',\n",
    "                        'LANGUAGE': 'LANGUAGE', 'LAW': 'LAW', 'LOC': 'LOC', 'MONEY': 'MONEY', 'NORP': 'NORP',\n",
    "                        'ORDINAL': 'ORDINAL', 'ORG': 'ORG', 'PERCENT': 'PERCENT', 'PERSON': 'PERSON', 'PRODUCT': 'PRODUCT',\n",
    "                        'QUANTITY': 'QUANTITY', 'TIME': 'TIME', 'WORK_OF_ART': 'WORK_OF_ART'},\n",
    "    'de_core_news_sm': {'LOC': 'LOC', 'MISC': 'MISC', 'ORG': 'ORG', 'PER': 'PERSON'},\n",
    "    'ca_core_news_sm': {'LOC': 'LOC', 'MISC': 'MISC', 'ORG': 'ORG', 'PER': 'PERSON'},\n",
    "    'nb_core_news_sm': {'DRV': 'ORG', 'EVT': 'EVENT', 'GPE_LOC': 'GPE', 'GPE_ORG': 'GPE', 'LOC': 'LOC', 'MISC': 'MISC',\n",
    "                        'ORG': 'ORG', 'PER': 'PERSON', 'PROD': 'PRODUCT'},\n",
    "    'it_core_news_sm': {'LOC': 'LOC', 'MISC': 'MISC', 'ORG': 'ORG', 'PER': 'PERSON'},\n",
    "    'nl_core_news_sm': {'CARDINAL': 'CARDINAL', 'DATE': 'DATE', 'EVENT': 'EVENT', 'FAC': 'FAC', 'GPE': 'GPE',\n",
    "                        'LANGUAGE': 'LANGUAGE', 'LAW': 'LAW', 'LOC': 'LOC', 'MONEY': 'MONEY', 'NORP': 'NORP',\n",
    "                        'ORDINAL': 'ORDINAL', 'ORG': 'ORG', 'PERCENT': 'PERCENT', 'PERSON': 'PERSON', 'PRODUCT': 'PRODUCT',\n",
    "                        'QUANTITY': 'QUANTITY', 'TIME': 'TIME', 'WORK_OF_ART': 'WORK_OF_ART'},\n",
    "    'sv_core_news_sm': {'EVN': 'EVENT', 'LOC': 'LOC', 'MSR': 'ORG', 'OBJ': 'ORG', 'ORG': 'ORG', 'PRS': 'PERSON', 'TME': 'TIME',\n",
    "                        'WRK': 'WORK_OF_ART'},\n",
    "    'pl_core_news_sm': {'date': 'DATE', 'geogName': 'LOC', 'orgName': 'ORG', 'persName': 'PERSON', 'placeName': 'LOC', 'time': 'TIME'},\n",
    "    'ro_core_news_sm': {'DATETIME': 'DATE', 'EVENT': 'EVENT', 'FACILITY': 'FAC', 'GPE': 'GPE', 'LANGUAGE': 'LANGUAGE',\n",
    "                        'LOC': 'LOC', 'MONEY': 'MONEY', 'NAT_REL_POL': 'NORP', 'NUMERIC_VALUE': 'CARDINAL',\n",
    "                        'ORDINAL': 'ORDINAL', 'ORGANIZATION': 'ORG', 'PERIOD': 'DATE', 'PERSON': 'PERSON', 'PRODUCT': 'PRODUCT',\n",
    "                        'QUANTITY': 'QUANTITY', 'WORK_OF_ART': 'WORK_OF_ART'},\n",
    "    'pt_core_news_sm': {'LOC': 'LOC', 'MISC': 'MISC', 'ORG': 'ORG', 'PER': 'PERSON'},\n",
    "    'sl_core_news_sm': {'DERIV_PER': 'PERSON', 'LOC': 'LOC', 'MISC': 'MISC', 'ORG': 'ORG', 'PER': 'PERSON'},\n",
    "    'hr_core_news_sm': {'DERIV_PER': 'PERSON', 'LOC': 'LOC', 'MISC': 'MISC', 'ORG': 'ORG', 'PER': 'PERSON'}\n",
    "}\n",
    "\n",
    "# Populate the dictionary with mappings\n",
    "for model, label_mapping in label_mappings.items():\n",
    "    ner_label_mapping[model] = label_mapping\n",
    "\n",
    "new_dict = dict()\n",
    "long = label_mappings['ja_core_news_sm']\n",
    "for k,v in long.items():\n",
    "    new_dict[v] = []\n",
    "\n",
    "for k,v in label_mappings.items():\n",
    "    for key,value in v.items():\n",
    "        for j,z in new_dict.items():\n",
    "            if value == j:\n",
    "                z.append(key)\n",
    "            else:\n",
    "                pass\n",
    "for j,z in new_dict.items():\n",
    "    clean = list(set(z))\n",
    "    new_dict[j] = clean\n",
    "\n",
    "others = new_dict['TITLE_AFFIX']+new_dict['PHONE']\n",
    "others.append('MISC')\n",
    "for x in new_dict['TIME']:\n",
    "    new_dict['DATE'].append(x)\n",
    "for x in new_dict['LOC']:\n",
    "    new_dict['GPE'].append(x)\n",
    "    \n",
    "new_dict['OTHER'] = others\n",
    "new_dict.pop('TITLE_AFFIX')\n",
    "new_dict.pop('PHONE')\n",
    "new_dict.pop('TIME')\n",
    "for k,v in new_dict.items():\n",
    "    print(k,'->',v)\n"
   ]
  },
  {
   "cell_type": "code",
   "execution_count": 97,
   "id": "0e742303-031e-48d8-80e5-8786aa8b9f08",
   "metadata": {},
   "outputs": [],
   "source": [
    "with open('datasets/final_db.json','r',encoding='utf-8') as f:\n",
    "    final = json.load(f)\n"
   ]
  },
  {
   "cell_type": "code",
   "execution_count": 112,
   "id": "fd548dbc-6cd9-4357-ac69-5b93a11b426e",
   "metadata": {},
   "outputs": [
    {
     "ename": "KeyError",
     "evalue": "'cae03c8d51435f87bbac86923f4dd9ad82bdca396c1b6f76e721717e8fa67c5767fda7a561f070c9d62aa27d52f763604cb15429551d0863bc3e57e2d40ccd14'",
     "output_type": "error",
     "traceback": [
      "\u001b[1;31m---------------------------------------------------------------------------\u001b[0m",
      "\u001b[1;31mKeyError\u001b[0m                                  Traceback (most recent call last)",
      "Cell \u001b[1;32mIn[112], line 1\u001b[0m\n\u001b[1;32m----> 1\u001b[0m \u001b[43mfinal\u001b[49m\u001b[43m[\u001b[49m\u001b[38;5;124;43m'\u001b[39;49m\u001b[38;5;124;43mlots\u001b[39;49m\u001b[38;5;124;43m'\u001b[39;49m\u001b[43m]\u001b[49m\u001b[43m[\u001b[49m\u001b[38;5;124;43m\"\u001b[39;49m\u001b[38;5;124;43mcae03c8d51435f87bbac86923f4dd9ad82bdca396c1b6f76e721717e8fa67c5767fda7a561f070c9d62aa27d52f763604cb15429551d0863bc3e57e2d40ccd14\u001b[39;49m\u001b[38;5;124;43m\"\u001b[39;49m\u001b[43m]\u001b[49m\n",
      "\u001b[1;31mKeyError\u001b[0m: 'cae03c8d51435f87bbac86923f4dd9ad82bdca396c1b6f76e721717e8fa67c5767fda7a561f070c9d62aa27d52f763604cb15429551d0863bc3e57e2d40ccd14'"
     ]
    }
   ],
   "source": []
  },
  {
   "cell_type": "code",
   "execution_count": 71,
   "id": "a5b3c69f-1bce-4894-b10e-2fe5cd6270a8",
   "metadata": {
    "scrolled": true
   },
   "outputs": [
    {
     "name": "stdout",
     "output_type": "stream",
     "text": [
      "Desired Power: 0.95\n",
      "Significance Level (alpha): 0.05\n",
      "Effect Size (Cohen's d): 0.2\n",
      "Total Population Size: 30422\n",
      "Required Sample Size for Desired Power: 976\n",
      "Sample Size as a Percentage of the Population: 3.21%\n"
     ]
    },
    {
     "data": {
      "application/vnd.jupyter.widget-view+json": {
       "model_id": "5b277c1f00534f4bb1fdf379e5508571",
       "version_major": 2,
       "version_minor": 0
      },
      "text/plain": [
       "  0%|          | 0/976 [00:00<?, ?it/s]"
      ]
     },
     "metadata": {},
     "output_type": "display_data"
    },
    {
     "name": "stdout",
     "output_type": "stream",
     "text": [
      "mantaining en_core_web_md\n",
      "mantaining en_core_web_md\n",
      "mantaining en_core_web_md\n",
      "zh_core_web_sm loaded\n",
      "mantaining zh_core_web_sm\n",
      "en_core_web_md loaded\n",
      "mantaining en_core_web_md\n",
      "zh_core_web_sm loaded\n",
      "en_core_web_md loaded\n",
      "mantaining en_core_web_md\n",
      "mantaining en_core_web_md\n",
      "mantaining en_core_web_md\n",
      "mantaining en_core_web_md\n",
      "mantaining en_core_web_md\n",
      "mantaining en_core_web_md\n",
      "mantaining en_core_web_md\n",
      "mantaining en_core_web_md\n",
      "de_core_news_sm loaded\n",
      "en_core_web_md loaded\n",
      "fr_core_news_sm loaded\n",
      "mantaining fr_core_news_sm\n",
      "en_core_web_md loaded\n",
      "mantaining en_core_web_md\n",
      "mantaining en_core_web_md\n",
      "mantaining en_core_web_md\n",
      "fr_core_news_sm loaded\n",
      "en_core_web_md loaded\n",
      "mantaining en_core_web_md\n",
      "mantaining en_core_web_md\n",
      "mantaining en_core_web_md\n",
      "mantaining en_core_web_md\n",
      "mantaining en_core_web_md\n",
      "mantaining en_core_web_md\n",
      "mantaining en_core_web_md\n",
      "mantaining en_core_web_md\n",
      "nl_core_news_sm loaded\n",
      "en_core_web_md loaded\n",
      "mantaining en_core_web_md\n",
      "mantaining en_core_web_md\n",
      "nl_core_news_sm loaded\n",
      "en_core_web_md loaded\n",
      "mantaining en_core_web_md\n",
      "fr_core_news_sm loaded\n",
      "en_core_web_md loaded\n",
      "mantaining en_core_web_md\n",
      "de_core_news_sm loaded\n",
      "en_core_web_md loaded\n",
      "mantaining en_core_web_md\n",
      "mantaining en_core_web_md\n",
      "mantaining en_core_web_md\n",
      "mantaining en_core_web_md\n",
      "mantaining en_core_web_md\n",
      "mantaining en_core_web_md\n",
      "mantaining en_core_web_md\n",
      "mantaining en_core_web_md\n",
      "mantaining en_core_web_md\n",
      "sv_core_news_sm loaded\n",
      "en_core_web_md loaded\n",
      "mantaining en_core_web_md\n",
      "mantaining en_core_web_md\n",
      "mantaining en_core_web_md\n",
      "mantaining en_core_web_md\n",
      "fr_core_news_sm loaded\n",
      "en_core_web_md loaded\n",
      "mantaining en_core_web_md\n",
      "fr_core_news_sm loaded\n",
      "en_core_web_md loaded\n",
      "mantaining en_core_web_md\n",
      "mantaining en_core_web_md\n",
      "mantaining en_core_web_md\n",
      "mantaining en_core_web_md\n",
      "mantaining en_core_web_md\n",
      "mantaining en_core_web_md\n",
      "mantaining en_core_web_md\n",
      "mantaining en_core_web_md\n",
      "mantaining en_core_web_md\n",
      "mantaining en_core_web_md\n",
      "mantaining en_core_web_md\n",
      "zh_core_web_sm loaded\n",
      "en_core_web_md loaded\n",
      "mantaining en_core_web_md\n",
      "mantaining en_core_web_md\n",
      "mantaining en_core_web_md\n",
      "mantaining en_core_web_md\n",
      "mantaining en_core_web_md\n",
      "mantaining en_core_web_md\n",
      "mantaining en_core_web_md\n",
      "mantaining en_core_web_md\n",
      "mantaining en_core_web_md\n",
      "mantaining en_core_web_md\n",
      "mantaining en_core_web_md\n",
      "pl_core_news_sm loaded\n",
      "en_core_web_md loaded\n",
      "mantaining en_core_web_md\n",
      "mantaining en_core_web_md\n",
      "mantaining en_core_web_md\n",
      "mantaining en_core_web_md\n",
      "mantaining en_core_web_md\n",
      "mantaining en_core_web_md\n",
      "fr_core_news_sm loaded\n",
      "en_core_web_md loaded\n",
      "mantaining en_core_web_md\n",
      "mantaining en_core_web_md\n",
      "mantaining en_core_web_md\n",
      "mantaining en_core_web_md\n",
      "mantaining en_core_web_md\n",
      "mantaining en_core_web_md\n",
      "zh_core_web_sm loaded\n",
      "mantaining zh_core_web_sm\n",
      "en_core_web_md loaded\n",
      "mantaining en_core_web_md\n",
      "zh_core_web_sm loaded\n",
      "en_core_web_md loaded\n",
      "mantaining en_core_web_md\n",
      "mantaining en_core_web_md\n",
      "fr_core_news_sm loaded\n",
      "en_core_web_md loaded\n",
      "zh_core_web_sm loaded\n",
      "mantaining zh_core_web_sm\n",
      "mantaining zh_core_web_sm\n",
      "mantaining zh_core_web_sm\n",
      "mantaining zh_core_web_sm\n",
      "en_core_web_md loaded\n",
      "zh_core_web_sm loaded\n",
      "en_core_web_md loaded\n",
      "mantaining en_core_web_md\n",
      "mantaining en_core_web_md\n",
      "mantaining en_core_web_md\n",
      "mantaining en_core_web_md\n",
      "mantaining en_core_web_md\n",
      "mantaining en_core_web_md\n",
      "mantaining en_core_web_md\n",
      "fr_core_news_sm loaded\n",
      "en_core_web_md loaded\n",
      "mantaining en_core_web_md\n",
      "mantaining en_core_web_md\n",
      "mantaining en_core_web_md\n",
      "mantaining en_core_web_md\n",
      "mantaining en_core_web_md\n",
      "mantaining en_core_web_md\n",
      "mantaining en_core_web_md\n",
      "mantaining en_core_web_md\n",
      "mantaining en_core_web_md\n",
      "mantaining en_core_web_md\n",
      "zh_core_web_sm loaded\n",
      "en_core_web_md loaded\n",
      "mantaining en_core_web_md\n",
      "mantaining en_core_web_md\n",
      "mantaining en_core_web_md\n",
      "mantaining en_core_web_md\n",
      "mantaining en_core_web_md\n",
      "mantaining en_core_web_md\n",
      "mantaining en_core_web_md\n",
      "mantaining en_core_web_md\n",
      "fi_core_news_sm loaded\n",
      "en_core_web_md loaded\n",
      "mantaining en_core_web_md\n",
      "mantaining en_core_web_md\n",
      "mantaining en_core_web_md\n",
      "mantaining en_core_web_md\n",
      "mantaining en_core_web_md\n",
      "mantaining en_core_web_md\n",
      "mantaining en_core_web_md\n",
      "mantaining en_core_web_md\n",
      "mantaining en_core_web_md\n",
      "mantaining en_core_web_md\n",
      "mantaining en_core_web_md\n",
      "mantaining en_core_web_md\n",
      "mantaining en_core_web_md\n",
      "mantaining en_core_web_md\n",
      "mantaining en_core_web_md\n",
      "mantaining en_core_web_md\n",
      "mantaining en_core_web_md\n",
      "mantaining en_core_web_md\n",
      "mantaining en_core_web_md\n",
      "mantaining en_core_web_md\n",
      "mantaining en_core_web_md\n",
      "mantaining en_core_web_md\n",
      "mantaining en_core_web_md\n",
      "mantaining en_core_web_md\n",
      "fr_core_news_sm loaded\n",
      "en_core_web_md loaded\n",
      "mantaining en_core_web_md\n",
      "mantaining en_core_web_md\n",
      "mantaining en_core_web_md\n",
      "mantaining en_core_web_md\n",
      "mantaining en_core_web_md\n",
      "mantaining en_core_web_md\n",
      "mantaining en_core_web_md\n",
      "mantaining en_core_web_md\n",
      "mantaining en_core_web_md\n",
      "mantaining en_core_web_md\n",
      "mantaining en_core_web_md\n",
      "mantaining en_core_web_md\n",
      "mantaining en_core_web_md\n",
      "mantaining en_core_web_md\n",
      "mantaining en_core_web_md\n",
      "mantaining en_core_web_md\n",
      "mantaining en_core_web_md\n",
      "mantaining en_core_web_md\n",
      "mantaining en_core_web_md\n",
      "mantaining en_core_web_md\n",
      "mantaining en_core_web_md\n",
      "mantaining en_core_web_md\n",
      "mantaining en_core_web_md\n",
      "mantaining en_core_web_md\n",
      "mantaining en_core_web_md\n",
      "mantaining en_core_web_md\n",
      "mantaining en_core_web_md\n",
      "mantaining en_core_web_md\n",
      "mantaining en_core_web_md\n",
      "mantaining en_core_web_md\n",
      "mantaining en_core_web_md\n",
      "es_core_news_sm loaded\n",
      "en_core_web_md loaded\n",
      "mantaining en_core_web_md\n",
      "mantaining en_core_web_md\n",
      "mantaining en_core_web_md\n",
      "mantaining en_core_web_md\n",
      "mantaining en_core_web_md\n",
      "mantaining en_core_web_md\n",
      "mantaining en_core_web_md\n",
      "fr_core_news_sm loaded\n",
      "en_core_web_md loaded\n",
      "mantaining en_core_web_md\n",
      "mantaining en_core_web_md\n",
      "fr_core_news_sm loaded\n",
      "mantaining fr_core_news_sm\n",
      "mantaining fr_core_news_sm\n",
      "en_core_web_md loaded\n",
      "mantaining en_core_web_md\n",
      "mantaining en_core_web_md\n",
      "mantaining en_core_web_md\n",
      "mantaining en_core_web_md\n",
      "mantaining en_core_web_md\n",
      "es_core_news_sm loaded\n",
      "en_core_web_md loaded\n",
      "mantaining en_core_web_md\n",
      "mantaining en_core_web_md\n",
      "pl_core_news_sm loaded\n",
      "en_core_web_md loaded\n",
      "mantaining en_core_web_md\n",
      "mantaining en_core_web_md\n",
      "mantaining en_core_web_md\n",
      "mantaining en_core_web_md\n",
      "mantaining en_core_web_md\n",
      "mantaining en_core_web_md\n",
      "mantaining en_core_web_md\n",
      "mantaining en_core_web_md\n",
      "mantaining en_core_web_md\n",
      "mantaining en_core_web_md\n",
      "mantaining en_core_web_md\n",
      "mantaining en_core_web_md\n",
      "mantaining en_core_web_md\n",
      "mantaining en_core_web_md\n",
      "mantaining en_core_web_md\n",
      "mantaining en_core_web_md\n",
      "mantaining en_core_web_md\n",
      "mantaining en_core_web_md\n",
      "mantaining en_core_web_md\n",
      "mantaining en_core_web_md\n",
      "mantaining en_core_web_md\n",
      "mantaining en_core_web_md\n",
      "mantaining en_core_web_md\n",
      "mantaining en_core_web_md\n",
      "mantaining en_core_web_md\n",
      "fr_core_news_sm loaded\n",
      "zh_core_web_sm loaded\n",
      "en_core_web_md loaded\n",
      "mantaining en_core_web_md\n",
      "zh_core_web_sm loaded\n",
      "en_core_web_md loaded\n",
      "mantaining en_core_web_md\n",
      "mantaining en_core_web_md\n",
      "mantaining en_core_web_md\n",
      "mantaining en_core_web_md\n",
      "mantaining en_core_web_md\n",
      "mantaining en_core_web_md\n",
      "mantaining en_core_web_md\n",
      "mantaining en_core_web_md\n",
      "mantaining en_core_web_md\n",
      "mantaining en_core_web_md\n",
      "mantaining en_core_web_md\n",
      "mantaining en_core_web_md\n",
      "mantaining en_core_web_md\n",
      "mantaining en_core_web_md\n",
      "it_core_news_sm loaded\n",
      "en_core_web_md loaded\n",
      "mantaining en_core_web_md\n",
      "mantaining en_core_web_md\n",
      "fr_core_news_sm loaded\n",
      "en_core_web_md loaded\n",
      "mantaining en_core_web_md\n",
      "mantaining en_core_web_md\n",
      "fr_core_news_sm loaded\n",
      "en_core_web_md loaded\n",
      "mantaining en_core_web_md\n",
      "mantaining en_core_web_md\n",
      "zh_core_web_sm loaded\n",
      "en_core_web_md loaded\n",
      "mantaining en_core_web_md\n",
      "mantaining en_core_web_md\n",
      "mantaining en_core_web_md\n",
      "mantaining en_core_web_md\n",
      "zh_core_web_sm loaded\n",
      "mantaining zh_core_web_sm\n",
      "en_core_web_md loaded\n",
      "mantaining en_core_web_md\n",
      "zh_core_web_sm loaded\n",
      "de_core_news_sm loaded\n",
      "en_core_web_md loaded\n",
      "mantaining en_core_web_md\n",
      "mantaining en_core_web_md\n",
      "mantaining en_core_web_md\n",
      "mantaining en_core_web_md\n",
      "mantaining en_core_web_md\n",
      "mantaining en_core_web_md\n",
      "mantaining en_core_web_md\n",
      "mantaining en_core_web_md\n",
      "mantaining en_core_web_md\n",
      "mantaining en_core_web_md\n",
      "mantaining en_core_web_md\n",
      "mantaining en_core_web_md\n",
      "mantaining en_core_web_md\n",
      "mantaining en_core_web_md\n",
      "mantaining en_core_web_md\n",
      "mantaining en_core_web_md\n",
      "mantaining en_core_web_md\n",
      "mantaining en_core_web_md\n",
      "mantaining en_core_web_md\n",
      "mantaining en_core_web_md\n",
      "mantaining en_core_web_md\n",
      "mantaining en_core_web_md\n",
      "mantaining en_core_web_md\n",
      "mantaining en_core_web_md\n",
      "mantaining en_core_web_md\n",
      "mantaining en_core_web_md\n",
      "zh_core_web_sm loaded\n",
      "en_core_web_md loaded\n",
      "zh_core_web_sm loaded\n",
      "en_core_web_md loaded\n",
      "mantaining en_core_web_md\n",
      "mantaining en_core_web_md\n",
      "mantaining en_core_web_md\n",
      "zh_core_web_sm loaded\n",
      "en_core_web_md loaded\n",
      "mantaining en_core_web_md\n",
      "mantaining en_core_web_md\n",
      "mantaining en_core_web_md\n",
      "mantaining en_core_web_md\n",
      "mantaining en_core_web_md\n",
      "mantaining en_core_web_md\n",
      "mantaining en_core_web_md\n",
      "mantaining en_core_web_md\n",
      "mantaining en_core_web_md\n",
      "mantaining en_core_web_md\n",
      "mantaining en_core_web_md\n",
      "mantaining en_core_web_md\n",
      "mantaining en_core_web_md\n",
      "mantaining en_core_web_md\n",
      "mantaining en_core_web_md\n",
      "mantaining en_core_web_md\n",
      "mantaining en_core_web_md\n",
      "mantaining en_core_web_md\n",
      "mantaining en_core_web_md\n",
      "mantaining en_core_web_md\n",
      "de_core_news_sm loaded\n",
      "en_core_web_md loaded\n",
      "mantaining en_core_web_md\n",
      "mantaining en_core_web_md\n",
      "mantaining en_core_web_md\n",
      "mantaining en_core_web_md\n",
      "zh_core_web_sm loaded\n",
      "mantaining zh_core_web_sm\n",
      "en_core_web_md loaded\n",
      "mantaining en_core_web_md\n",
      "zh_core_web_sm loaded\n",
      "en_core_web_md loaded\n",
      "mantaining en_core_web_md\n",
      "mantaining en_core_web_md\n",
      "mantaining en_core_web_md\n",
      "mantaining en_core_web_md\n",
      "mantaining en_core_web_md\n",
      "mantaining en_core_web_md\n",
      "mantaining en_core_web_md\n",
      "mantaining en_core_web_md\n",
      "mantaining en_core_web_md\n",
      "zh_core_web_sm loaded\n",
      "en_core_web_md loaded\n",
      "mantaining en_core_web_md\n",
      "zh_core_web_sm loaded\n",
      "en_core_web_md loaded\n",
      "zh_core_web_sm loaded\n",
      "de_core_news_sm loaded\n",
      "en_core_web_md loaded\n",
      "mantaining en_core_web_md\n",
      "mantaining en_core_web_md\n",
      "mantaining en_core_web_md\n",
      "mantaining en_core_web_md\n",
      "fr_core_news_sm loaded\n",
      "zh_core_web_sm loaded\n",
      "en_core_web_md loaded\n",
      "mantaining en_core_web_md\n",
      "zh_core_web_sm loaded\n",
      "en_core_web_md loaded\n",
      "mantaining en_core_web_md\n",
      "mantaining en_core_web_md\n",
      "mantaining en_core_web_md\n",
      "mantaining en_core_web_md\n",
      "mantaining en_core_web_md\n",
      "mantaining en_core_web_md\n",
      "mantaining en_core_web_md\n",
      "mantaining en_core_web_md\n",
      "mantaining en_core_web_md\n",
      "mantaining en_core_web_md\n",
      "mantaining en_core_web_md\n",
      "mantaining en_core_web_md\n",
      "mantaining en_core_web_md\n",
      "mantaining en_core_web_md\n",
      "mantaining en_core_web_md\n",
      "mantaining en_core_web_md\n",
      "mantaining en_core_web_md\n",
      "mantaining en_core_web_md\n",
      "mantaining en_core_web_md\n",
      "mantaining en_core_web_md\n",
      "mantaining en_core_web_md\n",
      "mantaining en_core_web_md\n",
      "mantaining en_core_web_md\n",
      "mantaining en_core_web_md\n",
      "mantaining en_core_web_md\n",
      "mantaining en_core_web_md\n",
      "mantaining en_core_web_md\n",
      "mantaining en_core_web_md\n",
      "mantaining en_core_web_md\n",
      "mantaining en_core_web_md\n",
      "mantaining en_core_web_md\n",
      "mantaining en_core_web_md\n",
      "fr_core_news_sm loaded\n",
      "en_core_web_md loaded\n",
      "mantaining en_core_web_md\n",
      "mantaining en_core_web_md\n",
      "mantaining en_core_web_md\n",
      "mantaining en_core_web_md\n",
      "mantaining en_core_web_md\n",
      "fr_core_news_sm loaded\n",
      "en_core_web_md loaded\n",
      "zh_core_web_sm loaded\n",
      "mantaining zh_core_web_sm\n",
      "en_core_web_md loaded\n",
      "mantaining en_core_web_md\n",
      "zh_core_web_sm loaded\n",
      "en_core_web_md loaded\n",
      "mantaining en_core_web_md\n",
      "mantaining en_core_web_md\n",
      "mantaining en_core_web_md\n",
      "mantaining en_core_web_md\n",
      "mantaining en_core_web_md\n",
      "mantaining en_core_web_md\n",
      "mantaining en_core_web_md\n",
      "mantaining en_core_web_md\n",
      "mantaining en_core_web_md\n",
      "mantaining en_core_web_md\n",
      "fr_core_news_sm loaded\n",
      "de_core_news_sm loaded\n",
      "en_core_web_md loaded\n",
      "mantaining en_core_web_md\n",
      "mantaining en_core_web_md\n",
      "mantaining en_core_web_md\n",
      "mantaining en_core_web_md\n",
      "mantaining en_core_web_md\n",
      "mantaining en_core_web_md\n",
      "mantaining en_core_web_md\n",
      "de_core_news_sm loaded\n",
      "en_core_web_md loaded\n",
      "mantaining en_core_web_md\n",
      "mantaining en_core_web_md\n",
      "zh_core_web_sm loaded\n",
      "en_core_web_md loaded\n",
      "mantaining en_core_web_md\n",
      "mantaining en_core_web_md\n",
      "zh_core_web_sm loaded\n",
      "en_core_web_md loaded\n",
      "mantaining en_core_web_md\n",
      "mantaining en_core_web_md\n",
      "mantaining en_core_web_md\n",
      "mantaining en_core_web_md\n",
      "mantaining en_core_web_md\n",
      "mantaining en_core_web_md\n",
      "mantaining en_core_web_md\n",
      "mantaining en_core_web_md\n",
      "mantaining en_core_web_md\n",
      "lt_core_news_sm loaded\n",
      "en_core_web_md loaded\n",
      "de_core_news_sm loaded\n",
      "en_core_web_md loaded\n",
      "mantaining en_core_web_md\n",
      "mantaining en_core_web_md\n",
      "es_core_news_sm loaded\n",
      "it_core_news_sm loaded\n",
      "en_core_web_md loaded\n",
      "mantaining en_core_web_md\n",
      "mantaining en_core_web_md\n",
      "mantaining en_core_web_md\n",
      "mantaining en_core_web_md\n",
      "mantaining en_core_web_md\n",
      "mantaining en_core_web_md\n",
      "mantaining en_core_web_md\n",
      "mantaining en_core_web_md\n",
      "mantaining en_core_web_md\n",
      "mantaining en_core_web_md\n",
      "mantaining en_core_web_md\n",
      "mantaining en_core_web_md\n",
      "mantaining en_core_web_md\n",
      "mantaining en_core_web_md\n",
      "fr_core_news_sm loaded\n",
      "en_core_web_md loaded\n",
      "mantaining en_core_web_md\n",
      "fr_core_news_sm loaded\n",
      "en_core_web_md loaded\n",
      "mantaining en_core_web_md\n",
      "mantaining en_core_web_md\n",
      "mantaining en_core_web_md\n",
      "mantaining en_core_web_md\n",
      "mantaining en_core_web_md\n",
      "mantaining en_core_web_md\n",
      "mantaining en_core_web_md\n",
      "mantaining en_core_web_md\n",
      "mantaining en_core_web_md\n",
      "it_core_news_sm loaded\n",
      "en_core_web_md loaded\n",
      "mantaining en_core_web_md\n",
      "mantaining en_core_web_md\n",
      "mantaining en_core_web_md\n",
      "mantaining en_core_web_md\n",
      "zh_core_web_sm loaded\n",
      "mantaining zh_core_web_sm\n",
      "en_core_web_md loaded\n",
      "zh_core_web_sm loaded\n",
      "en_core_web_md loaded\n",
      "mantaining en_core_web_md\n",
      "mantaining en_core_web_md\n",
      "mantaining en_core_web_md\n",
      "mantaining en_core_web_md\n",
      "mantaining en_core_web_md\n",
      "mantaining en_core_web_md\n",
      "mantaining en_core_web_md\n",
      "mantaining en_core_web_md\n",
      "mantaining en_core_web_md\n",
      "mantaining en_core_web_md\n",
      "mantaining en_core_web_md\n",
      "mantaining en_core_web_md\n",
      "mantaining en_core_web_md\n",
      "mantaining en_core_web_md\n",
      "mantaining en_core_web_md\n",
      "mantaining en_core_web_md\n",
      "mantaining en_core_web_md\n",
      "mantaining en_core_web_md\n",
      "zh_core_web_sm loaded\n",
      "en_core_web_md loaded\n",
      "mantaining en_core_web_md\n",
      "mantaining en_core_web_md\n",
      "mantaining en_core_web_md\n",
      "mantaining en_core_web_md\n",
      "mantaining en_core_web_md\n",
      "mantaining en_core_web_md\n",
      "mantaining en_core_web_md\n",
      "mantaining en_core_web_md\n",
      "es_core_news_sm loaded\n",
      "en_core_web_md loaded\n",
      "mantaining en_core_web_md\n",
      "mantaining en_core_web_md\n",
      "mantaining en_core_web_md\n",
      "it_core_news_sm loaded\n",
      "en_core_web_md loaded\n",
      "mantaining en_core_web_md\n",
      "zh_core_web_sm loaded\n",
      "en_core_web_md loaded\n",
      "mantaining en_core_web_md\n",
      "mantaining en_core_web_md\n",
      "mantaining en_core_web_md\n",
      "mantaining en_core_web_md\n",
      "mantaining en_core_web_md\n",
      "mantaining en_core_web_md\n",
      "zh_core_web_sm loaded\n",
      "mantaining zh_core_web_sm\n",
      "en_core_web_md loaded\n",
      "mantaining en_core_web_md\n",
      "zh_core_web_sm loaded\n",
      "en_core_web_md loaded\n",
      "mantaining en_core_web_md\n",
      "it_core_news_sm loaded\n",
      "en_core_web_md loaded\n",
      "mantaining en_core_web_md\n",
      "mantaining en_core_web_md\n",
      "mantaining en_core_web_md\n",
      "mantaining en_core_web_md\n",
      "mantaining en_core_web_md\n",
      "mantaining en_core_web_md\n",
      "mantaining en_core_web_md\n",
      "mantaining en_core_web_md\n",
      "mantaining en_core_web_md\n",
      "mantaining en_core_web_md\n",
      "mantaining en_core_web_md\n",
      "mantaining en_core_web_md\n",
      "de_core_news_sm loaded\n",
      "en_core_web_md loaded\n",
      "mantaining en_core_web_md\n",
      "mantaining en_core_web_md\n",
      "mantaining en_core_web_md\n",
      "mantaining en_core_web_md\n",
      "mantaining en_core_web_md\n",
      "mantaining en_core_web_md\n",
      "mantaining en_core_web_md\n",
      "mantaining en_core_web_md\n",
      "mantaining en_core_web_md\n",
      "mantaining en_core_web_md\n",
      "mantaining en_core_web_md\n",
      "mantaining en_core_web_md\n",
      "mantaining en_core_web_md\n",
      "mantaining en_core_web_md\n",
      "mantaining en_core_web_md\n",
      "mantaining en_core_web_md\n",
      "mantaining en_core_web_md\n",
      "mantaining en_core_web_md\n",
      "mantaining en_core_web_md\n",
      "mantaining en_core_web_md\n",
      "mantaining en_core_web_md\n",
      "mantaining en_core_web_md\n",
      "mantaining en_core_web_md\n",
      "mantaining en_core_web_md\n",
      "mantaining en_core_web_md\n",
      "it_core_news_sm loaded\n",
      "en_core_web_md loaded\n",
      "mantaining en_core_web_md\n",
      "fr_core_news_sm loaded\n",
      "en_core_web_md loaded\n",
      "mantaining en_core_web_md\n",
      "mantaining en_core_web_md\n",
      "mantaining en_core_web_md\n",
      "mantaining en_core_web_md\n",
      "mantaining en_core_web_md\n",
      "mantaining en_core_web_md\n",
      "mantaining en_core_web_md\n",
      "mantaining en_core_web_md\n",
      "mantaining en_core_web_md\n",
      "mantaining en_core_web_md\n",
      "mantaining en_core_web_md\n",
      "de_core_news_sm loaded\n",
      "en_core_web_md loaded\n",
      "mantaining en_core_web_md\n",
      "mantaining en_core_web_md\n",
      "mantaining en_core_web_md\n",
      "mantaining en_core_web_md\n",
      "mantaining en_core_web_md\n",
      "mantaining en_core_web_md\n",
      "mantaining en_core_web_md\n",
      "mantaining en_core_web_md\n",
      "mantaining en_core_web_md\n",
      "mantaining en_core_web_md\n",
      "mantaining en_core_web_md\n",
      "zh_core_web_sm loaded\n",
      "en_core_web_md loaded\n",
      "zh_core_web_sm loaded\n",
      "en_core_web_md loaded\n",
      "mantaining en_core_web_md\n",
      "mantaining en_core_web_md\n",
      "mantaining en_core_web_md\n",
      "mantaining en_core_web_md\n",
      "mantaining en_core_web_md\n",
      "mantaining en_core_web_md\n",
      "mantaining en_core_web_md\n",
      "mantaining en_core_web_md\n",
      "mantaining en_core_web_md\n",
      "mantaining en_core_web_md\n",
      "mantaining en_core_web_md\n",
      "fr_core_news_sm loaded\n",
      "en_core_web_md loaded\n",
      "mantaining en_core_web_md\n",
      "mantaining en_core_web_md\n",
      "mantaining en_core_web_md\n",
      "mantaining en_core_web_md\n",
      "mantaining en_core_web_md\n",
      "mantaining en_core_web_md\n",
      "mantaining en_core_web_md\n",
      "mantaining en_core_web_md\n",
      "mantaining en_core_web_md\n",
      "nl_core_news_sm loaded\n",
      "en_core_web_md loaded\n",
      "mantaining en_core_web_md\n",
      "nl_core_news_sm loaded\n",
      "en_core_web_md loaded\n",
      "mantaining en_core_web_md\n",
      "mantaining en_core_web_md\n",
      "nl_core_news_sm loaded\n",
      "fr_core_news_sm loaded\n",
      "en_core_web_md loaded\n",
      "nl_core_news_sm loaded\n",
      "en_core_web_md loaded\n",
      "mantaining en_core_web_md\n",
      "fr_core_news_sm loaded\n",
      "en_core_web_md loaded\n",
      "mantaining en_core_web_md\n",
      "mantaining en_core_web_md\n",
      "mantaining en_core_web_md\n",
      "mantaining en_core_web_md\n",
      "mantaining en_core_web_md\n",
      "zh_core_web_sm loaded\n",
      "mantaining zh_core_web_sm\n",
      "mantaining zh_core_web_sm\n",
      "en_core_web_md loaded\n",
      "ja_core_news_sm loaded\n",
      "en_core_web_md loaded\n",
      "mantaining en_core_web_md\n",
      "mantaining en_core_web_md\n",
      "mantaining en_core_web_md\n",
      "mantaining en_core_web_md\n",
      "zh_core_web_sm loaded\n",
      "en_core_web_md loaded\n",
      "mantaining en_core_web_md\n",
      "mantaining en_core_web_md\n",
      "mantaining en_core_web_md\n",
      "mantaining en_core_web_md\n",
      "mantaining en_core_web_md\n",
      "mantaining en_core_web_md\n",
      "mantaining en_core_web_md\n",
      "zh_core_web_sm loaded\n",
      "en_core_web_md loaded\n",
      "mantaining en_core_web_md\n",
      "zh_core_web_sm loaded\n",
      "en_core_web_md loaded\n",
      "mantaining en_core_web_md\n",
      "mantaining en_core_web_md\n",
      "pt_core_news_sm loaded\n",
      "en_core_web_md loaded\n",
      "mantaining en_core_web_md\n",
      "zh_core_web_sm loaded\n",
      "en_core_web_md loaded\n",
      "mantaining en_core_web_md\n",
      "mantaining en_core_web_md\n",
      "mantaining en_core_web_md\n",
      "mantaining en_core_web_md\n",
      "mantaining en_core_web_md\n",
      "mantaining en_core_web_md\n",
      "mantaining en_core_web_md\n",
      "mantaining en_core_web_md\n",
      "mantaining en_core_web_md\n",
      "mantaining en_core_web_md\n",
      "mantaining en_core_web_md\n",
      "mantaining en_core_web_md\n",
      "mantaining en_core_web_md\n",
      "mantaining en_core_web_md\n",
      "mantaining en_core_web_md\n",
      "mantaining en_core_web_md\n",
      "mantaining en_core_web_md\n",
      "mantaining en_core_web_md\n",
      "mantaining en_core_web_md\n",
      "mantaining en_core_web_md\n",
      "mantaining en_core_web_md\n",
      "zh_core_web_sm loaded\n",
      "en_core_web_md loaded\n",
      "mantaining en_core_web_md\n",
      "mantaining en_core_web_md\n",
      "mantaining en_core_web_md\n",
      "mantaining en_core_web_md\n",
      "mantaining en_core_web_md\n",
      "mantaining en_core_web_md\n",
      "fr_core_news_sm loaded\n",
      "en_core_web_md loaded\n",
      "mantaining en_core_web_md\n",
      "mantaining en_core_web_md\n",
      "mantaining en_core_web_md\n",
      "mantaining en_core_web_md\n",
      "mantaining en_core_web_md\n",
      "mantaining en_core_web_md\n",
      "mantaining en_core_web_md\n",
      "de_core_news_sm loaded\n",
      "it_core_news_sm loaded\n",
      "pl_core_news_sm loaded\n",
      "en_core_web_md loaded\n",
      "mantaining en_core_web_md\n",
      "mantaining en_core_web_md\n",
      "mantaining en_core_web_md\n",
      "es_core_news_sm loaded\n",
      "en_core_web_md loaded\n",
      "zh_core_web_sm loaded\n",
      "en_core_web_md loaded\n",
      "mantaining en_core_web_md\n",
      "zh_core_web_sm loaded\n",
      "en_core_web_md loaded\n",
      "mantaining en_core_web_md\n",
      "mantaining en_core_web_md\n",
      "mantaining en_core_web_md\n",
      "mantaining en_core_web_md\n",
      "mantaining en_core_web_md\n",
      "mantaining en_core_web_md\n",
      "mantaining en_core_web_md\n",
      "mantaining en_core_web_md\n",
      "mantaining en_core_web_md\n",
      "mantaining en_core_web_md\n",
      "mantaining en_core_web_md\n",
      "zh_core_web_sm loaded\n",
      "mantaining zh_core_web_sm\n",
      "en_core_web_md loaded\n",
      "mantaining en_core_web_md\n",
      "zh_core_web_sm loaded\n",
      "en_core_web_md loaded\n",
      "mantaining en_core_web_md\n",
      "mantaining en_core_web_md\n",
      "it_core_news_sm loaded\n",
      "en_core_web_md loaded\n",
      "mantaining en_core_web_md\n",
      "mantaining en_core_web_md\n",
      "zh_core_web_sm loaded\n",
      "en_core_web_md loaded\n",
      "mantaining en_core_web_md\n",
      "zh_core_web_sm loaded\n",
      "en_core_web_md loaded\n",
      "mantaining en_core_web_md\n",
      "mantaining en_core_web_md\n",
      "mantaining en_core_web_md\n",
      "mantaining en_core_web_md\n",
      "mantaining en_core_web_md\n",
      "mantaining en_core_web_md\n",
      "mantaining en_core_web_md\n",
      "mantaining en_core_web_md\n",
      "mantaining en_core_web_md\n",
      "mantaining en_core_web_md\n",
      "mantaining en_core_web_md\n",
      "mantaining en_core_web_md\n",
      "mantaining en_core_web_md\n",
      "mantaining en_core_web_md\n",
      "zh_core_web_sm loaded\n",
      "en_core_web_md loaded\n",
      "mantaining en_core_web_md\n",
      "mantaining en_core_web_md\n",
      "mantaining en_core_web_md\n",
      "mantaining en_core_web_md\n",
      "mantaining en_core_web_md\n",
      "mantaining en_core_web_md\n",
      "mantaining en_core_web_md\n",
      "mantaining en_core_web_md\n",
      "mantaining en_core_web_md\n",
      "mantaining en_core_web_md\n",
      "mantaining en_core_web_md\n",
      "mantaining en_core_web_md\n",
      "mantaining en_core_web_md\n",
      "mantaining en_core_web_md\n",
      "mantaining en_core_web_md\n",
      "mantaining en_core_web_md\n",
      "mantaining en_core_web_md\n",
      "mantaining en_core_web_md\n",
      "mantaining en_core_web_md\n",
      "mantaining en_core_web_md\n",
      "zh_core_web_sm loaded\n",
      "en_core_web_md loaded\n",
      "mantaining en_core_web_md\n",
      "mantaining en_core_web_md\n",
      "mantaining en_core_web_md\n",
      "mantaining en_core_web_md\n",
      "de_core_news_sm loaded\n",
      "en_core_web_md loaded\n",
      "mantaining en_core_web_md\n",
      "mantaining en_core_web_md\n",
      "mantaining en_core_web_md\n",
      "mantaining en_core_web_md\n",
      "mantaining en_core_web_md\n",
      "mantaining en_core_web_md\n",
      "mantaining en_core_web_md\n",
      "mantaining en_core_web_md\n",
      "mantaining en_core_web_md\n",
      "mantaining en_core_web_md\n",
      "mantaining en_core_web_md\n",
      "mantaining en_core_web_md\n",
      "mantaining en_core_web_md\n",
      "mantaining en_core_web_md\n",
      "mantaining en_core_web_md\n",
      "mantaining en_core_web_md\n",
      "mantaining en_core_web_md\n",
      "mantaining en_core_web_md\n",
      "fr_core_news_sm loaded\n",
      "en_core_web_md loaded\n",
      "mantaining en_core_web_md\n",
      "mantaining en_core_web_md\n",
      "mantaining en_core_web_md\n",
      "mantaining en_core_web_md\n",
      "mantaining en_core_web_md\n",
      "mantaining en_core_web_md\n",
      "mantaining en_core_web_md\n",
      "mantaining en_core_web_md\n",
      "mantaining en_core_web_md\n",
      "mantaining en_core_web_md\n",
      "mantaining en_core_web_md\n",
      "mantaining en_core_web_md\n",
      "mantaining en_core_web_md\n",
      "mantaining en_core_web_md\n",
      "mantaining en_core_web_md\n",
      "es_core_news_sm loaded\n",
      "en_core_web_md loaded\n",
      "mantaining en_core_web_md\n",
      "mantaining en_core_web_md\n",
      "mantaining en_core_web_md\n",
      "mantaining en_core_web_md\n",
      "mantaining en_core_web_md\n",
      "fr_core_news_sm loaded\n",
      "de_core_news_sm loaded\n",
      "en_core_web_md loaded\n",
      "mantaining en_core_web_md\n",
      "mantaining en_core_web_md\n",
      "mantaining en_core_web_md\n",
      "mantaining en_core_web_md\n",
      "mantaining en_core_web_md\n",
      "mantaining en_core_web_md\n",
      "mantaining en_core_web_md\n",
      "mantaining en_core_web_md\n",
      "it_core_news_sm loaded\n",
      "en_core_web_md loaded\n",
      "mantaining en_core_web_md\n",
      "mantaining en_core_web_md\n",
      "mantaining en_core_web_md\n",
      "mantaining en_core_web_md\n",
      "mantaining en_core_web_md\n",
      "mantaining en_core_web_md\n",
      "mantaining en_core_web_md\n",
      "de_core_news_sm loaded\n",
      "en_core_web_md loaded\n",
      "mantaining en_core_web_md\n",
      "mantaining en_core_web_md\n",
      "mantaining en_core_web_md\n",
      "mantaining en_core_web_md\n",
      "mantaining en_core_web_md\n",
      "nl_core_news_sm loaded\n",
      "en_core_web_md loaded\n",
      "mantaining en_core_web_md\n",
      "fr_core_news_sm loaded\n",
      "nl_core_news_sm loaded\n",
      "en_core_web_md loaded\n",
      "mantaining en_core_web_md\n",
      "fr_core_news_sm loaded\n",
      "en_core_web_md loaded\n",
      "mantaining en_core_web_md\n",
      "de_core_news_sm loaded\n",
      "en_core_web_md loaded\n",
      "mantaining en_core_web_md\n",
      "mantaining en_core_web_md\n",
      "mantaining en_core_web_md\n",
      "mantaining en_core_web_md\n",
      "mantaining en_core_web_md\n",
      "mantaining en_core_web_md\n",
      "mantaining en_core_web_md\n",
      "mantaining en_core_web_md\n",
      "mantaining en_core_web_md\n",
      "zh_core_web_sm loaded\n",
      "en_core_web_md loaded\n",
      "mantaining en_core_web_md\n",
      "mantaining en_core_web_md\n",
      "fr_core_news_sm loaded\n",
      "en_core_web_md loaded\n",
      "mantaining en_core_web_md\n",
      "mantaining en_core_web_md\n",
      "mantaining en_core_web_md\n",
      "mantaining en_core_web_md\n",
      "mantaining en_core_web_md\n",
      "mantaining en_core_web_md\n",
      "mantaining en_core_web_md\n",
      "mantaining en_core_web_md\n",
      "mantaining en_core_web_md\n",
      "mantaining en_core_web_md\n",
      "de_core_news_sm loaded\n",
      "en_core_web_md loaded\n",
      "mantaining en_core_web_md\n",
      "sv_core_news_sm loaded\n",
      "fr_core_news_sm loaded\n",
      "en_core_web_md loaded\n",
      "mantaining en_core_web_md\n",
      "mantaining en_core_web_md\n",
      "mantaining en_core_web_md\n",
      "mantaining en_core_web_md\n",
      "mantaining en_core_web_md\n",
      "mantaining en_core_web_md\n",
      "de_core_news_sm loaded\n",
      "mantaining de_core_news_sm\n",
      "en_core_web_md loaded\n",
      "mantaining en_core_web_md\n",
      "mantaining en_core_web_md\n",
      "mantaining en_core_web_md\n",
      "mantaining en_core_web_md\n",
      "mantaining en_core_web_md\n",
      "mantaining en_core_web_md\n",
      "mantaining en_core_web_md\n",
      "mantaining en_core_web_md\n",
      "fr_core_news_sm loaded\n",
      "en_core_web_md loaded\n",
      "mantaining en_core_web_md\n",
      "mantaining en_core_web_md\n",
      "mantaining en_core_web_md\n",
      "mantaining en_core_web_md\n",
      "mantaining en_core_web_md\n",
      "mantaining en_core_web_md\n",
      "mantaining en_core_web_md\n",
      "mantaining en_core_web_md\n",
      "mantaining en_core_web_md\n",
      "mantaining en_core_web_md\n",
      "mantaining en_core_web_md\n",
      "mantaining en_core_web_md\n",
      "mantaining en_core_web_md\n",
      "mantaining en_core_web_md\n",
      "mantaining en_core_web_md\n",
      "mantaining en_core_web_md\n",
      "mantaining en_core_web_md\n",
      "mantaining en_core_web_md\n",
      "mantaining en_core_web_md\n",
      "mantaining en_core_web_md\n",
      "mantaining en_core_web_md\n",
      "mantaining en_core_web_md\n",
      "mantaining en_core_web_md\n",
      "mantaining en_core_web_md\n",
      "mantaining en_core_web_md\n",
      "mantaining en_core_web_md\n",
      "zh_core_web_sm loaded\n",
      "en_core_web_md loaded\n",
      "zh_core_web_sm loaded\n",
      "en_core_web_md loaded\n",
      "mantaining en_core_web_md\n",
      "mantaining en_core_web_md\n",
      "mantaining en_core_web_md\n",
      "mantaining en_core_web_md\n",
      "mantaining en_core_web_md\n",
      "pl_core_news_sm loaded\n",
      "en_core_web_md loaded\n",
      "mantaining en_core_web_md\n",
      "mantaining en_core_web_md\n",
      "mantaining en_core_web_md\n",
      "mantaining en_core_web_md\n",
      "mantaining en_core_web_md\n",
      "mantaining en_core_web_md\n",
      "mantaining en_core_web_md\n",
      "mantaining en_core_web_md\n",
      "de_core_news_sm loaded\n",
      "en_core_web_md loaded\n",
      "mantaining en_core_web_md\n",
      "mantaining en_core_web_md\n",
      "mantaining en_core_web_md\n",
      "mantaining en_core_web_md\n",
      "mantaining en_core_web_md\n",
      "mantaining en_core_web_md\n",
      "mantaining en_core_web_md\n",
      "mantaining en_core_web_md\n",
      "mantaining en_core_web_md\n",
      "mantaining en_core_web_md\n",
      "mantaining en_core_web_md\n",
      "mantaining en_core_web_md\n",
      "mantaining en_core_web_md\n",
      "mantaining en_core_web_md\n",
      "mantaining en_core_web_md\n",
      "mantaining en_core_web_md\n",
      "mantaining en_core_web_md\n",
      "mantaining en_core_web_md\n",
      "mantaining en_core_web_md\n",
      "mantaining en_core_web_md\n",
      "mantaining en_core_web_md\n",
      "mantaining en_core_web_md\n",
      "mantaining en_core_web_md\n",
      "mantaining en_core_web_md\n",
      "mantaining en_core_web_md\n",
      "mantaining en_core_web_md\n",
      "mantaining en_core_web_md\n",
      "mantaining en_core_web_md\n",
      "fr_core_news_sm loaded\n",
      "zh_core_web_sm loaded\n",
      "en_core_web_md loaded\n",
      "mantaining en_core_web_md\n",
      "mantaining en_core_web_md\n",
      "mantaining en_core_web_md\n",
      "mantaining en_core_web_md\n",
      "mantaining en_core_web_md\n",
      "mantaining en_core_web_md\n",
      "mantaining en_core_web_md\n",
      "mantaining en_core_web_md\n",
      "mantaining en_core_web_md\n",
      "mantaining en_core_web_md\n",
      "mantaining en_core_web_md\n",
      "zh_core_web_sm loaded\n",
      "en_core_web_md loaded\n",
      "mantaining en_core_web_md\n",
      "mantaining en_core_web_md\n",
      "mantaining en_core_web_md\n",
      "mantaining en_core_web_md\n",
      "mantaining en_core_web_md\n",
      "mantaining en_core_web_md\n",
      "mantaining en_core_web_md\n",
      "mantaining en_core_web_md\n",
      "it_core_news_sm loaded\n",
      "en_core_web_md loaded\n",
      "lt_core_news_sm loaded\n",
      "en_core_web_md loaded\n",
      "mantaining en_core_web_md\n",
      "mantaining en_core_web_md\n",
      "mantaining en_core_web_md\n",
      "it_core_news_sm loaded\n",
      "en_core_web_md loaded\n",
      "mantaining en_core_web_md\n",
      "mantaining en_core_web_md\n",
      "mantaining en_core_web_md\n",
      "mantaining en_core_web_md\n",
      "mantaining en_core_web_md\n",
      "mantaining en_core_web_md\n",
      "mantaining en_core_web_md\n",
      "mantaining en_core_web_md\n",
      "mantaining en_core_web_md\n",
      "mantaining en_core_web_md\n",
      "mantaining en_core_web_md\n",
      "mantaining en_core_web_md\n",
      "mantaining en_core_web_md\n",
      "mantaining en_core_web_md\n",
      "mantaining en_core_web_md\n",
      "mantaining en_core_web_md\n",
      "mantaining en_core_web_md\n",
      "mantaining en_core_web_md\n",
      "zh_core_web_sm loaded\n",
      "en_core_web_md loaded\n",
      "mantaining en_core_web_md\n",
      "mantaining en_core_web_md\n",
      "fr_core_news_sm loaded\n",
      "en_core_web_md loaded\n",
      "pl_core_news_sm loaded\n",
      "en_core_web_md loaded\n",
      "fr_core_news_sm loaded\n",
      "en_core_web_md loaded\n",
      "mantaining en_core_web_md\n",
      "mantaining en_core_web_md\n",
      "mantaining en_core_web_md\n",
      "mantaining en_core_web_md\n",
      "mantaining en_core_web_md\n",
      "mantaining en_core_web_md\n",
      "mantaining en_core_web_md\n",
      "mantaining en_core_web_md\n",
      "nl_core_news_sm loaded\n",
      "es_core_news_sm loaded\n",
      "nl_core_news_sm loaded\n",
      "en_core_web_md loaded\n",
      "fr_core_news_sm loaded\n",
      "nl_core_news_sm loaded\n",
      "fr_core_news_sm loaded\n",
      "en_core_web_md loaded\n",
      "mantaining en_core_web_md\n",
      "mantaining en_core_web_md\n",
      "mantaining en_core_web_md\n",
      "mantaining en_core_web_md\n",
      "mantaining en_core_web_md\n",
      "mantaining en_core_web_md\n",
      "mantaining en_core_web_md\n",
      "mantaining en_core_web_md\n",
      "fr_core_news_sm loaded\n",
      "en_core_web_md loaded\n",
      "mantaining en_core_web_md\n",
      "it_core_news_sm loaded\n",
      "fr_core_news_sm loaded\n",
      "en_core_web_md loaded\n",
      "mantaining en_core_web_md\n",
      "mantaining en_core_web_md\n",
      "mantaining en_core_web_md\n",
      "mantaining en_core_web_md\n",
      "mantaining en_core_web_md\n",
      "mantaining en_core_web_md\n",
      "mantaining en_core_web_md\n",
      "mantaining en_core_web_md\n",
      "de_core_news_sm loaded\n",
      "en_core_web_md loaded\n",
      "mantaining en_core_web_md\n",
      "mantaining en_core_web_md\n",
      "zh_core_web_sm loaded\n",
      "en_core_web_md loaded\n",
      "mantaining en_core_web_md\n",
      "mantaining en_core_web_md\n",
      "sv_core_news_sm loaded\n",
      "fi_core_news_sm loaded\n",
      "de_core_news_sm loaded\n",
      "en_core_web_md loaded\n",
      "mantaining en_core_web_md\n",
      "mantaining en_core_web_md\n",
      "mantaining en_core_web_md\n",
      "mantaining en_core_web_md\n",
      "mantaining en_core_web_md\n",
      "mantaining en_core_web_md\n",
      "mantaining en_core_web_md\n",
      "mantaining en_core_web_md\n",
      "mantaining en_core_web_md\n",
      "mantaining en_core_web_md\n",
      "mantaining en_core_web_md\n",
      "mantaining en_core_web_md\n",
      "mantaining en_core_web_md\n",
      "mantaining en_core_web_md\n",
      "mantaining en_core_web_md\n",
      "mantaining en_core_web_md\n",
      "mantaining en_core_web_md\n",
      "mantaining en_core_web_md\n",
      "mantaining en_core_web_md\n",
      "mantaining en_core_web_md\n",
      "mantaining en_core_web_md\n",
      "zh_core_web_sm loaded\n",
      "en_core_web_md loaded\n",
      "zh_core_web_sm loaded\n",
      "de_core_news_sm loaded\n",
      "en_core_web_md loaded\n",
      "de_core_news_sm loaded\n",
      "en_core_web_md loaded\n",
      "mantaining en_core_web_md\n",
      "nl_core_news_sm loaded\n",
      "de_core_news_sm loaded\n",
      "en_core_web_md loaded\n",
      "zh_core_web_sm loaded\n",
      "mantaining zh_core_web_sm\n",
      "mantaining zh_core_web_sm\n",
      "en_core_web_md loaded\n",
      "mantaining en_core_web_md\n",
      "zh_core_web_sm loaded\n",
      "en_core_web_md loaded\n",
      "mantaining en_core_web_md\n",
      "mantaining en_core_web_md\n",
      "pt_core_news_sm loaded\n",
      "de_core_news_sm loaded\n",
      "en_core_web_md loaded\n",
      "mantaining en_core_web_md\n",
      "mantaining en_core_web_md\n",
      "mantaining en_core_web_md\n",
      "mantaining en_core_web_md\n",
      "mantaining en_core_web_md\n",
      "mantaining en_core_web_md\n",
      "mantaining en_core_web_md\n",
      "mantaining en_core_web_md\n",
      "fr_core_news_sm loaded\n",
      "en_core_web_md loaded\n",
      "mantaining en_core_web_md\n",
      "mantaining en_core_web_md\n",
      "mantaining en_core_web_md\n",
      "de_core_news_sm loaded\n",
      "en_core_web_md loaded\n",
      "mantaining en_core_web_md\n",
      "mantaining en_core_web_md\n",
      "mantaining en_core_web_md\n",
      "mantaining en_core_web_md\n",
      "mantaining en_core_web_md\n",
      "mantaining en_core_web_md\n",
      "mantaining en_core_web_md\n",
      "zh_core_web_sm loaded\n",
      "en_core_web_md loaded\n",
      "mantaining en_core_web_md\n",
      "mantaining en_core_web_md\n",
      "mantaining en_core_web_md\n",
      "mantaining en_core_web_md\n",
      "mantaining en_core_web_md\n",
      "mantaining en_core_web_md\n",
      "de_core_news_sm loaded\n",
      "en_core_web_md loaded\n",
      "mantaining en_core_web_md\n",
      "mantaining en_core_web_md\n",
      "mantaining en_core_web_md\n",
      "mantaining en_core_web_md\n",
      "sv_core_news_sm loaded\n",
      "de_core_news_sm loaded\n",
      "en_core_web_md loaded\n",
      "mantaining en_core_web_md\n",
      "mantaining en_core_web_md\n",
      "mantaining en_core_web_md\n",
      "mantaining en_core_web_md\n",
      "mantaining en_core_web_md\n",
      "zh_core_web_sm loaded\n",
      "fr_core_news_sm loaded\n",
      "en_core_web_md loaded\n",
      "zh_core_web_sm loaded\n",
      "en_core_web_md loaded\n",
      "zh_core_web_sm loaded\n",
      "en_core_web_md loaded\n",
      "mantaining en_core_web_md\n",
      "mantaining en_core_web_md\n",
      "mantaining en_core_web_md\n",
      "mantaining en_core_web_md\n",
      "mantaining en_core_web_md\n",
      "mantaining en_core_web_md\n",
      "mantaining en_core_web_md\n",
      "mantaining en_core_web_md\n",
      "mantaining en_core_web_md\n",
      "mantaining en_core_web_md\n",
      "mantaining en_core_web_md\n",
      "mantaining en_core_web_md\n",
      "mantaining en_core_web_md\n",
      "mantaining en_core_web_md\n",
      "mantaining en_core_web_md\n",
      "mantaining en_core_web_md\n",
      "mantaining en_core_web_md\n",
      "mantaining en_core_web_md\n",
      "mantaining en_core_web_md\n",
      "mantaining en_core_web_md\n",
      "mantaining en_core_web_md\n",
      "mantaining en_core_web_md\n",
      "mantaining en_core_web_md\n",
      "mantaining en_core_web_md\n",
      "mantaining en_core_web_md\n",
      "mantaining en_core_web_md\n",
      "mantaining en_core_web_md\n",
      "mantaining en_core_web_md\n",
      "mantaining en_core_web_md\n",
      "de_core_news_sm loaded\n",
      "en_core_web_md loaded\n",
      "mantaining en_core_web_md\n",
      "mantaining en_core_web_md\n",
      "mantaining en_core_web_md\n",
      "de_core_news_sm loaded\n",
      "en_core_web_md loaded\n",
      "mantaining en_core_web_md\n",
      "mantaining en_core_web_md\n",
      "mantaining en_core_web_md\n",
      "mantaining en_core_web_md\n",
      "mantaining en_core_web_md\n",
      "mantaining en_core_web_md\n",
      "pt_core_news_sm loaded\n",
      "fr_core_news_sm loaded\n",
      "en_core_web_md loaded\n",
      "mantaining en_core_web_md\n",
      "fr_core_news_sm loaded\n",
      "nl_core_news_sm loaded\n",
      "en_core_web_md loaded\n",
      "fr_core_news_sm loaded\n",
      "en_core_web_md loaded\n",
      "mantaining en_core_web_md\n",
      "mantaining en_core_web_md\n",
      "mantaining en_core_web_md\n",
      "mantaining en_core_web_md\n",
      "mantaining en_core_web_md\n",
      "pl_core_news_sm loaded\n",
      "en_core_web_md loaded\n",
      "fr_core_news_sm loaded\n",
      "de_core_news_sm loaded\n",
      "nl_core_news_sm loaded\n",
      "en_core_web_md loaded\n",
      "mantaining en_core_web_md\n",
      "fr_core_news_sm loaded\n",
      "nl_core_news_sm loaded\n",
      "en_core_web_md loaded\n",
      "mantaining en_core_web_md\n",
      "fr_core_news_sm loaded\n",
      "en_core_web_md loaded\n",
      "mantaining en_core_web_md\n",
      "mantaining en_core_web_md\n",
      "mantaining en_core_web_md\n",
      "mantaining en_core_web_md\n",
      "mantaining en_core_web_md\n",
      "zh_core_web_sm loaded\n",
      "en_core_web_md loaded\n",
      "mantaining en_core_web_md\n",
      "mantaining en_core_web_md\n",
      "es_core_news_sm loaded\n",
      "en_core_web_md loaded\n",
      "mantaining en_core_web_md\n",
      "zh_core_web_sm loaded\n",
      "en_core_web_md loaded\n",
      "mantaining en_core_web_md\n",
      "mantaining en_core_web_md\n",
      "zh_core_web_sm loaded\n",
      "en_core_web_md loaded\n",
      "mantaining en_core_web_md\n",
      "mantaining en_core_web_md\n",
      "mantaining en_core_web_md\n",
      "it_core_news_sm loaded\n",
      "en_core_web_md loaded\n",
      "zh_core_web_sm loaded\n",
      "en_core_web_md loaded\n",
      "zh_core_web_sm loaded\n",
      "en_core_web_md loaded\n",
      "mantaining en_core_web_md\n",
      "mantaining en_core_web_md\n",
      "mantaining en_core_web_md\n",
      "mantaining en_core_web_md\n",
      "mantaining en_core_web_md\n",
      "mantaining en_core_web_md\n",
      "fr_core_news_sm loaded\n",
      "en_core_web_md loaded\n",
      "mantaining en_core_web_md\n",
      "mantaining en_core_web_md\n",
      "mantaining en_core_web_md\n",
      "mantaining en_core_web_md\n",
      "mantaining en_core_web_md\n",
      "mantaining en_core_web_md\n",
      "mantaining en_core_web_md\n",
      "fr_core_news_sm loaded\n",
      "en_core_web_md loaded\n",
      "mantaining en_core_web_md\n",
      "zh_core_web_sm loaded\n",
      "en_core_web_md loaded\n",
      "mantaining en_core_web_md\n",
      "mantaining en_core_web_md\n",
      "mantaining en_core_web_md\n",
      "mantaining en_core_web_md\n",
      "mantaining en_core_web_md\n",
      "zh_core_web_sm loaded\n",
      "en_core_web_md loaded\n",
      "mantaining en_core_web_md\n",
      "mantaining en_core_web_md\n",
      "fr_core_news_sm loaded\n",
      "en_core_web_md loaded\n",
      "mantaining en_core_web_md\n",
      "mantaining en_core_web_md\n",
      "mantaining en_core_web_md\n",
      "mantaining en_core_web_md\n",
      "mantaining en_core_web_md\n",
      "mantaining en_core_web_md\n",
      "mantaining en_core_web_md\n",
      "mantaining en_core_web_md\n",
      "mantaining en_core_web_md\n",
      "mantaining en_core_web_md\n",
      "mantaining en_core_web_md\n",
      "mantaining en_core_web_md\n",
      "mantaining en_core_web_md\n",
      "mantaining en_core_web_md\n",
      "zh_core_web_sm loaded\n",
      "en_core_web_md loaded\n",
      "mantaining en_core_web_md\n",
      "mantaining en_core_web_md\n",
      "mantaining en_core_web_md\n",
      "mantaining en_core_web_md\n",
      "mantaining en_core_web_md\n",
      "mantaining en_core_web_md\n",
      "zh_core_web_sm loaded\n",
      "en_core_web_md loaded\n",
      "mantaining en_core_web_md\n",
      "zh_core_web_sm loaded\n",
      "en_core_web_md loaded\n",
      "mantaining en_core_web_md\n",
      "mantaining en_core_web_md\n",
      "mantaining en_core_web_md\n",
      "zh_core_web_sm loaded\n",
      "en_core_web_md loaded\n",
      "pl_core_news_sm loaded\n",
      "en_core_web_md loaded\n",
      "mantaining en_core_web_md\n",
      "mantaining en_core_web_md\n",
      "mantaining en_core_web_md\n",
      "mantaining en_core_web_md\n",
      "mantaining en_core_web_md\n",
      "mantaining en_core_web_md\n",
      "mantaining en_core_web_md\n",
      "mantaining en_core_web_md\n",
      "mantaining en_core_web_md\n",
      "mantaining en_core_web_md\n",
      "mantaining en_core_web_md\n",
      "mantaining en_core_web_md\n",
      "mantaining en_core_web_md\n",
      "mantaining en_core_web_md\n",
      "fr_core_news_sm loaded\n",
      "en_core_web_md loaded\n",
      "mantaining en_core_web_md\n",
      "mantaining en_core_web_md\n",
      "mantaining en_core_web_md\n",
      "de_core_news_sm loaded\n",
      "en_core_web_md loaded\n",
      "mantaining en_core_web_md\n",
      "mantaining en_core_web_md\n",
      "mantaining en_core_web_md\n",
      "mantaining en_core_web_md\n",
      "mantaining en_core_web_md\n",
      "mantaining en_core_web_md\n",
      "mantaining en_core_web_md\n",
      "mantaining en_core_web_md\n",
      "mantaining en_core_web_md\n",
      "mantaining en_core_web_md\n",
      "mantaining en_core_web_md\n",
      "mantaining en_core_web_md\n",
      "mantaining en_core_web_md\n",
      "mantaining en_core_web_md\n",
      "mantaining en_core_web_md\n",
      "mantaining en_core_web_md\n",
      "mantaining en_core_web_md\n",
      "mantaining en_core_web_md\n",
      "de_core_news_sm loaded\n",
      "da_core_news_sm loaded\n",
      "pl_core_news_sm loaded\n",
      "en_core_web_md loaded\n",
      "mantaining en_core_web_md\n",
      "mantaining en_core_web_md\n",
      "mantaining en_core_web_md\n",
      "mantaining en_core_web_md\n",
      "mantaining en_core_web_md\n",
      "mantaining en_core_web_md\n",
      "mantaining en_core_web_md\n",
      "zh_core_web_sm loaded\n",
      "mantaining zh_core_web_sm\n",
      "en_core_web_md loaded\n",
      "ja_core_news_sm loaded\n",
      "en_core_web_md loaded\n",
      "mantaining en_core_web_md\n",
      "mantaining en_core_web_md\n",
      "mantaining en_core_web_md\n",
      "de_core_news_sm loaded\n",
      "en_core_web_md loaded\n",
      "mantaining en_core_web_md\n",
      "mantaining en_core_web_md\n",
      "mantaining en_core_web_md\n",
      "mantaining en_core_web_md\n",
      "mantaining en_core_web_md\n",
      "mantaining en_core_web_md\n",
      "fr_core_news_sm loaded\n",
      "en_core_web_md loaded\n",
      "mantaining en_core_web_md\n",
      "mantaining en_core_web_md\n",
      "mantaining en_core_web_md\n",
      "mantaining en_core_web_md\n",
      "mantaining en_core_web_md\n",
      "mantaining en_core_web_md\n",
      "fr_core_news_sm loaded\n",
      "en_core_web_md loaded\n",
      "mantaining en_core_web_md\n",
      "mantaining en_core_web_md\n",
      "mantaining en_core_web_md\n",
      "mantaining en_core_web_md\n",
      "mantaining en_core_web_md\n",
      "mantaining en_core_web_md\n",
      "mantaining en_core_web_md\n",
      "it_core_news_sm loaded\n",
      "en_core_web_md loaded\n",
      "mantaining en_core_web_md\n",
      "mantaining en_core_web_md\n",
      "mantaining en_core_web_md\n",
      "mantaining en_core_web_md\n",
      "mantaining en_core_web_md\n",
      "mantaining en_core_web_md\n",
      "zh_core_web_sm loaded\n",
      "en_core_web_md loaded\n",
      "mantaining en_core_web_md\n",
      "de_core_news_sm loaded\n",
      "en_core_web_md loaded\n",
      "mantaining en_core_web_md\n",
      "mantaining en_core_web_md\n",
      "pl_core_news_sm loaded\n",
      "en_core_web_md loaded\n",
      "mantaining en_core_web_md\n",
      "mantaining en_core_web_md\n",
      "ro_core_news_sm loaded\n",
      "en_core_web_md loaded\n",
      "mantaining en_core_web_md\n",
      "mantaining en_core_web_md\n",
      "mantaining en_core_web_md\n",
      "mantaining en_core_web_md\n",
      "mantaining en_core_web_md\n",
      "mantaining en_core_web_md\n",
      "mantaining en_core_web_md\n",
      "mantaining en_core_web_md\n",
      "mantaining en_core_web_md\n",
      "mantaining en_core_web_md\n",
      "mantaining en_core_web_md\n",
      "mantaining en_core_web_md\n",
      "mantaining en_core_web_md\n",
      "mantaining en_core_web_md\n",
      "mantaining en_core_web_md\n",
      "mantaining en_core_web_md\n",
      "mantaining en_core_web_md\n",
      "mantaining en_core_web_md\n",
      "es_core_news_sm loaded\n",
      "nl_core_news_sm loaded\n",
      "en_core_web_md loaded\n",
      "mantaining en_core_web_md\n",
      "fr_core_news_sm loaded\n",
      "mantaining fr_core_news_sm\n",
      "en_core_web_md loaded\n",
      "mantaining en_core_web_md\n",
      "fr_core_news_sm loaded\n",
      "en_core_web_md loaded\n",
      "mantaining en_core_web_md\n",
      "mantaining en_core_web_md\n",
      "mantaining en_core_web_md\n",
      "mantaining en_core_web_md\n",
      "mantaining en_core_web_md\n",
      "fr_core_news_sm loaded\n",
      "en_core_web_md loaded\n",
      "mantaining en_core_web_md\n",
      "mantaining en_core_web_md\n",
      "mantaining en_core_web_md\n",
      "mantaining en_core_web_md\n",
      "mantaining en_core_web_md\n",
      "es_core_news_sm loaded\n",
      "en_core_web_md loaded\n",
      "mantaining en_core_web_md\n",
      "mantaining en_core_web_md\n",
      "mantaining en_core_web_md\n",
      "fr_core_news_sm loaded\n",
      "en_core_web_md loaded\n",
      "mantaining en_core_web_md\n",
      "mantaining en_core_web_md\n",
      "mantaining en_core_web_md\n",
      "mantaining en_core_web_md\n",
      "mantaining en_core_web_md\n",
      "mantaining en_core_web_md\n",
      "mantaining en_core_web_md\n",
      "mantaining en_core_web_md\n",
      "mantaining en_core_web_md\n",
      "mantaining en_core_web_md\n",
      "mantaining en_core_web_md\n",
      "mantaining en_core_web_md\n",
      "mantaining en_core_web_md\n",
      "mantaining en_core_web_md\n",
      "mantaining en_core_web_md\n",
      "fr_core_news_sm loaded\n",
      "en_core_web_md loaded\n",
      "mantaining en_core_web_md\n",
      "mantaining en_core_web_md\n",
      "mantaining en_core_web_md\n",
      "mantaining en_core_web_md\n",
      "it_core_news_sm loaded\n",
      "en_core_web_md loaded\n",
      "es_core_news_sm loaded\n",
      "en_core_web_md loaded\n",
      "nl_core_news_sm loaded\n",
      "en_core_web_md loaded\n",
      "de_core_news_sm loaded\n",
      "es_core_news_sm loaded\n",
      "fr_core_news_sm loaded\n",
      "en_core_web_md loaded\n",
      "mantaining en_core_web_md\n",
      "nl_core_news_sm loaded\n",
      "en_core_web_md loaded\n",
      "mantaining en_core_web_md\n",
      "mantaining en_core_web_md\n",
      "mantaining en_core_web_md\n",
      "mantaining en_core_web_md\n",
      "mantaining en_core_web_md\n",
      "mantaining en_core_web_md\n",
      "mantaining en_core_web_md\n",
      "mantaining en_core_web_md\n",
      "mantaining en_core_web_md\n",
      "mantaining en_core_web_md\n",
      "mantaining en_core_web_md\n",
      "mantaining en_core_web_md\n",
      "mantaining en_core_web_md\n",
      "mantaining en_core_web_md\n",
      "mantaining en_core_web_md\n",
      "mantaining en_core_web_md\n",
      "mantaining en_core_web_md\n",
      "zh_core_web_sm loaded\n",
      "mantaining zh_core_web_sm\n",
      "en_core_web_md loaded\n",
      "mantaining en_core_web_md\n",
      "zh_core_web_sm loaded\n",
      "en_core_web_md loaded\n",
      "mantaining en_core_web_md\n",
      "mantaining en_core_web_md\n",
      "mantaining en_core_web_md\n",
      "mantaining en_core_web_md\n",
      "mantaining en_core_web_md\n",
      "mantaining en_core_web_md\n",
      "mantaining en_core_web_md\n",
      "mantaining en_core_web_md\n",
      "zh_core_web_sm loaded\n",
      "en_core_web_md loaded\n",
      "mantaining en_core_web_md\n",
      "zh_core_web_sm loaded\n",
      "pl_core_news_sm loaded\n",
      "en_core_web_md loaded\n",
      "mantaining en_core_web_md\n",
      "mantaining en_core_web_md\n",
      "mantaining en_core_web_md\n",
      "mantaining en_core_web_md\n",
      "mantaining en_core_web_md\n",
      "da_core_news_sm loaded\n",
      "en_core_web_md loaded\n",
      "mantaining en_core_web_md\n",
      "fr_core_news_sm loaded\n",
      "en_core_web_md loaded\n",
      "mantaining en_core_web_md\n",
      "mantaining en_core_web_md\n",
      "mantaining en_core_web_md\n",
      "mantaining en_core_web_md\n",
      "mantaining en_core_web_md\n",
      "mantaining en_core_web_md\n",
      "mantaining en_core_web_md\n",
      "mantaining en_core_web_md\n",
      "mantaining en_core_web_md\n",
      "mantaining en_core_web_md\n",
      "mantaining en_core_web_md\n",
      "mantaining en_core_web_md\n",
      "mantaining en_core_web_md\n",
      "mantaining en_core_web_md\n",
      "de_core_news_sm loaded\n",
      "en_core_web_md loaded\n",
      "mantaining en_core_web_md\n",
      "mantaining en_core_web_md\n",
      "mantaining en_core_web_md\n",
      "mantaining en_core_web_md\n",
      "mantaining en_core_web_md\n",
      "mantaining en_core_web_md\n",
      "zh_core_web_sm loaded\n",
      "mantaining zh_core_web_sm\n",
      "en_core_web_md loaded\n",
      "zh_core_web_sm loaded\n",
      "en_core_web_md loaded\n",
      "mantaining en_core_web_md\n",
      "mantaining en_core_web_md\n",
      "mantaining en_core_web_md\n",
      "mantaining en_core_web_md\n",
      "mantaining en_core_web_md\n",
      "mantaining en_core_web_md\n",
      "mantaining en_core_web_md\n",
      "mantaining en_core_web_md\n",
      "mantaining en_core_web_md\n",
      "mantaining en_core_web_md\n",
      "de_core_news_sm loaded\n",
      "en_core_web_md loaded\n",
      "mantaining en_core_web_md\n",
      "mantaining en_core_web_md\n",
      "mantaining en_core_web_md\n",
      "mantaining en_core_web_md\n",
      "mantaining en_core_web_md\n",
      "mantaining en_core_web_md\n",
      "mantaining en_core_web_md\n",
      "mantaining en_core_web_md\n",
      "mantaining en_core_web_md\n",
      "mantaining en_core_web_md\n",
      "mantaining en_core_web_md\n",
      "mantaining en_core_web_md\n",
      "mantaining en_core_web_md\n",
      "mantaining en_core_web_md\n",
      "mantaining en_core_web_md\n",
      "mantaining en_core_web_md\n",
      "mantaining en_core_web_md\n",
      "fr_core_news_sm loaded\n",
      "en_core_web_md loaded\n",
      "mantaining en_core_web_md\n",
      "fr_core_news_sm loaded\n",
      "en_core_web_md loaded\n",
      "mantaining en_core_web_md\n",
      "de_core_news_sm loaded\n",
      "en_core_web_md loaded\n",
      "mantaining en_core_web_md\n",
      "mantaining en_core_web_md\n",
      "mantaining en_core_web_md\n",
      "mantaining en_core_web_md\n",
      "mantaining en_core_web_md\n",
      "mantaining en_core_web_md\n",
      "mantaining en_core_web_md\n",
      "mantaining en_core_web_md\n",
      "mantaining en_core_web_md\n",
      "mantaining en_core_web_md\n",
      "mantaining en_core_web_md\n",
      "mantaining en_core_web_md\n",
      "mantaining en_core_web_md\n",
      "mantaining en_core_web_md\n",
      "mantaining en_core_web_md\n",
      "mantaining en_core_web_md\n",
      "mantaining en_core_web_md\n",
      "mantaining en_core_web_md\n",
      "mantaining en_core_web_md\n",
      "mantaining en_core_web_md\n",
      "mantaining en_core_web_md\n",
      "mantaining en_core_web_md\n",
      "mantaining en_core_web_md\n",
      "mantaining en_core_web_md\n",
      "mantaining en_core_web_md\n",
      "mantaining en_core_web_md\n",
      "zh_core_web_sm loaded\n",
      "en_core_web_md loaded\n",
      "zh_core_web_sm loaded\n",
      "en_core_web_md loaded\n",
      "mantaining en_core_web_md\n",
      "mantaining en_core_web_md\n",
      "mantaining en_core_web_md\n",
      "mantaining en_core_web_md\n",
      "zh_core_web_sm loaded\n",
      "en_core_web_md loaded\n",
      "mantaining en_core_web_md\n",
      "ja_core_news_sm loaded\n",
      "en_core_web_md loaded\n",
      "mantaining en_core_web_md\n",
      "mantaining en_core_web_md\n",
      "mantaining en_core_web_md\n",
      "mantaining en_core_web_md\n",
      "mantaining en_core_web_md\n",
      "mantaining en_core_web_md\n",
      "zh_core_web_sm loaded\n",
      "en_core_web_md loaded\n",
      "mantaining en_core_web_md\n",
      "mantaining en_core_web_md\n",
      "mantaining en_core_web_md\n",
      "mantaining en_core_web_md\n",
      "mantaining en_core_web_md\n",
      "mantaining en_core_web_md\n",
      "mantaining en_core_web_md\n",
      "mantaining en_core_web_md\n",
      "mantaining en_core_web_md\n",
      "mantaining en_core_web_md\n",
      "mantaining en_core_web_md\n",
      "mantaining en_core_web_md\n",
      "mantaining en_core_web_md\n",
      "fr_core_news_sm loaded\n",
      "en_core_web_md loaded\n",
      "mantaining en_core_web_md\n",
      "mantaining en_core_web_md\n",
      "mantaining en_core_web_md\n",
      "mantaining en_core_web_md\n",
      "zh_core_web_sm loaded\n",
      "en_core_web_md loaded\n",
      "mantaining en_core_web_md\n",
      "mantaining en_core_web_md\n",
      "mantaining en_core_web_md\n",
      "mantaining en_core_web_md\n",
      "mantaining en_core_web_md\n",
      "mantaining en_core_web_md\n",
      "mantaining en_core_web_md\n",
      "mantaining en_core_web_md\n",
      "mantaining en_core_web_md\n",
      "mantaining en_core_web_md\n",
      "mantaining en_core_web_md\n",
      "mantaining en_core_web_md\n",
      "mantaining en_core_web_md\n",
      "mantaining en_core_web_md\n",
      "mantaining en_core_web_md\n",
      "mantaining en_core_web_md\n",
      "it_core_news_sm loaded\n",
      "es_core_news_sm loaded\n",
      "en_core_web_md loaded\n",
      "mantaining en_core_web_md\n",
      "mantaining en_core_web_md\n",
      "mantaining en_core_web_md\n",
      "mantaining en_core_web_md\n",
      "zh_core_web_sm loaded\n",
      "mantaining zh_core_web_sm\n",
      "en_core_web_md loaded\n",
      "mantaining en_core_web_md\n",
      "zh_core_web_sm loaded\n",
      "en_core_web_md loaded\n",
      "mantaining en_core_web_md\n",
      "mantaining en_core_web_md\n",
      "mantaining en_core_web_md\n",
      "mantaining en_core_web_md\n",
      "mantaining en_core_web_md\n",
      "mantaining en_core_web_md\n",
      "mantaining en_core_web_md\n",
      "mantaining en_core_web_md\n",
      "mantaining en_core_web_md\n",
      "mantaining en_core_web_md\n",
      "mantaining en_core_web_md\n",
      "mantaining en_core_web_md\n",
      "mantaining en_core_web_md\n",
      "mantaining en_core_web_md\n",
      "mantaining en_core_web_md\n",
      "mantaining en_core_web_md\n",
      "mantaining en_core_web_md\n",
      "mantaining en_core_web_md\n",
      "mantaining en_core_web_md\n",
      "mantaining en_core_web_md\n",
      "mantaining en_core_web_md\n",
      "fr_core_news_sm loaded\n",
      "en_core_web_md loaded\n",
      "mantaining en_core_web_md\n",
      "mantaining en_core_web_md\n",
      "mantaining en_core_web_md\n",
      "mantaining en_core_web_md\n",
      "mantaining en_core_web_md\n",
      "mantaining en_core_web_md\n",
      "mantaining en_core_web_md\n",
      "mantaining en_core_web_md\n",
      "mantaining en_core_web_md\n",
      "mantaining en_core_web_md\n",
      "mantaining en_core_web_md\n",
      "fr_core_news_sm loaded\n",
      "en_core_web_md loaded\n",
      "mantaining en_core_web_md\n",
      "fr_core_news_sm loaded\n",
      "en_core_web_md loaded\n",
      "mantaining en_core_web_md\n",
      "mantaining en_core_web_md\n",
      "fr_core_news_sm loaded\n",
      "en_core_web_md loaded\n",
      "mantaining en_core_web_md\n",
      "fr_core_news_sm loaded\n",
      "en_core_web_md loaded\n",
      "mantaining en_core_web_md\n",
      "mantaining en_core_web_md\n",
      "mantaining en_core_web_md\n",
      "mantaining en_core_web_md\n",
      "mantaining en_core_web_md\n",
      "mantaining en_core_web_md\n",
      "mantaining en_core_web_md\n",
      "mantaining en_core_web_md\n",
      "zh_core_web_sm loaded\n",
      "mantaining zh_core_web_sm\n",
      "en_core_web_md loaded\n",
      "mantaining en_core_web_md\n",
      "zh_core_web_sm loaded\n",
      "en_core_web_md loaded\n",
      "mantaining en_core_web_md\n",
      "mantaining en_core_web_md\n",
      "mantaining en_core_web_md\n",
      "mantaining en_core_web_md\n",
      "mantaining en_core_web_md\n",
      "mantaining en_core_web_md\n",
      "mantaining en_core_web_md\n",
      "zh_core_web_sm loaded\n",
      "en_core_web_md loaded\n",
      "mantaining en_core_web_md\n",
      "mantaining en_core_web_md\n",
      "fr_core_news_sm loaded\n",
      "de_core_news_sm loaded\n",
      "en_core_web_md loaded\n",
      "mantaining en_core_web_md\n",
      "mantaining en_core_web_md\n",
      "mantaining en_core_web_md\n",
      "mantaining en_core_web_md\n",
      "mantaining en_core_web_md\n",
      "mantaining en_core_web_md\n",
      "zh_core_web_sm loaded\n",
      "en_core_web_md loaded\n",
      "zh_core_web_sm loaded\n",
      "en_core_web_md loaded\n",
      "de_core_news_sm loaded\n",
      "en_core_web_md loaded\n",
      "mantaining en_core_web_md\n",
      "es_core_news_sm loaded\n",
      "nl_core_news_sm loaded\n",
      "en_core_web_md loaded\n",
      "mantaining en_core_web_md\n",
      "nl_core_news_sm loaded\n",
      "fr_core_news_sm loaded\n",
      "nl_core_news_sm loaded\n",
      "en_core_web_md loaded\n",
      "mantaining en_core_web_md\n",
      "fr_core_news_sm loaded\n",
      "de_core_news_sm loaded\n",
      "en_core_web_md loaded\n",
      "mantaining en_core_web_md\n",
      "mantaining en_core_web_md\n",
      "de_core_news_sm loaded\n",
      "en_core_web_md loaded\n",
      "mantaining en_core_web_md\n",
      "mantaining en_core_web_md\n",
      "zh_core_web_sm loaded\n",
      "en_core_web_md loaded\n",
      "mantaining en_core_web_md\n",
      "mantaining en_core_web_md\n",
      "mantaining en_core_web_md\n",
      "mantaining en_core_web_md\n",
      "mantaining en_core_web_md\n",
      "mantaining en_core_web_md\n",
      "mantaining en_core_web_md\n",
      "mantaining en_core_web_md\n",
      "mantaining en_core_web_md\n",
      "sl_core_news_sm loaded\n",
      "en_core_web_md loaded\n",
      "zh_core_web_sm loaded\n",
      "mantaining zh_core_web_sm\n",
      "mantaining zh_core_web_sm\n",
      "mantaining zh_core_web_sm\n",
      "en_core_web_md loaded\n",
      "mantaining en_core_web_md\n",
      "zh_core_web_sm loaded\n",
      "mantaining zh_core_web_sm\n",
      "en_core_web_md loaded\n",
      "mantaining en_core_web_md\n",
      "mantaining en_core_web_md\n",
      "de_core_news_sm loaded\n",
      "en_core_web_md loaded\n",
      "mantaining en_core_web_md\n",
      "mantaining en_core_web_md\n",
      "mantaining en_core_web_md\n",
      "mantaining en_core_web_md\n",
      "mantaining en_core_web_md\n",
      "mantaining en_core_web_md\n",
      "fr_core_news_sm loaded\n",
      "en_core_web_md loaded\n",
      "mantaining en_core_web_md\n",
      "mantaining en_core_web_md\n",
      "mantaining en_core_web_md\n",
      "mantaining en_core_web_md\n",
      "mantaining en_core_web_md\n",
      "mantaining en_core_web_md\n",
      "mantaining en_core_web_md\n",
      "zh_core_web_sm loaded\n",
      "mantaining zh_core_web_sm\n",
      "en_core_web_md loaded\n",
      "mantaining en_core_web_md\n",
      "zh_core_web_sm loaded\n",
      "en_core_web_md loaded\n",
      "mantaining en_core_web_md\n",
      "mantaining en_core_web_md\n",
      "mantaining en_core_web_md\n",
      "mantaining en_core_web_md\n",
      "mantaining en_core_web_md\n",
      "mantaining en_core_web_md\n",
      "mantaining en_core_web_md\n",
      "fr_core_news_sm loaded\n",
      "en_core_web_md loaded\n",
      "mantaining en_core_web_md\n",
      "mantaining en_core_web_md\n",
      "mantaining en_core_web_md\n",
      "mantaining en_core_web_md\n",
      "mantaining en_core_web_md\n",
      "mantaining en_core_web_md\n",
      "zh_core_web_sm loaded\n",
      "en_core_web_md loaded\n",
      "mantaining en_core_web_md\n",
      "mantaining en_core_web_md\n",
      "mantaining en_core_web_md\n",
      "mantaining en_core_web_md\n",
      "mantaining en_core_web_md\n",
      "mantaining en_core_web_md\n",
      "mantaining en_core_web_md\n",
      "mantaining en_core_web_md\n",
      "mantaining en_core_web_md\n",
      "mantaining en_core_web_md\n",
      "mantaining en_core_web_md\n",
      "mantaining en_core_web_md\n",
      "fr_core_news_sm loaded\n",
      "en_core_web_md loaded\n",
      "mantaining en_core_web_md\n",
      "mantaining en_core_web_md\n",
      "mantaining en_core_web_md\n",
      "mantaining en_core_web_md\n",
      "mantaining en_core_web_md\n",
      "fr_core_news_sm loaded\n",
      "mantaining fr_core_news_sm\n",
      "en_core_web_md loaded\n",
      "mantaining en_core_web_md\n",
      "mantaining en_core_web_md\n",
      "mantaining en_core_web_md\n",
      "mantaining en_core_web_md\n",
      "mantaining en_core_web_md\n",
      "mantaining en_core_web_md\n",
      "mantaining en_core_web_md\n",
      "mantaining en_core_web_md\n",
      "mantaining en_core_web_md\n",
      "zh_core_web_sm loaded\n",
      "en_core_web_md loaded\n",
      "mantaining en_core_web_md\n",
      "mantaining en_core_web_md\n",
      "mantaining en_core_web_md\n",
      "mantaining en_core_web_md\n",
      "mantaining en_core_web_md\n",
      "mantaining en_core_web_md\n",
      "mantaining en_core_web_md\n",
      "mantaining en_core_web_md\n",
      "mantaining en_core_web_md\n",
      "mantaining en_core_web_md\n",
      "mantaining en_core_web_md\n",
      "mantaining en_core_web_md\n",
      "mantaining en_core_web_md\n",
      "mantaining en_core_web_md\n",
      "mantaining en_core_web_md\n",
      "mantaining en_core_web_md\n",
      "mantaining en_core_web_md\n",
      "it_core_news_sm loaded\n",
      "mantaining it_core_news_sm\n",
      "en_core_web_md loaded\n",
      "mantaining en_core_web_md\n",
      "mantaining en_core_web_md\n",
      "fr_core_news_sm loaded\n",
      "mantaining fr_core_news_sm\n",
      "en_core_web_md loaded\n",
      "mantaining en_core_web_md\n",
      "mantaining en_core_web_md\n",
      "mantaining en_core_web_md\n",
      "mantaining en_core_web_md\n",
      "mantaining en_core_web_md\n",
      "fr_core_news_sm loaded\n",
      "en_core_web_md loaded\n",
      "mantaining en_core_web_md\n",
      "mantaining en_core_web_md\n",
      "mantaining en_core_web_md\n",
      "zh_core_web_sm loaded\n",
      "en_core_web_md loaded\n",
      "mantaining en_core_web_md\n",
      "mantaining en_core_web_md\n",
      "mantaining en_core_web_md\n",
      "mantaining en_core_web_md\n",
      "mantaining en_core_web_md\n",
      "mantaining en_core_web_md\n",
      "mantaining en_core_web_md\n",
      "mantaining en_core_web_md\n",
      "mantaining en_core_web_md\n",
      "mantaining en_core_web_md\n",
      "mantaining en_core_web_md\n",
      "mantaining en_core_web_md\n",
      "mantaining en_core_web_md\n",
      "mantaining en_core_web_md\n",
      "zh_core_web_sm loaded\n",
      "en_core_web_md loaded\n",
      "mantaining en_core_web_md\n",
      "mantaining en_core_web_md\n",
      "mantaining en_core_web_md\n",
      "mantaining en_core_web_md\n",
      "mantaining en_core_web_md\n",
      "mantaining en_core_web_md\n",
      "mantaining en_core_web_md\n",
      "pl_core_news_sm loaded\n",
      "en_core_web_md loaded\n",
      "fr_core_news_sm loaded\n",
      "en_core_web_md loaded\n",
      "mantaining en_core_web_md\n",
      "mantaining en_core_web_md\n",
      "mantaining en_core_web_md\n",
      "mantaining en_core_web_md\n",
      "mantaining en_core_web_md\n",
      "mantaining en_core_web_md\n",
      "es_core_news_sm loaded\n",
      "nl_core_news_sm loaded\n",
      "en_core_web_md loaded\n",
      "mantaining en_core_web_md\n",
      "fr_core_news_sm loaded\n",
      "mantaining fr_core_news_sm\n",
      "nl_core_news_sm loaded\n",
      "en_core_web_md loaded\n",
      "mantaining en_core_web_md\n",
      "fr_core_news_sm loaded\n",
      "en_core_web_md loaded\n",
      "mantaining en_core_web_md\n",
      "de_core_news_sm loaded\n",
      "en_core_web_md loaded\n",
      "mantaining en_core_web_md\n",
      "mantaining en_core_web_md\n",
      "mantaining en_core_web_md\n",
      "mantaining en_core_web_md\n",
      "mantaining en_core_web_md\n",
      "zh_core_web_sm loaded\n",
      "en_core_web_md loaded\n",
      "mantaining en_core_web_md\n",
      "zh_core_web_sm loaded\n",
      "en_core_web_md loaded\n",
      "mantaining en_core_web_md\n",
      "mantaining en_core_web_md\n",
      "mantaining en_core_web_md\n",
      "mantaining en_core_web_md\n",
      "it_core_news_sm loaded\n",
      "en_core_web_md loaded\n",
      "mantaining en_core_web_md\n",
      "mantaining en_core_web_md\n",
      "de_core_news_sm loaded\n",
      "en_core_web_md loaded\n",
      "mantaining en_core_web_md\n",
      "mantaining en_core_web_md\n",
      "mantaining en_core_web_md\n",
      "mantaining en_core_web_md\n",
      "mantaining en_core_web_md\n",
      "mantaining en_core_web_md\n",
      "mantaining en_core_web_md\n",
      "mantaining en_core_web_md\n",
      "mantaining en_core_web_md\n",
      "mantaining en_core_web_md\n",
      "mantaining en_core_web_md\n",
      "mantaining en_core_web_md\n",
      "mantaining en_core_web_md\n",
      "mantaining en_core_web_md\n",
      "mantaining en_core_web_md\n",
      "mantaining en_core_web_md\n",
      "mantaining en_core_web_md\n",
      "mantaining en_core_web_md\n",
      "mantaining en_core_web_md\n",
      "mantaining en_core_web_md\n",
      "mantaining en_core_web_md\n",
      "mantaining en_core_web_md\n",
      "mantaining en_core_web_md\n",
      "mantaining en_core_web_md\n",
      "mantaining en_core_web_md\n",
      "mantaining en_core_web_md\n",
      "zh_core_web_sm loaded\n",
      "mantaining zh_core_web_sm\n",
      "en_core_web_md loaded\n",
      "mantaining en_core_web_md\n",
      "zh_core_web_sm loaded\n",
      "en_core_web_md loaded\n",
      "mantaining en_core_web_md\n",
      "fr_core_news_sm loaded\n",
      "en_core_web_md loaded\n",
      "mantaining en_core_web_md\n",
      "mantaining en_core_web_md\n",
      "mantaining en_core_web_md\n",
      "mantaining en_core_web_md\n",
      "mantaining en_core_web_md\n",
      "mantaining en_core_web_md\n",
      "mantaining en_core_web_md\n",
      "mantaining en_core_web_md\n",
      "mantaining en_core_web_md\n",
      "mantaining en_core_web_md\n",
      "mantaining en_core_web_md\n",
      "mantaining en_core_web_md\n",
      "mantaining en_core_web_md\n",
      "mantaining en_core_web_md\n",
      "mantaining en_core_web_md\n",
      "mantaining en_core_web_md\n",
      "mantaining en_core_web_md\n",
      "mantaining en_core_web_md\n",
      "mantaining en_core_web_md\n",
      "mantaining en_core_web_md\n",
      "mantaining en_core_web_md\n",
      "mantaining en_core_web_md\n",
      "mantaining en_core_web_md\n",
      "mantaining en_core_web_md\n",
      "mantaining en_core_web_md\n",
      "mantaining en_core_web_md\n",
      "mantaining en_core_web_md\n",
      "mantaining en_core_web_md\n",
      "mantaining en_core_web_md\n",
      "mantaining en_core_web_md\n",
      "mantaining en_core_web_md\n",
      "mantaining en_core_web_md\n",
      "mantaining en_core_web_md\n",
      "mantaining en_core_web_md\n",
      "mantaining en_core_web_md\n",
      "mantaining en_core_web_md\n",
      "mantaining en_core_web_md\n",
      "mantaining en_core_web_md\n",
      "mantaining en_core_web_md\n",
      "mantaining en_core_web_md\n",
      "mantaining en_core_web_md\n",
      "mantaining en_core_web_md\n",
      "mantaining en_core_web_md\n",
      "zh_core_web_sm loaded\n",
      "mantaining zh_core_web_sm\n",
      "en_core_web_md loaded\n",
      "mantaining en_core_web_md\n",
      "mantaining en_core_web_md\n",
      "mantaining en_core_web_md\n",
      "mantaining en_core_web_md\n",
      "mantaining en_core_web_md\n",
      "mantaining en_core_web_md\n",
      "mantaining en_core_web_md\n",
      "mantaining en_core_web_md\n",
      "mantaining en_core_web_md\n",
      "mantaining en_core_web_md\n",
      "mantaining en_core_web_md\n",
      "mantaining en_core_web_md\n",
      "es_core_news_sm loaded\n",
      "en_core_web_md loaded\n",
      "mantaining en_core_web_md\n",
      "mantaining en_core_web_md\n",
      "mantaining en_core_web_md\n",
      "mantaining en_core_web_md\n",
      "mantaining en_core_web_md\n",
      "mantaining en_core_web_md\n",
      "fr_core_news_sm loaded\n",
      "en_core_web_md loaded\n",
      "mantaining en_core_web_md\n",
      "mantaining en_core_web_md\n",
      "mantaining en_core_web_md\n",
      "mantaining en_core_web_md\n",
      "mantaining en_core_web_md\n",
      "it_core_news_sm loaded\n",
      "en_core_web_md loaded\n",
      "mantaining en_core_web_md\n",
      "mantaining en_core_web_md\n",
      "mantaining en_core_web_md\n",
      "mantaining en_core_web_md\n",
      "mantaining en_core_web_md\n",
      "mantaining en_core_web_md\n",
      "mantaining en_core_web_md\n",
      "mantaining en_core_web_md\n",
      "mantaining en_core_web_md\n",
      "zh_core_web_sm loaded\n",
      "en_core_web_md loaded\n",
      "de_core_news_sm loaded\n",
      "en_core_web_md loaded\n",
      "mantaining en_core_web_md\n",
      "zh_core_web_sm loaded\n",
      "en_core_web_md loaded\n",
      "mantaining en_core_web_md\n",
      "mantaining en_core_web_md\n",
      "zh_core_web_sm loaded\n",
      "en_core_web_md loaded\n",
      "mantaining en_core_web_md\n",
      "zh_core_web_sm loaded\n",
      "en_core_web_md loaded\n",
      "mantaining en_core_web_md\n",
      "es_core_news_sm loaded\n",
      "nl_core_news_sm loaded\n",
      "en_core_web_md loaded\n",
      "mantaining en_core_web_md\n",
      "mantaining en_core_web_md\n",
      "nl_core_news_sm loaded\n",
      "mantaining nl_core_news_sm\n",
      "en_core_web_md loaded\n",
      "mantaining en_core_web_md\n",
      "fr_core_news_sm loaded\n",
      "en_core_web_md loaded\n",
      "mantaining en_core_web_md\n",
      "mantaining en_core_web_md\n",
      "mantaining en_core_web_md\n",
      "fr_core_news_sm loaded\n",
      "en_core_web_md loaded\n",
      "mantaining en_core_web_md\n",
      "mantaining en_core_web_md\n",
      "mantaining en_core_web_md\n",
      "mantaining en_core_web_md\n",
      "zh_core_web_sm loaded\n",
      "mantaining zh_core_web_sm\n",
      "en_core_web_md loaded\n",
      "mantaining en_core_web_md\n",
      "zh_core_web_sm loaded\n",
      "es_core_news_sm loaded\n",
      "en_core_web_md loaded\n",
      "nl_core_news_sm loaded\n",
      "en_core_web_md loaded\n",
      "mantaining en_core_web_md\n",
      "fr_core_news_sm loaded\n",
      "mantaining fr_core_news_sm\n",
      "nl_core_news_sm loaded\n",
      "en_core_web_md loaded\n",
      "mantaining en_core_web_md\n",
      "fr_core_news_sm loaded\n",
      "en_core_web_md loaded\n",
      "mantaining en_core_web_md\n",
      "mantaining en_core_web_md\n",
      "mantaining en_core_web_md\n",
      "mantaining en_core_web_md\n",
      "mantaining en_core_web_md\n",
      "mantaining en_core_web_md\n",
      "mantaining en_core_web_md\n",
      "mantaining en_core_web_md\n",
      "mantaining en_core_web_md\n",
      "mantaining en_core_web_md\n",
      "mantaining en_core_web_md\n",
      "mantaining en_core_web_md\n",
      "mantaining en_core_web_md\n",
      "mantaining en_core_web_md\n",
      "mantaining en_core_web_md\n",
      "mantaining en_core_web_md\n",
      "mantaining en_core_web_md\n",
      "mantaining en_core_web_md\n",
      "fr_core_news_sm loaded\n",
      "de_core_news_sm loaded\n",
      "en_core_web_md loaded\n",
      "de_core_news_sm loaded\n",
      "en_core_web_md loaded\n",
      "mantaining en_core_web_md\n",
      "mantaining en_core_web_md\n",
      "mantaining en_core_web_md\n",
      "mantaining en_core_web_md\n",
      "mantaining en_core_web_md\n",
      "mantaining en_core_web_md\n",
      "mantaining en_core_web_md\n",
      "mantaining en_core_web_md\n",
      "mantaining en_core_web_md\n",
      "mantaining en_core_web_md\n",
      "zh_core_web_sm loaded\n",
      "en_core_web_md loaded\n",
      "mantaining en_core_web_md\n",
      "mantaining en_core_web_md\n",
      "mantaining en_core_web_md\n",
      "mantaining en_core_web_md\n",
      "mantaining en_core_web_md\n",
      "mantaining en_core_web_md\n",
      "de_core_news_sm loaded\n",
      "en_core_web_md loaded\n",
      "mantaining en_core_web_md\n",
      "mantaining en_core_web_md\n",
      "mantaining en_core_web_md\n",
      "mantaining en_core_web_md\n",
      "mantaining en_core_web_md\n",
      "mantaining en_core_web_md\n",
      "nl_core_news_sm loaded\n",
      "en_core_web_md loaded\n",
      "nl_core_news_sm loaded\n",
      "en_core_web_md loaded\n",
      "mantaining en_core_web_md\n",
      "fr_core_news_sm loaded\n",
      "mantaining fr_core_news_sm\n",
      "en_core_web_md loaded\n",
      "mantaining en_core_web_md\n",
      "mantaining en_core_web_md\n",
      "mantaining en_core_web_md\n",
      "fr_core_news_sm loaded\n",
      "en_core_web_md loaded\n",
      "mantaining en_core_web_md\n",
      "mantaining en_core_web_md\n",
      "mantaining en_core_web_md\n",
      "mantaining en_core_web_md\n",
      "mantaining en_core_web_md\n",
      "it_core_news_sm loaded\n",
      "en_core_web_md loaded\n",
      "mantaining en_core_web_md\n",
      "mantaining en_core_web_md\n",
      "mantaining en_core_web_md\n",
      "mantaining en_core_web_md\n",
      "fr_core_news_sm loaded\n",
      "en_core_web_md loaded\n",
      "mantaining en_core_web_md\n",
      "mantaining en_core_web_md\n",
      "mantaining en_core_web_md\n",
      "mantaining en_core_web_md\n",
      "mantaining en_core_web_md\n",
      "mantaining en_core_web_md\n",
      "mantaining en_core_web_md\n",
      "mantaining en_core_web_md\n",
      "fr_core_news_sm loaded\n",
      "mantaining fr_core_news_sm\n",
      "en_core_web_md loaded\n",
      "fr_core_news_sm loaded\n",
      "en_core_web_md loaded\n",
      "mantaining en_core_web_md\n",
      "mantaining en_core_web_md\n",
      "mantaining en_core_web_md\n",
      "mantaining en_core_web_md\n",
      "mantaining en_core_web_md\n",
      "mantaining en_core_web_md\n",
      "fr_core_news_sm loaded\n",
      "mantaining fr_core_news_sm\n",
      "en_core_web_md loaded\n",
      "mantaining en_core_web_md\n",
      "fr_core_news_sm loaded\n",
      "en_core_web_md loaded\n",
      "mantaining en_core_web_md\n",
      "mantaining en_core_web_md\n",
      "sl_core_news_sm loaded\n",
      "de_core_news_sm loaded\n",
      "en_core_web_md loaded\n",
      "zh_core_web_sm loaded\n",
      "mantaining zh_core_web_sm\n",
      "en_core_web_md loaded\n",
      "mantaining en_core_web_md\n",
      "zh_core_web_sm loaded\n",
      "en_core_web_md loaded\n",
      "mantaining en_core_web_md\n",
      "mantaining en_core_web_md\n",
      "mantaining en_core_web_md\n",
      "mantaining en_core_web_md\n",
      "mantaining en_core_web_md\n",
      "mantaining en_core_web_md\n",
      "zh_core_web_sm loaded\n",
      "en_core_web_md loaded\n",
      "mantaining en_core_web_md\n",
      "mantaining en_core_web_md\n",
      "fr_core_news_sm loaded\n",
      "en_core_web_md loaded\n",
      "mantaining en_core_web_md\n",
      "mantaining en_core_web_md\n",
      "mantaining en_core_web_md\n",
      "de_core_news_sm loaded\n",
      "fr_core_news_sm loaded\n",
      "en_core_web_md loaded\n",
      "mantaining en_core_web_md\n",
      "mantaining en_core_web_md\n",
      "mantaining en_core_web_md\n",
      "mantaining en_core_web_md\n",
      "mantaining en_core_web_md\n",
      "mantaining en_core_web_md\n",
      "zh_core_web_sm loaded\n",
      "en_core_web_md loaded\n",
      "mantaining en_core_web_md\n",
      "mantaining en_core_web_md\n",
      "mantaining en_core_web_md\n",
      "mantaining en_core_web_md\n",
      "mantaining en_core_web_md\n",
      "mantaining en_core_web_md\n",
      "mantaining en_core_web_md\n",
      "mantaining en_core_web_md\n",
      "mantaining en_core_web_md\n",
      "mantaining en_core_web_md\n",
      "mantaining en_core_web_md\n",
      "mantaining en_core_web_md\n",
      "fr_core_news_sm loaded\n",
      "en_core_web_md loaded\n",
      "mantaining en_core_web_md\n",
      "mantaining en_core_web_md\n",
      "mantaining en_core_web_md\n",
      "mantaining en_core_web_md\n",
      "mantaining en_core_web_md\n",
      "mantaining en_core_web_md\n",
      "mantaining en_core_web_md\n",
      "mantaining en_core_web_md\n",
      "mantaining en_core_web_md\n",
      "zh_core_web_sm loaded\n",
      "da_core_news_sm loaded\n",
      "en_core_web_md loaded\n",
      "mantaining en_core_web_md\n",
      "mantaining en_core_web_md\n",
      "zh_core_web_sm loaded\n",
      "en_core_web_md loaded\n",
      "mantaining en_core_web_md\n",
      "mantaining en_core_web_md\n",
      "mantaining en_core_web_md\n",
      "it_core_news_sm loaded\n",
      "en_core_web_md loaded\n",
      "mantaining en_core_web_md\n",
      "mantaining en_core_web_md\n",
      "zh_core_web_sm loaded\n",
      "en_core_web_md loaded\n",
      "mantaining en_core_web_md\n",
      "mantaining en_core_web_md\n",
      "mantaining en_core_web_md\n",
      "mantaining en_core_web_md\n",
      "mantaining en_core_web_md\n",
      "mantaining en_core_web_md\n",
      "mantaining en_core_web_md\n",
      "mantaining en_core_web_md\n",
      "mantaining en_core_web_md\n",
      "mantaining en_core_web_md\n",
      "mantaining en_core_web_md\n",
      "mantaining en_core_web_md\n",
      "zh_core_web_sm loaded\n",
      "en_core_web_md loaded\n",
      "zh_core_web_sm loaded\n",
      "en_core_web_md loaded\n",
      "mantaining en_core_web_md\n",
      "mantaining en_core_web_md\n",
      "mantaining en_core_web_md\n",
      "mantaining en_core_web_md\n",
      "mantaining en_core_web_md\n",
      "mantaining en_core_web_md\n",
      "mantaining en_core_web_md\n",
      "mantaining en_core_web_md\n",
      "mantaining en_core_web_md\n",
      "mantaining en_core_web_md\n",
      "mantaining en_core_web_md\n",
      "mantaining en_core_web_md\n",
      "mantaining en_core_web_md\n",
      "mantaining en_core_web_md\n",
      "mantaining en_core_web_md\n",
      "mantaining en_core_web_md\n",
      "mantaining en_core_web_md\n",
      "mantaining en_core_web_md\n",
      "mantaining en_core_web_md\n",
      "zh_core_web_sm loaded\n",
      "en_core_web_md loaded\n",
      "mantaining en_core_web_md\n",
      "zh_core_web_sm loaded\n",
      "en_core_web_md loaded\n",
      "mantaining en_core_web_md\n",
      "mantaining en_core_web_md\n",
      "fr_core_news_sm loaded\n",
      "nb_core_news_sm loaded\n",
      "en_core_web_md loaded\n",
      "mantaining en_core_web_md\n",
      "mantaining en_core_web_md\n",
      "mantaining en_core_web_md\n",
      "mantaining en_core_web_md\n",
      "mantaining en_core_web_md\n",
      "mantaining en_core_web_md\n",
      "mantaining en_core_web_md\n",
      "mantaining en_core_web_md\n",
      "mantaining en_core_web_md\n",
      "mantaining en_core_web_md\n",
      "mantaining en_core_web_md\n",
      "mantaining en_core_web_md\n",
      "mantaining en_core_web_md\n",
      "mantaining en_core_web_md\n",
      "mantaining en_core_web_md\n",
      "mantaining en_core_web_md\n",
      "mantaining en_core_web_md\n",
      "mantaining en_core_web_md\n",
      "mantaining en_core_web_md\n",
      "mantaining en_core_web_md\n",
      "mantaining en_core_web_md\n",
      "mantaining en_core_web_md\n",
      "mantaining en_core_web_md\n",
      "mantaining en_core_web_md\n",
      "mantaining en_core_web_md\n",
      "mantaining en_core_web_md\n",
      "mantaining en_core_web_md\n",
      "mantaining en_core_web_md\n",
      "mantaining en_core_web_md\n",
      "mantaining en_core_web_md\n",
      "mantaining en_core_web_md\n",
      "mantaining en_core_web_md\n",
      "mantaining en_core_web_md\n",
      "mantaining en_core_web_md\n",
      "mantaining en_core_web_md\n",
      "mantaining en_core_web_md\n",
      "mantaining en_core_web_md\n",
      "es_core_news_sm loaded\n",
      "en_core_web_md loaded\n",
      "mantaining en_core_web_md\n",
      "mantaining en_core_web_md\n",
      "mantaining en_core_web_md\n",
      "mantaining en_core_web_md\n",
      "mantaining en_core_web_md\n",
      "mantaining en_core_web_md\n",
      "mantaining en_core_web_md\n",
      "mantaining en_core_web_md\n",
      "mantaining en_core_web_md\n",
      "mantaining en_core_web_md\n",
      "mantaining en_core_web_md\n",
      "mantaining en_core_web_md\n",
      "mantaining en_core_web_md\n",
      "mantaining en_core_web_md\n",
      "mantaining en_core_web_md\n",
      "mantaining en_core_web_md\n",
      "mantaining en_core_web_md\n",
      "mantaining en_core_web_md\n",
      "mantaining en_core_web_md\n",
      "mantaining en_core_web_md\n",
      "mantaining en_core_web_md\n",
      "mantaining en_core_web_md\n",
      "mantaining en_core_web_md\n",
      "mantaining en_core_web_md\n",
      "mantaining en_core_web_md\n",
      "mantaining en_core_web_md\n",
      "mantaining en_core_web_md\n",
      "mantaining en_core_web_md\n",
      "fr_core_news_sm loaded\n",
      "zh_core_web_sm loaded\n",
      "en_core_web_md loaded\n",
      "mantaining en_core_web_md\n",
      "mantaining en_core_web_md\n",
      "mantaining en_core_web_md\n",
      "mantaining en_core_web_md\n",
      "mantaining en_core_web_md\n",
      "mantaining en_core_web_md\n",
      "mantaining en_core_web_md\n",
      "mantaining en_core_web_md\n",
      "mantaining en_core_web_md\n",
      "mantaining en_core_web_md\n",
      "mantaining en_core_web_md\n",
      "mantaining en_core_web_md\n",
      "mantaining en_core_web_md\n",
      "mantaining en_core_web_md\n",
      "mantaining en_core_web_md\n",
      "mantaining en_core_web_md\n",
      "mantaining en_core_web_md\n",
      "mantaining en_core_web_md\n",
      "mantaining en_core_web_md\n",
      "mantaining en_core_web_md\n",
      "mantaining en_core_web_md\n",
      "mantaining en_core_web_md\n",
      "de_core_news_sm loaded\n",
      "nl_core_news_sm loaded\n",
      "en_core_web_md loaded\n",
      "mantaining en_core_web_md\n",
      "de_core_news_sm loaded\n",
      "nl_core_news_sm loaded\n",
      "en_core_web_md loaded\n",
      "mantaining en_core_web_md\n",
      "fr_core_news_sm loaded\n",
      "en_core_web_md loaded\n",
      "mantaining en_core_web_md\n",
      "mantaining en_core_web_md\n",
      "mantaining en_core_web_md\n",
      "mantaining en_core_web_md\n",
      "mantaining en_core_web_md\n",
      "mantaining en_core_web_md\n",
      "mantaining en_core_web_md\n",
      "mantaining en_core_web_md\n",
      "mantaining en_core_web_md\n",
      "mantaining en_core_web_md\n",
      "it_core_news_sm loaded\n",
      "en_core_web_md loaded\n",
      "mantaining en_core_web_md\n",
      "fr_core_news_sm loaded\n",
      "en_core_web_md loaded\n",
      "mantaining en_core_web_md\n",
      "mantaining en_core_web_md\n",
      "mantaining en_core_web_md\n",
      "mantaining en_core_web_md\n",
      "mantaining en_core_web_md\n",
      "pt_core_news_sm loaded\n",
      "zh_core_web_sm loaded\n",
      "mantaining zh_core_web_sm\n",
      "mantaining zh_core_web_sm\n",
      "mantaining zh_core_web_sm\n",
      "en_core_web_md loaded\n",
      "zh_core_web_sm loaded\n",
      "en_core_web_md loaded\n",
      "mantaining en_core_web_md\n",
      "mantaining en_core_web_md\n",
      "de_core_news_sm loaded\n",
      "en_core_web_md loaded\n",
      "mantaining en_core_web_md\n",
      "mantaining en_core_web_md\n",
      "mantaining en_core_web_md\n",
      "mantaining en_core_web_md\n",
      "mantaining en_core_web_md\n",
      "mantaining en_core_web_md\n",
      "mantaining en_core_web_md\n",
      "fr_core_news_sm loaded\n",
      "en_core_web_md loaded\n",
      "mantaining en_core_web_md\n",
      "mantaining en_core_web_md\n",
      "mantaining en_core_web_md\n",
      "mantaining en_core_web_md\n",
      "mantaining en_core_web_md\n",
      "mantaining en_core_web_md\n",
      "mantaining en_core_web_md\n",
      "mantaining en_core_web_md\n",
      "mantaining en_core_web_md\n",
      "zh_core_web_sm loaded\n",
      "en_core_web_md loaded\n",
      "mantaining en_core_web_md\n",
      "zh_core_web_sm loaded\n",
      "en_core_web_md loaded\n",
      "mantaining en_core_web_md\n",
      "mantaining en_core_web_md\n",
      "mantaining en_core_web_md\n",
      "mantaining en_core_web_md\n",
      "mantaining en_core_web_md\n",
      "mantaining en_core_web_md\n",
      "mantaining en_core_web_md\n",
      "mantaining en_core_web_md\n",
      "mantaining en_core_web_md\n",
      "mantaining en_core_web_md\n",
      "mantaining en_core_web_md\n",
      "mantaining en_core_web_md\n",
      "mantaining en_core_web_md\n",
      "mantaining en_core_web_md\n",
      "mantaining en_core_web_md\n",
      "mantaining en_core_web_md\n",
      "mantaining en_core_web_md\n",
      "mantaining en_core_web_md\n",
      "mantaining en_core_web_md\n",
      "mantaining en_core_web_md\n",
      "mantaining en_core_web_md\n",
      "fr_core_news_sm loaded\n",
      "nl_core_news_sm loaded\n",
      "en_core_web_md loaded\n",
      "mantaining en_core_web_md\n",
      "fr_core_news_sm loaded\n",
      "mantaining fr_core_news_sm\n",
      "en_core_web_md loaded\n",
      "mantaining en_core_web_md\n",
      "mantaining en_core_web_md\n",
      "mantaining en_core_web_md\n",
      "mantaining en_core_web_md\n",
      "mantaining en_core_web_md\n",
      "mantaining en_core_web_md\n",
      "de_core_news_sm loaded\n",
      "en_core_web_md loaded\n",
      "mantaining en_core_web_md\n",
      "mantaining en_core_web_md\n",
      "mantaining en_core_web_md\n",
      "mantaining en_core_web_md\n",
      "mantaining en_core_web_md\n",
      "mantaining en_core_web_md\n",
      "mantaining en_core_web_md\n",
      "zh_core_web_sm loaded\n",
      "en_core_web_md loaded\n",
      "zh_core_web_sm loaded\n",
      "en_core_web_md loaded\n",
      "mantaining en_core_web_md\n",
      "mantaining en_core_web_md\n",
      "es_core_news_sm loaded\n",
      "en_core_web_md loaded\n",
      "mantaining en_core_web_md\n",
      "mantaining en_core_web_md\n",
      "mantaining en_core_web_md\n",
      "mantaining en_core_web_md\n",
      "mantaining en_core_web_md\n",
      "mantaining en_core_web_md\n",
      "mantaining en_core_web_md\n",
      "mantaining en_core_web_md\n",
      "mantaining en_core_web_md\n",
      "mantaining en_core_web_md\n",
      "mantaining en_core_web_md\n",
      "mantaining en_core_web_md\n",
      "mantaining en_core_web_md\n",
      "mantaining en_core_web_md\n",
      "mantaining en_core_web_md\n",
      "mantaining en_core_web_md\n",
      "mantaining en_core_web_md\n",
      "mantaining en_core_web_md\n",
      "mantaining en_core_web_md\n",
      "mantaining en_core_web_md\n",
      "mantaining en_core_web_md\n",
      "mantaining en_core_web_md\n",
      "mantaining en_core_web_md\n",
      "mantaining en_core_web_md\n",
      "mantaining en_core_web_md\n",
      "mantaining en_core_web_md\n",
      "nl_core_news_sm loaded\n",
      "en_core_web_md loaded\n",
      "mantaining en_core_web_md\n",
      "mantaining en_core_web_md\n",
      "mantaining en_core_web_md\n",
      "nl_core_news_sm loaded\n",
      "en_core_web_md loaded\n",
      "mantaining en_core_web_md\n",
      "fr_core_news_sm loaded\n",
      "de_core_news_sm loaded\n",
      "en_core_web_md loaded\n",
      "mantaining en_core_web_md\n",
      "mantaining en_core_web_md\n",
      "es_core_news_sm loaded\n",
      "en_core_web_md loaded\n",
      "mantaining en_core_web_md\n",
      "mantaining en_core_web_md\n",
      "mantaining en_core_web_md\n",
      "mantaining en_core_web_md\n",
      "mantaining en_core_web_md\n",
      "mantaining en_core_web_md\n",
      "mantaining en_core_web_md\n",
      "mantaining en_core_web_md\n",
      "mantaining en_core_web_md\n",
      "mantaining en_core_web_md\n",
      "mantaining en_core_web_md\n",
      "zh_core_web_sm loaded\n",
      "en_core_web_md loaded\n",
      "zh_core_web_sm loaded\n",
      "en_core_web_md loaded\n",
      "mantaining en_core_web_md\n",
      "mantaining en_core_web_md\n",
      "zh_core_web_sm loaded\n",
      "en_core_web_md loaded\n",
      "mantaining en_core_web_md\n",
      "mantaining en_core_web_md\n",
      "mantaining en_core_web_md\n",
      "mantaining en_core_web_md\n",
      "it_core_news_sm loaded\n",
      "en_core_web_md loaded\n",
      "mantaining en_core_web_md\n",
      "fr_core_news_sm loaded\n",
      "mantaining fr_core_news_sm\n",
      "en_core_web_md loaded\n",
      "mantaining en_core_web_md\n",
      "mantaining en_core_web_md\n",
      "mantaining en_core_web_md\n",
      "mantaining en_core_web_md\n",
      "mantaining en_core_web_md\n",
      "mantaining en_core_web_md\n",
      "mantaining en_core_web_md\n",
      "mantaining en_core_web_md\n",
      "mantaining en_core_web_md\n",
      "mantaining en_core_web_md\n",
      "mantaining en_core_web_md\n",
      "mantaining en_core_web_md\n",
      "mantaining en_core_web_md\n",
      "mantaining en_core_web_md\n",
      "mantaining en_core_web_md\n",
      "mantaining en_core_web_md\n",
      "mantaining en_core_web_md\n",
      "zh_core_web_sm loaded\n",
      "en_core_web_md loaded\n",
      "mantaining en_core_web_md\n",
      "mantaining en_core_web_md\n",
      "mantaining en_core_web_md\n",
      "mantaining en_core_web_md\n",
      "mantaining en_core_web_md\n",
      "mantaining en_core_web_md\n",
      "mantaining en_core_web_md\n",
      "mantaining en_core_web_md\n",
      "mantaining en_core_web_md\n",
      "fr_core_news_sm loaded\n",
      "en_core_web_md loaded\n",
      "fr_core_news_sm loaded\n",
      "en_core_web_md loaded\n",
      "mantaining en_core_web_md\n",
      "mantaining en_core_web_md\n",
      "mantaining en_core_web_md\n",
      "mantaining en_core_web_md\n",
      "mantaining en_core_web_md\n",
      "mantaining en_core_web_md\n",
      "mantaining en_core_web_md\n",
      "mantaining en_core_web_md\n",
      "mantaining en_core_web_md\n",
      "mantaining en_core_web_md\n",
      "mantaining en_core_web_md\n",
      "mantaining en_core_web_md\n",
      "mantaining en_core_web_md\n",
      "mantaining en_core_web_md\n",
      "mantaining en_core_web_md\n",
      "mantaining en_core_web_md\n",
      "mantaining en_core_web_md\n",
      "mantaining en_core_web_md\n",
      "zh_core_web_sm loaded\n",
      "en_core_web_md loaded\n",
      "mantaining en_core_web_md\n",
      "zh_core_web_sm loaded\n",
      "en_core_web_md loaded\n",
      "mantaining en_core_web_md\n",
      "zh_core_web_sm loaded\n",
      "en_core_web_md loaded\n",
      "mantaining en_core_web_md\n",
      "mantaining en_core_web_md\n",
      "mantaining en_core_web_md\n",
      "mantaining en_core_web_md\n",
      "mantaining en_core_web_md\n",
      "mantaining en_core_web_md\n",
      "mantaining en_core_web_md\n",
      "mantaining en_core_web_md\n",
      "mantaining en_core_web_md\n",
      "mantaining en_core_web_md\n",
      "zh_core_web_sm loaded\n",
      "en_core_web_md loaded\n",
      "mantaining en_core_web_md\n",
      "mantaining en_core_web_md\n",
      "mantaining en_core_web_md\n",
      "mantaining en_core_web_md\n",
      "mantaining en_core_web_md\n",
      "fr_core_news_sm loaded\n",
      "en_core_web_md loaded\n",
      "mantaining en_core_web_md\n",
      "mantaining en_core_web_md\n",
      "mantaining en_core_web_md\n",
      "mantaining en_core_web_md\n",
      "mantaining en_core_web_md\n",
      "mantaining en_core_web_md\n",
      "zh_core_web_sm loaded\n",
      "en_core_web_md loaded\n",
      "mantaining en_core_web_md\n",
      "zh_core_web_sm loaded\n",
      "en_core_web_md loaded\n",
      "mantaining en_core_web_md\n",
      "mantaining en_core_web_md\n",
      "mantaining en_core_web_md\n",
      "mantaining en_core_web_md\n",
      "mantaining en_core_web_md\n",
      "mantaining en_core_web_md\n",
      "mantaining en_core_web_md\n",
      "mantaining en_core_web_md\n",
      "mantaining en_core_web_md\n",
      "mantaining en_core_web_md\n",
      "mantaining en_core_web_md\n",
      "mantaining en_core_web_md\n",
      "mantaining en_core_web_md\n",
      "mantaining en_core_web_md\n",
      "mantaining en_core_web_md\n",
      "zh_core_web_sm loaded\n",
      "en_core_web_md loaded\n",
      "mantaining en_core_web_md\n",
      "mantaining en_core_web_md\n",
      "mantaining en_core_web_md\n",
      "fr_core_news_sm loaded\n",
      "en_core_web_md loaded\n",
      "mantaining en_core_web_md\n",
      "mantaining en_core_web_md\n",
      "mantaining en_core_web_md\n",
      "mantaining en_core_web_md\n",
      "mantaining en_core_web_md\n",
      "sv_core_news_sm loaded\n",
      "en_core_web_md loaded\n",
      "mantaining en_core_web_md\n",
      "es_core_news_sm loaded\n",
      "en_core_web_md loaded\n",
      "mantaining en_core_web_md\n",
      "mantaining en_core_web_md\n",
      "mantaining en_core_web_md\n",
      "mantaining en_core_web_md\n",
      "mantaining en_core_web_md\n",
      "mantaining en_core_web_md\n",
      "mantaining en_core_web_md\n",
      "de_core_news_sm loaded\n",
      "en_core_web_md loaded\n",
      "mantaining en_core_web_md\n",
      "mantaining en_core_web_md\n",
      "nl_core_news_sm loaded\n",
      "en_core_web_md loaded\n",
      "mantaining en_core_web_md\n",
      "mantaining en_core_web_md\n",
      "fr_core_news_sm loaded\n",
      "mantaining fr_core_news_sm\n",
      "mantaining fr_core_news_sm\n",
      "en_core_web_md loaded\n",
      "mantaining en_core_web_md\n",
      "mantaining en_core_web_md\n",
      "mantaining en_core_web_md\n",
      "mantaining en_core_web_md\n",
      "pl_core_news_sm loaded\n",
      "en_core_web_md loaded\n",
      "mantaining en_core_web_md\n",
      "mantaining en_core_web_md\n",
      "fr_core_news_sm loaded\n",
      "en_core_web_md loaded\n",
      "mantaining en_core_web_md\n",
      "zh_core_web_sm loaded\n",
      "en_core_web_md loaded\n",
      "mantaining en_core_web_md\n",
      "zh_core_web_sm loaded\n",
      "en_core_web_md loaded\n",
      "mantaining en_core_web_md\n",
      "mantaining en_core_web_md\n",
      "mantaining en_core_web_md\n",
      "mantaining en_core_web_md\n",
      "mantaining en_core_web_md\n",
      "mantaining en_core_web_md\n",
      "mantaining en_core_web_md\n",
      "mantaining en_core_web_md\n",
      "mantaining en_core_web_md\n",
      "mantaining en_core_web_md\n",
      "mantaining en_core_web_md\n",
      "mantaining en_core_web_md\n",
      "mantaining en_core_web_md\n",
      "mantaining en_core_web_md\n",
      "zh_core_web_sm loaded\n",
      "ca_core_news_sm loaded\n",
      "en_core_web_md loaded\n",
      "mantaining en_core_web_md\n",
      "mantaining en_core_web_md\n",
      "mantaining en_core_web_md\n",
      "mantaining en_core_web_md\n",
      "mantaining en_core_web_md\n",
      "mantaining en_core_web_md\n",
      "mantaining en_core_web_md\n",
      "zh_core_web_sm loaded\n",
      "en_core_web_md loaded\n",
      "de_core_news_sm loaded\n",
      "en_core_web_md loaded\n",
      "mantaining en_core_web_md\n",
      "mantaining en_core_web_md\n",
      "mantaining en_core_web_md\n",
      "mantaining en_core_web_md\n",
      "mantaining en_core_web_md\n",
      "mantaining en_core_web_md\n",
      "mantaining en_core_web_md\n",
      "mantaining en_core_web_md\n",
      "fr_core_news_sm loaded\n",
      "en_core_web_md loaded\n",
      "mantaining en_core_web_md\n",
      "mantaining en_core_web_md\n",
      "mantaining en_core_web_md\n",
      "mantaining en_core_web_md\n",
      "mantaining en_core_web_md\n",
      "mantaining en_core_web_md\n",
      "mantaining en_core_web_md\n",
      "mantaining en_core_web_md\n",
      "mantaining en_core_web_md\n",
      "mantaining en_core_web_md\n",
      "mantaining en_core_web_md\n",
      "mantaining en_core_web_md\n",
      "fr_core_news_sm loaded\n",
      "en_core_web_md loaded\n",
      "mantaining en_core_web_md\n",
      "mantaining en_core_web_md\n",
      "mantaining en_core_web_md\n",
      "mantaining en_core_web_md\n",
      "mantaining en_core_web_md\n",
      "mantaining en_core_web_md\n",
      "de_core_news_sm loaded\n",
      "en_core_web_md loaded\n",
      "mantaining en_core_web_md\n",
      "fr_core_news_sm loaded\n",
      "en_core_web_md loaded\n",
      "mantaining en_core_web_md\n",
      "mantaining en_core_web_md\n",
      "mantaining en_core_web_md\n",
      "mantaining en_core_web_md\n",
      "mantaining en_core_web_md\n",
      "mantaining en_core_web_md\n",
      "mantaining en_core_web_md\n",
      "mantaining en_core_web_md\n",
      "zh_core_web_sm loaded\n",
      "en_core_web_md loaded\n",
      "zh_core_web_sm loaded\n",
      "en_core_web_md loaded\n",
      "mantaining en_core_web_md\n",
      "mantaining en_core_web_md\n",
      "mantaining en_core_web_md\n",
      "mantaining en_core_web_md\n",
      "mantaining en_core_web_md\n",
      "mantaining en_core_web_md\n",
      "mantaining en_core_web_md\n",
      "mantaining en_core_web_md\n",
      "mantaining en_core_web_md\n",
      "mantaining en_core_web_md\n",
      "mantaining en_core_web_md\n",
      "zh_core_web_sm loaded\n",
      "en_core_web_md loaded\n",
      "mantaining en_core_web_md\n",
      "mantaining en_core_web_md\n",
      "fr_core_news_sm loaded\n",
      "en_core_web_md loaded\n",
      "mantaining en_core_web_md\n",
      "mantaining en_core_web_md\n",
      "fr_core_news_sm loaded\n",
      "en_core_web_md loaded\n",
      "mantaining en_core_web_md\n",
      "mantaining en_core_web_md\n",
      "fr_core_news_sm loaded\n",
      "en_core_web_md loaded\n",
      "mantaining en_core_web_md\n",
      "mantaining en_core_web_md\n",
      "mantaining en_core_web_md\n",
      "mantaining en_core_web_md\n",
      "mantaining en_core_web_md\n",
      "mantaining en_core_web_md\n",
      "mantaining en_core_web_md\n",
      "mantaining en_core_web_md\n",
      "mantaining en_core_web_md\n",
      "mantaining en_core_web_md\n",
      "mantaining en_core_web_md\n",
      "mantaining en_core_web_md\n",
      "mantaining en_core_web_md\n",
      "mantaining en_core_web_md\n",
      "mantaining en_core_web_md\n",
      "mantaining en_core_web_md\n",
      "mantaining en_core_web_md\n",
      "mantaining en_core_web_md\n",
      "mantaining en_core_web_md\n",
      "mantaining en_core_web_md\n",
      "mantaining en_core_web_md\n",
      "mantaining en_core_web_md\n",
      "mantaining en_core_web_md\n",
      "mantaining en_core_web_md\n",
      "mantaining en_core_web_md\n",
      "mantaining en_core_web_md\n",
      "mantaining en_core_web_md\n",
      "mantaining en_core_web_md\n",
      "mantaining en_core_web_md\n",
      "mantaining en_core_web_md\n",
      "mantaining en_core_web_md\n",
      "mantaining en_core_web_md\n",
      "mantaining en_core_web_md\n",
      "mantaining en_core_web_md\n",
      "mantaining en_core_web_md\n",
      "mantaining en_core_web_md\n",
      "mantaining en_core_web_md\n",
      "zh_core_web_sm loaded\n",
      "mantaining zh_core_web_sm\n",
      "en_core_web_md loaded\n",
      "zh_core_web_sm loaded\n",
      "en_core_web_md loaded\n",
      "mantaining en_core_web_md\n",
      "mantaining en_core_web_md\n",
      "mantaining en_core_web_md\n",
      "mantaining en_core_web_md\n",
      "mantaining en_core_web_md\n",
      "mantaining en_core_web_md\n",
      "mantaining en_core_web_md\n",
      "mantaining en_core_web_md\n",
      "zh_core_web_sm loaded\n",
      "en_core_web_md loaded\n",
      "mantaining en_core_web_md\n",
      "zh_core_web_sm loaded\n",
      "en_core_web_md loaded\n",
      "mantaining en_core_web_md\n",
      "mantaining en_core_web_md\n",
      "mantaining en_core_web_md\n",
      "mantaining en_core_web_md\n",
      "mantaining en_core_web_md\n",
      "mantaining en_core_web_md\n",
      "mantaining en_core_web_md\n",
      "mantaining en_core_web_md\n",
      "mantaining en_core_web_md\n",
      "mantaining en_core_web_md\n",
      "zh_core_web_sm loaded\n",
      "mantaining zh_core_web_sm\n",
      "mantaining zh_core_web_sm\n",
      "en_core_web_md loaded\n",
      "zh_core_web_sm loaded\n",
      "en_core_web_md loaded\n",
      "mantaining en_core_web_md\n",
      "mantaining en_core_web_md\n",
      "mantaining en_core_web_md\n",
      "mantaining en_core_web_md\n",
      "mantaining en_core_web_md\n",
      "fr_core_news_sm loaded\n",
      "en_core_web_md loaded\n",
      "mantaining en_core_web_md\n",
      "mantaining en_core_web_md\n",
      "mantaining en_core_web_md\n",
      "mantaining en_core_web_md\n",
      "mantaining en_core_web_md\n",
      "mantaining en_core_web_md\n",
      "mantaining en_core_web_md\n",
      "mantaining en_core_web_md\n",
      "mantaining en_core_web_md\n",
      "mantaining en_core_web_md\n",
      "mantaining en_core_web_md\n",
      "mantaining en_core_web_md\n",
      "mantaining en_core_web_md\n",
      "mantaining en_core_web_md\n",
      "mantaining en_core_web_md\n",
      "mantaining en_core_web_md\n",
      "mantaining en_core_web_md\n",
      "mantaining en_core_web_md\n",
      "mantaining en_core_web_md\n",
      "mantaining en_core_web_md\n",
      "mantaining en_core_web_md\n",
      "mantaining en_core_web_md\n",
      "mantaining en_core_web_md\n",
      "mantaining en_core_web_md\n",
      "mantaining en_core_web_md\n",
      "mantaining en_core_web_md\n",
      "mantaining en_core_web_md\n",
      "fr_core_news_sm loaded\n",
      "mantaining fr_core_news_sm\n",
      "en_core_web_md loaded\n",
      "mantaining en_core_web_md\n",
      "mantaining en_core_web_md\n",
      "mantaining en_core_web_md\n",
      "mantaining en_core_web_md\n",
      "mantaining en_core_web_md\n",
      "mantaining en_core_web_md\n",
      "mantaining en_core_web_md\n",
      "mantaining en_core_web_md\n",
      "mantaining en_core_web_md\n",
      "mantaining en_core_web_md\n",
      "mantaining en_core_web_md\n",
      "mantaining en_core_web_md\n",
      "mantaining en_core_web_md\n",
      "mantaining en_core_web_md\n",
      "mantaining en_core_web_md\n",
      "mantaining en_core_web_md\n",
      "mantaining en_core_web_md\n",
      "mantaining en_core_web_md\n",
      "mantaining en_core_web_md\n",
      "mantaining en_core_web_md\n",
      "mantaining en_core_web_md\n",
      "mantaining en_core_web_md\n",
      "mantaining en_core_web_md\n",
      "mantaining en_core_web_md\n",
      "mantaining en_core_web_md\n",
      "mantaining en_core_web_md\n",
      "mantaining en_core_web_md\n",
      "fr_core_news_sm loaded\n",
      "en_core_web_md loaded\n",
      "mantaining en_core_web_md\n",
      "mantaining en_core_web_md\n",
      "mantaining en_core_web_md\n",
      "mantaining en_core_web_md\n",
      "mantaining en_core_web_md\n",
      "mantaining en_core_web_md\n",
      "mantaining en_core_web_md\n",
      "mantaining en_core_web_md\n",
      "mantaining en_core_web_md\n",
      "fr_core_news_sm loaded\n",
      "en_core_web_md loaded\n",
      "mantaining en_core_web_md\n",
      "mantaining en_core_web_md\n",
      "mantaining en_core_web_md\n",
      "mantaining en_core_web_md\n",
      "mantaining en_core_web_md\n",
      "mantaining en_core_web_md\n",
      "mantaining en_core_web_md\n",
      "mantaining en_core_web_md\n",
      "mantaining en_core_web_md\n",
      "mantaining en_core_web_md\n",
      "mantaining en_core_web_md\n",
      "mantaining en_core_web_md\n",
      "mantaining en_core_web_md\n",
      "mantaining en_core_web_md\n",
      "mantaining en_core_web_md\n",
      "mantaining en_core_web_md\n",
      "zh_core_web_sm loaded\n",
      "en_core_web_md loaded\n",
      "mantaining en_core_web_md\n",
      "zh_core_web_sm loaded\n",
      "pl_core_news_sm loaded\n",
      "en_core_web_md loaded\n",
      "mantaining en_core_web_md\n",
      "mantaining en_core_web_md\n",
      "mantaining en_core_web_md\n",
      "mantaining en_core_web_md\n",
      "mantaining en_core_web_md\n",
      "de_core_news_sm loaded\n",
      "en_core_web_md loaded\n",
      "mantaining en_core_web_md\n",
      "mantaining en_core_web_md\n",
      "mantaining en_core_web_md\n",
      "mantaining en_core_web_md\n",
      "mantaining en_core_web_md\n",
      "mantaining en_core_web_md\n",
      "mantaining en_core_web_md\n",
      "mantaining en_core_web_md\n",
      "mantaining en_core_web_md\n",
      "mantaining en_core_web_md\n",
      "lt_core_news_sm loaded\n",
      "en_core_web_md loaded\n",
      "mantaining en_core_web_md\n",
      "mantaining en_core_web_md\n",
      "mantaining en_core_web_md\n",
      "mantaining en_core_web_md\n",
      "mantaining en_core_web_md\n",
      "mantaining en_core_web_md\n",
      "mantaining en_core_web_md\n",
      "mantaining en_core_web_md\n",
      "de_core_news_sm loaded\n",
      "en_core_web_md loaded\n",
      "zh_core_web_sm loaded\n",
      "en_core_web_md loaded\n",
      "zh_core_web_sm loaded\n",
      "en_core_web_md loaded\n",
      "mantaining en_core_web_md\n",
      "mantaining en_core_web_md\n",
      "zh_core_web_sm loaded\n",
      "en_core_web_md loaded\n",
      "mantaining en_core_web_md\n",
      "mantaining en_core_web_md\n",
      "mantaining en_core_web_md\n",
      "mantaining en_core_web_md\n",
      "it_core_news_sm loaded\n",
      "en_core_web_md loaded\n",
      "mantaining en_core_web_md\n",
      "mantaining en_core_web_md\n",
      "mantaining en_core_web_md\n",
      "mantaining en_core_web_md\n",
      "pl_core_news_sm loaded\n",
      "en_core_web_md loaded\n",
      "mantaining en_core_web_md\n",
      "mantaining en_core_web_md\n",
      "mantaining en_core_web_md\n",
      "mantaining en_core_web_md\n",
      "mantaining en_core_web_md\n",
      "mantaining en_core_web_md\n",
      "mantaining en_core_web_md\n",
      "mantaining en_core_web_md\n",
      "mantaining en_core_web_md\n",
      "mantaining en_core_web_md\n",
      "mantaining en_core_web_md\n",
      "mantaining en_core_web_md\n",
      "mantaining en_core_web_md\n",
      "mantaining en_core_web_md\n",
      "mantaining en_core_web_md\n",
      "mantaining en_core_web_md\n",
      "mantaining en_core_web_md\n",
      "mantaining en_core_web_md\n",
      "mantaining en_core_web_md\n",
      "mantaining en_core_web_md\n",
      "mantaining en_core_web_md\n",
      "mantaining en_core_web_md\n",
      "mantaining en_core_web_md\n",
      "mantaining en_core_web_md\n",
      "mantaining en_core_web_md\n",
      "mantaining en_core_web_md\n",
      "mantaining en_core_web_md\n",
      "mantaining en_core_web_md\n",
      "mantaining en_core_web_md\n",
      "de_core_news_sm loaded\n",
      "en_core_web_md loaded\n",
      "mantaining en_core_web_md\n",
      "mantaining en_core_web_md\n",
      "mantaining en_core_web_md\n",
      "mantaining en_core_web_md\n",
      "de_core_news_sm loaded\n",
      "en_core_web_md loaded\n",
      "mantaining en_core_web_md\n",
      "mantaining en_core_web_md\n",
      "mantaining en_core_web_md\n",
      "mantaining en_core_web_md\n",
      "mantaining en_core_web_md\n",
      "mantaining en_core_web_md\n",
      "mantaining en_core_web_md\n",
      "mantaining en_core_web_md\n",
      "mantaining en_core_web_md\n",
      "mantaining en_core_web_md\n",
      "mantaining en_core_web_md\n",
      "mantaining en_core_web_md\n",
      "mantaining en_core_web_md\n",
      "mantaining en_core_web_md\n",
      "mantaining en_core_web_md\n",
      "mantaining en_core_web_md\n",
      "fr_core_news_sm loaded\n",
      "en_core_web_md loaded\n",
      "mantaining en_core_web_md\n",
      "mantaining en_core_web_md\n",
      "mantaining en_core_web_md\n",
      "mantaining en_core_web_md\n",
      "mantaining en_core_web_md\n",
      "mantaining en_core_web_md\n",
      "mantaining en_core_web_md\n",
      "mantaining en_core_web_md\n",
      "mantaining en_core_web_md\n",
      "mantaining en_core_web_md\n",
      "mantaining en_core_web_md\n",
      "mantaining en_core_web_md\n",
      "mantaining en_core_web_md\n",
      "mantaining en_core_web_md\n",
      "mantaining en_core_web_md\n",
      "zh_core_web_sm loaded\n",
      "en_core_web_md loaded\n",
      "mantaining en_core_web_md\n",
      "mantaining en_core_web_md\n",
      "mantaining en_core_web_md\n",
      "mantaining en_core_web_md\n",
      "fr_core_news_sm loaded\n",
      "en_core_web_md loaded\n",
      "mantaining en_core_web_md\n",
      "mantaining en_core_web_md\n",
      "mantaining en_core_web_md\n",
      "mantaining en_core_web_md\n",
      "mantaining en_core_web_md\n",
      "mantaining en_core_web_md\n",
      "mantaining en_core_web_md\n",
      "mantaining en_core_web_md\n",
      "mantaining en_core_web_md\n",
      "mantaining en_core_web_md\n",
      "mantaining en_core_web_md\n",
      "mantaining en_core_web_md\n",
      "mantaining en_core_web_md\n",
      "mantaining en_core_web_md\n",
      "mantaining en_core_web_md\n",
      "mantaining en_core_web_md\n",
      "mantaining en_core_web_md\n",
      "mantaining en_core_web_md\n",
      "mantaining en_core_web_md\n",
      "mantaining en_core_web_md\n",
      "mantaining en_core_web_md\n",
      "mantaining en_core_web_md\n",
      "fr_core_news_sm loaded\n",
      "en_core_web_md loaded\n",
      "mantaining en_core_web_md\n",
      "mantaining en_core_web_md\n",
      "mantaining en_core_web_md\n",
      "it_core_news_sm loaded\n",
      "en_core_web_md loaded\n",
      "mantaining en_core_web_md\n",
      "mantaining en_core_web_md\n",
      "it_core_news_sm loaded\n",
      "nl_core_news_sm loaded\n",
      "en_core_web_md loaded\n",
      "fr_core_news_sm loaded\n",
      "en_core_web_md loaded\n",
      "mantaining en_core_web_md\n",
      "nl_core_news_sm loaded\n",
      "en_core_web_md loaded\n",
      "mantaining en_core_web_md\n",
      "de_core_news_sm loaded\n",
      "en_core_web_md loaded\n",
      "mantaining en_core_web_md\n",
      "mantaining en_core_web_md\n",
      "mantaining en_core_web_md\n",
      "mantaining en_core_web_md\n",
      "mantaining en_core_web_md\n",
      "mantaining en_core_web_md\n",
      "fr_core_news_sm loaded\n",
      "en_core_web_md loaded\n",
      "mantaining en_core_web_md\n",
      "mantaining en_core_web_md\n",
      "mantaining en_core_web_md\n",
      "mantaining en_core_web_md\n",
      "mantaining en_core_web_md\n",
      "mantaining en_core_web_md\n",
      "mantaining en_core_web_md\n"
     ]
    }
   ],
   "source": [
    "import json\n",
    "from tqdm.notebook import tqdm\n",
    "    \n",
    "file = 'datasets/lang_db.json'\n",
    "artwork_index = 0\n",
    "NER_eval = []\n",
    "nn = 0\n",
    "old_model = 'en_core_web_md'\n",
    "models_used = []\n",
    "\n",
    "# Define 'nlp' before the loop\n",
    "nlp = spacy.load('en_core_web_md')\n",
    "\n",
    "spacy_models = {\n",
    "    'ca': 'ca_core_news_sm',  # Catalan\n",
    "    'da': 'da_core_news_sm',  # Danish\n",
    "    'de': 'de_core_news_sm',  # German\n",
    "    'el': 'el_core_news_sm',  # Greek\n",
    "    'en': 'en_core_web_md',  # English\n",
    "    'es': 'es_core_news_sm',  # Spanish\n",
    "    'fi': 'fi_core_news_sm',  # Finnish\n",
    "    'fr': 'fr_core_news_sm',  # French\n",
    "    'hr': 'hr_core_news_sm',  # Croatian\n",
    "    'it': 'it_core_news_sm',  # Italian\n",
    "    'ja': 'ja_core_news_sm',  # Japanese\n",
    "    'ko': 'ko_core_news_sm',  # Korean\n",
    "    'lt': 'lt_core_news_sm',  # Lithuanian\n",
    "    'mk': 'mk_core_news_sm',  # Macedonian\n",
    "    'nb': 'nb_core_news_sm',  # Norwegian Bokmål\n",
    "    'nl': 'nl_core_news_sm',  # Dutch\n",
    "    'pl': 'pl_core_news_sm',  # Polish\n",
    "    'pt': 'pt_core_news_sm',  # Portuguese\n",
    "    'ro': 'ro_core_news_sm',  # Romanian\n",
    "    'sl': 'sl_core_news_sm',  # Slovenian\n",
    "    'sv': 'sv_core_news_sm',  # Swedish\n",
    "    'ru': 'ru_core_news_sm',  # Russian\n",
    "    'uk': 'uk_core_news_sm',  # Ukrainian\n",
    "    'xx_ent_wiki': 'xx_ent_wiki_sm',  # Multi-language Entity Recognition\n",
    "    'xx_sent_ud': 'xx_sent_ud_sm',  # Multi-language Sentence Segmentation\n",
    "    'zh': 'zh_core_web_sm',  # Chinese\n",
    "}\n",
    "\n",
    "\n",
    "def extract_named_entities(text, spacy_model, old_model, nlp):\n",
    "    \"\"\"\n",
    "    Extract named entities from text.\n",
    "    \n",
    "    Parameters\n",
    "    ----------\n",
    "    text : STR\n",
    "        TEXT TO EXTRACT NAMED ENTITIES FROM.\n",
    "\n",
    "    Returns\n",
    "    -------\n",
    "    entities : LIST\n",
    "        LIST OF NAMED ENTITIES.\n",
    "\n",
    "    Detectable Languages:\n",
    "    Modern: Bulgarian (bg), Croatian (hr), Czech (cs), Danish (da), Dutch (nl), English (en),\n",
    "    Estonian (et), Finnish (fi), French (fr), German (de), Greek (el), Hungarian (hu), Irish (ga),\n",
    "    Italian (it), Latvian (lv), Lithuanian (lt), Maltese (mt), Polish (pl), Portuguese (pt),\n",
    "    Romanian (ro), Slovak (sk), Slovenian (sl), Spanish (es), Swedish (sv), Russian (ru),\n",
    "    Turkish (tr), Basque (eu), Catalan (ca), Albanian (sq), Serbian (se), Ukrainian (uk),\n",
    "    Norwegian (no), Arabic (ar), Chinese (zh), Hebrew (he)\n",
    "\n",
    "    Medieval: Middle High German (mhd), Latin (la), Middle Low German (gml), Old French (fro),\n",
    "    Old Church Slavonic (chu), Early New High German (fnhd), Ancient and Medieval Greek (grc)\n",
    "    \"\"\"\n",
    "    # Language detection using the specified model\n",
    "    \n",
    "    if spacy_model != old_model:\n",
    "        try:\n",
    "            nlp = spacy.load(spacy_model)\n",
    "            print(f\"{spacy_model} loaded\")\n",
    "        except OSError:\n",
    "            print(f\"Download {spacy_model}\")\n",
    "            try:\n",
    "                download(spacy_model)  # Download the Spacy model\n",
    "                nlp = spacy.load(spacy_model)\n",
    "            except:\n",
    "                nlp = spacy.load('en_core_news_md')\n",
    "    else:\n",
    "        spacy_model = spacy_model\n",
    "        print(f\"mantaining {old_model}\")\n",
    "\n",
    "    # Use the Spacy model for named entity recognition\n",
    "    entities = {}\n",
    "    for ent in nlp(text).ents:\n",
    "        #for k,v in new_dict.items():\n",
    "         #   for i in v:\n",
    "          #      if ent.label_ == i:\n",
    "           #         ent.label_ = k\n",
    "        if ent.label_ not in entities:\n",
    "            entities[ent.label_] = [ent.text]\n",
    "        else:\n",
    "            entities[ent.label_].append(ent.text)\n",
    "    old_model = spacy_model\n",
    "    return entities, old_model, nlp\n",
    "\n",
    "file = 'datasets/lang_db.json'\n",
    "\n",
    "spacy_model = old_model\n",
    "with open(file, 'r', encoding='utf-8') as input_f:\n",
    "    data = json.load(input_f)\n",
    "    datum = dict()\n",
    "    import random\n",
    "\n",
    "    # Get all items as a list of key-value pairs\n",
    "    items = list(data['lots'].items())\n",
    "\n",
    "    # Specify the number of random items you want to select\n",
    "    sample_size = samply(items)  # Adjust this as needed\n",
    "    \n",
    "    # Select a random sample\n",
    "    random_sample = random.sample(items, sample_size)\n",
    "    #random_sample = items\n",
    "    for key, value in tqdm(random_sample):\n",
    "        json_object = value\n",
    "        prov = value['lotProvenance']\n",
    "        events_of_artworks = []\n",
    "\n",
    "        if prov:\n",
    "            try:\n",
    "                for k, v in prov.items():\n",
    "                    if v is None:\n",
    "                        pass\n",
    "                    elif k == 'provenance_0':\n",
    "                        pass\n",
    "                    else:\n",
    "                        provenance = clean_provenance(v['text'])\n",
    "                        spacy_model = v['spacy_model']\n",
    "\n",
    "                        entities, old_model, nlp = extract_named_entities(provenance, spacy_model, old_model, nlp)\n",
    "                        provs = []\n",
    "\n",
    "                        for i, entity_ls in enumerate(entities):\n",
    "                            provs.append((i, entity_ls, entities[entity_ls], old_model))\n",
    "\n",
    "                            if len(entities[entity_ls]) > 1:\n",
    "                                for j in entities[entity_ls]:\n",
    "                                    tup = (entity_ls, j,old_model)\n",
    "                                    if tup in NER_eval:\n",
    "                                        pass\n",
    "                                    else:\n",
    "                                        NER_eval.append(tup)\n",
    "\n",
    "                            else:\n",
    "                                tup = (entity_ls, entities[entity_ls][0],old_model)\n",
    "                                if tup in NER_eval:\n",
    "                                    pass\n",
    "                                else:\n",
    "                                    NER_eval.append(tup)\n",
    "            except Exception as e:\n",
    "                print(f\"Error processing provenance: {str(e)}\")\n",
    "            nn += 1\n",
    "            \n",
    "\n",
    "\n"
   ]
  },
  {
   "cell_type": "code",
   "execution_count": 74,
   "id": "9855fc1c-de9b-4f8d-9908-e7f210d8c1b3",
   "metadata": {
    "scrolled": true
   },
   "outputs": [
    {
     "name": "stdout",
     "output_type": "stream",
     "text": [
      "Model xx_sent_ud_sm does not have NER component.\n",
      "Model: ca_core_news_sm\n",
      "NER Labels: ('LOC', 'MISC', 'ORG', 'PER')\n",
      "Model: da_core_news_sm\n",
      "NER Labels: ('LOC', 'MISC', 'ORG', 'PER')\n",
      "Model: de_core_news_sm\n",
      "NER Labels: ('LOC', 'MISC', 'ORG', 'PER')\n",
      "Model: el_core_news_sm\n",
      "NER Labels: ('EVENT', 'GPE', 'LOC', 'ORG', 'PERSON', 'PRODUCT')\n",
      "Model: en_core_web_md\n",
      "NER Labels: ('CARDINAL', 'DATE', 'EVENT', 'FAC', 'GPE', 'LANGUAGE', 'LAW', 'LOC', 'MONEY', 'NORP', 'ORDINAL', 'ORG', 'PERCENT', 'PERSON', 'PRODUCT', 'QUANTITY', 'TIME', 'WORK_OF_ART')\n",
      "Model: es_core_news_sm\n",
      "NER Labels: ('LOC', 'MISC', 'ORG', 'PER')\n",
      "Model: fi_core_news_sm\n",
      "NER Labels: ('CARDINAL', 'DATE', 'EVENT', 'FAC', 'GPE', 'LANGUAGE', 'LAW', 'LOC', 'MONEY', 'NORP', 'ORDINAL', 'ORG', 'PERCENT', 'PERSON', 'PRODUCT', 'QUANTITY', 'TIME', 'WORK_OF_ART')\n",
      "Model: fr_core_news_sm\n",
      "NER Labels: ('LOC', 'MISC', 'ORG', 'PER')\n",
      "Model: hr_core_news_sm\n",
      "NER Labels: ('DERIV_PER', 'LOC', 'MISC', 'ORG', 'PER')\n",
      "Model: it_core_news_sm\n",
      "NER Labels: ('LOC', 'MISC', 'ORG', 'PER')\n",
      "Model: ja_core_news_sm\n",
      "NER Labels: ('CARDINAL', 'DATE', 'EVENT', 'FAC', 'GPE', 'LANGUAGE', 'LAW', 'LOC', 'MONEY', 'MOVEMENT', 'NORP', 'ORDINAL', 'ORG', 'PERCENT', 'PERSON', 'PET_NAME', 'PHONE', 'PRODUCT', 'QUANTITY', 'TIME', 'TITLE_AFFIX', 'WORK_OF_ART')\n",
      "Model: ko_core_news_sm\n",
      "NER Labels: ('DT', 'LC', 'OG', 'PS', 'QT', 'TI')\n",
      "Model: lt_core_news_sm\n",
      "NER Labels: ('GPE', 'LOC', 'ORG', 'PERSON', 'PRODUCT', 'TIME')\n",
      "Model: mk_core_news_sm\n",
      "NER Labels: ('CARDINAL', 'DATE', 'EVENT', 'FAC', 'GPE', 'LANGUAGE', 'LAW', 'LOC', 'MONEY', 'NORP', 'ORDINAL', 'ORG', 'PERCENT', 'PERSON', 'PRODUCT', 'QUANTITY', 'TIME', 'WORK_OF_ART')\n",
      "Model: nb_core_news_sm\n",
      "NER Labels: ('DRV', 'EVT', 'GPE_LOC', 'GPE_ORG', 'LOC', 'MISC', 'ORG', 'PER', 'PROD')\n",
      "Model: nl_core_news_sm\n",
      "NER Labels: ('CARDINAL', 'DATE', 'EVENT', 'FAC', 'GPE', 'LANGUAGE', 'LAW', 'LOC', 'MONEY', 'NORP', 'ORDINAL', 'ORG', 'PERCENT', 'PERSON', 'PRODUCT', 'QUANTITY', 'TIME', 'WORK_OF_ART')\n",
      "Model: pl_core_news_sm\n",
      "NER Labels: ('date', 'geogName', 'orgName', 'persName', 'placeName', 'time')\n",
      "Model: pt_core_news_sm\n",
      "NER Labels: ('LOC', 'MISC', 'ORG', 'PER')\n",
      "Model: ro_core_news_sm\n",
      "NER Labels: ('DATETIME', 'EVENT', 'FACILITY', 'GPE', 'LANGUAGE', 'LOC', 'MONEY', 'NAT_REL_POL', 'NUMERIC_VALUE', 'ORDINAL', 'ORGANIZATION', 'PERIOD', 'PERSON', 'PRODUCT', 'QUANTITY', 'WORK_OF_ART')\n",
      "Model: sl_core_news_sm\n",
      "NER Labels: ('DERIV_PER', 'LOC', 'MISC', 'ORG', 'PER')\n",
      "Model: sv_core_news_sm\n",
      "NER Labels: ('EVN', 'LOC', 'MSR', 'OBJ', 'ORG', 'PRS', 'TME', 'WRK')\n",
      "Model: ru_core_news_sm\n",
      "NER Labels: ('LOC', 'ORG', 'PER')\n",
      "Model: uk_core_news_sm\n",
      "NER Labels: ('LOC', 'ORG', 'PER')\n",
      "Model: xx_ent_wiki_sm\n",
      "NER Labels: ('LOC', 'MISC', 'ORG', 'PER')\n",
      "Model: zh_core_web_sm\n",
      "NER Labels: ('CARDINAL', 'DATE', 'EVENT', 'FAC', 'GPE', 'LANGUAGE', 'LAW', 'LOC', 'MONEY', 'NORP', 'ORDINAL', 'ORG', 'PERCENT', 'PERSON', 'PRODUCT', 'QUANTITY', 'TIME', 'WORK_OF_ART')\n"
     ]
    }
   ],
   "source": [
    "\n",
    "spacy_models = {\n",
    "    'ca': 'ca_core_news_sm',  # Catalan\n",
    "    'da': 'da_core_news_sm',  # Danish\n",
    "    'de': 'de_core_news_sm',  # German\n",
    "    'el': 'el_core_news_sm',  # Greek\n",
    "    'en': 'en_core_web_md',  # English\n",
    "    'es': 'es_core_news_sm',  # Spanish\n",
    "    'fi': 'fi_core_news_sm',  # Finnish\n",
    "    'fr': 'fr_core_news_sm',  # French\n",
    "    'hr': 'hr_core_news_sm',  # Croatian\n",
    "    'it': 'it_core_news_sm',  # Italian\n",
    "    'ja': 'ja_core_news_sm',  # Japanese\n",
    "    'ko': 'ko_core_news_sm',  # Korean\n",
    "    'lt': 'lt_core_news_sm',  # Lithuanian\n",
    "    'mk': 'mk_core_news_sm',  # Macedonian\n",
    "    'nb': 'nb_core_news_sm',  # Norwegian Bokmål\n",
    "    'nl': 'nl_core_news_sm',  # Dutch\n",
    "    'pl': 'pl_core_news_sm',  # Polish\n",
    "    'pt': 'pt_core_news_sm',  # Portuguese\n",
    "    'ro': 'ro_core_news_sm',  # Romanian\n",
    "    'sl': 'sl_core_news_sm',  # Slovenian\n",
    "    'sv': 'sv_core_news_sm',  # Swedish\n",
    "    'ru': 'ru_core_news_sm',  # Russian\n",
    "    'uk': 'uk_core_news_sm',  # Ukrainian\n",
    "    'xx_ent_wiki': 'xx_ent_wiki_sm',  # Multi-language Entity Recognition\n",
    "    'xx_sent_ud': 'xx_sent_ud_sm',  # Multi-language Sentence Segmentation\n",
    "    'zh': 'zh_core_web_sm',  # Chinese\n",
    "}\n",
    "\n",
    "sm = spacy_models.values()\n",
    "\n",
    "# Create a dictionary to store NER labels for each model\n",
    "ner_labels_by_model = {}\n",
    "\n",
    "# Iterate over the spacy_models\n",
    "for spacy_model in sm:\n",
    "    try:\n",
    "        # Load the model\n",
    "        nlp = spacy.load(spacy_model)\n",
    "        \n",
    "        # Check if the \"ner\" component exists in the pipeline\n",
    "        if \"ner\" in nlp.pipe_names:\n",
    "            # Get the NER labels for the model\n",
    "            ner_labels = nlp.get_pipe(\"ner\").labels\n",
    "            \n",
    "            # Store the NER labels in the dictionary\n",
    "            ner_labels_by_model[spacy_model] = ner_labels\n",
    "        else:\n",
    "            print(f\"Model {spacy_model} does not have NER component.\")\n",
    "    except OSError as e:\n",
    "        print(f\"Error loading model {spacy_model}: {e}\")\n",
    "        # Attempt to download the model\n",
    "        try:\n",
    "            spacy.cli.download(spacy_model)\n",
    "            print(f\"Model {spacy_model} downloaded successfully.\")\n",
    "        except Exception as download_error:\n",
    "            print(f\"Error downloading model {spacy_model}: {download_error}\")\n",
    "\n",
    "# Print the NER labels for each model\n",
    "for model, labels in ner_labels_by_model.items():\n",
    "    print(f\"Model: {model}\")\n",
    "    print(f\"NER Labels: {labels}\") \n",
    "\n"
   ]
  },
  {
   "cell_type": "code",
   "execution_count": 76,
   "id": "0900a191-5735-4094-831d-ef90d55c173c",
   "metadata": {
    "scrolled": true
   },
   "outputs": [
    {
     "name": "stdout",
     "output_type": "stream",
     "text": [
      "Possible mapping keys:\n",
      "NER label in model 'hr_core_news_sm': DERIV_PER\n",
      "1. ORDINAL\n",
      "2. MISC\n",
      "3. LAW\n",
      "4. EVENT\n",
      "5. FAC\n",
      "6. QUANTITY\n",
      "7. NORP\n",
      "8. TIME\n",
      "9. CARDINAL\n",
      "10. PERCENT\n",
      "11. LANGUAGE\n",
      "12. DATE\n",
      "13. MOVEMENT\n",
      "14. TITLE_AFFIX\n",
      "15. PERSON\n",
      "16. PRODUCT\n",
      "17. ORG\n",
      "18. WORK_OF_ART\n",
      "19. PHONE\n",
      "20. GPE\n",
      "21. LOC\n",
      "22. MONEY\n"
     ]
    },
    {
     "name": "stdin",
     "output_type": "stream",
     "text": [
      "Enter the number of the mapping key or 'skip' to skip this label:  15\n"
     ]
    },
    {
     "name": "stdout",
     "output_type": "stream",
     "text": [
      "Mapping 'DERIV_PER' -> 'PERSON' for model 'hr_core_news_sm'\n",
      "Possible mapping keys:\n",
      "NER label in model 'ja_core_news_sm': PET_NAME\n",
      "1. ORDINAL\n",
      "2. MISC\n",
      "3. LAW\n",
      "4. EVENT\n",
      "5. FAC\n",
      "6. QUANTITY\n",
      "7. NORP\n",
      "8. TIME\n",
      "9. CARDINAL\n",
      "10. PERCENT\n",
      "11. LANGUAGE\n",
      "12. DATE\n",
      "13. MOVEMENT\n",
      "14. TITLE_AFFIX\n",
      "15. PERSON\n",
      "16. PRODUCT\n",
      "17. ORG\n",
      "18. WORK_OF_ART\n",
      "19. PHONE\n",
      "20. GPE\n",
      "21. LOC\n",
      "22. MONEY\n"
     ]
    },
    {
     "name": "stdin",
     "output_type": "stream",
     "text": [
      "Enter the number of the mapping key or 'skip' to skip this label:  15\n"
     ]
    },
    {
     "name": "stdout",
     "output_type": "stream",
     "text": [
      "Mapping 'PET_NAME' -> 'PERSON' for model 'ja_core_news_sm'\n",
      "Possible mapping keys:\n",
      "NER label in model 'ko_core_news_sm': DT\n",
      "1. ORDINAL\n",
      "2. MISC\n",
      "3. LAW\n",
      "4. EVENT\n",
      "5. FAC\n",
      "6. QUANTITY\n",
      "7. NORP\n",
      "8. TIME\n",
      "9. CARDINAL\n",
      "10. PERCENT\n",
      "11. LANGUAGE\n",
      "12. DATE\n",
      "13. MOVEMENT\n",
      "14. TITLE_AFFIX\n",
      "15. PERSON\n",
      "16. PRODUCT\n",
      "17. ORG\n",
      "18. WORK_OF_ART\n",
      "19. PHONE\n",
      "20. GPE\n",
      "21. LOC\n",
      "22. MONEY\n"
     ]
    },
    {
     "name": "stdin",
     "output_type": "stream",
     "text": [
      "Enter the number of the mapping key or 'skip' to skip this label:  8\n"
     ]
    },
    {
     "name": "stdout",
     "output_type": "stream",
     "text": [
      "Mapping 'DT' -> 'TIME' for model 'ko_core_news_sm'\n",
      "Possible mapping keys:\n",
      "NER label in model 'ko_core_news_sm': LC\n",
      "1. ORDINAL\n",
      "2. MISC\n",
      "3. LAW\n",
      "4. EVENT\n",
      "5. FAC\n",
      "6. QUANTITY\n",
      "7. NORP\n",
      "8. TIME\n",
      "9. CARDINAL\n",
      "10. PERCENT\n",
      "11. LANGUAGE\n",
      "12. DATE\n",
      "13. MOVEMENT\n",
      "14. TITLE_AFFIX\n",
      "15. PERSON\n",
      "16. PRODUCT\n",
      "17. ORG\n",
      "18. WORK_OF_ART\n",
      "19. PHONE\n",
      "20. GPE\n",
      "21. LOC\n",
      "22. MONEY\n"
     ]
    },
    {
     "name": "stdin",
     "output_type": "stream",
     "text": [
      "Enter the number of the mapping key or 'skip' to skip this label:  20\n"
     ]
    },
    {
     "name": "stdout",
     "output_type": "stream",
     "text": [
      "Mapping 'LC' -> 'GPE' for model 'ko_core_news_sm'\n",
      "Possible mapping keys:\n",
      "NER label in model 'ko_core_news_sm': OG\n",
      "1. ORDINAL\n",
      "2. MISC\n",
      "3. LAW\n",
      "4. EVENT\n",
      "5. FAC\n",
      "6. QUANTITY\n",
      "7. NORP\n",
      "8. TIME\n",
      "9. CARDINAL\n",
      "10. PERCENT\n",
      "11. LANGUAGE\n",
      "12. DATE\n",
      "13. MOVEMENT\n",
      "14. TITLE_AFFIX\n",
      "15. PERSON\n",
      "16. PRODUCT\n",
      "17. ORG\n",
      "18. WORK_OF_ART\n",
      "19. PHONE\n",
      "20. GPE\n",
      "21. LOC\n",
      "22. MONEY\n"
     ]
    },
    {
     "name": "stdin",
     "output_type": "stream",
     "text": [
      "Enter the number of the mapping key or 'skip' to skip this label:  17\n"
     ]
    },
    {
     "name": "stdout",
     "output_type": "stream",
     "text": [
      "Mapping 'OG' -> 'ORG' for model 'ko_core_news_sm'\n",
      "Possible mapping keys:\n",
      "NER label in model 'ko_core_news_sm': PS\n",
      "1. ORDINAL\n",
      "2. MISC\n",
      "3. LAW\n",
      "4. EVENT\n",
      "5. FAC\n",
      "6. QUANTITY\n",
      "7. NORP\n",
      "8. TIME\n",
      "9. CARDINAL\n",
      "10. PERCENT\n",
      "11. LANGUAGE\n",
      "12. DATE\n",
      "13. MOVEMENT\n",
      "14. TITLE_AFFIX\n",
      "15. PERSON\n",
      "16. PRODUCT\n",
      "17. ORG\n",
      "18. WORK_OF_ART\n",
      "19. PHONE\n",
      "20. GPE\n",
      "21. LOC\n",
      "22. MONEY\n"
     ]
    },
    {
     "name": "stdin",
     "output_type": "stream",
     "text": [
      "Enter the number of the mapping key or 'skip' to skip this label:  15\n"
     ]
    },
    {
     "name": "stdout",
     "output_type": "stream",
     "text": [
      "Mapping 'PS' -> 'PERSON' for model 'ko_core_news_sm'\n",
      "Possible mapping keys:\n",
      "NER label in model 'ko_core_news_sm': QT\n",
      "1. ORDINAL\n",
      "2. MISC\n",
      "3. LAW\n",
      "4. EVENT\n",
      "5. FAC\n",
      "6. QUANTITY\n",
      "7. NORP\n",
      "8. TIME\n",
      "9. CARDINAL\n",
      "10. PERCENT\n",
      "11. LANGUAGE\n",
      "12. DATE\n",
      "13. MOVEMENT\n",
      "14. TITLE_AFFIX\n",
      "15. PERSON\n",
      "16. PRODUCT\n",
      "17. ORG\n",
      "18. WORK_OF_ART\n",
      "19. PHONE\n",
      "20. GPE\n",
      "21. LOC\n",
      "22. MONEY\n"
     ]
    },
    {
     "name": "stdin",
     "output_type": "stream",
     "text": [
      "Enter the number of the mapping key or 'skip' to skip this label:  6\n"
     ]
    },
    {
     "name": "stdout",
     "output_type": "stream",
     "text": [
      "Mapping 'QT' -> 'QUANTITY' for model 'ko_core_news_sm'\n",
      "Possible mapping keys:\n",
      "NER label in model 'ko_core_news_sm': TI\n",
      "1. ORDINAL\n",
      "2. MISC\n",
      "3. LAW\n",
      "4. EVENT\n",
      "5. FAC\n",
      "6. QUANTITY\n",
      "7. NORP\n",
      "8. TIME\n",
      "9. CARDINAL\n",
      "10. PERCENT\n",
      "11. LANGUAGE\n",
      "12. DATE\n",
      "13. MOVEMENT\n",
      "14. TITLE_AFFIX\n",
      "15. PERSON\n",
      "16. PRODUCT\n",
      "17. ORG\n",
      "18. WORK_OF_ART\n",
      "19. PHONE\n",
      "20. GPE\n",
      "21. LOC\n",
      "22. MONEY\n"
     ]
    },
    {
     "name": "stdin",
     "output_type": "stream",
     "text": [
      "Enter the number of the mapping key or 'skip' to skip this label:  8\n"
     ]
    },
    {
     "name": "stdout",
     "output_type": "stream",
     "text": [
      "Mapping 'TI' -> 'TIME' for model 'ko_core_news_sm'\n",
      "Possible mapping keys:\n",
      "NER label in model 'nb_core_news_sm': DRV\n",
      "1. ORDINAL\n",
      "2. MISC\n",
      "3. LAW\n",
      "4. EVENT\n",
      "5. FAC\n",
      "6. QUANTITY\n",
      "7. NORP\n",
      "8. TIME\n",
      "9. CARDINAL\n",
      "10. PERCENT\n",
      "11. LANGUAGE\n",
      "12. DATE\n",
      "13. MOVEMENT\n",
      "14. TITLE_AFFIX\n",
      "15. PERSON\n",
      "16. PRODUCT\n",
      "17. ORG\n",
      "18. WORK_OF_ART\n",
      "19. PHONE\n",
      "20. GPE\n",
      "21. LOC\n",
      "22. MONEY\n"
     ]
    },
    {
     "name": "stdin",
     "output_type": "stream",
     "text": [
      "Enter the number of the mapping key or 'skip' to skip this label:  2\n"
     ]
    },
    {
     "name": "stdout",
     "output_type": "stream",
     "text": [
      "Mapping 'DRV' -> 'MISC' for model 'nb_core_news_sm'\n",
      "Possible mapping keys:\n",
      "NER label in model 'nb_core_news_sm': EVT\n",
      "1. ORDINAL\n",
      "2. MISC\n",
      "3. LAW\n",
      "4. EVENT\n",
      "5. FAC\n",
      "6. QUANTITY\n",
      "7. NORP\n",
      "8. TIME\n",
      "9. CARDINAL\n",
      "10. PERCENT\n",
      "11. LANGUAGE\n",
      "12. DATE\n",
      "13. MOVEMENT\n",
      "14. TITLE_AFFIX\n",
      "15. PERSON\n",
      "16. PRODUCT\n",
      "17. ORG\n",
      "18. WORK_OF_ART\n",
      "19. PHONE\n",
      "20. GPE\n",
      "21. LOC\n",
      "22. MONEY\n"
     ]
    },
    {
     "name": "stdin",
     "output_type": "stream",
     "text": [
      "Enter the number of the mapping key or 'skip' to skip this label:  4\n"
     ]
    },
    {
     "name": "stdout",
     "output_type": "stream",
     "text": [
      "Mapping 'EVT' -> 'EVENT' for model 'nb_core_news_sm'\n",
      "Possible mapping keys:\n",
      "NER label in model 'nb_core_news_sm': GPE_LOC\n",
      "1. ORDINAL\n",
      "2. MISC\n",
      "3. LAW\n",
      "4. EVENT\n",
      "5. FAC\n",
      "6. QUANTITY\n",
      "7. NORP\n",
      "8. TIME\n",
      "9. CARDINAL\n",
      "10. PERCENT\n",
      "11. LANGUAGE\n",
      "12. DATE\n",
      "13. MOVEMENT\n",
      "14. TITLE_AFFIX\n",
      "15. PERSON\n",
      "16. PRODUCT\n",
      "17. ORG\n",
      "18. WORK_OF_ART\n",
      "19. PHONE\n",
      "20. GPE\n",
      "21. LOC\n",
      "22. MONEY\n"
     ]
    },
    {
     "name": "stdin",
     "output_type": "stream",
     "text": [
      "Enter the number of the mapping key or 'skip' to skip this label:  20\n"
     ]
    },
    {
     "name": "stdout",
     "output_type": "stream",
     "text": [
      "Mapping 'GPE_LOC' -> 'GPE' for model 'nb_core_news_sm'\n",
      "Possible mapping keys:\n",
      "NER label in model 'nb_core_news_sm': GPE_ORG\n",
      "1. ORDINAL\n",
      "2. MISC\n",
      "3. LAW\n",
      "4. EVENT\n",
      "5. FAC\n",
      "6. QUANTITY\n",
      "7. NORP\n",
      "8. TIME\n",
      "9. CARDINAL\n",
      "10. PERCENT\n",
      "11. LANGUAGE\n",
      "12. DATE\n",
      "13. MOVEMENT\n",
      "14. TITLE_AFFIX\n",
      "15. PERSON\n",
      "16. PRODUCT\n",
      "17. ORG\n",
      "18. WORK_OF_ART\n",
      "19. PHONE\n",
      "20. GPE\n",
      "21. LOC\n",
      "22. MONEY\n"
     ]
    },
    {
     "name": "stdin",
     "output_type": "stream",
     "text": [
      "Enter the number of the mapping key or 'skip' to skip this label:  20\n"
     ]
    },
    {
     "name": "stdout",
     "output_type": "stream",
     "text": [
      "Mapping 'GPE_ORG' -> 'GPE' for model 'nb_core_news_sm'\n",
      "Possible mapping keys:\n",
      "NER label in model 'nb_core_news_sm': PROD\n",
      "1. ORDINAL\n",
      "2. MISC\n",
      "3. LAW\n",
      "4. EVENT\n",
      "5. FAC\n",
      "6. QUANTITY\n",
      "7. NORP\n",
      "8. TIME\n",
      "9. CARDINAL\n",
      "10. PERCENT\n",
      "11. LANGUAGE\n",
      "12. DATE\n",
      "13. MOVEMENT\n",
      "14. TITLE_AFFIX\n",
      "15. PERSON\n",
      "16. PRODUCT\n",
      "17. ORG\n",
      "18. WORK_OF_ART\n",
      "19. PHONE\n",
      "20. GPE\n",
      "21. LOC\n",
      "22. MONEY\n"
     ]
    },
    {
     "name": "stdin",
     "output_type": "stream",
     "text": [
      "Enter the number of the mapping key or 'skip' to skip this label:  16\n"
     ]
    },
    {
     "name": "stdout",
     "output_type": "stream",
     "text": [
      "Mapping 'PROD' -> 'PRODUCT' for model 'nb_core_news_sm'\n",
      "Possible mapping keys:\n",
      "NER label in model 'pl_core_news_sm': date\n",
      "1. ORDINAL\n",
      "2. MISC\n",
      "3. LAW\n",
      "4. EVENT\n",
      "5. FAC\n",
      "6. QUANTITY\n",
      "7. NORP\n",
      "8. TIME\n",
      "9. CARDINAL\n",
      "10. PERCENT\n",
      "11. LANGUAGE\n",
      "12. DATE\n",
      "13. MOVEMENT\n",
      "14. TITLE_AFFIX\n",
      "15. PERSON\n",
      "16. PRODUCT\n",
      "17. ORG\n",
      "18. WORK_OF_ART\n",
      "19. PHONE\n",
      "20. GPE\n",
      "21. LOC\n",
      "22. MONEY\n"
     ]
    },
    {
     "name": "stdin",
     "output_type": "stream",
     "text": [
      "Enter the number of the mapping key or 'skip' to skip this label:  7\n"
     ]
    },
    {
     "name": "stdout",
     "output_type": "stream",
     "text": [
      "Mapping 'date' -> 'NORP' for model 'pl_core_news_sm'\n",
      "Possible mapping keys:\n",
      "NER label in model 'pl_core_news_sm': geogName\n",
      "1. ORDINAL\n",
      "2. MISC\n",
      "3. LAW\n",
      "4. EVENT\n",
      "5. FAC\n",
      "6. QUANTITY\n",
      "7. NORP\n",
      "8. TIME\n",
      "9. CARDINAL\n",
      "10. PERCENT\n",
      "11. LANGUAGE\n",
      "12. DATE\n",
      "13. MOVEMENT\n",
      "14. TITLE_AFFIX\n",
      "15. PERSON\n",
      "16. PRODUCT\n",
      "17. ORG\n",
      "18. WORK_OF_ART\n",
      "19. PHONE\n",
      "20. GPE\n",
      "21. LOC\n",
      "22. MONEY\n"
     ]
    },
    {
     "name": "stdin",
     "output_type": "stream",
     "text": [
      "Enter the number of the mapping key or 'skip' to skip this label:  20\n"
     ]
    },
    {
     "name": "stdout",
     "output_type": "stream",
     "text": [
      "Mapping 'geogName' -> 'GPE' for model 'pl_core_news_sm'\n",
      "Possible mapping keys:\n",
      "NER label in model 'pl_core_news_sm': orgName\n",
      "1. ORDINAL\n",
      "2. MISC\n",
      "3. LAW\n",
      "4. EVENT\n",
      "5. FAC\n",
      "6. QUANTITY\n",
      "7. NORP\n",
      "8. TIME\n",
      "9. CARDINAL\n",
      "10. PERCENT\n",
      "11. LANGUAGE\n",
      "12. DATE\n",
      "13. MOVEMENT\n",
      "14. TITLE_AFFIX\n",
      "15. PERSON\n",
      "16. PRODUCT\n",
      "17. ORG\n",
      "18. WORK_OF_ART\n",
      "19. PHONE\n",
      "20. GPE\n",
      "21. LOC\n",
      "22. MONEY\n"
     ]
    },
    {
     "name": "stdin",
     "output_type": "stream",
     "text": [
      "Enter the number of the mapping key or 'skip' to skip this label:  17\n"
     ]
    },
    {
     "name": "stdout",
     "output_type": "stream",
     "text": [
      "Mapping 'orgName' -> 'ORG' for model 'pl_core_news_sm'\n",
      "Possible mapping keys:\n",
      "NER label in model 'pl_core_news_sm': persName\n",
      "1. ORDINAL\n",
      "2. MISC\n",
      "3. LAW\n",
      "4. EVENT\n",
      "5. FAC\n",
      "6. QUANTITY\n",
      "7. NORP\n",
      "8. TIME\n",
      "9. CARDINAL\n",
      "10. PERCENT\n",
      "11. LANGUAGE\n",
      "12. DATE\n",
      "13. MOVEMENT\n",
      "14. TITLE_AFFIX\n",
      "15. PERSON\n",
      "16. PRODUCT\n",
      "17. ORG\n",
      "18. WORK_OF_ART\n",
      "19. PHONE\n",
      "20. GPE\n",
      "21. LOC\n",
      "22. MONEY\n"
     ]
    },
    {
     "name": "stdin",
     "output_type": "stream",
     "text": [
      "Enter the number of the mapping key or 'skip' to skip this label:  15\n"
     ]
    },
    {
     "name": "stdout",
     "output_type": "stream",
     "text": [
      "Mapping 'persName' -> 'PERSON' for model 'pl_core_news_sm'\n",
      "Possible mapping keys:\n",
      "NER label in model 'pl_core_news_sm': placeName\n",
      "1. ORDINAL\n",
      "2. MISC\n",
      "3. LAW\n",
      "4. EVENT\n",
      "5. FAC\n",
      "6. QUANTITY\n",
      "7. NORP\n",
      "8. TIME\n",
      "9. CARDINAL\n",
      "10. PERCENT\n",
      "11. LANGUAGE\n",
      "12. DATE\n",
      "13. MOVEMENT\n",
      "14. TITLE_AFFIX\n",
      "15. PERSON\n",
      "16. PRODUCT\n",
      "17. ORG\n",
      "18. WORK_OF_ART\n",
      "19. PHONE\n",
      "20. GPE\n",
      "21. LOC\n",
      "22. MONEY\n"
     ]
    },
    {
     "name": "stdin",
     "output_type": "stream",
     "text": [
      "Enter the number of the mapping key or 'skip' to skip this label:  21\n"
     ]
    },
    {
     "name": "stdout",
     "output_type": "stream",
     "text": [
      "Mapping 'placeName' -> 'LOC' for model 'pl_core_news_sm'\n",
      "Possible mapping keys:\n",
      "NER label in model 'pl_core_news_sm': time\n",
      "1. ORDINAL\n",
      "2. MISC\n",
      "3. LAW\n",
      "4. EVENT\n",
      "5. FAC\n",
      "6. QUANTITY\n",
      "7. NORP\n",
      "8. TIME\n",
      "9. CARDINAL\n",
      "10. PERCENT\n",
      "11. LANGUAGE\n",
      "12. DATE\n",
      "13. MOVEMENT\n",
      "14. TITLE_AFFIX\n",
      "15. PERSON\n",
      "16. PRODUCT\n",
      "17. ORG\n",
      "18. WORK_OF_ART\n",
      "19. PHONE\n",
      "20. GPE\n",
      "21. LOC\n",
      "22. MONEY\n"
     ]
    },
    {
     "name": "stdin",
     "output_type": "stream",
     "text": [
      "Enter the number of the mapping key or 'skip' to skip this label:  8\n"
     ]
    },
    {
     "name": "stdout",
     "output_type": "stream",
     "text": [
      "Mapping 'time' -> 'TIME' for model 'pl_core_news_sm'\n",
      "Possible mapping keys:\n",
      "NER label in model 'ro_core_news_sm': DATETIME\n",
      "1. ORDINAL\n",
      "2. MISC\n",
      "3. LAW\n",
      "4. EVENT\n",
      "5. FAC\n",
      "6. QUANTITY\n",
      "7. NORP\n",
      "8. TIME\n",
      "9. CARDINAL\n",
      "10. PERCENT\n",
      "11. LANGUAGE\n",
      "12. DATE\n",
      "13. MOVEMENT\n",
      "14. TITLE_AFFIX\n",
      "15. PERSON\n",
      "16. PRODUCT\n",
      "17. ORG\n",
      "18. WORK_OF_ART\n",
      "19. PHONE\n",
      "20. GPE\n",
      "21. LOC\n",
      "22. MONEY\n"
     ]
    },
    {
     "name": "stdin",
     "output_type": "stream",
     "text": [
      "Enter the number of the mapping key or 'skip' to skip this label:  8\n"
     ]
    },
    {
     "name": "stdout",
     "output_type": "stream",
     "text": [
      "Mapping 'DATETIME' -> 'TIME' for model 'ro_core_news_sm'\n",
      "Possible mapping keys:\n",
      "NER label in model 'ro_core_news_sm': FACILITY\n",
      "1. ORDINAL\n",
      "2. MISC\n",
      "3. LAW\n",
      "4. EVENT\n",
      "5. FAC\n",
      "6. QUANTITY\n",
      "7. NORP\n",
      "8. TIME\n",
      "9. CARDINAL\n",
      "10. PERCENT\n",
      "11. LANGUAGE\n",
      "12. DATE\n",
      "13. MOVEMENT\n",
      "14. TITLE_AFFIX\n",
      "15. PERSON\n",
      "16. PRODUCT\n",
      "17. ORG\n",
      "18. WORK_OF_ART\n",
      "19. PHONE\n",
      "20. GPE\n",
      "21. LOC\n",
      "22. MONEY\n"
     ]
    },
    {
     "name": "stdin",
     "output_type": "stream",
     "text": [
      "Enter the number of the mapping key or 'skip' to skip this label:  5\n"
     ]
    },
    {
     "name": "stdout",
     "output_type": "stream",
     "text": [
      "Mapping 'FACILITY' -> 'FAC' for model 'ro_core_news_sm'\n",
      "Possible mapping keys:\n",
      "NER label in model 'ro_core_news_sm': NAT_REL_POL\n",
      "1. ORDINAL\n",
      "2. MISC\n",
      "3. LAW\n",
      "4. EVENT\n",
      "5. FAC\n",
      "6. QUANTITY\n",
      "7. NORP\n",
      "8. TIME\n",
      "9. CARDINAL\n",
      "10. PERCENT\n",
      "11. LANGUAGE\n",
      "12. DATE\n",
      "13. MOVEMENT\n",
      "14. TITLE_AFFIX\n",
      "15. PERSON\n",
      "16. PRODUCT\n",
      "17. ORG\n",
      "18. WORK_OF_ART\n",
      "19. PHONE\n",
      "20. GPE\n",
      "21. LOC\n",
      "22. MONEY\n"
     ]
    },
    {
     "name": "stdin",
     "output_type": "stream",
     "text": [
      "Enter the number of the mapping key or 'skip' to skip this label:  7\n"
     ]
    },
    {
     "name": "stdout",
     "output_type": "stream",
     "text": [
      "Mapping 'NAT_REL_POL' -> 'NORP' for model 'ro_core_news_sm'\n",
      "Possible mapping keys:\n",
      "NER label in model 'ro_core_news_sm': NUMERIC_VALUE\n",
      "1. ORDINAL\n",
      "2. MISC\n",
      "3. LAW\n",
      "4. EVENT\n",
      "5. FAC\n",
      "6. QUANTITY\n",
      "7. NORP\n",
      "8. TIME\n",
      "9. CARDINAL\n",
      "10. PERCENT\n",
      "11. LANGUAGE\n",
      "12. DATE\n",
      "13. MOVEMENT\n",
      "14. TITLE_AFFIX\n",
      "15. PERSON\n",
      "16. PRODUCT\n",
      "17. ORG\n",
      "18. WORK_OF_ART\n",
      "19. PHONE\n",
      "20. GPE\n",
      "21. LOC\n",
      "22. MONEY\n"
     ]
    },
    {
     "name": "stdin",
     "output_type": "stream",
     "text": [
      "Enter the number of the mapping key or 'skip' to skip this label:  1\n"
     ]
    },
    {
     "name": "stdout",
     "output_type": "stream",
     "text": [
      "Mapping 'NUMERIC_VALUE' -> 'ORDINAL' for model 'ro_core_news_sm'\n",
      "Possible mapping keys:\n",
      "NER label in model 'ro_core_news_sm': ORGANIZATION\n",
      "1. ORDINAL\n",
      "2. MISC\n",
      "3. LAW\n",
      "4. EVENT\n",
      "5. FAC\n",
      "6. QUANTITY\n",
      "7. NORP\n",
      "8. TIME\n",
      "9. CARDINAL\n",
      "10. PERCENT\n",
      "11. LANGUAGE\n",
      "12. DATE\n",
      "13. MOVEMENT\n",
      "14. TITLE_AFFIX\n",
      "15. PERSON\n",
      "16. PRODUCT\n",
      "17. ORG\n",
      "18. WORK_OF_ART\n",
      "19. PHONE\n",
      "20. GPE\n",
      "21. LOC\n",
      "22. MONEY\n"
     ]
    },
    {
     "name": "stdin",
     "output_type": "stream",
     "text": [
      "Enter the number of the mapping key or 'skip' to skip this label:  17\n"
     ]
    },
    {
     "name": "stdout",
     "output_type": "stream",
     "text": [
      "Mapping 'ORGANIZATION' -> 'ORG' for model 'ro_core_news_sm'\n",
      "Possible mapping keys:\n",
      "NER label in model 'ro_core_news_sm': PERIOD\n",
      "1. ORDINAL\n",
      "2. MISC\n",
      "3. LAW\n",
      "4. EVENT\n",
      "5. FAC\n",
      "6. QUANTITY\n",
      "7. NORP\n",
      "8. TIME\n",
      "9. CARDINAL\n",
      "10. PERCENT\n",
      "11. LANGUAGE\n",
      "12. DATE\n",
      "13. MOVEMENT\n",
      "14. TITLE_AFFIX\n",
      "15. PERSON\n",
      "16. PRODUCT\n",
      "17. ORG\n",
      "18. WORK_OF_ART\n",
      "19. PHONE\n",
      "20. GPE\n",
      "21. LOC\n",
      "22. MONEY\n"
     ]
    },
    {
     "name": "stdin",
     "output_type": "stream",
     "text": [
      "Enter the number of the mapping key or 'skip' to skip this label:  12\n"
     ]
    },
    {
     "name": "stdout",
     "output_type": "stream",
     "text": [
      "Mapping 'PERIOD' -> 'DATE' for model 'ro_core_news_sm'\n",
      "Possible mapping keys:\n",
      "NER label in model 'sl_core_news_sm': DERIV_PER\n",
      "1. ORDINAL\n",
      "2. MISC\n",
      "3. LAW\n",
      "4. EVENT\n",
      "5. FAC\n",
      "6. QUANTITY\n",
      "7. NORP\n",
      "8. TIME\n",
      "9. CARDINAL\n",
      "10. PERCENT\n",
      "11. LANGUAGE\n",
      "12. DATE\n",
      "13. MOVEMENT\n",
      "14. TITLE_AFFIX\n",
      "15. PERSON\n",
      "16. PRODUCT\n",
      "17. ORG\n",
      "18. WORK_OF_ART\n",
      "19. PHONE\n",
      "20. GPE\n",
      "21. LOC\n",
      "22. MONEY\n"
     ]
    },
    {
     "name": "stdin",
     "output_type": "stream",
     "text": [
      "Enter the number of the mapping key or 'skip' to skip this label:  15\n"
     ]
    },
    {
     "name": "stdout",
     "output_type": "stream",
     "text": [
      "Mapping 'DERIV_PER' -> 'PERSON' for model 'sl_core_news_sm'\n",
      "Possible mapping keys:\n",
      "NER label in model 'sv_core_news_sm': EVN\n",
      "1. ORDINAL\n",
      "2. MISC\n",
      "3. LAW\n",
      "4. EVENT\n",
      "5. FAC\n",
      "6. QUANTITY\n",
      "7. NORP\n",
      "8. TIME\n",
      "9. CARDINAL\n",
      "10. PERCENT\n",
      "11. LANGUAGE\n",
      "12. DATE\n",
      "13. MOVEMENT\n",
      "14. TITLE_AFFIX\n",
      "15. PERSON\n",
      "16. PRODUCT\n",
      "17. ORG\n",
      "18. WORK_OF_ART\n",
      "19. PHONE\n",
      "20. GPE\n",
      "21. LOC\n",
      "22. MONEY\n"
     ]
    },
    {
     "name": "stdin",
     "output_type": "stream",
     "text": [
      "Enter the number of the mapping key or 'skip' to skip this label:  4\n"
     ]
    },
    {
     "name": "stdout",
     "output_type": "stream",
     "text": [
      "Mapping 'EVN' -> 'EVENT' for model 'sv_core_news_sm'\n",
      "Possible mapping keys:\n",
      "NER label in model 'sv_core_news_sm': MSR\n",
      "1. ORDINAL\n",
      "2. MISC\n",
      "3. LAW\n",
      "4. EVENT\n",
      "5. FAC\n",
      "6. QUANTITY\n",
      "7. NORP\n",
      "8. TIME\n",
      "9. CARDINAL\n",
      "10. PERCENT\n",
      "11. LANGUAGE\n",
      "12. DATE\n",
      "13. MOVEMENT\n",
      "14. TITLE_AFFIX\n",
      "15. PERSON\n",
      "16. PRODUCT\n",
      "17. ORG\n",
      "18. WORK_OF_ART\n",
      "19. PHONE\n",
      "20. GPE\n",
      "21. LOC\n",
      "22. MONEY\n"
     ]
    },
    {
     "name": "stdin",
     "output_type": "stream",
     "text": [
      "Enter the number of the mapping key or 'skip' to skip this label:  17\n"
     ]
    },
    {
     "name": "stdout",
     "output_type": "stream",
     "text": [
      "Mapping 'MSR' -> 'ORG' for model 'sv_core_news_sm'\n",
      "Possible mapping keys:\n",
      "NER label in model 'sv_core_news_sm': OBJ\n",
      "1. ORDINAL\n",
      "2. MISC\n",
      "3. LAW\n",
      "4. EVENT\n",
      "5. FAC\n",
      "6. QUANTITY\n",
      "7. NORP\n",
      "8. TIME\n",
      "9. CARDINAL\n",
      "10. PERCENT\n",
      "11. LANGUAGE\n",
      "12. DATE\n",
      "13. MOVEMENT\n",
      "14. TITLE_AFFIX\n",
      "15. PERSON\n",
      "16. PRODUCT\n",
      "17. ORG\n",
      "18. WORK_OF_ART\n",
      "19. PHONE\n",
      "20. GPE\n",
      "21. LOC\n",
      "22. MONEY\n"
     ]
    },
    {
     "name": "stdin",
     "output_type": "stream",
     "text": [
      "Enter the number of the mapping key or 'skip' to skip this label:  16\n"
     ]
    },
    {
     "name": "stdout",
     "output_type": "stream",
     "text": [
      "Mapping 'OBJ' -> 'PRODUCT' for model 'sv_core_news_sm'\n",
      "Possible mapping keys:\n",
      "NER label in model 'sv_core_news_sm': PRS\n",
      "1. ORDINAL\n",
      "2. MISC\n",
      "3. LAW\n",
      "4. EVENT\n",
      "5. FAC\n",
      "6. QUANTITY\n",
      "7. NORP\n",
      "8. TIME\n",
      "9. CARDINAL\n",
      "10. PERCENT\n",
      "11. LANGUAGE\n",
      "12. DATE\n",
      "13. MOVEMENT\n",
      "14. TITLE_AFFIX\n",
      "15. PERSON\n",
      "16. PRODUCT\n",
      "17. ORG\n",
      "18. WORK_OF_ART\n",
      "19. PHONE\n",
      "20. GPE\n",
      "21. LOC\n",
      "22. MONEY\n"
     ]
    },
    {
     "name": "stdin",
     "output_type": "stream",
     "text": [
      "Enter the number of the mapping key or 'skip' to skip this label:  15\n"
     ]
    },
    {
     "name": "stdout",
     "output_type": "stream",
     "text": [
      "Mapping 'PRS' -> 'PERSON' for model 'sv_core_news_sm'\n",
      "Possible mapping keys:\n",
      "NER label in model 'sv_core_news_sm': TME\n",
      "1. ORDINAL\n",
      "2. MISC\n",
      "3. LAW\n",
      "4. EVENT\n",
      "5. FAC\n",
      "6. QUANTITY\n",
      "7. NORP\n",
      "8. TIME\n",
      "9. CARDINAL\n",
      "10. PERCENT\n",
      "11. LANGUAGE\n",
      "12. DATE\n",
      "13. MOVEMENT\n",
      "14. TITLE_AFFIX\n",
      "15. PERSON\n",
      "16. PRODUCT\n",
      "17. ORG\n",
      "18. WORK_OF_ART\n",
      "19. PHONE\n",
      "20. GPE\n",
      "21. LOC\n",
      "22. MONEY\n"
     ]
    },
    {
     "name": "stdin",
     "output_type": "stream",
     "text": [
      "Enter the number of the mapping key or 'skip' to skip this label:  8\n"
     ]
    },
    {
     "name": "stdout",
     "output_type": "stream",
     "text": [
      "Mapping 'TME' -> 'TIME' for model 'sv_core_news_sm'\n",
      "Possible mapping keys:\n",
      "NER label in model 'sv_core_news_sm': WRK\n",
      "1. ORDINAL\n",
      "2. MISC\n",
      "3. LAW\n",
      "4. EVENT\n",
      "5. FAC\n",
      "6. QUANTITY\n",
      "7. NORP\n",
      "8. TIME\n",
      "9. CARDINAL\n",
      "10. PERCENT\n",
      "11. LANGUAGE\n",
      "12. DATE\n",
      "13. MOVEMENT\n",
      "14. TITLE_AFFIX\n",
      "15. PERSON\n",
      "16. PRODUCT\n",
      "17. ORG\n",
      "18. WORK_OF_ART\n",
      "19. PHONE\n",
      "20. GPE\n",
      "21. LOC\n",
      "22. MONEY\n"
     ]
    },
    {
     "name": "stdin",
     "output_type": "stream",
     "text": [
      "Enter the number of the mapping key or 'skip' to skip this label:  17\n"
     ]
    },
    {
     "name": "stdout",
     "output_type": "stream",
     "text": [
      "Mapping 'WRK' -> 'ORG' for model 'sv_core_news_sm'\n",
      "Mapping results:\n",
      "Model: ca_core_news_sm\n",
      "Mapping: {'LOC': 'LOC', 'MISC': 'MISC', 'ORG': 'ORG', 'PERSON': 'PERSON'}\n",
      "Model: da_core_news_sm\n",
      "Mapping: {'LOC': 'LOC', 'MISC': 'MISC', 'ORG': 'ORG', 'PERSON': 'PERSON'}\n",
      "Model: de_core_news_sm\n",
      "Mapping: {'LOC': 'LOC', 'MISC': 'MISC', 'ORG': 'ORG', 'PERSON': 'PERSON'}\n",
      "Model: el_core_news_sm\n",
      "Mapping: {'EVENT': 'EVENT', 'GPE': 'GPE', 'LOC': 'LOC', 'ORG': 'ORG', 'PERSON': 'PERSON', 'PRODUCT': 'PRODUCT'}\n",
      "Model: en_core_web_md\n",
      "Mapping: {'CARDINAL': 'CARDINAL', 'DATE': 'DATE', 'EVENT': 'EVENT', 'FAC': 'FAC', 'GPE': 'GPE', 'LANGUAGE': 'LANGUAGE', 'LAW': 'LAW', 'LOC': 'LOC', 'MONEY': 'MONEY', 'NORP': 'NORP', 'ORDINAL': 'ORDINAL', 'ORG': 'ORG', 'PERCENT': 'PERCENT', 'PERSON': 'PERSON', 'PRODUCT': 'PRODUCT', 'QUANTITY': 'QUANTITY', 'TIME': 'TIME', 'WORK_OF_ART': 'WORK_OF_ART'}\n",
      "Model: es_core_news_sm\n",
      "Mapping: {'LOC': 'LOC', 'MISC': 'MISC', 'ORG': 'ORG', 'PERSON': 'PERSON'}\n",
      "Model: fi_core_news_sm\n",
      "Mapping: {'CARDINAL': 'CARDINAL', 'DATE': 'DATE', 'EVENT': 'EVENT', 'FAC': 'FAC', 'GPE': 'GPE', 'LANGUAGE': 'LANGUAGE', 'LAW': 'LAW', 'LOC': 'LOC', 'MONEY': 'MONEY', 'NORP': 'NORP', 'ORDINAL': 'ORDINAL', 'ORG': 'ORG', 'PERCENT': 'PERCENT', 'PERSON': 'PERSON', 'PRODUCT': 'PRODUCT', 'QUANTITY': 'QUANTITY', 'TIME': 'TIME', 'WORK_OF_ART': 'WORK_OF_ART'}\n",
      "Model: fr_core_news_sm\n",
      "Mapping: {'LOC': 'LOC', 'MISC': 'MISC', 'ORG': 'ORG', 'PERSON': 'PERSON'}\n",
      "Model: hr_core_news_sm\n",
      "Mapping: {'DERIV_PER': 'PERSON', 'LOC': 'LOC', 'MISC': 'MISC', 'ORG': 'ORG', 'PERSON': 'PERSON'}\n",
      "Model: it_core_news_sm\n",
      "Mapping: {'LOC': 'LOC', 'MISC': 'MISC', 'ORG': 'ORG', 'PERSON': 'PERSON'}\n",
      "Model: ja_core_news_sm\n",
      "Mapping: {'CARDINAL': 'CARDINAL', 'DATE': 'DATE', 'EVENT': 'EVENT', 'FAC': 'FAC', 'GPE': 'GPE', 'LANGUAGE': 'LANGUAGE', 'LAW': 'LAW', 'LOC': 'LOC', 'MONEY': 'MONEY', 'MOVEMENT': 'MOVEMENT', 'NORP': 'NORP', 'ORDINAL': 'ORDINAL', 'ORG': 'ORG', 'PERCENT': 'PERCENT', 'PERSON': 'PERSON', 'PET_NAME': 'PERSON', 'PHONE': 'PHONE', 'PRODUCT': 'PRODUCT', 'QUANTITY': 'QUANTITY', 'TIME': 'TIME', 'TITLE_AFFIX': 'TITLE_AFFIX', 'WORK_OF_ART': 'WORK_OF_ART'}\n",
      "Model: ko_core_news_sm\n",
      "Mapping: {'DT': 'TIME', 'LC': 'GPE', 'OG': 'ORG', 'PS': 'PERSON', 'QT': 'QUANTITY', 'TI': 'TIME'}\n",
      "Model: lt_core_news_sm\n",
      "Mapping: {'GPE': 'GPE', 'LOC': 'LOC', 'ORG': 'ORG', 'PERSON': 'PERSON', 'PRODUCT': 'PRODUCT', 'TIME': 'TIME'}\n",
      "Model: mk_core_news_sm\n",
      "Mapping: {'CARDINAL': 'CARDINAL', 'DATE': 'DATE', 'EVENT': 'EVENT', 'FAC': 'FAC', 'GPE': 'GPE', 'LANGUAGE': 'LANGUAGE', 'LAW': 'LAW', 'LOC': 'LOC', 'MONEY': 'MONEY', 'NORP': 'NORP', 'ORDINAL': 'ORDINAL', 'ORG': 'ORG', 'PERCENT': 'PERCENT', 'PERSON': 'PERSON', 'PRODUCT': 'PRODUCT', 'QUANTITY': 'QUANTITY', 'TIME': 'TIME', 'WORK_OF_ART': 'WORK_OF_ART'}\n",
      "Model: nb_core_news_sm\n",
      "Mapping: {'DRV': 'MISC', 'EVT': 'EVENT', 'GPE_LOC': 'GPE', 'GPE_ORG': 'GPE', 'LOC': 'LOC', 'MISC': 'MISC', 'ORG': 'ORG', 'PERSON': 'PERSON', 'PROD': 'PRODUCT'}\n",
      "Model: nl_core_news_sm\n",
      "Mapping: {'CARDINAL': 'CARDINAL', 'DATE': 'DATE', 'EVENT': 'EVENT', 'FAC': 'FAC', 'GPE': 'GPE', 'LANGUAGE': 'LANGUAGE', 'LAW': 'LAW', 'LOC': 'LOC', 'MONEY': 'MONEY', 'NORP': 'NORP', 'ORDINAL': 'ORDINAL', 'ORG': 'ORG', 'PERCENT': 'PERCENT', 'PERSON': 'PERSON', 'PRODUCT': 'PRODUCT', 'QUANTITY': 'QUANTITY', 'TIME': 'TIME', 'WORK_OF_ART': 'WORK_OF_ART'}\n",
      "Model: pl_core_news_sm\n",
      "Mapping: {'date': 'NORP', 'geogName': 'GPE', 'orgName': 'ORG', 'persName': 'PERSON', 'placeName': 'LOC', 'time': 'TIME'}\n",
      "Model: pt_core_news_sm\n",
      "Mapping: {'LOC': 'LOC', 'MISC': 'MISC', 'ORG': 'ORG', 'PERSON': 'PERSON'}\n",
      "Model: ro_core_news_sm\n",
      "Mapping: {'DATETIME': 'TIME', 'EVENT': 'EVENT', 'FACILITY': 'FAC', 'GPE': 'GPE', 'LANGUAGE': 'LANGUAGE', 'LOC': 'LOC', 'MONEY': 'MONEY', 'NAT_REL_POL': 'NORP', 'NUMERIC_VALUE': 'ORDINAL', 'ORDINAL': 'ORDINAL', 'ORGANIZATION': 'ORG', 'PERIOD': 'DATE', 'PERSON': 'PERSON', 'PRODUCT': 'PRODUCT', 'QUANTITY': 'QUANTITY', 'WORK_OF_ART': 'WORK_OF_ART'}\n",
      "Model: sl_core_news_sm\n",
      "Mapping: {'DERIV_PER': 'PERSON', 'LOC': 'LOC', 'MISC': 'MISC', 'ORG': 'ORG', 'PERSON': 'PERSON'}\n",
      "Model: sv_core_news_sm\n",
      "Mapping: {'EVN': 'EVENT', 'LOC': 'LOC', 'MSR': 'ORG', 'OBJ': 'PRODUCT', 'ORG': 'ORG', 'PRS': 'PERSON', 'TME': 'TIME', 'WRK': 'ORG'}\n",
      "Model: ru_core_news_sm\n",
      "Mapping: {'LOC': 'LOC', 'ORG': 'ORG', 'PERSON': 'PERSON'}\n",
      "Model: uk_core_news_sm\n",
      "Mapping: {'LOC': 'LOC', 'ORG': 'ORG', 'PERSON': 'PERSON'}\n",
      "Model: xx_ent_wiki_sm\n",
      "Mapping: {'LOC': 'LOC', 'MISC': 'MISC', 'ORG': 'ORG', 'PERSON': 'PERSON'}\n",
      "Model: zh_core_web_sm\n",
      "Mapping: {'CARDINAL': 'CARDINAL', 'DATE': 'DATE', 'EVENT': 'EVENT', 'FAC': 'FAC', 'GPE': 'GPE', 'LANGUAGE': 'LANGUAGE', 'LAW': 'LAW', 'LOC': 'LOC', 'MONEY': 'MONEY', 'NORP': 'NORP', 'ORDINAL': 'ORDINAL', 'ORG': 'ORG', 'PERCENT': 'PERCENT', 'PERSON': 'PERSON', 'PRODUCT': 'PRODUCT', 'QUANTITY': 'QUANTITY', 'TIME': 'TIME', 'WORK_OF_ART': 'WORK_OF_ART'}\n"
     ]
    }
   ],
   "source": [
    "mappingKeys = set()\n",
    "for k, v in label_mappings.items():\n",
    "    mappingKeys.update(v.values())\n",
    "\n",
    "appendings = {}\n",
    "\n",
    "for model, labels in ner_labels_by_model.items():\n",
    "    subdict = {}\n",
    "\n",
    "    for label in labels:\n",
    "        exact_match = None\n",
    "\n",
    "        # Check for an exact match between label and mappingKeys\n",
    "        if label == 'PER':\n",
    "            label = 'PERSON'\n",
    "        \n",
    "            \n",
    "        if label in mappingKeys:\n",
    "            exact_match = label\n",
    "            subdict[label] = label  # Map it directly\n",
    "            \n",
    "\n",
    "        # If no exact match, manually review and select a mapping\n",
    "        if exact_match is None:\n",
    "            \n",
    "            print(\"Possible mapping keys:\")\n",
    "            print(f\"NER label in model '{model}': {label}\")\n",
    "            for index, map in enumerate(mappingKeys):\n",
    "                print(f\"{index + 1}. {map}\")\n",
    "\n",
    "            while True:\n",
    "                choice = input(\"Enter the number of the mapping key or 'skip' to skip this label: \")\n",
    "                if choice == 'skip':\n",
    "                    break\n",
    "                try:\n",
    "                    choice = int(choice)\n",
    "                    if 1 <= choice <= len(mappingKeys):\n",
    "                        chosen_mapping = list(mappingKeys)[choice - 1]\n",
    "                        subdict[label] = chosen_mapping\n",
    "                        print(f\"Mapping '{label}' -> '{chosen_mapping}' for model '{model}'\")\n",
    "                        break\n",
    "                    else:\n",
    "                        print(\"Invalid choice. Please enter a valid number or 'skip'.\")\n",
    "                except ValueError:\n",
    "                    print(\"Invalid input. Please enter a valid number or 'skip'.\")\n",
    "\n",
    "    appendings[model] = subdict\n",
    "\n",
    "print(\"Mapping results:\")\n",
    "for model, subdict in appendings.items():\n",
    "    print(f\"Model: {model}\")\n",
    "    print(f\"Mapping: {subdict}\")\n",
    "\n",
    "    \n",
    "    \n"
   ]
  },
  {
   "cell_type": "code",
   "execution_count": 77,
   "id": "012cb4de-deee-4b90-822c-c09ddf3028b3",
   "metadata": {},
   "outputs": [
    {
     "name": "stdout",
     "output_type": "stream",
     "text": [
      "{'ca_core_news_sm': {'LOC': 'LOC', 'MISC': 'MISC', 'ORG': 'ORG', 'PERSON': 'PERSON'}, 'da_core_news_sm': {'LOC': 'LOC', 'MISC': 'MISC', 'ORG': 'ORG', 'PERSON': 'PERSON'}, 'de_core_news_sm': {'LOC': 'LOC', 'MISC': 'MISC', 'ORG': 'ORG', 'PERSON': 'PERSON'}, 'el_core_news_sm': {'EVENT': 'EVENT', 'GPE': 'GPE', 'LOC': 'LOC', 'ORG': 'ORG', 'PERSON': 'PERSON', 'PRODUCT': 'PRODUCT'}, 'en_core_web_md': {'CARDINAL': 'CARDINAL', 'DATE': 'DATE', 'EVENT': 'EVENT', 'FAC': 'FAC', 'GPE': 'GPE', 'LANGUAGE': 'LANGUAGE', 'LAW': 'LAW', 'LOC': 'LOC', 'MONEY': 'MONEY', 'NORP': 'NORP', 'ORDINAL': 'ORDINAL', 'ORG': 'ORG', 'PERCENT': 'PERCENT', 'PERSON': 'PERSON', 'PRODUCT': 'PRODUCT', 'QUANTITY': 'QUANTITY', 'TIME': 'TIME', 'WORK_OF_ART': 'WORK_OF_ART'}, 'es_core_news_sm': {'LOC': 'LOC', 'MISC': 'MISC', 'ORG': 'ORG', 'PERSON': 'PERSON'}, 'fi_core_news_sm': {'CARDINAL': 'CARDINAL', 'DATE': 'DATE', 'EVENT': 'EVENT', 'FAC': 'FAC', 'GPE': 'GPE', 'LANGUAGE': 'LANGUAGE', 'LAW': 'LAW', 'LOC': 'LOC', 'MONEY': 'MONEY', 'NORP': 'NORP', 'ORDINAL': 'ORDINAL', 'ORG': 'ORG', 'PERCENT': 'PERCENT', 'PERSON': 'PERSON', 'PRODUCT': 'PRODUCT', 'QUANTITY': 'QUANTITY', 'TIME': 'TIME', 'WORK_OF_ART': 'WORK_OF_ART'}, 'fr_core_news_sm': {'LOC': 'LOC', 'MISC': 'MISC', 'ORG': 'ORG', 'PERSON': 'PERSON'}, 'hr_core_news_sm': {'DERIV_PER': 'PERSON', 'LOC': 'LOC', 'MISC': 'MISC', 'ORG': 'ORG', 'PERSON': 'PERSON'}, 'it_core_news_sm': {'LOC': 'LOC', 'MISC': 'MISC', 'ORG': 'ORG', 'PERSON': 'PERSON'}, 'ja_core_news_sm': {'CARDINAL': 'CARDINAL', 'DATE': 'DATE', 'EVENT': 'EVENT', 'FAC': 'FAC', 'GPE': 'GPE', 'LANGUAGE': 'LANGUAGE', 'LAW': 'LAW', 'LOC': 'LOC', 'MONEY': 'MONEY', 'MOVEMENT': 'MOVEMENT', 'NORP': 'NORP', 'ORDINAL': 'ORDINAL', 'ORG': 'ORG', 'PERCENT': 'PERCENT', 'PERSON': 'PERSON', 'PET_NAME': 'PERSON', 'PHONE': 'PHONE', 'PRODUCT': 'PRODUCT', 'QUANTITY': 'QUANTITY', 'TIME': 'TIME', 'TITLE_AFFIX': 'TITLE_AFFIX', 'WORK_OF_ART': 'WORK_OF_ART'}, 'ko_core_news_sm': {'DT': 'TIME', 'LC': 'GPE', 'OG': 'ORG', 'PS': 'PERSON', 'QT': 'QUANTITY', 'TI': 'TIME'}, 'lt_core_news_sm': {'GPE': 'GPE', 'LOC': 'LOC', 'ORG': 'ORG', 'PERSON': 'PERSON', 'PRODUCT': 'PRODUCT', 'TIME': 'TIME'}, 'mk_core_news_sm': {'CARDINAL': 'CARDINAL', 'DATE': 'DATE', 'EVENT': 'EVENT', 'FAC': 'FAC', 'GPE': 'GPE', 'LANGUAGE': 'LANGUAGE', 'LAW': 'LAW', 'LOC': 'LOC', 'MONEY': 'MONEY', 'NORP': 'NORP', 'ORDINAL': 'ORDINAL', 'ORG': 'ORG', 'PERCENT': 'PERCENT', 'PERSON': 'PERSON', 'PRODUCT': 'PRODUCT', 'QUANTITY': 'QUANTITY', 'TIME': 'TIME', 'WORK_OF_ART': 'WORK_OF_ART'}, 'nb_core_news_sm': {'DRV': 'MISC', 'EVT': 'EVENT', 'GPE_LOC': 'GPE', 'GPE_ORG': 'GPE', 'LOC': 'LOC', 'MISC': 'MISC', 'ORG': 'ORG', 'PERSON': 'PERSON', 'PROD': 'PRODUCT'}, 'nl_core_news_sm': {'CARDINAL': 'CARDINAL', 'DATE': 'DATE', 'EVENT': 'EVENT', 'FAC': 'FAC', 'GPE': 'GPE', 'LANGUAGE': 'LANGUAGE', 'LAW': 'LAW', 'LOC': 'LOC', 'MONEY': 'MONEY', 'NORP': 'NORP', 'ORDINAL': 'ORDINAL', 'ORG': 'ORG', 'PERCENT': 'PERCENT', 'PERSON': 'PERSON', 'PRODUCT': 'PRODUCT', 'QUANTITY': 'QUANTITY', 'TIME': 'TIME', 'WORK_OF_ART': 'WORK_OF_ART'}, 'pl_core_news_sm': {'date': 'NORP', 'geogName': 'GPE', 'orgName': 'ORG', 'persName': 'PERSON', 'placeName': 'LOC', 'time': 'TIME'}, 'pt_core_news_sm': {'LOC': 'LOC', 'MISC': 'MISC', 'ORG': 'ORG', 'PERSON': 'PERSON'}, 'ro_core_news_sm': {'DATETIME': 'TIME', 'EVENT': 'EVENT', 'FACILITY': 'FAC', 'GPE': 'GPE', 'LANGUAGE': 'LANGUAGE', 'LOC': 'LOC', 'MONEY': 'MONEY', 'NAT_REL_POL': 'NORP', 'NUMERIC_VALUE': 'ORDINAL', 'ORDINAL': 'ORDINAL', 'ORGANIZATION': 'ORG', 'PERIOD': 'DATE', 'PERSON': 'PERSON', 'PRODUCT': 'PRODUCT', 'QUANTITY': 'QUANTITY', 'WORK_OF_ART': 'WORK_OF_ART'}, 'sl_core_news_sm': {'DERIV_PER': 'PERSON', 'LOC': 'LOC', 'MISC': 'MISC', 'ORG': 'ORG', 'PERSON': 'PERSON'}, 'sv_core_news_sm': {'EVN': 'EVENT', 'LOC': 'LOC', 'MSR': 'ORG', 'OBJ': 'PRODUCT', 'ORG': 'ORG', 'PRS': 'PERSON', 'TME': 'TIME', 'WRK': 'ORG'}, 'ru_core_news_sm': {'LOC': 'LOC', 'ORG': 'ORG', 'PERSON': 'PERSON'}, 'uk_core_news_sm': {'LOC': 'LOC', 'ORG': 'ORG', 'PERSON': 'PERSON'}, 'xx_ent_wiki_sm': {'LOC': 'LOC', 'MISC': 'MISC', 'ORG': 'ORG', 'PERSON': 'PERSON'}, 'zh_core_web_sm': {'CARDINAL': 'CARDINAL', 'DATE': 'DATE', 'EVENT': 'EVENT', 'FAC': 'FAC', 'GPE': 'GPE', 'LANGUAGE': 'LANGUAGE', 'LAW': 'LAW', 'LOC': 'LOC', 'MONEY': 'MONEY', 'NORP': 'NORP', 'ORDINAL': 'ORDINAL', 'ORG': 'ORG', 'PERCENT': 'PERCENT', 'PERSON': 'PERSON', 'PRODUCT': 'PRODUCT', 'QUANTITY': 'QUANTITY', 'TIME': 'TIME', 'WORK_OF_ART': 'WORK_OF_ART'}}\n"
     ]
    }
   ],
   "source": [
    "print(appendings)"
   ]
  },
  {
   "cell_type": "code",
   "execution_count": 78,
   "id": "d9646771-2213-4572-a54a-f016af223a65",
   "metadata": {},
   "outputs": [
    {
     "name": "stdout",
     "output_type": "stream",
     "text": [
      "dict_keys(['LOC', 'MISC', 'ORG', 'PERSON', 'EVENT', 'GPE', 'PRODUCT', 'CARDINAL', 'DATE', 'FAC', 'LANGUAGE', 'LAW', 'MONEY', 'NORP', 'ORDINAL', 'PERCENT', 'QUANTITY', 'TIME', 'WORK_OF_ART', 'MOVEMENT', 'PHONE', 'TITLE_AFFIX'])\n",
      "ORG -> ['ORGANIZATION', 'WRK', 'ORG', 'OG', 'MSR', 'orgName']\n",
      "PERSON -> ['DERIV_PER', 'PERSON', 'PRS', 'persName', 'PET_NAME', 'PS']\n",
      "EVENT -> ['EVENT', 'EVT', 'EVN']\n",
      "GPE -> ['GPE', 'LC', 'GPE_ORG', 'geogName', 'GPE_LOC', 'LOC', 'placeName']\n",
      "PRODUCT -> ['PRODUCT', 'PROD', 'OBJ']\n",
      "DATE -> ['PERIOD', 'DATE', 'TME', 'TIME', 'time', 'DATETIME', 'TI', 'DT']\n",
      "FAC -> ['FAC', 'FACILITY']\n",
      "LANGUAGE -> ['LANGUAGE']\n",
      "LAW -> ['LAW']\n",
      "MONEY -> ['MONEY']\n",
      "NORP -> ['NORP', 'date', 'NAT_REL_POL']\n",
      "WORK_OF_ART -> ['WORK_OF_ART']\n",
      "MOVEMENT -> ['MOVEMENT']\n",
      "OTHER -> ['TITLE_AFFIX', 'PHONE', 'MISC', 'DRV']\n",
      "NUMBER -> ['CARDINAL', 'NUMERIC_VALUE', 'ORDINAL', 'QT', 'QUANTITY', 'PERCENT']\n"
     ]
    }
   ],
   "source": [
    "\n",
    "# Dictionary to map NER labels for each model to English labels\n",
    "ner_label_mapping = {}\n",
    "\n",
    "# Define label mappings for each model\n",
    "label_mappings = appendings\n",
    "\n",
    "# Populate the dictionary with mappings\n",
    "for model, label_mapping in label_mappings.items():\n",
    "    ner_label_mapping[model] = label_mapping\n",
    "\n",
    "new_dict = dict()\n",
    "for model_labels in label_mappings.values():\n",
    "    for label in model_labels.values():\n",
    "        new_dict[label] = []\n",
    "print(new_dict.keys())\n",
    "\n",
    "for k,v in label_mappings.items():\n",
    "    for key,value in v.items():\n",
    "        for j,z in new_dict.items():\n",
    "            if value == j:\n",
    "                z.append(key)\n",
    "            else:\n",
    "                pass\n",
    "for j,z in new_dict.items():\n",
    "    clean = list(set(z))\n",
    "    new_dict[j] = clean\n",
    "\n",
    "others = new_dict['TITLE_AFFIX']+new_dict['PHONE']+new_dict['MISC']\n",
    "for x in new_dict['TIME']:\n",
    "    new_dict['DATE'].append(x)\n",
    "for loc in new_dict['LOC']:\n",
    "    new_dict['GPE'].append(loc)\n",
    "numbers = new_dict['CARDINAL']+new_dict['ORDINAL']+new_dict['QUANTITY']+new_dict['PERCENT']\n",
    "new_dict['OTHER'] = others\n",
    "new_dict['NUMBER'] = numbers\n",
    "new_dict.pop('CARDINAL')\n",
    "new_dict.pop('PERCENT')\n",
    "new_dict.pop('ORDINAL')\n",
    "new_dict.pop('QUANTITY')\n",
    "new_dict.pop('TITLE_AFFIX')\n",
    "new_dict.pop('PHONE')\n",
    "new_dict.pop('TIME')\n",
    "new_dict.pop('LOC')\n",
    "new_dict.pop('MISC')\n",
    "for k,v in new_dict.items():\n",
    "    print(k,'->',v)"
   ]
  },
  {
   "cell_type": "code",
   "execution_count": 96,
   "id": "eaeecd85-3f67-4784-a9cd-d3981dd8e0e8",
   "metadata": {},
   "outputs": [
    {
     "data": {
      "text/plain": [
       "{'ORG': ['ORGANIZATION', 'WRK', 'ORG', 'OG', 'MSR', 'orgName'],\n",
       " 'PERSON': ['DERIV_PER', 'PERSON', 'PRS', 'persName', 'PET_NAME', 'PS'],\n",
       " 'EVENT': ['EVENT', 'EVT', 'EVN'],\n",
       " 'GPE': ['GPE', 'LC', 'GPE_ORG', 'geogName', 'GPE_LOC', 'LOC', 'placeName'],\n",
       " 'PRODUCT': ['PRODUCT', 'PROD', 'OBJ'],\n",
       " 'DATE': ['PERIOD', 'DATE', 'TME', 'TIME', 'time', 'DATETIME', 'TI', 'DT'],\n",
       " 'FAC': ['FAC', 'FACILITY'],\n",
       " 'LANGUAGE': ['LANGUAGE'],\n",
       " 'LAW': ['LAW'],\n",
       " 'MONEY': ['MONEY'],\n",
       " 'NORP': ['NORP', 'date', 'NAT_REL_POL'],\n",
       " 'WORK_OF_ART': ['WORK_OF_ART'],\n",
       " 'MOVEMENT': ['MOVEMENT'],\n",
       " 'OTHER': ['TITLE_AFFIX', 'PHONE', 'MISC', 'DRV'],\n",
       " 'NUMBER': ['CARDINAL',\n",
       "  'NUMERIC_VALUE',\n",
       "  'ORDINAL',\n",
       "  'QT',\n",
       "  'QUANTITY',\n",
       "  'PERCENT']}"
      ]
     },
     "execution_count": 96,
     "metadata": {},
     "output_type": "execute_result"
    }
   ],
   "source": [
    "new_dict"
   ]
  },
  {
   "cell_type": "code",
   "execution_count": 79,
   "id": "df005c73-556c-41da-aef4-acef50cc85fd",
   "metadata": {
    "scrolled": true
   },
   "outputs": [
    {
     "name": "stdout",
     "output_type": "stream",
     "text": [
      "{'zh_core_web_sm': 7402, 'en_core_web_md': 90651, 'de_core_news_sm': 2264, 'it_core_news_sm': 738, 'sv_core_news_sm': 156, 'lt_core_news_sm': 109, 'sl_core_news_sm': 41, 'es_core_news_sm': 536, 'pl_core_news_sm': 435, 'pt_core_news_sm': 110, 'fr_core_news_sm': 4691, 'nl_core_news_sm': 722, 'fi_core_news_sm': 80, 'ro_core_news_sm': 68, 'ca_core_news_sm': 41, 'ja_core_news_sm': 63, 'da_core_news_sm': 227, 'nb_core_news_sm': 14, 'hr_core_news_sm': 3}\n"
     ]
    }
   ],
   "source": [
    "def count_elements(lst):\n",
    "    element_count = {}\n",
    "    for item in lst:\n",
    "        if item in element_count:\n",
    "            element_count[item] += 1\n",
    "        else:\n",
    "            element_count[item] = 1\n",
    "    return element_count\n",
    "\n",
    "  \n",
    "provs = []\n",
    "for k,v in items:\n",
    "    \n",
    "    prov = v['lotProvenance']\n",
    "    for ke,va in prov.items():\n",
    "        if va is None:\n",
    "            pass\n",
    "        elif type(va) != dict:\n",
    "            pass\n",
    "        else:\n",
    "            provs.append(va)\n",
    "            \n",
    "        \n",
    "provs[0]\n",
    "spacy_models = []\n",
    "for x in provs:\n",
    "    m = x['spacy_model']\n",
    "    spacy_models.append(m)\n",
    "\n",
    "models_count = count_elements(spacy_models)\n",
    "print(models_count)\n",
    "\n",
    "            "
   ]
  },
  {
   "cell_type": "code",
   "execution_count": 80,
   "id": "428ac87e-5090-43ac-8e9a-1bfef1860990",
   "metadata": {
    "scrolled": true
   },
   "outputs": [],
   "source": [
    "NER_eval\n",
    "new_eval = []\n",
    "for x in NER_eval:\n",
    "    for k,v in new_dict.items():\n",
    "        if x[0] in v:\n",
    "            new_eval.append((k,x[1],x[2]))"
   ]
  },
  {
   "cell_type": "code",
   "execution_count": 81,
   "id": "c9ac99c6-4886-4673-83d0-ffcf256ad1bb",
   "metadata": {
    "scrolled": true
   },
   "outputs": [
    {
     "name": "stdout",
     "output_type": "stream",
     "text": [
      "2417\n",
      "('ORG', \"Christie's Los Angeles\", 'en_core_web_md')\n"
     ]
    },
    {
     "name": "stdin",
     "output_type": "stream",
     "text": [
      "1 if it's OK, add the correct tag if not:  1\n"
     ]
    },
    {
     "name": "stdout",
     "output_type": "stream",
     "text": [
      "('ORG', 'Myth', 'en_core_web_md')\n"
     ]
    },
    {
     "name": "stdin",
     "output_type": "stream",
     "text": [
      "1 if it's OK, add the correct tag if not:  MISC\n"
     ]
    },
    {
     "name": "stdout",
     "output_type": "stream",
     "text": [
      "Invalid input. Please enter 0 or 1 or a valid label.\n"
     ]
    },
    {
     "name": "stdin",
     "output_type": "stream",
     "text": [
      "1 if it's OK, add the correct tag if not:  OTHER\n"
     ]
    },
    {
     "name": "stdout",
     "output_type": "stream",
     "text": [
      "('NORP', 'Chinese', 'en_core_web_md')\n"
     ]
    },
    {
     "name": "stdin",
     "output_type": "stream",
     "text": [
      "1 if it's OK, add the correct tag if not:  1\n"
     ]
    },
    {
     "name": "stdout",
     "output_type": "stream",
     "text": [
      "('PERSON', 'Julius Eberhardt', 'en_core_web_md')\n"
     ]
    },
    {
     "name": "stdin",
     "output_type": "stream",
     "text": [
      "1 if it's OK, add the correct tag if not:  1\n"
     ]
    },
    {
     "name": "stdout",
     "output_type": "stream",
     "text": [
      "('GPE', 'Nagel Stuttgart', 'en_core_web_md')\n"
     ]
    },
    {
     "name": "stdin",
     "output_type": "stream",
     "text": [
      "1 if it's OK, add the correct tag if not:  1\n"
     ]
    },
    {
     "name": "stdout",
     "output_type": "stream",
     "text": [
      "('FAC', '洛杉磯佳士得', 'zh_core_web_sm')\n"
     ]
    },
    {
     "name": "stdin",
     "output_type": "stream",
     "text": [
      "1 if it's OK, add the correct tag if not:  1\n"
     ]
    },
    {
     "name": "stdout",
     "output_type": "stream",
     "text": [
      "('WORK_OF_ART', 'Myth and Reality', 'zh_core_web_sm')\n"
     ]
    },
    {
     "name": "stdin",
     "output_type": "stream",
     "text": [
      "1 if it's OK, add the correct tag if not:  1\n"
     ]
    },
    {
     "name": "stdout",
     "output_type": "stream",
     "text": [
      "('PERSON', '朱利思∙', 'zh_core_web_sm')\n"
     ]
    },
    {
     "name": "stdin",
     "output_type": "stream",
     "text": [
      "1 if it's OK, add the correct tag if not:  1\n"
     ]
    },
    {
     "name": "stdout",
     "output_type": "stream",
     "text": [
      "('PERSON', '艾伯哈特', 'zh_core_web_sm')\n"
     ]
    },
    {
     "name": "stdin",
     "output_type": "stream",
     "text": [
      "1 if it's OK, add the correct tag if not:  1\n"
     ]
    },
    {
     "name": "stdout",
     "output_type": "stream",
     "text": [
      "('ORG', \"Sotheby's Hong Kong\", 'en_core_web_md')\n"
     ]
    },
    {
     "name": "stdin",
     "output_type": "stream",
     "text": [
      "1 if it's OK, add the correct tag if not:  1\n"
     ]
    },
    {
     "name": "stdout",
     "output_type": "stream",
     "text": [
      "('ORG', \"Sotheby's\", 'en_core_web_md')\n"
     ]
    },
    {
     "name": "stdin",
     "output_type": "stream",
     "text": [
      "1 if it's OK, add the correct tag if not:  1\n"
     ]
    },
    {
     "name": "stdout",
     "output_type": "stream",
     "text": [
      "('GPE', 'Paris', 'en_core_web_md')\n"
     ]
    },
    {
     "name": "stdin",
     "output_type": "stream",
     "text": [
      "1 if it's OK, add the correct tag if not:  1\n"
     ]
    },
    {
     "name": "stdout",
     "output_type": "stream",
     "text": [
      "('PERSON', 'Karim Grusenmeyer', 'en_core_web_md')\n"
     ]
    },
    {
     "name": "stdin",
     "output_type": "stream",
     "text": [
      "1 if it's OK, add the correct tag if not:  1\n"
     ]
    },
    {
     "name": "stdout",
     "output_type": "stream",
     "text": [
      "('ORG', \"Sotheby's New York\", 'en_core_web_md')\n"
     ]
    },
    {
     "name": "stdin",
     "output_type": "stream",
     "text": [
      "1 if it's OK, add the correct tag if not:  1\n"
     ]
    },
    {
     "name": "stdout",
     "output_type": "stream",
     "text": [
      "('PERSON', 'Abraham Rosman', 'en_core_web_md')\n"
     ]
    },
    {
     "name": "stdin",
     "output_type": "stream",
     "text": [
      "1 if it's OK, add the correct tag if not:  1\n"
     ]
    },
    {
     "name": "stdout",
     "output_type": "stream",
     "text": [
      "('PERSON', 'Paula Rubel', 'en_core_web_md')\n"
     ]
    },
    {
     "name": "stdin",
     "output_type": "stream",
     "text": [
      "1 if it's OK, add the correct tag if not:  1\n"
     ]
    },
    {
     "name": "stdout",
     "output_type": "stream",
     "text": [
      "('GPE', 'New York', 'en_core_web_md')\n"
     ]
    },
    {
     "name": "stdin",
     "output_type": "stream",
     "text": [
      "1 if it's OK, add the correct tag if not:  1\n"
     ]
    },
    {
     "name": "stdout",
     "output_type": "stream",
     "text": [
      "('ORG', \"Christie's\", 'en_core_web_md')\n"
     ]
    },
    {
     "name": "stdin",
     "output_type": "stream",
     "text": [
      "1 if it's OK, add the correct tag if not:  1\n"
     ]
    },
    {
     "name": "stdout",
     "output_type": "stream",
     "text": [
      "('GPE', 'Wisconsin', 'de_core_news_sm')\n"
     ]
    },
    {
     "name": "stdin",
     "output_type": "stream",
     "text": [
      "1 if it's OK, add the correct tag if not:  1\n"
     ]
    },
    {
     "name": "stdout",
     "output_type": "stream",
     "text": [
      "('GPE', 'Cairo', 'de_core_news_sm')\n"
     ]
    },
    {
     "name": "stdin",
     "output_type": "stream",
     "text": [
      "1 if it's OK, add the correct tag if not:  1\n"
     ]
    },
    {
     "name": "stdout",
     "output_type": "stream",
     "text": [
      "('PERSON', 'Frederick Henry von Schleinitz', 'en_core_web_md')\n"
     ]
    },
    {
     "name": "stdin",
     "output_type": "stream",
     "text": [
      "1 if it's OK, add the correct tag if not:  1\n"
     ]
    },
    {
     "name": "stdout",
     "output_type": "stream",
     "text": [
      "('OTHER', 'December 1982', 'fr_core_news_sm')\n"
     ]
    },
    {
     "name": "stdin",
     "output_type": "stream",
     "text": [
      "1 if it's OK, add the correct tag if not:  DATE\n"
     ]
    },
    {
     "name": "stdout",
     "output_type": "stream",
     "text": [
      "('OTHER', 'December 1992', 'fr_core_news_sm')\n"
     ]
    },
    {
     "name": "stdin",
     "output_type": "stream",
     "text": [
      "1 if it's OK, add the correct tag if not:  DATE\n"
     ]
    },
    {
     "name": "stdout",
     "output_type": "stream",
     "text": [
      "('ORG', 'Private Collection', 'en_core_web_md')\n"
     ]
    },
    {
     "name": "stdin",
     "output_type": "stream",
     "text": [
      "1 if it's OK, add the correct tag if not:  1\n"
     ]
    },
    {
     "name": "stdout",
     "output_type": "stream",
     "text": [
      "('GPE', 'U.S.', 'en_core_web_md')\n"
     ]
    },
    {
     "name": "stdin",
     "output_type": "stream",
     "text": [
      "1 if it's OK, add the correct tag if not:  1\n"
     ]
    },
    {
     "name": "stdout",
     "output_type": "stream",
     "text": [
      "('ORG', 'American Private Collection', 'en_core_web_md')\n"
     ]
    },
    {
     "name": "stdin",
     "output_type": "stream",
     "text": [
      "1 if it's OK, add the correct tag if not:  1\n"
     ]
    },
    {
     "name": "stdout",
     "output_type": "stream",
     "text": [
      "('ORG', 'PRINCELY', 'en_core_web_md')\n"
     ]
    },
    {
     "name": "stdin",
     "output_type": "stream",
     "text": [
      "1 if it's OK, add the correct tag if not:  OTHER\n"
     ]
    },
    {
     "name": "stdout",
     "output_type": "stream",
     "text": [
      "('PERSON', 'Marcel Bissey', 'en_core_web_md')\n"
     ]
    },
    {
     "name": "stdin",
     "output_type": "stream",
     "text": [
      "1 if it's OK, add the correct tag if not:  1\n"
     ]
    },
    {
     "name": "stdout",
     "output_type": "stream",
     "text": [
      "('ORG', 'Leonard Hutton Galleries', 'en_core_web_md')\n"
     ]
    },
    {
     "name": "stdin",
     "output_type": "stream",
     "text": [
      "1 if it's OK, add the correct tag if not:  1\n"
     ]
    },
    {
     "name": "stdout",
     "output_type": "stream",
     "text": [
      "('PERSON', 'Emmanuel Moatti', 'en_core_web_md')\n"
     ]
    },
    {
     "name": "stdin",
     "output_type": "stream",
     "text": [
      "1 if it's OK, add the correct tag if not:  1\n"
     ]
    },
    {
     "name": "stdout",
     "output_type": "stream",
     "text": [
      "('ORG', 'Collection Mrs', 'nl_core_news_sm')\n"
     ]
    },
    {
     "name": "stdin",
     "output_type": "stream",
     "text": [
      "1 if it's OK, add the correct tag if not:  1\n"
     ]
    },
    {
     "name": "stdout",
     "output_type": "stream",
     "text": [
      "('GPE', 'Laren', 'nl_core_news_sm')\n"
     ]
    },
    {
     "name": "stdin",
     "output_type": "stream",
     "text": [
      "1 if it's OK, add the correct tag if not:  1\n"
     ]
    },
    {
     "name": "stdout",
     "output_type": "stream",
     "text": [
      "('FAC', 'B004', 'nl_core_news_sm')\n"
     ]
    },
    {
     "name": "stdin",
     "output_type": "stream",
     "text": [
      "1 if it's OK, add the correct tag if not:  OTHER\n"
     ]
    },
    {
     "name": "stdout",
     "output_type": "stream",
     "text": [
      "('GPE', 'n°', 'en_core_web_md')\n"
     ]
    },
    {
     "name": "stdin",
     "output_type": "stream",
     "text": [
      "1 if it's OK, add the correct tag if not:  OTHER\n"
     ]
    },
    {
     "name": "stdout",
     "output_type": "stream",
     "text": [
      "('ORG', 'European Private Collection', 'en_core_web_md')\n"
     ]
    },
    {
     "name": "stdin",
     "output_type": "stream",
     "text": [
      "1 if it's OK, add the correct tag if not:  1\n"
     ]
    },
    {
     "name": "stdout",
     "output_type": "stream",
     "text": [
      "('GPE', 'London', 'en_core_web_md')\n"
     ]
    },
    {
     "name": "stdin",
     "output_type": "stream",
     "text": [
      "1 if it's OK, add the correct tag if not:  1\n"
     ]
    },
    {
     "name": "stdout",
     "output_type": "stream",
     "text": [
      "('GPE', 'UK', 'en_core_web_md')\n"
     ]
    },
    {
     "name": "stdin",
     "output_type": "stream",
     "text": [
      "1 if it's OK, add the correct tag if not:  1\n"
     ]
    },
    {
     "name": "stdout",
     "output_type": "stream",
     "text": [
      "('PERSON', 'Robert Bloch', 'sv_core_news_sm')\n"
     ]
    },
    {
     "name": "stdin",
     "output_type": "stream",
     "text": [
      "1 if it's OK, add the correct tag if not:  1\n"
     ]
    },
    {
     "name": "stdout",
     "output_type": "stream",
     "text": [
      "('GPE', 'Munich', 'en_core_web_md')\n"
     ]
    },
    {
     "name": "stdin",
     "output_type": "stream",
     "text": [
      "1 if it's OK, add the correct tag if not:  1\n"
     ]
    },
    {
     "name": "stdout",
     "output_type": "stream",
     "text": [
      "('PERSON', 'Alexandre Iolas', 'en_core_web_md')\n"
     ]
    },
    {
     "name": "stdin",
     "output_type": "stream",
     "text": [
      "1 if it's OK, add the correct tag if not:  1\n"
     ]
    },
    {
     "name": "stdout",
     "output_type": "stream",
     "text": [
      "('ORG', \"Sotheby's London\", 'en_core_web_md')\n"
     ]
    },
    {
     "name": "stdin",
     "output_type": "stream",
     "text": [
      "1 if it's OK, add the correct tag if not:  1\n"
     ]
    },
    {
     "name": "stdout",
     "output_type": "stream",
     "text": [
      "('ORG', \"Christie's East New York\", 'en_core_web_md')\n"
     ]
    },
    {
     "name": "stdin",
     "output_type": "stream",
     "text": [
      "1 if it's OK, add the correct tag if not:  1\n"
     ]
    },
    {
     "name": "stdout",
     "output_type": "stream",
     "text": [
      "('LANGUAGE', 'Filipino', 'en_core_web_md')\n"
     ]
    },
    {
     "name": "stdin",
     "output_type": "stream",
     "text": [
      "1 if it's OK, add the correct tag if not:  PERSON\n"
     ]
    },
    {
     "name": "stdout",
     "output_type": "stream",
     "text": [
      "('ORG', 'Kerr Collection', 'en_core_web_md')\n"
     ]
    },
    {
     "name": "stdin",
     "output_type": "stream",
     "text": [
      "1 if it's OK, add the correct tag if not:  1\n"
     ]
    },
    {
     "name": "stdout",
     "output_type": "stream",
     "text": [
      "('PERSON', 'Charles Ede', 'en_core_web_md')\n"
     ]
    },
    {
     "name": "stdin",
     "output_type": "stream",
     "text": [
      "1 if it's OK, add the correct tag if not:  1\n"
     ]
    },
    {
     "name": "stdout",
     "output_type": "stream",
     "text": [
      "('PERSON', 'Quincy Chuang', 'en_core_web_md')\n"
     ]
    },
    {
     "name": "stdin",
     "output_type": "stream",
     "text": [
      "1 if it's OK, add the correct tag if not:  1\n"
     ]
    },
    {
     "name": "stdout",
     "output_type": "stream",
     "text": [
      "('PERSON', 'Maurice Bonnefoy', 'en_core_web_md')\n"
     ]
    },
    {
     "name": "stdin",
     "output_type": "stream",
     "text": [
      "1 if it's OK, add the correct tag if not:  1\n"
     ]
    },
    {
     "name": "stdout",
     "output_type": "stream",
     "text": [
      "('ORG', \"D'Arcy Galleries\", 'en_core_web_md')\n"
     ]
    },
    {
     "name": "stdin",
     "output_type": "stream",
     "text": [
      "1 if it's OK, add the correct tag if not:  1\n"
     ]
    },
    {
     "name": "stdout",
     "output_type": "stream",
     "text": [
      "('PERSON', 'James Barzyk', 'pl_core_news_sm')\n"
     ]
    },
    {
     "name": "stdin",
     "output_type": "stream",
     "text": [
      "1 if it's OK, add the correct tag if not:  1\n"
     ]
    },
    {
     "name": "stdout",
     "output_type": "stream",
     "text": [
      "('GPE', 'Chicago', 'pl_core_news_sm')\n"
     ]
    },
    {
     "name": "stdin",
     "output_type": "stream",
     "text": [
      "1 if it's OK, add the correct tag if not:  1\n"
     ]
    },
    {
     "name": "stdout",
     "output_type": "stream",
     "text": [
      "('PERSON', 'Alex Philips', 'en_core_web_md')\n"
     ]
    },
    {
     "name": "stdin",
     "output_type": "stream",
     "text": [
      "1 if it's OK, add the correct tag if not:  1\n"
     ]
    },
    {
     "name": "stdout",
     "output_type": "stream",
     "text": [
      "('GPE', 'Melbourne', 'en_core_web_md')\n"
     ]
    },
    {
     "name": "stdin",
     "output_type": "stream",
     "text": [
      "1 if it's OK, add the correct tag if not:  1\n"
     ]
    },
    {
     "name": "stdout",
     "output_type": "stream",
     "text": [
      "('PERSON', 'Susan Kloman', 'en_core_web_md')\n"
     ]
    },
    {
     "name": "stdin",
     "output_type": "stream",
     "text": [
      "1 if it's OK, add the correct tag if not:  1\n"
     ]
    },
    {
     "name": "stdout",
     "output_type": "stream",
     "text": [
      "('ORG', 'the Museum of Fine Arts', 'en_core_web_md')\n"
     ]
    },
    {
     "name": "stdin",
     "output_type": "stream",
     "text": [
      "1 if it's OK, add the correct tag if not:  1\n"
     ]
    },
    {
     "name": "stdout",
     "output_type": "stream",
     "text": [
      "('GPE', 'Boston', 'en_core_web_md')\n"
     ]
    },
    {
     "name": "stdin",
     "output_type": "stream",
     "text": [
      "1 if it's OK, add the correct tag if not:  1\n"
     ]
    },
    {
     "name": "stdout",
     "output_type": "stream",
     "text": [
      "('GPE', 'USA', 'en_core_web_md')\n"
     ]
    },
    {
     "name": "stdin",
     "output_type": "stream",
     "text": [
      "1 if it's OK, add the correct tag if not:  1\n"
     ]
    },
    {
     "name": "stdout",
     "output_type": "stream",
     "text": [
      "('GPE', 'Petit Musée', 'fr_core_news_sm')\n"
     ]
    },
    {
     "name": "stdin",
     "output_type": "stream",
     "text": [
      "1 if it's OK, add the correct tag if not:  ORG\n"
     ]
    },
    {
     "name": "stdout",
     "output_type": "stream",
     "text": [
      "('GPE', 'Montreal', 'fr_core_news_sm')\n"
     ]
    },
    {
     "name": "stdin",
     "output_type": "stream",
     "text": [
      "1 if it's OK, add the correct tag if not:  1\n"
     ]
    },
    {
     "name": "stdout",
     "output_type": "stream",
     "text": [
      "('PRODUCT', 'Cinq-Mars', 'en_core_web_md')\n"
     ]
    },
    {
     "name": "stdin",
     "output_type": "stream",
     "text": [
      "1 if it's OK, add the correct tag if not:  OTHER\n"
     ]
    },
    {
     "name": "stdout",
     "output_type": "stream",
     "text": [
      "('GPE', 'Canada', 'en_core_web_md')\n"
     ]
    },
    {
     "name": "stdin",
     "output_type": "stream",
     "text": [
      "1 if it's OK, add the correct tag if not:  1\n"
     ]
    },
    {
     "name": "stdout",
     "output_type": "stream",
     "text": [
      "('PERSON', 'Spier', 'en_core_web_md')\n"
     ]
    },
    {
     "name": "stdin",
     "output_type": "stream",
     "text": [
      "1 if it's OK, add the correct tag if not:  1\n"
     ]
    },
    {
     "name": "stdout",
     "output_type": "stream",
     "text": [
      "('PERSON', 'Wou Kiuan', 'en_core_web_md')\n"
     ]
    },
    {
     "name": "stdin",
     "output_type": "stream",
     "text": [
      "1 if it's OK, add the correct tag if not:  1\n"
     ]
    },
    {
     "name": "stdout",
     "output_type": "stream",
     "text": [
      "('PERSON', 'Wou Lien-Pai Museum', 'en_core_web_md')\n"
     ]
    },
    {
     "name": "stdin",
     "output_type": "stream",
     "text": [
      "1 if it's OK, add the correct tag if not:  1\n"
     ]
    },
    {
     "name": "stdout",
     "output_type": "stream",
     "text": [
      "('NORP', 'German', 'en_core_web_md')\n"
     ]
    },
    {
     "name": "stdin",
     "output_type": "stream",
     "text": [
      "1 if it's OK, add the correct tag if not:  1\n"
     ]
    },
    {
     "name": "stdout",
     "output_type": "stream",
     "text": [
      "('ORG', 'S. Marchant & Son', 'en_core_web_md')\n"
     ]
    },
    {
     "name": "stdin",
     "output_type": "stream",
     "text": [
      "1 if it's OK, add the correct tag if not:  1\n"
     ]
    },
    {
     "name": "stdout",
     "output_type": "stream",
     "text": [
      "('OTHER', 'Sui Yuan', 'fr_core_news_sm')\n"
     ]
    },
    {
     "name": "stdin",
     "output_type": "stream",
     "text": [
      "1 if it's OK, add the correct tag if not:  PERSON\n"
     ]
    },
    {
     "name": "stdout",
     "output_type": "stream",
     "text": [
      "('ORG', \"Christie's London\", 'en_core_web_md')\n"
     ]
    },
    {
     "name": "stdin",
     "output_type": "stream",
     "text": [
      "1 if it's OK, add the correct tag if not:  1\n"
     ]
    },
    {
     "name": "stdout",
     "output_type": "stream",
     "text": [
      "('GPE', 'U.S', 'en_core_web_md')\n"
     ]
    },
    {
     "name": "stdin",
     "output_type": "stream",
     "text": [
      "1 if it's OK, add the correct tag if not:  1\n"
     ]
    },
    {
     "name": "stdout",
     "output_type": "stream",
     "text": [
      "('GPE', 'Arte Primitivo', 'en_core_web_md')\n"
     ]
    },
    {
     "name": "stdin",
     "output_type": "stream",
     "text": [
      "1 if it's OK, add the correct tag if not:  ORG\n"
     ]
    },
    {
     "name": "stdout",
     "output_type": "stream",
     "text": [
      "('GPE', 'Hong Kong', 'en_core_web_md')\n"
     ]
    },
    {
     "name": "stdin",
     "output_type": "stream",
     "text": [
      "1 if it's OK, add the correct tag if not:  1\n"
     ]
    },
    {
     "name": "stdout",
     "output_type": "stream",
     "text": [
      "('PERSON', 'John J. Klejman', 'en_core_web_md')\n"
     ]
    },
    {
     "name": "stdin",
     "output_type": "stream",
     "text": [
      "1 if it's OK, add the correct tag if not:  1\n"
     ]
    },
    {
     "name": "stdout",
     "output_type": "stream",
     "text": [
      "('ORG', 'Martin', 'en_core_web_md')\n"
     ]
    },
    {
     "name": "stdin",
     "output_type": "stream",
     "text": [
      "1 if it's OK, add the correct tag if not:  PERSON\n"
     ]
    },
    {
     "name": "stdout",
     "output_type": "stream",
     "text": [
      "('PERSON', 'Giovanni Vincitore Ruggiero', 'en_core_web_md')\n"
     ]
    },
    {
     "name": "stdin",
     "output_type": "stream",
     "text": [
      "1 if it's OK, add the correct tag if not:  1\n"
     ]
    },
    {
     "name": "stdout",
     "output_type": "stream",
     "text": [
      "('GPE', 'Brooklyn', 'en_core_web_md')\n"
     ]
    },
    {
     "name": "stdin",
     "output_type": "stream",
     "text": [
      "1 if it's OK, add the correct tag if not:  1\n"
     ]
    },
    {
     "name": "stdout",
     "output_type": "stream",
     "text": [
      "('PERSON', 'Mabel Markey', 'en_core_web_md')\n"
     ]
    },
    {
     "name": "stdin",
     "output_type": "stream",
     "text": [
      "1 if it's OK, add the correct tag if not:  1\n"
     ]
    },
    {
     "name": "stdout",
     "output_type": "stream",
     "text": [
      "('PERSON', 'John Joseph Ruggiero', 'en_core_web_md')\n"
     ]
    },
    {
     "name": "stdin",
     "output_type": "stream",
     "text": [
      "1 if it's OK, add the correct tag if not:  1\n"
     ]
    },
    {
     "name": "stdout",
     "output_type": "stream",
     "text": [
      "('GPE', 'Queens', 'en_core_web_md')\n"
     ]
    },
    {
     "name": "stdin",
     "output_type": "stream",
     "text": [
      "1 if it's OK, add the correct tag if not:  1\n"
     ]
    },
    {
     "name": "stdout",
     "output_type": "stream",
     "text": [
      "('PERSON', 'Agnes Dympna', 'en_core_web_md')\n"
     ]
    },
    {
     "name": "stdin",
     "output_type": "stream",
     "text": [
      "1 if it's OK, add the correct tag if not:  1\n"
     ]
    },
    {
     "name": "stdout",
     "output_type": "stream",
     "text": [
      "('PERSON', 'McKenna', 'fi_core_news_sm')\n"
     ]
    },
    {
     "name": "stdin",
     "output_type": "stream",
     "text": [
      "1 if it's OK, add the correct tag if not:  1\n"
     ]
    },
    {
     "name": "stdout",
     "output_type": "stream",
     "text": [
      "('ORG', 'Queens', 'fi_core_news_sm')\n"
     ]
    },
    {
     "name": "stdin",
     "output_type": "stream",
     "text": [
      "1 if it's OK, add the correct tag if not:  GPE\n"
     ]
    },
    {
     "name": "stdout",
     "output_type": "stream",
     "text": [
      "('ORG', 'MIAMI', 'en_core_web_md')\n"
     ]
    },
    {
     "name": "stdin",
     "output_type": "stream",
     "text": [
      "1 if it's OK, add the correct tag if not:  GPE\n"
     ]
    },
    {
     "name": "stdout",
     "output_type": "stream",
     "text": [
      "('PERSON', 'Ernst Langlotz', 'en_core_web_md')\n"
     ]
    },
    {
     "name": "stdin",
     "output_type": "stream",
     "text": [
      "1 if it's OK, add the correct tag if not:  1\n"
     ]
    },
    {
     "name": "stdout",
     "output_type": "stream",
     "text": [
      "('GPE', 'Bonn', 'en_core_web_md')\n"
     ]
    },
    {
     "name": "stdin",
     "output_type": "stream",
     "text": [
      "1 if it's OK, add the correct tag if not:  1\n"
     ]
    },
    {
     "name": "stdout",
     "output_type": "stream",
     "text": [
      "('PERSON', 'Cahn', 'en_core_web_md')\n"
     ]
    },
    {
     "name": "stdin",
     "output_type": "stream",
     "text": [
      "1 if it's OK, add the correct tag if not:  1\n"
     ]
    },
    {
     "name": "stdout",
     "output_type": "stream",
     "text": [
      "('GPE', 'Basel', 'en_core_web_md')\n"
     ]
    },
    {
     "name": "stdin",
     "output_type": "stream",
     "text": [
      "1 if it's OK, add the correct tag if not:  1\n"
     ]
    },
    {
     "name": "stdout",
     "output_type": "stream",
     "text": [
      "('ORG', 'Royal-Athena Galleries', 'en_core_web_md')\n"
     ]
    },
    {
     "name": "stdin",
     "output_type": "stream",
     "text": [
      "1 if it's OK, add the correct tag if not:  1\n"
     ]
    },
    {
     "name": "stdout",
     "output_type": "stream",
     "text": [
      "('ORG', 'XII', 'en_core_web_md')\n"
     ]
    },
    {
     "name": "stdin",
     "output_type": "stream",
     "text": [
      "1 if it's OK, add the correct tag if not:  NUMBER\n"
     ]
    },
    {
     "name": "stdout",
     "output_type": "stream",
     "text": [
      "('PERSON', 'Kofler', 'en_core_web_md')\n"
     ]
    },
    {
     "name": "stdin",
     "output_type": "stream",
     "text": [
      "1 if it's OK, add the correct tag if not:  1\n"
     ]
    },
    {
     "name": "stdout",
     "output_type": "stream",
     "text": [
      "('PERSON', 'JM Béalu et fils', 'en_core_web_md')\n"
     ]
    },
    {
     "name": "stdin",
     "output_type": "stream",
     "text": [
      "1 if it's OK, add the correct tag if not:  1\n"
     ]
    },
    {
     "name": "stdout",
     "output_type": "stream",
     "text": [
      "('PERSON', 'Joseph Hume', 'en_core_web_md')\n"
     ]
    },
    {
     "name": "stdin",
     "output_type": "stream",
     "text": [
      "1 if it's OK, add the correct tag if not:  1\n"
     ]
    },
    {
     "name": "stdout",
     "output_type": "stream",
     "text": [
      "('PERSON', 'John Bedford', 'en_core_web_md')\n"
     ]
    },
    {
     "name": "stdin",
     "output_type": "stream",
     "text": [
      "1 if it's OK, add the correct tag if not:  1\n"
     ]
    },
    {
     "name": "stdout",
     "output_type": "stream",
     "text": [
      "('PERSON', 'William Philip Molyneux', 'en_core_web_md')\n"
     ]
    },
    {
     "name": "stdin",
     "output_type": "stream",
     "text": [
      "1 if it's OK, add the correct tag if not:  1\n"
     ]
    },
    {
     "name": "stdout",
     "output_type": "stream",
     "text": [
      "('PERSON', '4th Earl', 'en_core_web_md')\n"
     ]
    },
    {
     "name": "stdin",
     "output_type": "stream",
     "text": [
      "1 if it's OK, add the correct tag if not:  1\n"
     ]
    },
    {
     "name": "stdout",
     "output_type": "stream",
     "text": [
      "('PERSON', 'Sefton', 'en_core_web_md')\n"
     ]
    },
    {
     "name": "stdin",
     "output_type": "stream",
     "text": [
      "1 if it's OK, add the correct tag if not:  1\n"
     ]
    },
    {
     "name": "stdout",
     "output_type": "stream",
     "text": [
      "('OTHER', 'Galerie Démons', 'fr_core_news_sm')\n"
     ]
    },
    {
     "name": "stdin",
     "output_type": "stream",
     "text": [
      "1 if it's OK, add the correct tag if not:  ORG\n"
     ]
    },
    {
     "name": "stdout",
     "output_type": "stream",
     "text": [
      "('GPE', 'Merveilles', 'fr_core_news_sm')\n"
     ]
    },
    {
     "name": "stdin",
     "output_type": "stream",
     "text": [
      "1 if it's OK, add the correct tag if not:  OTHER\n"
     ]
    },
    {
     "name": "stdout",
     "output_type": "stream",
     "text": [
      "('NORP', 'Belgian', 'en_core_web_md')\n"
     ]
    },
    {
     "name": "stdin",
     "output_type": "stream",
     "text": [
      "1 if it's OK, add the correct tag if not:  1\n"
     ]
    },
    {
     "name": "stdout",
     "output_type": "stream",
     "text": [
      "('ORG', 'Charles Ede Ltd', 'en_core_web_md')\n"
     ]
    },
    {
     "name": "stdin",
     "output_type": "stream",
     "text": [
      "1 if it's OK, add the correct tag if not:  1\n"
     ]
    },
    {
     "name": "stdout",
     "output_type": "stream",
     "text": [
      "('GPE', 'Lonsdale', 'en_core_web_md')\n"
     ]
    },
    {
     "name": "stdin",
     "output_type": "stream",
     "text": [
      "1 if it's OK, add the correct tag if not:  1\n"
     ]
    },
    {
     "name": "stdout",
     "output_type": "stream",
     "text": [
      "('GPE', 'Westmoreland', 'en_core_web_md')\n"
     ]
    },
    {
     "name": "stdin",
     "output_type": "stream",
     "text": [
      "1 if it's OK, add the correct tag if not:  1\n"
     ]
    },
    {
     "name": "stdout",
     "output_type": "stream",
     "text": [
      "('PERSON', 'Lowther Castle', 'en_core_web_md')\n"
     ]
    },
    {
     "name": "stdin",
     "output_type": "stream",
     "text": [
      "1 if it's OK, add the correct tag if not:  ORG\n"
     ]
    },
    {
     "name": "stdout",
     "output_type": "stream",
     "text": [
      "('ORG', 'London Market', 'en_core_web_md')\n"
     ]
    },
    {
     "name": "stdin",
     "output_type": "stream",
     "text": [
      "1 if it's OK, add the correct tag if not:  1\n"
     ]
    },
    {
     "name": "stdout",
     "output_type": "stream",
     "text": [
      "('ORG', 'Florida Private Collection', 'es_core_news_sm')\n"
     ]
    },
    {
     "name": "stdin",
     "output_type": "stream",
     "text": [
      "1 if it's OK, add the correct tag if not:  1\n"
     ]
    },
    {
     "name": "stdout",
     "output_type": "stream",
     "text": [
      "('FAC', 'the Tuyet Nguyet', 'en_core_web_md')\n"
     ]
    },
    {
     "name": "stdin",
     "output_type": "stream",
     "text": [
      "1 if it's OK, add the correct tag if not:  ORG\n"
     ]
    },
    {
     "name": "stdout",
     "output_type": "stream",
     "text": [
      "('PERSON', 'Stephen Markbreiter Collection', 'en_core_web_md')\n"
     ]
    },
    {
     "name": "stdin",
     "output_type": "stream",
     "text": [
      "1 if it's OK, add the correct tag if not:  1\n"
     ]
    },
    {
     "name": "stdout",
     "output_type": "stream",
     "text": [
      "('ORG', 'Earl of Sandwich', 'en_core_web_md')\n"
     ]
    },
    {
     "name": "stdin",
     "output_type": "stream",
     "text": [
      "1 if it's OK, add the correct tag if not:  1\n"
     ]
    },
    {
     "name": "stdout",
     "output_type": "stream",
     "text": [
      "('GPE', 'U.K.', 'en_core_web_md')\n"
     ]
    },
    {
     "name": "stdin",
     "output_type": "stream",
     "text": [
      "1 if it's OK, add the correct tag if not:  1\n"
     ]
    },
    {
     "name": "stdout",
     "output_type": "stream",
     "text": [
      "('PERSON', 'Mathias Komor', 'en_core_web_md')\n"
     ]
    },
    {
     "name": "stdin",
     "output_type": "stream",
     "text": [
      "1 if it's OK, add the correct tag if not:  1\n"
     ]
    },
    {
     "name": "stdout",
     "output_type": "stream",
     "text": [
      "('PERSON', 'Mathilda Goldman', 'en_core_web_md')\n"
     ]
    },
    {
     "name": "stdin",
     "output_type": "stream",
     "text": [
      "1 if it's OK, add the correct tag if not:  1\n"
     ]
    },
    {
     "name": "stdout",
     "output_type": "stream",
     "text": [
      "('GPE', \"Christie'\", 'fr_core_news_sm')\n"
     ]
    },
    {
     "name": "stdin",
     "output_type": "stream",
     "text": [
      "1 if it's OK, add the correct tag if not:  ORG\n"
     ]
    },
    {
     "name": "stdout",
     "output_type": "stream",
     "text": [
      "('OTHER', 'December 2001', 'fr_core_news_sm')\n"
     ]
    },
    {
     "name": "stdin",
     "output_type": "stream",
     "text": [
      "1 if it's OK, add the correct tag if not:  DATE\n"
     ]
    },
    {
     "name": "stdout",
     "output_type": "stream",
     "text": [
      "('OTHER', 'December 2002', 'fr_core_news_sm')\n"
     ]
    },
    {
     "name": "stdin",
     "output_type": "stream",
     "text": [
      "1 if it's OK, add the correct tag if not:  DATE\n"
     ]
    },
    {
     "name": "stdout",
     "output_type": "stream",
     "text": [
      "('PERSON', 'Barakat Antiquities', 'en_core_web_md')\n"
     ]
    },
    {
     "name": "stdin",
     "output_type": "stream",
     "text": [
      "1 if it's OK, add the correct tag if not:  ORG\n"
     ]
    },
    {
     "name": "stdout",
     "output_type": "stream",
     "text": [
      "('GPE', 'Jerusalem', 'en_core_web_md')\n"
     ]
    },
    {
     "name": "stdin",
     "output_type": "stream",
     "text": [
      "1 if it's OK, add the correct tag if not:  1\n"
     ]
    },
    {
     "name": "stdout",
     "output_type": "stream",
     "text": [
      "('PERSON', 'David Garth', 'en_core_web_md')\n"
     ]
    },
    {
     "name": "stdin",
     "output_type": "stream",
     "text": [
      "1 if it's OK, add the correct tag if not:  1\n"
     ]
    },
    {
     "name": "stdout",
     "output_type": "stream",
     "text": [
      "('OTHER', 'Private collection', 'es_core_news_sm')\n"
     ]
    },
    {
     "name": "stdin",
     "output_type": "stream",
     "text": [
      "1 if it's OK, add the correct tag if not:  1\n"
     ]
    },
    {
     "name": "stdout",
     "output_type": "stream",
     "text": [
      "('ORG', 'Corte Madera', 'es_core_news_sm')\n"
     ]
    },
    {
     "name": "stdin",
     "output_type": "stream",
     "text": [
      "1 if it's OK, add the correct tag if not:  1\n"
     ]
    },
    {
     "name": "stdout",
     "output_type": "stream",
     "text": [
      "('GPE', 'California', 'es_core_news_sm')\n"
     ]
    },
    {
     "name": "stdin",
     "output_type": "stream",
     "text": [
      "1 if it's OK, add the correct tag if not:  1\n"
     ]
    },
    {
     "name": "stdout",
     "output_type": "stream",
     "text": [
      "('PERSON', 'Susan Warner', 'en_core_web_md')\n"
     ]
    },
    {
     "name": "stdin",
     "output_type": "stream",
     "text": [
      "1 if it's OK, add the correct tag if not:  1\n"
     ]
    },
    {
     "name": "stdout",
     "output_type": "stream",
     "text": [
      "('ORG', 'Butterfield & Butterfield', 'en_core_web_md')\n"
     ]
    },
    {
     "name": "stdin",
     "output_type": "stream",
     "text": [
      "1 if it's OK, add the correct tag if not:  1\n"
     ]
    },
    {
     "name": "stdout",
     "output_type": "stream",
     "text": [
      "('GPE', 'San Francisco', 'en_core_web_md')\n"
     ]
    },
    {
     "name": "stdin",
     "output_type": "stream",
     "text": [
      "1 if it's OK, add the correct tag if not:  1\n"
     ]
    },
    {
     "name": "stdout",
     "output_type": "stream",
     "text": [
      "('GPE', 'Israel', 'en_core_web_md')\n"
     ]
    },
    {
     "name": "stdin",
     "output_type": "stream",
     "text": [
      "1 if it's OK, add the correct tag if not:  1\n"
     ]
    },
    {
     "name": "stdout",
     "output_type": "stream",
     "text": [
      "('ORG', 'LUGGALA', 'en_core_web_md')\n"
     ]
    },
    {
     "name": "stdin",
     "output_type": "stream",
     "text": [
      "1 if it's OK, add the correct tag if not:  GPE\n"
     ]
    },
    {
     "name": "stdout",
     "output_type": "stream",
     "text": [
      "('ORG', 'HON', 'en_core_web_md')\n"
     ]
    },
    {
     "name": "stdin",
     "output_type": "stream",
     "text": [
      "1 if it's OK, add the correct tag if not:  OTHER\n"
     ]
    },
    {
     "name": "stdout",
     "output_type": "stream",
     "text": [
      "('GPE', 'Switzerland', 'en_core_web_md')\n"
     ]
    },
    {
     "name": "stdin",
     "output_type": "stream",
     "text": [
      "1 if it's OK, add the correct tag if not:  1\n"
     ]
    },
    {
     "name": "stdout",
     "output_type": "stream",
     "text": [
      "('ORG', 'GENTLEMAN', 'en_core_web_md')\n"
     ]
    },
    {
     "name": "stdin",
     "output_type": "stream",
     "text": [
      "1 if it's OK, add the correct tag if not:  1\n"
     ]
    },
    {
     "name": "stdout",
     "output_type": "stream",
     "text": [
      "('PERSON', 'Henry Pelham', 'en_core_web_md')\n"
     ]
    },
    {
     "name": "stdin",
     "output_type": "stream",
     "text": [
      "1 if it's OK, add the correct tag if not:  1\n"
     ]
    },
    {
     "name": "stdout",
     "output_type": "stream",
     "text": [
      "('PERSON', 'Archibald Douglas Pelham-Clinton', 'en_core_web_md')\n"
     ]
    },
    {
     "name": "stdin",
     "output_type": "stream",
     "text": [
      "1 if it's OK, add the correct tag if not:  1\n"
     ]
    },
    {
     "name": "stdout",
     "output_type": "stream",
     "text": [
      "('GPE', 'Newcastle', 'en_core_web_md')\n"
     ]
    },
    {
     "name": "stdin",
     "output_type": "stream",
     "text": [
      "1 if it's OK, add the correct tag if not:  1\n"
     ]
    },
    {
     "name": "stdout",
     "output_type": "stream",
     "text": [
      "('GPE', 'Clumber Park', 'en_core_web_md')\n"
     ]
    },
    {
     "name": "stdin",
     "output_type": "stream",
     "text": [
      "1 if it's OK, add the correct tag if not:  1\n"
     ]
    },
    {
     "name": "stdout",
     "output_type": "stream",
     "text": [
      "('GPE', 'Nottinghamshire', 'en_core_web_md')\n"
     ]
    },
    {
     "name": "stdin",
     "output_type": "stream",
     "text": [
      "1 if it's OK, add the correct tag if not:  1\n"
     ]
    },
    {
     "name": "stdout",
     "output_type": "stream",
     "text": [
      "('ORG', 'Lincoln', 'en_core_web_md')\n"
     ]
    },
    {
     "name": "stdin",
     "output_type": "stream",
     "text": [
      "1 if it's OK, add the correct tag if not:  GPE\n"
     ]
    },
    {
     "name": "stdout",
     "output_type": "stream",
     "text": [
      "('PERSON', 'Henry Francis Hope Pelham-Clinton-Hope', 'en_core_web_md')\n"
     ]
    },
    {
     "name": "stdin",
     "output_type": "stream",
     "text": [
      "1 if it's OK, add the correct tag if not:  1\n"
     ]
    },
    {
     "name": "stdout",
     "output_type": "stream",
     "text": [
      "('ORG', 'Christie’s', 'en_core_web_md')\n"
     ]
    },
    {
     "name": "stdin",
     "output_type": "stream",
     "text": [
      "1 if it's OK, add the correct tag if not:  1\n"
     ]
    },
    {
     "name": "stdout",
     "output_type": "stream",
     "text": [
      "('NORP', 'Heape', 'en_core_web_md')\n"
     ]
    },
    {
     "name": "stdin",
     "output_type": "stream",
     "text": [
      "1 if it's OK, add the correct tag if not:  PERSON\n"
     ]
    },
    {
     "name": "stdout",
     "output_type": "stream",
     "text": [
      "('NORP', 'French', 'en_core_web_md')\n"
     ]
    },
    {
     "name": "stdin",
     "output_type": "stream",
     "text": [
      "1 if it's OK, add the correct tag if not:  1\n"
     ]
    },
    {
     "name": "stdout",
     "output_type": "stream",
     "text": [
      "('GPE', '巴黎', 'zh_core_web_sm')\n"
     ]
    },
    {
     "name": "stdin",
     "output_type": "stream",
     "text": [
      "1 if it's OK, add the correct tag if not:  1\n"
     ]
    },
    {
     "name": "stdout",
     "output_type": "stream",
     "text": [
      "('PERSON', 'Nathaniel Clements', 'en_core_web_md')\n"
     ]
    },
    {
     "name": "stdin",
     "output_type": "stream",
     "text": [
      "1 if it's OK, add the correct tag if not:  1\n"
     ]
    },
    {
     "name": "stdout",
     "output_type": "stream",
     "text": [
      "('PERSON', '2nd Earl', 'en_core_web_md')\n"
     ]
    },
    {
     "name": "stdin",
     "output_type": "stream",
     "text": [
      "1 if it's OK, add the correct tag if not:  1\n"
     ]
    },
    {
     "name": "stdout",
     "output_type": "stream",
     "text": [
      "('GPE', 'Leitrim', 'en_core_web_md')\n"
     ]
    },
    {
     "name": "stdin",
     "output_type": "stream",
     "text": [
      "1 if it's OK, add the correct tag if not:  1\n"
     ]
    },
    {
     "name": "stdout",
     "output_type": "stream",
     "text": [
      "('ORG', 'KP', 'en_core_web_md')\n"
     ]
    },
    {
     "name": "stdin",
     "output_type": "stream",
     "text": [
      "1 if it's OK, add the correct tag if not:  OTHER\n"
     ]
    },
    {
     "name": "stdout",
     "output_type": "stream",
     "text": [
      "('PERSON', 'KILLADOON HOUSE', 'en_core_web_md')\n"
     ]
    },
    {
     "name": "stdin",
     "output_type": "stream",
     "text": [
      "1 if it's OK, add the correct tag if not:  ORG\n"
     ]
    },
    {
     "name": "stdout",
     "output_type": "stream",
     "text": [
      "('ORG', 'CRG Gallery', 'en_core_web_md')\n"
     ]
    },
    {
     "name": "stdin",
     "output_type": "stream",
     "text": [
      "1 if it's OK, add the correct tag if not:  1\n"
     ]
    },
    {
     "name": "stdout",
     "output_type": "stream",
     "text": [
      "('OTHER', 'English', 'it_core_news_sm')\n"
     ]
    },
    {
     "name": "stdin",
     "output_type": "stream",
     "text": [
      "1 if it's OK, add the correct tag if not:  NORP\n"
     ]
    },
    {
     "name": "stdout",
     "output_type": "stream",
     "text": [
      "('ORG', 'Clarks Auction', 'en_core_web_md')\n"
     ]
    },
    {
     "name": "stdin",
     "output_type": "stream",
     "text": [
      "1 if it's OK, add the correct tag if not:  1\n"
     ]
    },
    {
     "name": "stdout",
     "output_type": "stream",
     "text": [
      "('GPE', 'Liskaerd Cornwall', 'en_core_web_md')\n"
     ]
    },
    {
     "name": "stdin",
     "output_type": "stream",
     "text": [
      "1 if it's OK, add the correct tag if not:  1\n"
     ]
    },
    {
     "name": "stdout",
     "output_type": "stream",
     "text": [
      "('PERSON', 'Edric van Vredenburgh Collection', 'en_core_web_md')\n"
     ]
    },
    {
     "name": "stdin",
     "output_type": "stream",
     "text": [
      "1 if it's OK, add the correct tag if not:  1\n"
     ]
    },
    {
     "name": "stdout",
     "output_type": "stream",
     "text": [
      "('ORG', 'Liskaerd, Cornouailles', 'en_core_web_md')\n"
     ]
    },
    {
     "name": "stdin",
     "output_type": "stream",
     "text": [
      "1 if it's OK, add the correct tag if not:  GPE\n"
     ]
    },
    {
     "name": "stdout",
     "output_type": "stream",
     "text": [
      "('ORG', \"Christie's Hong Kong\", 'en_core_web_md')\n"
     ]
    },
    {
     "name": "stdin",
     "output_type": "stream",
     "text": [
      "1 if it's OK, add the correct tag if not:  1\n"
     ]
    },
    {
     "name": "stdout",
     "output_type": "stream",
     "text": [
      "('GPE', '香港', 'zh_core_web_sm')\n"
     ]
    },
    {
     "name": "stdin",
     "output_type": "stream",
     "text": [
      "1 if it's OK, add the correct tag if not:  1\n"
     ]
    },
    {
     "name": "stdout",
     "output_type": "stream",
     "text": [
      "('NORP', 'Dutch', 'en_core_web_md')\n"
     ]
    },
    {
     "name": "stdin",
     "output_type": "stream",
     "text": [
      "1 if it's OK, add the correct tag if not:  1\n"
     ]
    },
    {
     "name": "stdout",
     "output_type": "stream",
     "text": [
      "('PERSON', 'Samuel P. Avery', 'en_core_web_md')\n"
     ]
    },
    {
     "name": "stdin",
     "output_type": "stream",
     "text": [
      "1 if it's OK, add the correct tag if not:  1\n"
     ]
    },
    {
     "name": "stdout",
     "output_type": "stream",
     "text": [
      "('ORG', 'the Brooklyn Museum', 'en_core_web_md')\n"
     ]
    },
    {
     "name": "stdin",
     "output_type": "stream",
     "text": [
      "1 if it's OK, add the correct tag if not:  1\n"
     ]
    },
    {
     "name": "stdout",
     "output_type": "stream",
     "text": [
      "('GPE', '布魯克林', 'zh_core_web_sm')\n"
     ]
    },
    {
     "name": "stdin",
     "output_type": "stream",
     "text": [
      "1 if it's OK, add the correct tag if not:  1\n"
     ]
    },
    {
     "name": "stdout",
     "output_type": "stream",
     "text": [
      "('PERSON', '布魯克林', 'zh_core_web_sm')\n"
     ]
    },
    {
     "name": "stdin",
     "output_type": "stream",
     "text": [
      "1 if it's OK, add the correct tag if not:  GPE\n"
     ]
    },
    {
     "name": "stdout",
     "output_type": "stream",
     "text": [
      "('PERSON', 'George Terasaki', 'en_core_web_md')\n"
     ]
    },
    {
     "name": "stdin",
     "output_type": "stream",
     "text": [
      "1 if it's OK, add the correct tag if not:  1\n"
     ]
    },
    {
     "name": "stdout",
     "output_type": "stream",
     "text": [
      "('ORG', 'Hotspur Ltd', 'en_core_web_md')\n"
     ]
    },
    {
     "name": "stdin",
     "output_type": "stream",
     "text": [
      "1 if it's OK, add the correct tag if not:  1\n"
     ]
    },
    {
     "name": "stdout",
     "output_type": "stream",
     "text": [
      "('ORG', 'Mallett & Son Ltd.', 'en_core_web_md')\n"
     ]
    },
    {
     "name": "stdin",
     "output_type": "stream",
     "text": [
      "1 if it's OK, add the correct tag if not:  1\n"
     ]
    },
    {
     "name": "stdout",
     "output_type": "stream",
     "text": [
      "('GPE', 'Europe', 'en_core_web_md')\n"
     ]
    },
    {
     "name": "stdin",
     "output_type": "stream",
     "text": [
      "1 if it's OK, add the correct tag if not:  1\n"
     ]
    },
    {
     "name": "stdout",
     "output_type": "stream",
     "text": [
      "('ORG', 'Dominique Thirion Gallery', 'en_core_web_md')\n"
     ]
    },
    {
     "name": "stdin",
     "output_type": "stream",
     "text": [
      "1 if it's OK, add the correct tag if not:  1\n"
     ]
    },
    {
     "name": "stdout",
     "output_type": "stream",
     "text": [
      "('GPE', 'Brussels', 'en_core_web_md')\n"
     ]
    },
    {
     "name": "stdin",
     "output_type": "stream",
     "text": [
      "1 if it's OK, add the correct tag if not:  1\n"
     ]
    },
    {
     "name": "stdout",
     "output_type": "stream",
     "text": [
      "('PERSON', 'Alfred E. Mirsky', 'en_core_web_md')\n"
     ]
    },
    {
     "name": "stdin",
     "output_type": "stream",
     "text": [
      "1 if it's OK, add the correct tag if not:  1\n"
     ]
    },
    {
     "name": "stdout",
     "output_type": "stream",
     "text": [
      "('PERSON', 'Kurt Deppert', 'en_core_web_md')\n"
     ]
    },
    {
     "name": "stdin",
     "output_type": "stream",
     "text": [
      "1 if it's OK, add the correct tag if not:  1\n"
     ]
    },
    {
     "name": "stdout",
     "output_type": "stream",
     "text": [
      "('GPE', 'Frankfurt', 'en_core_web_md')\n"
     ]
    },
    {
     "name": "stdin",
     "output_type": "stream",
     "text": [
      "1 if it's OK, add the correct tag if not:  1\n"
     ]
    },
    {
     "name": "stdout",
     "output_type": "stream",
     "text": [
      "('GPE', 'Germany', 'en_core_web_md')\n"
     ]
    },
    {
     "name": "stdin",
     "output_type": "stream",
     "text": [
      "1 if it's OK, add the correct tag if not:  1\n"
     ]
    },
    {
     "name": "stdout",
     "output_type": "stream",
     "text": [
      "('PERSON', 'Elie Borowski', 'en_core_web_md')\n"
     ]
    },
    {
     "name": "stdin",
     "output_type": "stream",
     "text": [
      "1 if it's OK, add the correct tag if not:  1\n"
     ]
    },
    {
     "name": "stdout",
     "output_type": "stream",
     "text": [
      "('FAC', 'Collection Particulière', 'zh_core_web_sm')\n"
     ]
    },
    {
     "name": "stdin",
     "output_type": "stream",
     "text": [
      "1 if it's OK, add the correct tag if not:  ORG\n"
     ]
    },
    {
     "name": "stdout",
     "output_type": "stream",
     "text": [
      "('ORG', 'CHINE', 'zh_core_web_sm')\n"
     ]
    },
    {
     "name": "stdin",
     "output_type": "stream",
     "text": [
      "1 if it's OK, add the correct tag if not:  NORP\n"
     ]
    },
    {
     "name": "stdout",
     "output_type": "stream",
     "text": [
      "('PERSON', 'Oranmore', 'en_core_web_md')\n"
     ]
    },
    {
     "name": "stdin",
     "output_type": "stream",
     "text": [
      "1 if it's OK, add the correct tag if not:  GPE\n"
     ]
    },
    {
     "name": "stdout",
     "output_type": "stream",
     "text": [
      "('PERSON', 'Browne K.P.', 'en_core_web_md')\n"
     ]
    },
    {
     "name": "stdin",
     "output_type": "stream",
     "text": [
      "1 if it's OK, add the correct tag if not:  1\n"
     ]
    },
    {
     "name": "stdout",
     "output_type": "stream",
     "text": [
      "('GPE', 'Exton Park', 'en_core_web_md')\n"
     ]
    },
    {
     "name": "stdin",
     "output_type": "stream",
     "text": [
      "1 if it's OK, add the correct tag if not:  1\n"
     ]
    },
    {
     "name": "stdout",
     "output_type": "stream",
     "text": [
      "('GPE', 'Rutland', 'en_core_web_md')\n"
     ]
    },
    {
     "name": "stdin",
     "output_type": "stream",
     "text": [
      "1 if it's OK, add the correct tag if not:  1\n"
     ]
    },
    {
     "name": "stdout",
     "output_type": "stream",
     "text": [
      "('ORG', 'ROSALINDE', 'en_core_web_md')\n"
     ]
    },
    {
     "name": "stdin",
     "output_type": "stream",
     "text": [
      "1 if it's OK, add the correct tag if not:  PERSON\n"
     ]
    },
    {
     "name": "stdout",
     "output_type": "stream",
     "text": [
      "('GPE', 'Syon Lodge', 'en_core_web_md')\n"
     ]
    },
    {
     "name": "stdin",
     "output_type": "stream",
     "text": [
      "1 if it's OK, add the correct tag if not:  1\n"
     ]
    },
    {
     "name": "stdout",
     "output_type": "stream",
     "text": [
      "('ORG', 'New York Private Collection', 'en_core_web_md')\n"
     ]
    },
    {
     "name": "stdin",
     "output_type": "stream",
     "text": [
      "1 if it's OK, add the correct tag if not:  1\n"
     ]
    },
    {
     "name": "stdout",
     "output_type": "stream",
     "text": [
      "('ORG', 'New York Art Market', 'en_core_web_md')\n"
     ]
    },
    {
     "name": "stdin",
     "output_type": "stream",
     "text": [
      "1 if it's OK, add the correct tag if not:  1\n"
     ]
    },
    {
     "name": "stdout",
     "output_type": "stream",
     "text": [
      "('OTHER', 'Zurich 12 May', 'de_core_news_sm')\n"
     ]
    },
    {
     "name": "stdin",
     "output_type": "stream",
     "text": [
      "1 if it's OK, add the correct tag if not:  DATE\n"
     ]
    },
    {
     "name": "stdout",
     "output_type": "stream",
     "text": [
      "('ORG', 'Viktor & Edit Baerlocher', 'en_core_web_md')\n"
     ]
    },
    {
     "name": "stdin",
     "output_type": "stream",
     "text": [
      "1 if it's OK, add the correct tag if not:  1\n"
     ]
    },
    {
     "name": "stdout",
     "output_type": "stream",
     "text": [
      "('GPE', 'Vienna', 'en_core_web_md')\n"
     ]
    },
    {
     "name": "stdin",
     "output_type": "stream",
     "text": [
      "1 if it's OK, add the correct tag if not:  1\n"
     ]
    },
    {
     "name": "stdout",
     "output_type": "stream",
     "text": [
      "('GPE', 'Gallen', 'en_core_web_md')\n"
     ]
    },
    {
     "name": "stdin",
     "output_type": "stream",
     "text": [
      "1 if it's OK, add the correct tag if not:  1\n"
     ]
    },
    {
     "name": "stdout",
     "output_type": "stream",
     "text": [
      "('ORG', 'Yamanaka & Company', 'en_core_web_md')\n"
     ]
    },
    {
     "name": "stdin",
     "output_type": "stream",
     "text": [
      "1 if it's OK, add the correct tag if not:  1\n"
     ]
    },
    {
     "name": "stdout",
     "output_type": "stream",
     "text": [
      "('GPE', 'Osaka', 'en_core_web_md')\n"
     ]
    },
    {
     "name": "stdin",
     "output_type": "stream",
     "text": [
      "1 if it's OK, add the correct tag if not:  1\n"
     ]
    },
    {
     "name": "stdout",
     "output_type": "stream",
     "text": [
      "('PERSON', 'William Cary', 'en_core_web_md')\n"
     ]
    },
    {
     "name": "stdin",
     "output_type": "stream",
     "text": [
      "1 if it's OK, add the correct tag if not:  1\n"
     ]
    },
    {
     "name": "stdout",
     "output_type": "stream",
     "text": [
      "('PERSON', 'Lois Crane', 'en_core_web_md')\n"
     ]
    },
    {
     "name": "stdin",
     "output_type": "stream",
     "text": [
      "1 if it's OK, add the correct tag if not:  1\n"
     ]
    },
    {
     "name": "stdout",
     "output_type": "stream",
     "text": [
      "('GPE', '大阪', 'zh_core_web_sm')\n"
     ]
    },
    {
     "name": "stdin",
     "output_type": "stream",
     "text": [
      "1 if it's OK, add the correct tag if not:  1\n"
     ]
    },
    {
     "name": "stdout",
     "output_type": "stream",
     "text": [
      "('PERSON', 'Hei Hung-Lu', 'en_core_web_md')\n"
     ]
    },
    {
     "name": "stdin",
     "output_type": "stream",
     "text": [
      "1 if it's OK, add the correct tag if not:  1\n"
     ]
    },
    {
     "name": "stdout",
     "output_type": "stream",
     "text": [
      "('PERSON', 'Giorgio Sangiorgi', 'en_core_web_md')\n"
     ]
    },
    {
     "name": "stdin",
     "output_type": "stream",
     "text": [
      "1 if it's OK, add the correct tag if not:  1\n"
     ]
    },
    {
     "name": "stdout",
     "output_type": "stream",
     "text": [
      "('GPE', 'Rome', 'en_core_web_md')\n"
     ]
    },
    {
     "name": "stdin",
     "output_type": "stream",
     "text": [
      "1 if it's OK, add the correct tag if not:  1\n"
     ]
    },
    {
     "name": "stdout",
     "output_type": "stream",
     "text": [
      "('OTHER', 'April 2010', 'fr_core_news_sm')\n"
     ]
    },
    {
     "name": "stdin",
     "output_type": "stream",
     "text": [
      "1 if it's OK, add the correct tag if not:  DATE\n"
     ]
    },
    {
     "name": "stdout",
     "output_type": "stream",
     "text": [
      "('GPE', '3653', 'en_core_web_md')\n"
     ]
    },
    {
     "name": "stdin",
     "output_type": "stream",
     "text": [
      "1 if it's OK, add the correct tag if not:  NUMBER\n"
     ]
    },
    {
     "name": "stdout",
     "output_type": "stream",
     "text": [
      "('PERSON', 'Cornelius Vermeule', 'en_core_web_md')\n"
     ]
    },
    {
     "name": "stdin",
     "output_type": "stream",
     "text": [
      "1 if it's OK, add the correct tag if not:  1\n"
     ]
    },
    {
     "name": "stdout",
     "output_type": "stream",
     "text": [
      "('GPE', 'Cambridge', 'en_core_web_md')\n"
     ]
    },
    {
     "name": "stdin",
     "output_type": "stream",
     "text": [
      "1 if it's OK, add the correct tag if not:  1\n"
     ]
    },
    {
     "name": "stdout",
     "output_type": "stream",
     "text": [
      "('GPE', 'MA', 'en_core_web_md')\n"
     ]
    },
    {
     "name": "stdin",
     "output_type": "stream",
     "text": [
      "1 if it's OK, add the correct tag if not:  1\n"
     ]
    },
    {
     "name": "stdout",
     "output_type": "stream",
     "text": [
      "('ORG', 'Hurst Gallery', 'en_core_web_md')\n"
     ]
    },
    {
     "name": "stdin",
     "output_type": "stream",
     "text": [
      "1 if it's OK, add the correct tag if not:  1\n"
     ]
    },
    {
     "name": "stdout",
     "output_type": "stream",
     "text": [
      "('ORG', 'Sotheby’s', 'en_core_web_md')\n"
     ]
    },
    {
     "name": "stdin",
     "output_type": "stream",
     "text": [
      "1 if it's OK, add the correct tag if not:  1\n"
     ]
    },
    {
     "name": "stdout",
     "output_type": "stream",
     "text": [
      "('ORG', 'the Elizabeth A. Keck Collection', 'en_core_web_md')\n"
     ]
    },
    {
     "name": "stdin",
     "output_type": "stream",
     "text": [
      "1 if it's OK, add the correct tag if not:  1\n"
     ]
    },
    {
     "name": "stdout",
     "output_type": "stream",
     "text": [
      "('ORG', 'Luxe', 'en_core_web_md')\n"
     ]
    },
    {
     "name": "stdin",
     "output_type": "stream",
     "text": [
      "1 if it's OK, add the correct tag if not:  1\n"
     ]
    },
    {
     "name": "stdout",
     "output_type": "stream",
     "text": [
      "('ORG', 'Antiquarium', 'en_core_web_md')\n"
     ]
    },
    {
     "name": "stdin",
     "output_type": "stream",
     "text": [
      "1 if it's OK, add the correct tag if not:  1\n"
     ]
    },
    {
     "name": "stdout",
     "output_type": "stream",
     "text": [
      "('PERSON', 'Denny Pinkus', 'en_core_web_md')\n"
     ]
    },
    {
     "name": "stdin",
     "output_type": "stream",
     "text": [
      "1 if it's OK, add the correct tag if not:  1\n"
     ]
    },
    {
     "name": "stdout",
     "output_type": "stream",
     "text": [
      "('GPE', 'Jaffa', 'en_core_web_md')\n"
     ]
    },
    {
     "name": "stdin",
     "output_type": "stream",
     "text": [
      "1 if it's OK, add the correct tag if not:  1\n"
     ]
    },
    {
     "name": "stdout",
     "output_type": "stream",
     "text": [
      "('ORG', 'Fortuna Fine Arts', 'en_core_web_md')\n"
     ]
    },
    {
     "name": "stdin",
     "output_type": "stream",
     "text": [
      "1 if it's OK, add the correct tag if not:  1\n"
     ]
    },
    {
     "name": "stdout",
     "output_type": "stream",
     "text": [
      "('ORG', 'New York Private Collector', 'en_core_web_md')\n"
     ]
    },
    {
     "name": "stdin",
     "output_type": "stream",
     "text": [
      "1 if it's OK, add the correct tag if not:  1\n"
     ]
    },
    {
     "name": "stdout",
     "output_type": "stream",
     "text": [
      "('PERSON', 'Robert Deutch', 'en_core_web_md')\n"
     ]
    },
    {
     "name": "stdin",
     "output_type": "stream",
     "text": [
      "1 if it's OK, add the correct tag if not:  1\n"
     ]
    },
    {
     "name": "stdout",
     "output_type": "stream",
     "text": [
      "('ORG', 'Archaeological Center', 'en_core_web_md')\n"
     ]
    },
    {
     "name": "stdin",
     "output_type": "stream",
     "text": [
      "1 if it's OK, add the correct tag if not:  1\n"
     ]
    },
    {
     "name": "stdout",
     "output_type": "stream",
     "text": [
      "('GPE', 'Tel Aviv', 'en_core_web_md')\n"
     ]
    },
    {
     "name": "stdin",
     "output_type": "stream",
     "text": [
      "1 if it's OK, add the correct tag if not:  1\n"
     ]
    },
    {
     "name": "stdout",
     "output_type": "stream",
     "text": [
      "('PERSON', 'Ralph M', 'zh_core_web_sm')\n"
     ]
    },
    {
     "name": "stdin",
     "output_type": "stream",
     "text": [
      "1 if it's OK, add the correct tag if not:  1\n"
     ]
    },
    {
     "name": "stdout",
     "output_type": "stream",
     "text": [
      "('PERSON', 'Kurokawa', 'en_core_web_md')\n"
     ]
    },
    {
     "name": "stdin",
     "output_type": "stream",
     "text": [
      "1 if it's OK, add the correct tag if not:  1\n"
     ]
    },
    {
     "name": "stdout",
     "output_type": "stream",
     "text": [
      "('GPE', 'Japan', 'en_core_web_md')\n"
     ]
    },
    {
     "name": "stdin",
     "output_type": "stream",
     "text": [
      "1 if it's OK, add the correct tag if not:  1\n"
     ]
    },
    {
     "name": "stdout",
     "output_type": "stream",
     "text": [
      "('ORG', 'Sotheby Parke Bernet Inc', 'en_core_web_md')\n"
     ]
    },
    {
     "name": "stdin",
     "output_type": "stream",
     "text": [
      "1 if it's OK, add the correct tag if not:  1\n"
     ]
    },
    {
     "name": "stdout",
     "output_type": "stream",
     "text": [
      "('GPE', 'Minneapolis', 'en_core_web_md')\n"
     ]
    },
    {
     "name": "stdin",
     "output_type": "stream",
     "text": [
      "1 if it's OK, add the correct tag if not:  1\n"
     ]
    },
    {
     "name": "stdout",
     "output_type": "stream",
     "text": [
      "('GPE', 'U.S.A.', 'en_core_web_md')\n"
     ]
    },
    {
     "name": "stdin",
     "output_type": "stream",
     "text": [
      "1 if it's OK, add the correct tag if not:  1\n"
     ]
    },
    {
     "name": "stdout",
     "output_type": "stream",
     "text": [
      "('PERSON', 'Thomas Barlow Walker', 'en_core_web_md')\n"
     ]
    },
    {
     "name": "stdin",
     "output_type": "stream",
     "text": [
      "1 if it's OK, add the correct tag if not:  1\n"
     ]
    },
    {
     "name": "stdout",
     "output_type": "stream",
     "text": [
      "('NORP', 'Japanese', 'en_core_web_md')\n"
     ]
    },
    {
     "name": "stdin",
     "output_type": "stream",
     "text": [
      "1 if it's OK, add the correct tag if not:  1\n"
     ]
    },
    {
     "name": "stdout",
     "output_type": "stream",
     "text": [
      "('ORG', 'the Aoyama Studio Collection', 'en_core_web_md')\n"
     ]
    },
    {
     "name": "stdin",
     "output_type": "stream",
     "text": [
      "1 if it's OK, add the correct tag if not:  1\n"
     ]
    },
    {
     "name": "stdout",
     "output_type": "stream",
     "text": [
      "('GPE', '日本', 'zh_core_web_sm')\n"
     ]
    },
    {
     "name": "stdin",
     "output_type": "stream",
     "text": [
      "1 if it's OK, add the correct tag if not:  1\n"
     ]
    },
    {
     "name": "stdout",
     "output_type": "stream",
     "text": [
      "('ORG', 'the De An Tang Collection', 'en_core_web_md')\n"
     ]
    },
    {
     "name": "stdin",
     "output_type": "stream",
     "text": [
      "1 if it's OK, add the correct tag if not:  1\n"
     ]
    },
    {
     "name": "stdout",
     "output_type": "stream",
     "text": [
      "('PERSON', '德安堂藏玉', 'en_core_web_md')\n"
     ]
    },
    {
     "name": "stdin",
     "output_type": "stream",
     "text": [
      "1 if it's OK, add the correct tag if not:  1\n"
     ]
    },
    {
     "name": "stdout",
     "output_type": "stream",
     "text": [
      "('GPE', 'Lebanon', 'en_core_web_md')\n"
     ]
    },
    {
     "name": "stdin",
     "output_type": "stream",
     "text": [
      "1 if it's OK, add the correct tag if not:  1\n"
     ]
    },
    {
     "name": "stdout",
     "output_type": "stream",
     "text": [
      "('GPE', 'Beirut', 'en_core_web_md')\n"
     ]
    },
    {
     "name": "stdin",
     "output_type": "stream",
     "text": [
      "1 if it's OK, add the correct tag if not:  1\n"
     ]
    },
    {
     "name": "stdout",
     "output_type": "stream",
     "text": [
      "('GPE', 'Geneva', 'en_core_web_md')\n"
     ]
    },
    {
     "name": "stdin",
     "output_type": "stream",
     "text": [
      "1 if it's OK, add the correct tag if not:  1\n"
     ]
    },
    {
     "name": "stdout",
     "output_type": "stream",
     "text": [
      "('NORP', 'European', 'en_core_web_md')\n"
     ]
    },
    {
     "name": "stdin",
     "output_type": "stream",
     "text": [
      "1 if it's OK, add the correct tag if not:  1\n"
     ]
    },
    {
     "name": "stdout",
     "output_type": "stream",
     "text": [
      "('PERSON', 'Ramos Studio', 'lt_core_news_sm')\n"
     ]
    },
    {
     "name": "stdin",
     "output_type": "stream",
     "text": [
      "1 if it's OK, add the correct tag if not:  1\n"
     ]
    },
    {
     "name": "stdout",
     "output_type": "stream",
     "text": [
      "('PERSON', 'Oakland', 'lt_core_news_sm')\n"
     ]
    },
    {
     "name": "stdin",
     "output_type": "stream",
     "text": [
      "1 if it's OK, add the correct tag if not:  GPE\n"
     ]
    },
    {
     "name": "stdout",
     "output_type": "stream",
     "text": [
      "('ORG', 'March', 'de_core_news_sm')\n"
     ]
    },
    {
     "name": "stdin",
     "output_type": "stream",
     "text": [
      "1 if it's OK, add the correct tag if not:  DATE\n"
     ]
    },
    {
     "name": "stdout",
     "output_type": "stream",
     "text": [
      "('ORG', 'Japanese Private Collection', 'es_core_news_sm')\n"
     ]
    },
    {
     "name": "stdin",
     "output_type": "stream",
     "text": [
      "1 if it's OK, add the correct tag if not:  1\n"
     ]
    },
    {
     "name": "stdout",
     "output_type": "stream",
     "text": [
      "('OTHER', 'Mandi royal collection', 'it_core_news_sm')\n"
     ]
    },
    {
     "name": "stdin",
     "output_type": "stream",
     "text": [
      "1 if it's OK, add the correct tag if not:  ORG\n"
     ]
    },
    {
     "name": "stdout",
     "output_type": "stream",
     "text": [
      "('PERSON', 'Theodore Graf', 'en_core_web_md')\n"
     ]
    },
    {
     "name": "stdin",
     "output_type": "stream",
     "text": [
      "1 if it's OK, add the correct tag if not:  1\n"
     ]
    },
    {
     "name": "stdout",
     "output_type": "stream",
     "text": [
      "('GPE', 'Austria', 'en_core_web_md')\n"
     ]
    },
    {
     "name": "stdin",
     "output_type": "stream",
     "text": [
      "1 if it's OK, add the correct tag if not:  1\n"
     ]
    },
    {
     "name": "stdout",
     "output_type": "stream",
     "text": [
      "('ORG', 'Austrian Private Collection', 'en_core_web_md')\n"
     ]
    },
    {
     "name": "stdin",
     "output_type": "stream",
     "text": [
      "1 if it's OK, add the correct tag if not:  1\n"
     ]
    },
    {
     "name": "stdout",
     "output_type": "stream",
     "text": [
      "('PERSON', 'Kai-Yin Lo 羅啟姸收藏', 'en_core_web_md')\n"
     ]
    },
    {
     "name": "stdin",
     "output_type": "stream",
     "text": [
      "1 if it's OK, add the correct tag if not:  1\n"
     ]
    },
    {
     "name": "stdout",
     "output_type": "stream",
     "text": [
      "('ORG', 'the Hagop Kevorkian Fund', 'en_core_web_md')\n"
     ]
    },
    {
     "name": "stdin",
     "output_type": "stream",
     "text": [
      "1 if it's OK, add the correct tag if not:  1\n"
     ]
    },
    {
     "name": "stdout",
     "output_type": "stream",
     "text": [
      "('PERSON', 'Fine Oriental Manuscripts', 'en_core_web_md')\n"
     ]
    },
    {
     "name": "stdin",
     "output_type": "stream",
     "text": [
      "1 if it's OK, add the correct tag if not:  ORG\n"
     ]
    },
    {
     "name": "stdout",
     "output_type": "stream",
     "text": [
      "('PERSON', 'Magdeleine Blanche', 'en_core_web_md')\n"
     ]
    },
    {
     "name": "stdin",
     "output_type": "stream",
     "text": [
      "1 if it's OK, add the correct tag if not:  1\n"
     ]
    },
    {
     "name": "stdout",
     "output_type": "stream",
     "text": [
      "('PERSON', 'Nolie Croset', 'en_core_web_md')\n"
     ]
    },
    {
     "name": "stdin",
     "output_type": "stream",
     "text": [
      "1 if it's OK, add the correct tag if not:  1\n"
     ]
    },
    {
     "name": "stdout",
     "output_type": "stream",
     "text": [
      "('GPE', 'France', 'en_core_web_md')\n"
     ]
    },
    {
     "name": "stdin",
     "output_type": "stream",
     "text": [
      "1 if it's OK, add the correct tag if not:  1\n"
     ]
    },
    {
     "name": "stdout",
     "output_type": "stream",
     "text": [
      "('PERSON', 'Richard Burnett', 'en_core_web_md')\n"
     ]
    },
    {
     "name": "stdin",
     "output_type": "stream",
     "text": [
      "1 if it's OK, add the correct tag if not:  1\n"
     ]
    },
    {
     "name": "stdout",
     "output_type": "stream",
     "text": [
      "('PERSON', 'J. Sam Houston', 'en_core_web_md')\n"
     ]
    },
    {
     "name": "stdin",
     "output_type": "stream",
     "text": [
      "1 if it's OK, add the correct tag if not:  1\n"
     ]
    },
    {
     "name": "stdout",
     "output_type": "stream",
     "text": [
      "('PERSON', 'Adonna Houston', 'en_core_web_md')\n"
     ]
    },
    {
     "name": "stdin",
     "output_type": "stream",
     "text": [
      "1 if it's OK, add the correct tag if not:  1\n"
     ]
    },
    {
     "name": "stdout",
     "output_type": "stream",
     "text": [
      "('ORG', 'Gentry Dog', 'en_core_web_md')\n"
     ]
    },
    {
     "name": "stdin",
     "output_type": "stream",
     "text": [
      "1 if it's OK, add the correct tag if not:  1\n"
     ]
    },
    {
     "name": "stdout",
     "output_type": "stream",
     "text": [
      "('GPE', 'Long Beach', 'en_core_web_md')\n"
     ]
    },
    {
     "name": "stdin",
     "output_type": "stream",
     "text": [
      "1 if it's OK, add the correct tag if not:  1\n"
     ]
    },
    {
     "name": "stdout",
     "output_type": "stream",
     "text": [
      "('PERSON', 'Larry Mooney', 'en_core_web_md')\n"
     ]
    },
    {
     "name": "stdin",
     "output_type": "stream",
     "text": [
      "1 if it's OK, add the correct tag if not:  1\n"
     ]
    },
    {
     "name": "stdout",
     "output_type": "stream",
     "text": [
      "('PERSON', 'Popo DeBathe', 'en_core_web_md')\n"
     ]
    },
    {
     "name": "stdin",
     "output_type": "stream",
     "text": [
      "1 if it's OK, add the correct tag if not:  1\n"
     ]
    },
    {
     "name": "stdout",
     "output_type": "stream",
     "text": [
      "('GPE', 'Virginia', 'en_core_web_md')\n"
     ]
    },
    {
     "name": "stdin",
     "output_type": "stream",
     "text": [
      "1 if it's OK, add the correct tag if not:  1\n"
     ]
    },
    {
     "name": "stdout",
     "output_type": "stream",
     "text": [
      "('PERSON', 'Lynne Bell', 'en_core_web_md')\n"
     ]
    },
    {
     "name": "stdin",
     "output_type": "stream",
     "text": [
      "1 if it's OK, add the correct tag if not:  1\n"
     ]
    },
    {
     "name": "stdout",
     "output_type": "stream",
     "text": [
      "('GPE', 'Iowa', 'en_core_web_md')\n"
     ]
    },
    {
     "name": "stdin",
     "output_type": "stream",
     "text": [
      "1 if it's OK, add the correct tag if not:  1\n"
     ]
    },
    {
     "name": "stdout",
     "output_type": "stream",
     "text": [
      "('NORP', 'JAMIESON', 'en_core_web_md')\n"
     ]
    },
    {
     "name": "stdin",
     "output_type": "stream",
     "text": [
      "1 if it's OK, add the correct tag if not:  ORG\n"
     ]
    },
    {
     "name": "stdout",
     "output_type": "stream",
     "text": [
      "('PERSON', 'Billy Jamieson', 'en_core_web_md')\n"
     ]
    },
    {
     "name": "stdin",
     "output_type": "stream",
     "text": [
      "1 if it's OK, add the correct tag if not:  1\n"
     ]
    },
    {
     "name": "stdout",
     "output_type": "stream",
     "text": [
      "('GPE', 'Toronto', 'en_core_web_md')\n"
     ]
    },
    {
     "name": "stdin",
     "output_type": "stream",
     "text": [
      "1 if it's OK, add the correct tag if not:  1\n"
     ]
    },
    {
     "name": "stdout",
     "output_type": "stream",
     "text": [
      "('ORG', 'Schoonover Studios Ltd', 'es_core_news_sm')\n"
     ]
    },
    {
     "name": "stdin",
     "output_type": "stream",
     "text": [
      "1 if it's OK, add the correct tag if not:  1\n"
     ]
    },
    {
     "name": "stdout",
     "output_type": "stream",
     "text": [
      "('ORG', 'Rossi & Rossi Ltd, London', 'it_core_news_sm')\n"
     ]
    },
    {
     "name": "stdin",
     "output_type": "stream",
     "text": [
      "1 if it's OK, add the correct tag if not:  1\n"
     ]
    },
    {
     "name": "stdout",
     "output_type": "stream",
     "text": [
      "('OTHER', 'December 1995', 'it_core_news_sm')\n"
     ]
    },
    {
     "name": "stdin",
     "output_type": "stream",
     "text": [
      "1 if it's OK, add the correct tag if not:  DATE\n"
     ]
    },
    {
     "name": "stdout",
     "output_type": "stream",
     "text": [
      "('PERSON', 'Rossi', 'zh_core_web_sm')\n"
     ]
    },
    {
     "name": "stdin",
     "output_type": "stream",
     "text": [
      "1 if it's OK, add the correct tag if not:  1\n"
     ]
    },
    {
     "name": "stdout",
     "output_type": "stream",
     "text": [
      "('PERSON', 'C.T. Loo', 'en_core_web_md')\n"
     ]
    },
    {
     "name": "stdin",
     "output_type": "stream",
     "text": [
      "1 if it's OK, add the correct tag if not:  ORG\n"
     ]
    },
    {
     "name": "stdout",
     "output_type": "stream",
     "text": [
      "('ORG', 'Private Library', 'en_core_web_md')\n"
     ]
    },
    {
     "name": "stdin",
     "output_type": "stream",
     "text": [
      "1 if it's OK, add the correct tag if not:  1\n"
     ]
    },
    {
     "name": "stdout",
     "output_type": "stream",
     "text": [
      "('PERSON', 'Frank Caro', 'en_core_web_md')\n"
     ]
    },
    {
     "name": "stdin",
     "output_type": "stream",
     "text": [
      "1 if it's OK, add the correct tag if not:  1\n"
     ]
    },
    {
     "name": "stdout",
     "output_type": "stream",
     "text": [
      "('PERSON', '盧芹齋', 'zh_core_web_sm')\n"
     ]
    },
    {
     "name": "stdin",
     "output_type": "stream",
     "text": [
      "1 if it's OK, add the correct tag if not:  1\n"
     ]
    },
    {
     "name": "stdout",
     "output_type": "stream",
     "text": [
      "('ORG', 'London', 'it_core_news_sm')\n"
     ]
    },
    {
     "name": "stdin",
     "output_type": "stream",
     "text": [
      "1 if it's OK, add the correct tag if not:  GPE\n"
     ]
    },
    {
     "name": "stdout",
     "output_type": "stream",
     "text": [
      "('PERSON', 'Sleiman Aboutaam', 'en_core_web_md')\n"
     ]
    },
    {
     "name": "stdin",
     "output_type": "stream",
     "text": [
      "1 if it's OK, add the correct tag if not:  1\n"
     ]
    },
    {
     "name": "stdout",
     "output_type": "stream",
     "text": [
      "('PERSON', 'Charles Pankow', 'en_core_web_md')\n"
     ]
    },
    {
     "name": "stdin",
     "output_type": "stream",
     "text": [
      "1 if it's OK, add the correct tag if not:  1\n"
     ]
    },
    {
     "name": "stdout",
     "output_type": "stream",
     "text": [
      "('ORG', 'Sotheby’s Parke Bernet', 'en_core_web_md')\n"
     ]
    },
    {
     "name": "stdin",
     "output_type": "stream",
     "text": [
      "1 if it's OK, add the correct tag if not:  1\n"
     ]
    },
    {
     "name": "stdout",
     "output_type": "stream",
     "text": [
      "('GPE', 'Egypt', 'en_core_web_md')\n"
     ]
    },
    {
     "name": "stdin",
     "output_type": "stream",
     "text": [
      "1 if it's OK, add the correct tag if not:  1\n"
     ]
    },
    {
     "name": "stdout",
     "output_type": "stream",
     "text": [
      "('PERSON', 'K. A. Moosberg', 'en_core_web_md')\n"
     ]
    },
    {
     "name": "stdin",
     "output_type": "stream",
     "text": [
      "1 if it's OK, add the correct tag if not:  1\n"
     ]
    },
    {
     "name": "stdout",
     "output_type": "stream",
     "text": [
      "('PERSON', 'Elsa Bloch-Diener', 'en_core_web_md')\n"
     ]
    },
    {
     "name": "stdin",
     "output_type": "stream",
     "text": [
      "1 if it's OK, add the correct tag if not:  1\n"
     ]
    },
    {
     "name": "stdout",
     "output_type": "stream",
     "text": [
      "('ORG', 'Bern', 'en_core_web_md')\n"
     ]
    },
    {
     "name": "stdin",
     "output_type": "stream",
     "text": [
      "1 if it's OK, add the correct tag if not:  1\n"
     ]
    },
    {
     "name": "stdout",
     "output_type": "stream",
     "text": [
      "('OTHER', 'Surena collection', 'it_core_news_sm')\n"
     ]
    },
    {
     "name": "stdin",
     "output_type": "stream",
     "text": [
      "1 if it's OK, add the correct tag if not:  ORG\n"
     ]
    },
    {
     "name": "stdout",
     "output_type": "stream",
     "text": [
      "('PERSON', 'Edward I. Farmer', 'en_core_web_md')\n"
     ]
    },
    {
     "name": "stdin",
     "output_type": "stream",
     "text": [
      "1 if it's OK, add the correct tag if not:  1\n"
     ]
    },
    {
     "name": "stdout",
     "output_type": "stream",
     "text": [
      "('GPE', 'New Jersey', 'en_core_web_md')\n"
     ]
    },
    {
     "name": "stdin",
     "output_type": "stream",
     "text": [
      "1 if it's OK, add the correct tag if not:  1\n"
     ]
    },
    {
     "name": "stdout",
     "output_type": "stream",
     "text": [
      "('ORG', 'Delbeke House', 'en_core_web_md')\n"
     ]
    },
    {
     "name": "stdin",
     "output_type": "stream",
     "text": [
      "1 if it's OK, add the correct tag if not:  1\n"
     ]
    },
    {
     "name": "stdout",
     "output_type": "stream",
     "text": [
      "('GPE', 'Antwerp', 'en_core_web_md')\n"
     ]
    },
    {
     "name": "stdin",
     "output_type": "stream",
     "text": [
      "1 if it's OK, add the correct tag if not:  1\n"
     ]
    },
    {
     "name": "stdout",
     "output_type": "stream",
     "text": [
      "('PERSON', 'Christopher Sheppard', 'en_core_web_md')\n"
     ]
    },
    {
     "name": "stdin",
     "output_type": "stream",
     "text": [
      "1 if it's OK, add the correct tag if not:  1\n"
     ]
    },
    {
     "name": "stdout",
     "output_type": "stream",
     "text": [
      "('PERSON', 'José Felipe de Alcover', 'en_core_web_md')\n"
     ]
    },
    {
     "name": "stdin",
     "output_type": "stream",
     "text": [
      "1 if it's OK, add the correct tag if not:  1\n"
     ]
    },
    {
     "name": "stdout",
     "output_type": "stream",
     "text": [
      "('PERSON', 'Sureda', 'en_core_web_md')\n"
     ]
    },
    {
     "name": "stdin",
     "output_type": "stream",
     "text": [
      "1 if it's OK, add the correct tag if not:  1\n"
     ]
    },
    {
     "name": "stdout",
     "output_type": "stream",
     "text": [
      "('PERSON', 'kilga', 'en_core_web_md')\n"
     ]
    },
    {
     "name": "stdin",
     "output_type": "stream",
     "text": [
      "1 if it's OK, add the correct tag if not:  OTHER\n"
     ]
    },
    {
     "name": "stdout",
     "output_type": "stream",
     "text": [
      "('WORK_OF_ART', 'Sureda', 'en_core_web_md')\n"
     ]
    },
    {
     "name": "stdin",
     "output_type": "stream",
     "text": [
      "1 if it's OK, add the correct tag if not:  OTHER\n"
     ]
    },
    {
     "name": "stdout",
     "output_type": "stream",
     "text": [
      "('GPE', 'the Middle East', 'en_core_web_md')\n"
     ]
    },
    {
     "name": "stdin",
     "output_type": "stream",
     "text": [
      "1 if it's OK, add the correct tag if not:  1\n"
     ]
    },
    {
     "name": "stdout",
     "output_type": "stream",
     "text": [
      "('NORP', 'Spanish', 'en_core_web_md')\n"
     ]
    },
    {
     "name": "stdin",
     "output_type": "stream",
     "text": [
      "1 if it's OK, add the correct tag if not:  1\n"
     ]
    },
    {
     "name": "stdout",
     "output_type": "stream",
     "text": [
      "('ORG', 'Foreign Affairs', 'en_core_web_md')\n"
     ]
    },
    {
     "name": "stdin",
     "output_type": "stream",
     "text": [
      "1 if it's OK, add the correct tag if not:  1\n"
     ]
    },
    {
     "name": "stdout",
     "output_type": "stream",
     "text": [
      "('ORG', 'Consul-General', 'en_core_web_md')\n"
     ]
    },
    {
     "name": "stdin",
     "output_type": "stream",
     "text": [
      "1 if it's OK, add the correct tag if not:  1\n"
     ]
    },
    {
     "name": "stdout",
     "output_type": "stream",
     "text": [
      "('ORG', 'Surena', 'en_core_web_md')\n"
     ]
    },
    {
     "name": "stdin",
     "output_type": "stream",
     "text": [
      "1 if it's OK, add the correct tag if not:  OTHER\n"
     ]
    },
    {
     "name": "stdout",
     "output_type": "stream",
     "text": [
      "('GPE', 'Rabat', 'en_core_web_md')\n"
     ]
    },
    {
     "name": "stdin",
     "output_type": "stream",
     "text": [
      "1 if it's OK, add the correct tag if not:  1\n"
     ]
    },
    {
     "name": "stdout",
     "output_type": "stream",
     "text": [
      "('ORG', 'Empress Alexandra Feodorovna', 'en_core_web_md')\n"
     ]
    },
    {
     "name": "stdin",
     "output_type": "stream",
     "text": [
      "1 if it's OK, add the correct tag if not:  1\n"
     ]
    },
    {
     "name": "stdout",
     "output_type": "stream",
     "text": [
      "('ORG', 'Fabergé', 'en_core_web_md')\n"
     ]
    },
    {
     "name": "stdin",
     "output_type": "stream",
     "text": [
      "1 if it's OK, add the correct tag if not:  1\n"
     ]
    },
    {
     "name": "stdout",
     "output_type": "stream",
     "text": [
      "('GPE', 'St Petersburg', 'en_core_web_md')\n"
     ]
    },
    {
     "name": "stdin",
     "output_type": "stream",
     "text": [
      "1 if it's OK, add the correct tag if not:  1\n"
     ]
    },
    {
     "name": "stdout",
     "output_type": "stream",
     "text": [
      "('PERSON', 'Louis Battenberg', 'en_core_web_md')\n"
     ]
    },
    {
     "name": "stdin",
     "output_type": "stream",
     "text": [
      "1 if it's OK, add the correct tag if not:  1\n"
     ]
    },
    {
     "name": "stdout",
     "output_type": "stream",
     "text": [
      "('PERSON', 'Princess Victoria', 'en_core_web_md')\n"
     ]
    },
    {
     "name": "stdin",
     "output_type": "stream",
     "text": [
      "1 if it's OK, add the correct tag if not:  1\n"
     ]
    },
    {
     "name": "stdout",
     "output_type": "stream",
     "text": [
      "('GPE', 'Empress', 'en_core_web_md')\n"
     ]
    },
    {
     "name": "stdin",
     "output_type": "stream",
     "text": [
      "1 if it's OK, add the correct tag if not:  PERSON\n"
     ]
    },
    {
     "name": "stdout",
     "output_type": "stream",
     "text": [
      "('PERSON', 'Blanche Ryan', 'en_core_web_md')\n"
     ]
    },
    {
     "name": "stdin",
     "output_type": "stream",
     "text": [
      "1 if it's OK, add the correct tag if not:  1\n"
     ]
    },
    {
     "name": "stdout",
     "output_type": "stream",
     "text": [
      "('ORG', 'Merlin Montagu Douglas Scott', 'en_core_web_md')\n"
     ]
    },
    {
     "name": "stdin",
     "output_type": "stream",
     "text": [
      "1 if it's OK, add the correct tag if not:  PERSON\n"
     ]
    },
    {
     "name": "stdout",
     "output_type": "stream",
     "text": [
      "('ORG', 'the Merlin Trust', 'en_core_web_md')\n"
     ]
    },
    {
     "name": "stdin",
     "output_type": "stream",
     "text": [
      "1 if it's OK, add the correct tag if not:  1\n"
     ]
    },
    {
     "name": "stdout",
     "output_type": "stream",
     "text": [
      "('ORG', 'Gallery Rosen Ancient Art', 'en_core_web_md')\n"
     ]
    },
    {
     "name": "stdin",
     "output_type": "stream",
     "text": [
      "1 if it's OK, add the correct tag if not:  1\n"
     ]
    },
    {
     "name": "stdout",
     "output_type": "stream",
     "text": [
      "('PERSON', 'Kunsthandel Nicolaas Beets', 'en_core_web_md')\n"
     ]
    },
    {
     "name": "stdin",
     "output_type": "stream",
     "text": [
      "1 if it's OK, add the correct tag if not:  1\n"
     ]
    },
    {
     "name": "stdout",
     "output_type": "stream",
     "text": [
      "('GPE', 'Amsterdam', 'en_core_web_md')\n"
     ]
    },
    {
     "name": "stdin",
     "output_type": "stream",
     "text": [
      "1 if it's OK, add the correct tag if not:  1\n"
     ]
    },
    {
     "name": "stdout",
     "output_type": "stream",
     "text": [
      "('PERSON', 'Anton C.R. Dreesmann', 'en_core_web_md')\n"
     ]
    },
    {
     "name": "stdin",
     "output_type": "stream",
     "text": [
      "1 if it's OK, add the correct tag if not:  1\n"
     ]
    },
    {
     "name": "stdout",
     "output_type": "stream",
     "text": [
      "('PERSON', 'Laren', 'en_core_web_md')\n"
     ]
    },
    {
     "name": "stdin",
     "output_type": "stream",
     "text": [
      "1 if it's OK, add the correct tag if not:  1\n"
     ]
    },
    {
     "name": "stdout",
     "output_type": "stream",
     "text": [
      "('PERSON', 'Anton C.R. Dreesmann Collection', 'en_core_web_md')\n"
     ]
    },
    {
     "name": "stdin",
     "output_type": "stream",
     "text": [
      "1 if it's OK, add the correct tag if not:  1\n"
     ]
    },
    {
     "name": "stdout",
     "output_type": "stream",
     "text": [
      "('PERSON', 'Marianne Dreesmann', 'en_core_web_md')\n"
     ]
    },
    {
     "name": "stdin",
     "output_type": "stream",
     "text": [
      "1 if it's OK, add the correct tag if not:  1\n"
     ]
    },
    {
     "name": "stdout",
     "output_type": "stream",
     "text": [
      "('GPE', 'C007', 'nl_core_news_sm')\n"
     ]
    },
    {
     "name": "stdin",
     "output_type": "stream",
     "text": [
      "1 if it's OK, add the correct tag if not:  OTHER\n"
     ]
    },
    {
     "name": "stdout",
     "output_type": "stream",
     "text": [
      "('OTHER', 'C164', 'fr_core_news_sm')\n"
     ]
    },
    {
     "name": "stdin",
     "output_type": "stream",
     "text": [
      "1 if it's OK, add the correct tag if not:  1\n"
     ]
    },
    {
     "name": "stdout",
     "output_type": "stream",
     "text": [
      "('PERSON', 'Sa vente', 'en_core_web_md')\n"
     ]
    },
    {
     "name": "stdin",
     "output_type": "stream",
     "text": [
      "1 if it's OK, add the correct tag if not:  OTHER\n"
     ]
    },
    {
     "name": "stdout",
     "output_type": "stream",
     "text": [
      "('PERSON', 'Jean-Pierre Laprugne', 'en_core_web_md')\n"
     ]
    },
    {
     "name": "stdin",
     "output_type": "stream",
     "text": [
      "1 if it's OK, add the correct tag if not:  1\n"
     ]
    },
    {
     "name": "stdout",
     "output_type": "stream",
     "text": [
      "('PERSON', 'Tom White', 'en_core_web_md')\n"
     ]
    },
    {
     "name": "stdin",
     "output_type": "stream",
     "text": [
      "1 if it's OK, add the correct tag if not:  1\n"
     ]
    },
    {
     "name": "stdout",
     "output_type": "stream",
     "text": [
      "('PERSON', 'London', 'zh_core_web_sm')\n"
     ]
    },
    {
     "name": "stdin",
     "output_type": "stream",
     "text": [
      "1 if it's OK, add the correct tag if not:  GPE\n"
     ]
    },
    {
     "name": "stdout",
     "output_type": "stream",
     "text": [
      "('PRODUCT', '1083', 'en_core_web_md')\n"
     ]
    },
    {
     "name": "stdin",
     "output_type": "stream",
     "text": [
      "1 if it's OK, add the correct tag if not:  OTHER\n"
     ]
    },
    {
     "name": "stdout",
     "output_type": "stream",
     "text": [
      "('PERSON', 'Susan\\xa0Ollemans', 'ja_core_news_sm')\n"
     ]
    },
    {
     "name": "stdin",
     "output_type": "stream",
     "text": [
      "1 if it's OK, add the correct tag if not:  1\n"
     ]
    },
    {
     "name": "stdout",
     "output_type": "stream",
     "text": [
      "('PERSON', 'Gisèle Croës', 'en_core_web_md')\n"
     ]
    },
    {
     "name": "stdin",
     "output_type": "stream",
     "text": [
      "1 if it's OK, add the correct tag if not:  1\n"
     ]
    },
    {
     "name": "stdout",
     "output_type": "stream",
     "text": [
      "('ORG', 'an Important American Private Collection', 'en_core_web_md')\n"
     ]
    },
    {
     "name": "stdin",
     "output_type": "stream",
     "text": [
      "1 if it's OK, add the correct tag if not:  1\n"
     ]
    },
    {
     "name": "stdout",
     "output_type": "stream",
     "text": [
      "('ORG', 'Khawam Brothers', 'en_core_web_md')\n"
     ]
    },
    {
     "name": "stdin",
     "output_type": "stream",
     "text": [
      "1 if it's OK, add the correct tag if not:  1\n"
     ]
    },
    {
     "name": "stdout",
     "output_type": "stream",
     "text": [
      "('PERSON', 'Dan E. Richardson', 'en_core_web_md')\n"
     ]
    },
    {
     "name": "stdin",
     "output_type": "stream",
     "text": [
      "1 if it's OK, add the correct tag if not:  1\n"
     ]
    },
    {
     "name": "stdout",
     "output_type": "stream",
     "text": [
      "('PERSON', 'Richardson', 'zh_core_web_sm')\n"
     ]
    },
    {
     "name": "stdin",
     "output_type": "stream",
     "text": [
      "1 if it's OK, add the correct tag if not:  1\n"
     ]
    },
    {
     "name": "stdout",
     "output_type": "stream",
     "text": [
      "('PERSON', 'Junkunc', 'en_core_web_md')\n"
     ]
    },
    {
     "name": "stdin",
     "output_type": "stream",
     "text": [
      "1 if it's OK, add the correct tag if not:  1\n"
     ]
    },
    {
     "name": "stdout",
     "output_type": "stream",
     "text": [
      "('PERSON', 'Stephen Junkunc', 'en_core_web_md')\n"
     ]
    },
    {
     "name": "stdin",
     "output_type": "stream",
     "text": [
      "1 if it's OK, add the correct tag if not:  1\n"
     ]
    },
    {
     "name": "stdout",
     "output_type": "stream",
     "text": [
      "('GPE', 'Bonhams Hong Kong', 'pt_core_news_sm')\n"
     ]
    },
    {
     "name": "stdin",
     "output_type": "stream",
     "text": [
      "1 if it's OK, add the correct tag if not:  ORG\n"
     ]
    },
    {
     "name": "stdout",
     "output_type": "stream",
     "text": [
      "('OTHER', '24th November', 'pt_core_news_sm')\n"
     ]
    },
    {
     "name": "stdin",
     "output_type": "stream",
     "text": [
      "1 if it's OK, add the correct tag if not:  DATE\n"
     ]
    },
    {
     "name": "stdout",
     "output_type": "stream",
     "text": [
      "('FAC', '288', 'zh_core_web_sm')\n"
     ]
    },
    {
     "name": "stdin",
     "output_type": "stream",
     "text": [
      "1 if it's OK, add the correct tag if not:  OTHER\n"
     ]
    },
    {
     "name": "stdout",
     "output_type": "stream",
     "text": [
      "('PERSON', 'Joseph Leeson', 'en_core_web_md')\n"
     ]
    },
    {
     "name": "stdin",
     "output_type": "stream",
     "text": [
      "1 if it's OK, add the correct tag if not:  1\n"
     ]
    },
    {
     "name": "stdout",
     "output_type": "stream",
     "text": [
      "('GPE', 'Milltown', 'en_core_web_md')\n"
     ]
    },
    {
     "name": "stdin",
     "output_type": "stream",
     "text": [
      "1 if it's OK, add the correct tag if not:  1\n"
     ]
    },
    {
     "name": "stdout",
     "output_type": "stream",
     "text": [
      "('GPE', 'Russborough House', 'en_core_web_md')\n"
     ]
    },
    {
     "name": "stdin",
     "output_type": "stream",
     "text": [
      "1 if it's OK, add the correct tag if not:  1\n"
     ]
    },
    {
     "name": "stdout",
     "output_type": "stream",
     "text": [
      "('GPE', 'County Wicklow', 'en_core_web_md')\n"
     ]
    },
    {
     "name": "stdin",
     "output_type": "stream",
     "text": [
      "1 if it's OK, add the correct tag if not:  1\n"
     ]
    },
    {
     "name": "stdout",
     "output_type": "stream",
     "text": [
      "('PERSON', 'Elizabeth', 'en_core_web_md')\n"
     ]
    },
    {
     "name": "stdin",
     "output_type": "stream",
     "text": [
      "1 if it's OK, add the correct tag if not:  1\n"
     ]
    },
    {
     "name": "stdout",
     "output_type": "stream",
     "text": [
      "('PERSON', 'Leitrim', 'en_core_web_md')\n"
     ]
    },
    {
     "name": "stdin",
     "output_type": "stream",
     "text": [
      "1 if it's OK, add the correct tag if not:  GPE\n"
     ]
    },
    {
     "name": "stdout",
     "output_type": "stream",
     "text": [
      "('PERSON', 'Félix Houphouët-Boigny', 'en_core_web_md')\n"
     ]
    },
    {
     "name": "stdin",
     "output_type": "stream",
     "text": [
      "1 if it's OK, add the correct tag if not:  1\n"
     ]
    },
    {
     "name": "stdout",
     "output_type": "stream",
     "text": [
      "('GPE', 'the Republic of the Ivory Coast', 'en_core_web_md')\n"
     ]
    },
    {
     "name": "stdin",
     "output_type": "stream",
     "text": [
      "1 if it's OK, add the correct tag if not:  1\n"
     ]
    },
    {
     "name": "stdout",
     "output_type": "stream",
     "text": [
      "('ORG', 'Distinguished Midwest Private Collection', 'en_core_web_md')\n"
     ]
    },
    {
     "name": "stdin",
     "output_type": "stream",
     "text": [
      "1 if it's OK, add the correct tag if not:  1\n"
     ]
    },
    {
     "name": "stdout",
     "output_type": "stream",
     "text": [
      "('ORG', \"Christie's New York\", 'en_core_web_md')\n"
     ]
    },
    {
     "name": "stdin",
     "output_type": "stream",
     "text": [
      "1 if it's OK, add the correct tag if not:  1\n"
     ]
    },
    {
     "name": "stdout",
     "output_type": "stream",
     "text": [
      "('ORG', 'Russian Works of Art', 'en_core_web_md')\n"
     ]
    },
    {
     "name": "stdin",
     "output_type": "stream",
     "text": [
      "1 if it's OK, add the correct tag if not:  1\n"
     ]
    },
    {
     "name": "stdout",
     "output_type": "stream",
     "text": [
      "('PERSON', 'Oscar Blum Gentilomo', 'en_core_web_md')\n"
     ]
    },
    {
     "name": "stdin",
     "output_type": "stream",
     "text": [
      "1 if it's OK, add the correct tag if not:  1\n"
     ]
    },
    {
     "name": "stdout",
     "output_type": "stream",
     "text": [
      "('ORG', 'The Groppi Collection', 'en_core_web_md')\n"
     ]
    },
    {
     "name": "stdin",
     "output_type": "stream",
     "text": [
      "1 if it's OK, add the correct tag if not:  1\n"
     ]
    },
    {
     "name": "stdout",
     "output_type": "stream",
     "text": [
      "('OTHER', '14 June 2000', 'fr_core_news_sm')\n"
     ]
    },
    {
     "name": "stdin",
     "output_type": "stream",
     "text": [
      "1 if it's OK, add the correct tag if not:  DATE\n"
     ]
    },
    {
     "name": "stdout",
     "output_type": "stream",
     "text": [
      "('NORP', 'Swiss', 'en_core_web_md')\n"
     ]
    },
    {
     "name": "stdin",
     "output_type": "stream",
     "text": [
      "1 if it's OK, add the correct tag if not:  1\n"
     ]
    },
    {
     "name": "stdout",
     "output_type": "stream",
     "text": [
      "('GPE', 'Segarra', 'es_core_news_sm')\n"
     ]
    },
    {
     "name": "stdin",
     "output_type": "stream",
     "text": [
      "1 if it's OK, add the correct tag if not:  1\n"
     ]
    },
    {
     "name": "stdout",
     "output_type": "stream",
     "text": [
      "('GPE', 'Barcelona', 'es_core_news_sm')\n"
     ]
    },
    {
     "name": "stdin",
     "output_type": "stream",
     "text": [
      "1 if it's OK, add the correct tag if not:  1\n"
     ]
    },
    {
     "name": "stdout",
     "output_type": "stream",
     "text": [
      "('PERSON', 'Sam Fogg', 'en_core_web_md')\n"
     ]
    },
    {
     "name": "stdin",
     "output_type": "stream",
     "text": [
      "1 if it's OK, add the correct tag if not:  1\n"
     ]
    },
    {
     "name": "stdout",
     "output_type": "stream",
     "text": [
      "('PERSON', '巴塞隆', 'zh_core_web_sm')\n"
     ]
    },
    {
     "name": "stdin",
     "output_type": "stream",
     "text": [
      "1 if it's OK, add the correct tag if not:  1\n"
     ]
    },
    {
     "name": "stdout",
     "output_type": "stream",
     "text": [
      "('GPE', 'Imre', 'en_core_web_md')\n"
     ]
    },
    {
     "name": "stdin",
     "output_type": "stream",
     "text": [
      "1 if it's OK, add the correct tag if not:  1\n"
     ]
    },
    {
     "name": "stdout",
     "output_type": "stream",
     "text": [
      "('PERSON', 'Nicholas T. Molnar', 'en_core_web_md')\n"
     ]
    },
    {
     "name": "stdin",
     "output_type": "stream",
     "text": [
      "1 if it's OK, add the correct tag if not:  1\n"
     ]
    },
    {
     "name": "stdout",
     "output_type": "stream",
     "text": [
      "('ORG', 'Sotheby & Co', 'en_core_web_md')\n"
     ]
    },
    {
     "name": "stdin",
     "output_type": "stream",
     "text": [
      "1 if it's OK, add the correct tag if not:  1\n"
     ]
    },
    {
     "name": "stdout",
     "output_type": "stream",
     "text": [
      "('ORG', \"Sold Sotheby's\", 'en_core_web_md')\n"
     ]
    },
    {
     "name": "stdin",
     "output_type": "stream",
     "text": [
      "1 if it's OK, add the correct tag if not:  1\n"
     ]
    },
    {
     "name": "stdout",
     "output_type": "stream",
     "text": [
      "('NORP', 'American', 'en_core_web_md')\n"
     ]
    },
    {
     "name": "stdin",
     "output_type": "stream",
     "text": [
      "1 if it's OK, add the correct tag if not:  1\n"
     ]
    },
    {
     "name": "stdout",
     "output_type": "stream",
     "text": [
      "('PERSON', '史蒂芬', 'zh_core_web_sm')\n"
     ]
    },
    {
     "name": "stdin",
     "output_type": "stream",
     "text": [
      "1 if it's OK, add the correct tag if not:  1\n"
     ]
    },
    {
     "name": "stdout",
     "output_type": "stream",
     "text": [
      "('PERSON', 'Simon Spero', 'en_core_web_md')\n"
     ]
    },
    {
     "name": "stdin",
     "output_type": "stream",
     "text": [
      "1 if it's OK, add the correct tag if not:  1\n"
     ]
    },
    {
     "name": "stdout",
     "output_type": "stream",
     "text": [
      "('NORP', 'Taiwanese', 'en_core_web_md')\n"
     ]
    },
    {
     "name": "stdin",
     "output_type": "stream",
     "text": [
      "1 if it's OK, add the correct tag if not:  1\n"
     ]
    },
    {
     "name": "stdout",
     "output_type": "stream",
     "text": [
      "('GPE', '台灣', 'zh_core_web_sm')\n"
     ]
    },
    {
     "name": "stdin",
     "output_type": "stream",
     "text": [
      "1 if it's OK, add the correct tag if not:  1\n"
     ]
    },
    {
     "name": "stdout",
     "output_type": "stream",
     "text": [
      "('PERSON', 'Agnes Mary Berkeley', 'en_core_web_md')\n"
     ]
    },
    {
     "name": "stdin",
     "output_type": "stream",
     "text": [
      "1 if it's OK, add the correct tag if not:  1\n"
     ]
    },
    {
     "name": "stdout",
     "output_type": "stream",
     "text": [
      "('ORG', 'a Sister of Charity', 'en_core_web_md')\n"
     ]
    },
    {
     "name": "stdin",
     "output_type": "stream",
     "text": [
      "1 if it's OK, add the correct tag if not:  1\n"
     ]
    },
    {
     "name": "stdout",
     "output_type": "stream",
     "text": [
      "('GPE', 'Shanghai', 'en_core_web_md')\n"
     ]
    },
    {
     "name": "stdin",
     "output_type": "stream",
     "text": [
      "1 if it's OK, add the correct tag if not:  1\n"
     ]
    },
    {
     "name": "stdout",
     "output_type": "stream",
     "text": [
      "('GPE', 'China', 'en_core_web_md')\n"
     ]
    },
    {
     "name": "stdin",
     "output_type": "stream",
     "text": [
      "1 if it's OK, add the correct tag if not:  1\n"
     ]
    },
    {
     "name": "stdout",
     "output_type": "stream",
     "text": [
      "('PERSON', 'Robert Valentine\\xa0', 'en_core_web_md')\n"
     ]
    },
    {
     "name": "stdin",
     "output_type": "stream",
     "text": [
      "1 if it's OK, add the correct tag if not:  1\n"
     ]
    },
    {
     "name": "stdout",
     "output_type": "stream",
     "text": [
      "('GPE', 'Wyndham', 'en_core_web_md')\n"
     ]
    },
    {
     "name": "stdin",
     "output_type": "stream",
     "text": [
      "1 if it's OK, add the correct tag if not:  1\n"
     ]
    },
    {
     "name": "stdout",
     "output_type": "stream",
     "text": [
      "('PERSON', 'Francis Cook', 'en_core_web_md')\n"
     ]
    },
    {
     "name": "stdin",
     "output_type": "stream",
     "text": [
      "1 if it's OK, add the correct tag if not:  1\n"
     ]
    },
    {
     "name": "stdout",
     "output_type": "stream",
     "text": [
      "('ORG', 'Cook Collection', 'en_core_web_md')\n"
     ]
    },
    {
     "name": "stdin",
     "output_type": "stream",
     "text": [
      "1 if it's OK, add the correct tag if not:  1\n"
     ]
    },
    {
     "name": "stdout",
     "output_type": "stream",
     "text": [
      "('ORG', 'Buffalo', 'de_core_news_sm')\n"
     ]
    },
    {
     "name": "stdin",
     "output_type": "stream",
     "text": [
      "1 if it's OK, add the correct tag if not:  GPE\n"
     ]
    },
    {
     "name": "stdout",
     "output_type": "stream",
     "text": [
      "('ORG', 'Geneva Private Collection', 'en_core_web_md')\n"
     ]
    },
    {
     "name": "stdin",
     "output_type": "stream",
     "text": [
      "1 if it's OK, add the correct tag if not:  1\n"
     ]
    },
    {
     "name": "stdout",
     "output_type": "stream",
     "text": [
      "('GPE', 'Seattle', 'en_core_web_md')\n"
     ]
    },
    {
     "name": "stdin",
     "output_type": "stream",
     "text": [
      "1 if it's OK, add the correct tag if not:  1\n"
     ]
    },
    {
     "name": "stdout",
     "output_type": "stream",
     "text": [
      "('GPE', 'Lausanne', 'fr_core_news_sm')\n"
     ]
    },
    {
     "name": "stdin",
     "output_type": "stream",
     "text": [
      "1 if it's OK, add the correct tag if not:  1\n"
     ]
    },
    {
     "name": "stdout",
     "output_type": "stream",
     "text": [
      "('PERSON', 'Renaud Gillet', 'en_core_web_md')\n"
     ]
    },
    {
     "name": "stdin",
     "output_type": "stream",
     "text": [
      "1 if it's OK, add the correct tag if not:  1\n"
     ]
    },
    {
     "name": "stdout",
     "output_type": "stream",
     "text": [
      "('GPE', 'Bessborough', 'en_core_web_md')\n"
     ]
    },
    {
     "name": "stdin",
     "output_type": "stream",
     "text": [
      "1 if it's OK, add the correct tag if not:  1\n"
     ]
    },
    {
     "name": "stdout",
     "output_type": "stream",
     "text": [
      "('PERSON', 'William', 'en_core_web_md')\n"
     ]
    },
    {
     "name": "stdin",
     "output_type": "stream",
     "text": [
      "1 if it's OK, add the correct tag if not:  1\n"
     ]
    },
    {
     "name": "stdout",
     "output_type": "stream",
     "text": [
      "('PERSON', 'Second Earl', 'en_core_web_md')\n"
     ]
    },
    {
     "name": "stdin",
     "output_type": "stream",
     "text": [
      "1 if it's OK, add the correct tag if not:  1\n"
     ]
    },
    {
     "name": "stdout",
     "output_type": "stream",
     "text": [
      "('ORG', 'Lonsdale', 'en_core_web_md')\n"
     ]
    },
    {
     "name": "stdin",
     "output_type": "stream",
     "text": [
      "1 if it's OK, add the correct tag if not:  1\n"
     ]
    },
    {
     "name": "stdout",
     "output_type": "stream",
     "text": [
      "('FAC', 'Lowther Castle', 'en_core_web_md')\n"
     ]
    },
    {
     "name": "stdin",
     "output_type": "stream",
     "text": [
      "1 if it's OK, add the correct tag if not:  ORG\n"
     ]
    },
    {
     "name": "stdout",
     "output_type": "stream",
     "text": [
      "('GPE', 'Cumberland', 'en_core_web_md')\n"
     ]
    },
    {
     "name": "stdin",
     "output_type": "stream",
     "text": [
      "1 if it's OK, add the correct tag if not:  1\n"
     ]
    },
    {
     "name": "stdout",
     "output_type": "stream",
     "text": [
      "('ORG', 'Thorntons of York', 'en_core_web_md')\n"
     ]
    },
    {
     "name": "stdin",
     "output_type": "stream",
     "text": [
      "1 if it's OK, add the correct tag if not:  1\n"
     ]
    },
    {
     "name": "stdout",
     "output_type": "stream",
     "text": [
      "('PERSON', 'R. Schmidt', 'en_core_web_md')\n"
     ]
    },
    {
     "name": "stdin",
     "output_type": "stream",
     "text": [
      "1 if it's OK, add the correct tag if not:  1\n"
     ]
    },
    {
     "name": "stdout",
     "output_type": "stream",
     "text": [
      "('PERSON', 'Merton D. Simpson', 'en_core_web_md')\n"
     ]
    },
    {
     "name": "stdin",
     "output_type": "stream",
     "text": [
      "1 if it's OK, add the correct tag if not:  1\n"
     ]
    },
    {
     "name": "stdout",
     "output_type": "stream",
     "text": [
      "('PERSON', 'Christopher B. Hemmeter', 'en_core_web_md')\n"
     ]
    },
    {
     "name": "stdin",
     "output_type": "stream",
     "text": [
      "1 if it's OK, add the correct tag if not:  1\n"
     ]
    },
    {
     "name": "stdout",
     "output_type": "stream",
     "text": [
      "('GPE', 'Honolulu', 'en_core_web_md')\n"
     ]
    },
    {
     "name": "stdin",
     "output_type": "stream",
     "text": [
      "1 if it's OK, add the correct tag if not:  1\n"
     ]
    },
    {
     "name": "stdout",
     "output_type": "stream",
     "text": [
      "('PERSON', 'Kevin Conru', 'en_core_web_md')\n"
     ]
    },
    {
     "name": "stdin",
     "output_type": "stream",
     "text": [
      "1 if it's OK, add the correct tag if not:  1\n"
     ]
    },
    {
     "name": "stdout",
     "output_type": "stream",
     "text": [
      "('OTHER', 'December 1977', 'fr_core_news_sm')\n"
     ]
    },
    {
     "name": "stdin",
     "output_type": "stream",
     "text": [
      "1 if it's OK, add the correct tag if not:  DATE\n"
     ]
    },
    {
     "name": "stdout",
     "output_type": "stream",
     "text": [
      "('OTHER', 'Arete', 'de_core_news_sm')\n"
     ]
    },
    {
     "name": "stdin",
     "output_type": "stream",
     "text": [
      "1 if it's OK, add the correct tag if not:  ORG\n"
     ]
    },
    {
     "name": "stdout",
     "output_type": "stream",
     "text": [
      "('GPE', 'Zurich', 'de_core_news_sm')\n"
     ]
    },
    {
     "name": "stdin",
     "output_type": "stream",
     "text": [
      "1 if it's OK, add the correct tag if not:  1\n"
     ]
    },
    {
     "name": "stdout",
     "output_type": "stream",
     "text": [
      "('PERSON', 'Anton Pestalozzi', 'en_core_web_md')\n"
     ]
    },
    {
     "name": "stdin",
     "output_type": "stream",
     "text": [
      "1 if it's OK, add the correct tag if not:  1\n"
     ]
    },
    {
     "name": "stdout",
     "output_type": "stream",
     "text": [
      "('GPE', 'Jacaranda', 'en_core_web_md')\n"
     ]
    },
    {
     "name": "stdin",
     "output_type": "stream",
     "text": [
      "1 if it's OK, add the correct tag if not:  1\n"
     ]
    },
    {
     "name": "stdout",
     "output_type": "stream",
     "text": [
      "('PERSON', 'Jean-Marc Roudinesco', 'en_core_web_md')\n"
     ]
    },
    {
     "name": "stdin",
     "output_type": "stream",
     "text": [
      "1 if it's OK, add the correct tag if not:  1\n"
     ]
    },
    {
     "name": "stdout",
     "output_type": "stream",
     "text": [
      "('GPE', 'Neuilly', 'en_core_web_md')\n"
     ]
    },
    {
     "name": "stdin",
     "output_type": "stream",
     "text": [
      "1 if it's OK, add the correct tag if not:  1\n"
     ]
    },
    {
     "name": "stdout",
     "output_type": "stream",
     "text": [
      "('PERSON', 'Jean-Marc\\xa0Roudinesco', 'en_core_web_md')\n"
     ]
    },
    {
     "name": "stdin",
     "output_type": "stream",
     "text": [
      "1 if it's OK, add the correct tag if not:  1\n"
     ]
    },
    {
     "name": "stdout",
     "output_type": "stream",
     "text": [
      "('PERSON', 'Jean Wanecq', 'en_core_web_md')\n"
     ]
    },
    {
     "name": "stdin",
     "output_type": "stream",
     "text": [
      "1 if it's OK, add the correct tag if not:  1\n"
     ]
    },
    {
     "name": "stdout",
     "output_type": "stream",
     "text": [
      "('LAW', 'D001', 'nl_core_news_sm')\n"
     ]
    },
    {
     "name": "stdin",
     "output_type": "stream",
     "text": [
      "1 if it's OK, add the correct tag if not:  OTHER\n"
     ]
    },
    {
     "name": "stdout",
     "output_type": "stream",
     "text": [
      "('PERSON', 'D001', 'nl_core_news_sm')\n"
     ]
    },
    {
     "name": "stdin",
     "output_type": "stream",
     "text": [
      "1 if it's OK, add the correct tag if not:  OTHER\n"
     ]
    },
    {
     "name": "stdout",
     "output_type": "stream",
     "text": [
      "('ORG', 'Basel', 'de_core_news_sm')\n"
     ]
    },
    {
     "name": "stdin",
     "output_type": "stream",
     "text": [
      "1 if it's OK, add the correct tag if not:  GPE\n"
     ]
    },
    {
     "name": "stdout",
     "output_type": "stream",
     "text": [
      "('OTHER', 'Auktion XVIII', 'de_core_news_sm')\n"
     ]
    },
    {
     "name": "stdin",
     "output_type": "stream",
     "text": [
      "1 if it's OK, add the correct tag if not:  OTHER\n"
     ]
    },
    {
     "name": "stdout",
     "output_type": "stream",
     "text": [
      "('ORG', 'California Private Collection', 'en_core_web_md')\n"
     ]
    },
    {
     "name": "stdin",
     "output_type": "stream",
     "text": [
      "1 if it's OK, add the correct tag if not:  1\n"
     ]
    },
    {
     "name": "stdout",
     "output_type": "stream",
     "text": [
      "('ORG', 'Antiqua', 'en_core_web_md')\n"
     ]
    },
    {
     "name": "stdin",
     "output_type": "stream",
     "text": [
      "1 if it's OK, add the correct tag if not:  1\n"
     ]
    },
    {
     "name": "stdout",
     "output_type": "stream",
     "text": [
      "('GPE', 'Los Angeles', 'en_core_web_md')\n"
     ]
    },
    {
     "name": "stdin",
     "output_type": "stream",
     "text": [
      "1 if it's OK, add the correct tag if not:  1\n"
     ]
    },
    {
     "name": "stdout",
     "output_type": "stream",
     "text": [
      "('OTHER', '4 June 1999', 'fr_core_news_sm')\n"
     ]
    },
    {
     "name": "stdin",
     "output_type": "stream",
     "text": [
      "1 if it's OK, add the correct tag if not:  DATE\n"
     ]
    },
    {
     "name": "stdout",
     "output_type": "stream",
     "text": [
      "('ORG', 'Ancient Greek Vases Formerly', 'en_core_web_md')\n"
     ]
    },
    {
     "name": "stdin",
     "output_type": "stream",
     "text": [
      "1 if it's OK, add the correct tag if not:  1\n"
     ]
    },
    {
     "name": "stdout",
     "output_type": "stream",
     "text": [
      "('ORG', 'Deburaux & Associés', 'fr_core_news_sm')\n"
     ]
    },
    {
     "name": "stdin",
     "output_type": "stream",
     "text": [
      "1 if it's OK, add the correct tag if not:  1\n"
     ]
    },
    {
     "name": "stdout",
     "output_type": "stream",
     "text": [
      "('GPE', 'March 2008', 'fr_core_news_sm')\n"
     ]
    },
    {
     "name": "stdin",
     "output_type": "stream",
     "text": [
      "1 if it's OK, add the correct tag if not:  DATE\n"
     ]
    },
    {
     "name": "stdout",
     "output_type": "stream",
     "text": [
      "('GPE', 'Freiburg', 'de_core_news_sm')\n"
     ]
    },
    {
     "name": "stdin",
     "output_type": "stream",
     "text": [
      "1 if it's OK, add the correct tag if not:  1\n"
     ]
    },
    {
     "name": "stdout",
     "output_type": "stream",
     "text": [
      "('GPE', 'Cologne', 'de_core_news_sm')\n"
     ]
    },
    {
     "name": "stdin",
     "output_type": "stream",
     "text": [
      "1 if it's OK, add the correct tag if not:  1\n"
     ]
    },
    {
     "name": "stdout",
     "output_type": "stream",
     "text": [
      "('PERSON', 'Werner Schatz', 'en_core_web_md')\n"
     ]
    },
    {
     "name": "stdin",
     "output_type": "stream",
     "text": [
      "1 if it's OK, add the correct tag if not:  1\n"
     ]
    },
    {
     "name": "stdout",
     "output_type": "stream",
     "text": [
      "('GPE', 'Wuppertal', 'en_core_web_md')\n"
     ]
    },
    {
     "name": "stdin",
     "output_type": "stream",
     "text": [
      "1 if it's OK, add the correct tag if not:  1\n"
     ]
    },
    {
     "name": "stdout",
     "output_type": "stream",
     "text": [
      "('PERSON', 'Schatz', 'en_core_web_md')\n"
     ]
    },
    {
     "name": "stdin",
     "output_type": "stream",
     "text": [
      "1 if it's OK, add the correct tag if not:  1\n"
     ]
    },
    {
     "name": "stdout",
     "output_type": "stream",
     "text": [
      "('ORG', 'Art Market', 'en_core_web_md')\n"
     ]
    },
    {
     "name": "stdin",
     "output_type": "stream",
     "text": [
      "1 if it's OK, add the correct tag if not:  1\n"
     ]
    },
    {
     "name": "stdout",
     "output_type": "stream",
     "text": [
      "('OTHER', 'July 1992', 'fr_core_news_sm')\n"
     ]
    },
    {
     "name": "stdin",
     "output_type": "stream",
     "text": [
      "1 if it's OK, add the correct tag if not:  DATE\n"
     ]
    },
    {
     "name": "stdout",
     "output_type": "stream",
     "text": [
      "('FAC', 'the Ronald W. Longsdorf Collection |', 'en_core_web_md')\n"
     ]
    },
    {
     "name": "stdin",
     "output_type": "stream",
     "text": [
      "1 if it's OK, add the correct tag if not:  ORG\n"
     ]
    },
    {
     "name": "stdout",
     "output_type": "stream",
     "text": [
      "('PERSON', 'Ronald W. Longsdorf', 'en_core_web_md')\n"
     ]
    },
    {
     "name": "stdin",
     "output_type": "stream",
     "text": [
      "1 if it's OK, add the correct tag if not:  1\n"
     ]
    },
    {
     "name": "stdout",
     "output_type": "stream",
     "text": [
      "('ORG', 'English Private Collection', 'en_core_web_md')\n"
     ]
    },
    {
     "name": "stdin",
     "output_type": "stream",
     "text": [
      "1 if it's OK, add the correct tag if not:  1\n"
     ]
    },
    {
     "name": "stdout",
     "output_type": "stream",
     "text": [
      "('ORG', 'Fuse Lighting', 'en_core_web_md')\n"
     ]
    },
    {
     "name": "stdin",
     "output_type": "stream",
     "text": [
      "1 if it's OK, add the correct tag if not:  1\n"
     ]
    },
    {
     "name": "stdout",
     "output_type": "stream",
     "text": [
      "('ORG', '中國', 'zh_core_web_sm')\n"
     ]
    },
    {
     "name": "stdin",
     "output_type": "stream",
     "text": [
      "1 if it's OK, add the correct tag if not:  1\n"
     ]
    },
    {
     "name": "stdout",
     "output_type": "stream",
     "text": [
      "('PERSON', 'Herbert Kühn', 'en_core_web_md')\n"
     ]
    },
    {
     "name": "stdin",
     "output_type": "stream",
     "text": [
      "1 if it's OK, add the correct tag if not:  1\n"
     ]
    },
    {
     "name": "stdout",
     "output_type": "stream",
     "text": [
      "('ORG', 'Mainz', 'en_core_web_md')\n"
     ]
    },
    {
     "name": "stdin",
     "output_type": "stream",
     "text": [
      "1 if it's OK, add the correct tag if not:  GPE\n"
     ]
    },
    {
     "name": "stdout",
     "output_type": "stream",
     "text": [
      "('GPE', \"Christie's\", 'de_core_news_sm')\n"
     ]
    },
    {
     "name": "stdin",
     "output_type": "stream",
     "text": [
      "1 if it's OK, add the correct tag if not:  ORG\n"
     ]
    },
    {
     "name": "stdout",
     "output_type": "stream",
     "text": [
      "('ORG', 'Provincetown', 'en_core_web_md')\n"
     ]
    },
    {
     "name": "stdin",
     "output_type": "stream",
     "text": [
      "1 if it's OK, add the correct tag if not:  1\n"
     ]
    },
    {
     "name": "stdout",
     "output_type": "stream",
     "text": [
      "('GPE', 'Wittelsbach', 'en_core_web_md')\n"
     ]
    },
    {
     "name": "stdin",
     "output_type": "stream",
     "text": [
      "1 if it's OK, add the correct tag if not:  1\n"
     ]
    },
    {
     "name": "stdout",
     "output_type": "stream",
     "text": [
      "('PERSON', 'Hamiltons Gallery', 'en_core_web_md')\n"
     ]
    },
    {
     "name": "stdin",
     "output_type": "stream",
     "text": [
      "1 if it's OK, add the correct tag if not:  ORG\n"
     ]
    },
    {
     "name": "stdout",
     "output_type": "stream",
     "text": [
      "('GPE', 'Bayville', 'fr_core_news_sm')\n"
     ]
    },
    {
     "name": "stdin",
     "output_type": "stream",
     "text": [
      "1 if it's OK, add the correct tag if not:  1\n"
     ]
    },
    {
     "name": "stdout",
     "output_type": "stream",
     "text": [
      "('GPE', 'March', 'fr_core_news_sm')\n"
     ]
    },
    {
     "name": "stdin",
     "output_type": "stream",
     "text": [
      "1 if it's OK, add the correct tag if not:  DATE\n"
     ]
    },
    {
     "name": "stdout",
     "output_type": "stream",
     "text": [
      "('PERSON', 'Mary Western Hugessen', 'en_core_web_md')\n"
     ]
    },
    {
     "name": "stdin",
     "output_type": "stream",
     "text": [
      "1 if it's OK, add the correct tag if not:  1\n"
     ]
    },
    {
     "name": "stdout",
     "output_type": "stream",
     "text": [
      "('PERSON', 'Edward Knatchbull', 'en_core_web_md')\n"
     ]
    },
    {
     "name": "stdin",
     "output_type": "stream",
     "text": [
      "1 if it's OK, add the correct tag if not:  1\n"
     ]
    },
    {
     "name": "stdout",
     "output_type": "stream",
     "text": [
      "('PERSON', 'Howard Lipman', 'en_core_web_md')\n"
     ]
    },
    {
     "name": "stdin",
     "output_type": "stream",
     "text": [
      "1 if it's OK, add the correct tag if not:  1\n"
     ]
    },
    {
     "name": "stdout",
     "output_type": "stream",
     "text": [
      "('PERSON', 'JO KOBACKER', 'en_core_web_md')\n"
     ]
    },
    {
     "name": "stdin",
     "output_type": "stream",
     "text": [
      "1 if it's OK, add the correct tag if not:  1\n"
     ]
    },
    {
     "name": "stdout",
     "output_type": "stream",
     "text": [
      "('PERSON', 'John', 'en_core_web_md')\n"
     ]
    },
    {
     "name": "stdin",
     "output_type": "stream",
     "text": [
      "1 if it's OK, add the correct tag if not:  1\n"
     ]
    },
    {
     "name": "stdout",
     "output_type": "stream",
     "text": [
      "('PERSON', 'Somers', 'en_core_web_md')\n"
     ]
    },
    {
     "name": "stdin",
     "output_type": "stream",
     "text": [
      "1 if it's OK, add the correct tag if not:  1\n"
     ]
    },
    {
     "name": "stdout",
     "output_type": "stream",
     "text": [
      "('GPE', 'Lawrence', 'lt_core_news_sm')\n"
     ]
    },
    {
     "name": "stdin",
     "output_type": "stream",
     "text": [
      "1 if it's OK, add the correct tag if not:  PERSON\n"
     ]
    },
    {
     "name": "stdout",
     "output_type": "stream",
     "text": [
      "('PERSON', 'M.H. Bloxam', 'en_core_web_md')\n"
     ]
    },
    {
     "name": "stdin",
     "output_type": "stream",
     "text": [
      "1 if it's OK, add the correct tag if not:  1\n"
     ]
    },
    {
     "name": "stdout",
     "output_type": "stream",
     "text": [
      "('ORG', 'Rugby School Art Museum', 'en_core_web_md')\n"
     ]
    },
    {
     "name": "stdin",
     "output_type": "stream",
     "text": [
      "1 if it's OK, add the correct tag if not:  1\n"
     ]
    },
    {
     "name": "stdout",
     "output_type": "stream",
     "text": [
      "('PERSON', 'Matt', 'en_core_web_md')\n"
     ]
    },
    {
     "name": "stdin",
     "output_type": "stream",
     "text": [
      "1 if it's OK, add the correct tag if not:  1\n"
     ]
    },
    {
     "name": "stdout",
     "output_type": "stream",
     "text": [
      "('PERSON', 'Nic', 'en_core_web_md')\n"
     ]
    },
    {
     "name": "stdin",
     "output_type": "stream",
     "text": [
      "1 if it's OK, add the correct tag if not:  1\n"
     ]
    },
    {
     "name": "stdout",
     "output_type": "stream",
     "text": [
      "('OTHER', 'Pomarancio -/ a.d', 'it_core_news_sm')\n"
     ]
    },
    {
     "name": "stdin",
     "output_type": "stream",
     "text": [
      "1 if it's OK, add the correct tag if not:  OTHER\n"
     ]
    },
    {
     "name": "stdout",
     "output_type": "stream",
     "text": [
      "('OTHER', 'Lawrence Collection', 'it_core_news_sm')\n"
     ]
    },
    {
     "name": "stdin",
     "output_type": "stream",
     "text": [
      "1 if it's OK, add the correct tag if not:  ORG\n"
     ]
    },
    {
     "name": "stdout",
     "output_type": "stream",
     "text": [
      "('ORG', 'Phoenix Ancient Art', 'en_core_web_md')\n"
     ]
    },
    {
     "name": "stdin",
     "output_type": "stream",
     "text": [
      "1 if it's OK, add the correct tag if not:  1\n"
     ]
    },
    {
     "name": "stdout",
     "output_type": "stream",
     "text": [
      "('ORG', 'Gold & Silver Auction Part II', 'en_core_web_md')\n"
     ]
    },
    {
     "name": "stdin",
     "output_type": "stream",
     "text": [
      "1 if it's OK, add the correct tag if not:  OTHER\n"
     ]
    },
    {
     "name": "stdout",
     "output_type": "stream",
     "text": [
      "('ORG', 'Ancient', 'en_core_web_md')\n"
     ]
    },
    {
     "name": "stdin",
     "output_type": "stream",
     "text": [
      "1 if it's OK, add the correct tag if not:  1\n"
     ]
    },
    {
     "name": "stdout",
     "output_type": "stream",
     "text": [
      "('ORG', 'Renaissance', 'en_core_web_md')\n"
     ]
    },
    {
     "name": "stdin",
     "output_type": "stream",
     "text": [
      "1 if it's OK, add the correct tag if not:  OTHER\n"
     ]
    },
    {
     "name": "stdout",
     "output_type": "stream",
     "text": [
      "('ORG', 'Taisei Gallery', 'en_core_web_md')\n"
     ]
    },
    {
     "name": "stdin",
     "output_type": "stream",
     "text": [
      "1 if it's OK, add the correct tag if not:  1\n"
     ]
    },
    {
     "name": "stdout",
     "output_type": "stream",
     "text": [
      "('GPE', 'Bonhams', 'en_core_web_md')\n"
     ]
    },
    {
     "name": "stdin",
     "output_type": "stream",
     "text": [
      "1 if it's OK, add the correct tag if not:  ORG\n"
     ]
    },
    {
     "name": "stdout",
     "output_type": "stream",
     "text": [
      "('PERSON', 'N. Koutoulakis', 'en_core_web_md')\n"
     ]
    },
    {
     "name": "stdin",
     "output_type": "stream",
     "text": [
      "1 if it's OK, add the correct tag if not:  1\n"
     ]
    },
    {
     "name": "stdout",
     "output_type": "stream",
     "text": [
      "('ORG', 'Manhattan Private Collection', 'en_core_web_md')\n"
     ]
    },
    {
     "name": "stdin",
     "output_type": "stream",
     "text": [
      "1 if it's OK, add the correct tag if not:  1\n"
     ]
    },
    {
     "name": "stdout",
     "output_type": "stream",
     "text": [
      "('OTHER', 'October 2017', 'fr_core_news_sm')\n"
     ]
    },
    {
     "name": "stdin",
     "output_type": "stream",
     "text": [
      "1 if it's OK, add the correct tag if not:  DATE\n"
     ]
    },
    {
     "name": "stdout",
     "output_type": "stream",
     "text": [
      "('OTHER', 'October 2018', 'fr_core_news_sm')\n"
     ]
    },
    {
     "name": "stdin",
     "output_type": "stream",
     "text": [
      "1 if it's OK, add the correct tag if not:  DATE\n"
     ]
    },
    {
     "name": "stdout",
     "output_type": "stream",
     "text": [
      "('GPE', 'Maui', 'en_core_web_md')\n"
     ]
    },
    {
     "name": "stdin",
     "output_type": "stream",
     "text": [
      "1 if it's OK, add the correct tag if not:  1\n"
     ]
    },
    {
     "name": "stdout",
     "output_type": "stream",
     "text": [
      "('PERSON', 'Hilary Chelminski', 'en_core_web_md')\n"
     ]
    },
    {
     "name": "stdin",
     "output_type": "stream",
     "text": [
      "1 if it's OK, add the correct tag if not:  1\n"
     ]
    },
    {
     "name": "stdout",
     "output_type": "stream",
     "text": [
      "('FAC', 'Collection W.J.R. Dreesmann', 'nl_core_news_sm')\n"
     ]
    },
    {
     "name": "stdin",
     "output_type": "stream",
     "text": [
      "1 if it's OK, add the correct tag if not:  ORG\n"
     ]
    },
    {
     "name": "stdout",
     "output_type": "stream",
     "text": [
      "('OTHER', 'Collection Professor Dr Drs Anton C.R. Dreesmann', 'es_core_news_sm')\n"
     ]
    },
    {
     "name": "stdin",
     "output_type": "stream",
     "text": [
      "1 if it's OK, add the correct tag if not:  ORG\n"
     ]
    },
    {
     "name": "stdout",
     "output_type": "stream",
     "text": [
      "('GPE', 'D73', 'es_core_news_sm')\n"
     ]
    },
    {
     "name": "stdin",
     "output_type": "stream",
     "text": [
      "1 if it's OK, add the correct tag if not:  OTHER\n"
     ]
    },
    {
     "name": "stdout",
     "output_type": "stream",
     "text": [
      "('WORK_OF_ART', 'D040', 'nl_core_news_sm')\n"
     ]
    },
    {
     "name": "stdin",
     "output_type": "stream",
     "text": [
      "1 if it's OK, add the correct tag if not:  OTHER\n"
     ]
    },
    {
     "name": "stdout",
     "output_type": "stream",
     "text": [
      "('ORG', 'Collection Professeur', 'fr_core_news_sm')\n"
     ]
    },
    {
     "name": "stdin",
     "output_type": "stream",
     "text": [
      "1 if it's OK, add the correct tag if not:  1\n"
     ]
    },
    {
     "name": "stdout",
     "output_type": "stream",
     "text": [
      "('OTHER', 'two', 'fr_core_news_sm')\n"
     ]
    },
    {
     "name": "stdin",
     "output_type": "stream",
     "text": [
      "1 if it's OK, add the correct tag if not:  NUMBER\n"
     ]
    },
    {
     "name": "stdout",
     "output_type": "stream",
     "text": [
      "('PERSON', 'Edric van Vredenburgh', 'en_core_web_md')\n"
     ]
    },
    {
     "name": "stdin",
     "output_type": "stream",
     "text": [
      "1 if it's OK, add the correct tag if not:  1\n"
     ]
    },
    {
     "name": "stdout",
     "output_type": "stream",
     "text": [
      "('NORP', 'Asian', 'en_core_web_md')\n"
     ]
    },
    {
     "name": "stdin",
     "output_type": "stream",
     "text": [
      "1 if it's OK, add the correct tag if not:  1\n"
     ]
    },
    {
     "name": "stdout",
     "output_type": "stream",
     "text": [
      "('ORG', 'Stuttgart', 'fi_core_news_sm')\n"
     ]
    },
    {
     "name": "stdin",
     "output_type": "stream",
     "text": [
      "1 if it's OK, add the correct tag if not:  GPE\n"
     ]
    },
    {
     "name": "stdout",
     "output_type": "stream",
     "text": [
      "('PERSON', 'S.J. Phillips', 'en_core_web_md')\n"
     ]
    },
    {
     "name": "stdin",
     "output_type": "stream",
     "text": [
      "1 if it's OK, add the correct tag if not:  1\n"
     ]
    },
    {
     "name": "stdout",
     "output_type": "stream",
     "text": [
      "('PERSON', 'Frank Partridge', 'en_core_web_md')\n"
     ]
    },
    {
     "name": "stdin",
     "output_type": "stream",
     "text": [
      "1 if it's OK, add the correct tag if not:  1\n"
     ]
    },
    {
     "name": "stdout",
     "output_type": "stream",
     "text": [
      "('ORG', 'Sons Ltd', 'en_core_web_md')\n"
     ]
    },
    {
     "name": "stdin",
     "output_type": "stream",
     "text": [
      "1 if it's OK, add the correct tag if not:  1\n"
     ]
    },
    {
     "name": "stdout",
     "output_type": "stream",
     "text": [
      "('GPE', 'Sammlung  Hans Koenig', 'de_core_news_sm')\n"
     ]
    },
    {
     "name": "stdin",
     "output_type": "stream",
     "text": [
      "1 if it's OK, add the correct tag if not:  PERSON\n"
     ]
    },
    {
     "name": "stdout",
     "output_type": "stream",
     "text": [
      "('PERSON', 'Bonhams London', 'en_core_web_md')\n"
     ]
    },
    {
     "name": "stdin",
     "output_type": "stream",
     "text": [
      "1 if it's OK, add the correct tag if not:  ORG\n"
     ]
    },
    {
     "name": "stdout",
     "output_type": "stream",
     "text": [
      "('ORG', 'Brandeis University', 'pt_core_news_sm')\n"
     ]
    },
    {
     "name": "stdin",
     "output_type": "stream",
     "text": [
      "1 if it's OK, add the correct tag if not:  1\n"
     ]
    },
    {
     "name": "stdout",
     "output_type": "stream",
     "text": [
      "('ORG', 'Waltham\\xa0', 'pt_core_news_sm')\n"
     ]
    },
    {
     "name": "stdin",
     "output_type": "stream",
     "text": [
      "1 if it's OK, add the correct tag if not:  1\n"
     ]
    },
    {
     "name": "stdout",
     "output_type": "stream",
     "text": [
      "('PERSON', 'Paul Kantor Gallery', 'en_core_web_md')\n"
     ]
    },
    {
     "name": "stdin",
     "output_type": "stream",
     "text": [
      "1 if it's OK, add the correct tag if not:  1\n"
     ]
    },
    {
     "name": "stdout",
     "output_type": "stream",
     "text": [
      "('GPE', 'Beverly Hills', 'en_core_web_md')\n"
     ]
    },
    {
     "name": "stdin",
     "output_type": "stream",
     "text": [
      "1 if it's OK, add the correct tag if not:  1\n"
     ]
    },
    {
     "name": "stdout",
     "output_type": "stream",
     "text": [
      "('ORG', 'The Purchase Gallery, Inc', 'en_core_web_md')\n"
     ]
    },
    {
     "name": "stdin",
     "output_type": "stream",
     "text": [
      "1 if it's OK, add the correct tag if not:  1\n"
     ]
    },
    {
     "name": "stdout",
     "output_type": "stream",
     "text": [
      "('ORG', 'Purchase', 'en_core_web_md')\n"
     ]
    },
    {
     "name": "stdin",
     "output_type": "stream",
     "text": [
      "1 if it's OK, add the correct tag if not:  1\n"
     ]
    },
    {
     "name": "stdout",
     "output_type": "stream",
     "text": [
      "('PERSON', 'Bernice Clyman', 'en_core_web_md')\n"
     ]
    },
    {
     "name": "stdin",
     "output_type": "stream",
     "text": [
      "1 if it's OK, add the correct tag if not:  1\n"
     ]
    },
    {
     "name": "stdout",
     "output_type": "stream",
     "text": [
      "('PERSON', 'Sidney', 'en_core_web_md')\n"
     ]
    },
    {
     "name": "stdin",
     "output_type": "stream",
     "text": [
      "1 if it's OK, add the correct tag if not:  GPE\n"
     ]
    },
    {
     "name": "stdout",
     "output_type": "stream",
     "text": [
      "('ORG', 'Scarsdale', 'en_core_web_md')\n"
     ]
    },
    {
     "name": "stdin",
     "output_type": "stream",
     "text": [
      "1 if it's OK, add the correct tag if not:  GPE\n"
     ]
    },
    {
     "name": "stdout",
     "output_type": "stream",
     "text": [
      "('GPE', 'Bath', 'en_core_web_md')\n"
     ]
    },
    {
     "name": "stdin",
     "output_type": "stream",
     "text": [
      "1 if it's OK, add the correct tag if not:  1\n"
     ]
    },
    {
     "name": "stdout",
     "output_type": "stream",
     "text": [
      "('GPE', 'Somerset', 'en_core_web_md')\n"
     ]
    },
    {
     "name": "stdin",
     "output_type": "stream",
     "text": [
      "1 if it's OK, add the correct tag if not:  1\n"
     ]
    },
    {
     "name": "stdout",
     "output_type": "stream",
     "text": [
      "('ORG', 'M. Gillingham', 'en_core_web_md')\n"
     ]
    },
    {
     "name": "stdin",
     "output_type": "stream",
     "text": [
      "1 if it's OK, add the correct tag if not:  PERSON\n"
     ]
    },
    {
     "name": "stdout",
     "output_type": "stream",
     "text": [
      "('PERSON', 'C.K. Liang', 'en_core_web_md')\n"
     ]
    },
    {
     "name": "stdin",
     "output_type": "stream",
     "text": [
      "1 if it's OK, add the correct tag if not:  1\n"
     ]
    },
    {
     "name": "stdout",
     "output_type": "stream",
     "text": [
      "('GPE', 'Jade House', 'en_core_web_md')\n"
     ]
    },
    {
     "name": "stdin",
     "output_type": "stream",
     "text": [
      "1 if it's OK, add the correct tag if not:  ORG\n"
     ]
    },
    {
     "name": "stdout",
     "output_type": "stream",
     "text": [
      "('PERSON', '梁宗亢', 'zh_core_web_sm')\n"
     ]
    },
    {
     "name": "stdin",
     "output_type": "stream",
     "text": [
      "1 if it's OK, add the correct tag if not:  1\n"
     ]
    },
    {
     "name": "stdout",
     "output_type": "stream",
     "text": [
      "('ORG', '中易公司', 'zh_core_web_sm')\n"
     ]
    },
    {
     "name": "stdin",
     "output_type": "stream",
     "text": [
      "1 if it's OK, add the correct tag if not:  1\n"
     ]
    },
    {
     "name": "stdout",
     "output_type": "stream",
     "text": [
      "('MONEY', '52,000', 'zh_core_web_sm')\n"
     ]
    },
    {
     "name": "stdin",
     "output_type": "stream",
     "text": [
      "1 if it's OK, add the correct tag if not:  1\n"
     ]
    },
    {
     "name": "stdout",
     "output_type": "stream",
     "text": [
      "('ORG', 'Freiburg', 'de_core_news_sm')\n"
     ]
    },
    {
     "name": "stdin",
     "output_type": "stream",
     "text": [
      "1 if it's OK, add the correct tag if not:  GPE\n"
     ]
    },
    {
     "name": "stdout",
     "output_type": "stream",
     "text": [
      "('ORG', 'Summa Galleries', 'en_core_web_md')\n"
     ]
    },
    {
     "name": "stdin",
     "output_type": "stream",
     "text": [
      "1 if it's OK, add the correct tag if not:  1\n"
     ]
    },
    {
     "name": "stdout",
     "output_type": "stream",
     "text": [
      "('PERSON', 'ERIKA POHL-STRÖHER', 'sv_core_news_sm')\n"
     ]
    },
    {
     "name": "stdin",
     "output_type": "stream",
     "text": [
      "1 if it's OK, add the correct tag if not:  1\n"
     ]
    },
    {
     "name": "stdout",
     "output_type": "stream",
     "text": [
      "('PERSON', 'Erika Pohl-Ströher', 'en_core_web_md')\n"
     ]
    },
    {
     "name": "stdin",
     "output_type": "stream",
     "text": [
      "1 if it's OK, add the correct tag if not:  1\n"
     ]
    },
    {
     "name": "stdout",
     "output_type": "stream",
     "text": [
      "('OTHER', 'Eymery & Cie', 'fr_core_news_sm')\n"
     ]
    },
    {
     "name": "stdin",
     "output_type": "stream",
     "text": [
      "1 if it's OK, add the correct tag if not:  ORG\n"
     ]
    },
    {
     "name": "stdout",
     "output_type": "stream",
     "text": [
      "('GPE', 'St Honoré', 'fr_core_news_sm')\n"
     ]
    },
    {
     "name": "stdin",
     "output_type": "stream",
     "text": [
      "1 if it's OK, add the correct tag if not:  1\n"
     ]
    },
    {
     "name": "stdout",
     "output_type": "stream",
     "text": [
      "('PERSON', 'Eymery', 'zh_core_web_sm')\n"
     ]
    },
    {
     "name": "stdin",
     "output_type": "stream",
     "text": [
      "1 if it's OK, add the correct tag if not:  1\n"
     ]
    },
    {
     "name": "stdout",
     "output_type": "stream",
     "text": [
      "('GPE', 'Mazandaran', 'en_core_web_md')\n"
     ]
    },
    {
     "name": "stdin",
     "output_type": "stream",
     "text": [
      "1 if it's OK, add the correct tag if not:  1\n"
     ]
    },
    {
     "name": "stdout",
     "output_type": "stream",
     "text": [
      "('GPE', 'Iran', 'en_core_web_md')\n"
     ]
    },
    {
     "name": "stdin",
     "output_type": "stream",
     "text": [
      "1 if it's OK, add the correct tag if not:  1\n"
     ]
    },
    {
     "name": "stdout",
     "output_type": "stream",
     "text": [
      "('ORG', 'K. Rabenou Gallery', 'en_core_web_md')\n"
     ]
    },
    {
     "name": "stdin",
     "output_type": "stream",
     "text": [
      "1 if it's OK, add the correct tag if not:  1\n"
     ]
    },
    {
     "name": "stdout",
     "output_type": "stream",
     "text": [
      "('PERSON', 'Wilfrid Sloane', 'en_core_web_md')\n"
     ]
    },
    {
     "name": "stdin",
     "output_type": "stream",
     "text": [
      "1 if it's OK, add the correct tag if not:  1\n"
     ]
    },
    {
     "name": "stdout",
     "output_type": "stream",
     "text": [
      "('PERSON', 'John Pierpont Morgan', 'en_core_web_md')\n"
     ]
    },
    {
     "name": "stdin",
     "output_type": "stream",
     "text": [
      "1 if it's OK, add the correct tag if not:  1\n"
     ]
    },
    {
     "name": "stdout",
     "output_type": "stream",
     "text": [
      "('ORG', 'Duveen Brothers Inc', 'en_core_web_md')\n"
     ]
    },
    {
     "name": "stdin",
     "output_type": "stream",
     "text": [
      "1 if it's OK, add the correct tag if not:  1\n"
     ]
    },
    {
     "name": "stdout",
     "output_type": "stream",
     "text": [
      "('PERSON', 'John D. Rockefeller', 'en_core_web_md')\n"
     ]
    },
    {
     "name": "stdin",
     "output_type": "stream",
     "text": [
      "1 if it's OK, add the correct tag if not:  1\n"
     ]
    },
    {
     "name": "stdout",
     "output_type": "stream",
     "text": [
      "('PERSON', 'Jr', 'en_core_web_md')\n"
     ]
    },
    {
     "name": "stdin",
     "output_type": "stream",
     "text": [
      "1 if it's OK, add the correct tag if not:  1\n"
     ]
    },
    {
     "name": "stdout",
     "output_type": "stream",
     "text": [
      "('PERSON', 'J. Uzan', 'en_core_web_md')\n"
     ]
    },
    {
     "name": "stdin",
     "output_type": "stream",
     "text": [
      "1 if it's OK, add the correct tag if not:  1\n"
     ]
    },
    {
     "name": "stdout",
     "output_type": "stream",
     "text": [
      "('OTHER', 'Geneva', 'de_core_news_sm')\n"
     ]
    },
    {
     "name": "stdin",
     "output_type": "stream",
     "text": [
      "1 if it's OK, add the correct tag if not:  GPE\n"
     ]
    },
    {
     "name": "stdout",
     "output_type": "stream",
     "text": [
      "('ORG', 'Royal Athena Galleries', 'en_core_web_md')\n"
     ]
    },
    {
     "name": "stdin",
     "output_type": "stream",
     "text": [
      "1 if it's OK, add the correct tag if not:  1\n"
     ]
    },
    {
     "name": "stdout",
     "output_type": "stream",
     "text": [
      "('PERSON', 'Anthony Meyer', 'en_core_web_md')\n"
     ]
    },
    {
     "name": "stdin",
     "output_type": "stream",
     "text": [
      "1 if it's OK, add the correct tag if not:  1\n"
     ]
    },
    {
     "name": "stdout",
     "output_type": "stream",
     "text": [
      "('PERSON', 'Nicolas Koutoulakis', 'en_core_web_md')\n"
     ]
    },
    {
     "name": "stdin",
     "output_type": "stream",
     "text": [
      "1 if it's OK, add the correct tag if not:  1\n"
     ]
    },
    {
     "name": "stdout",
     "output_type": "stream",
     "text": [
      "('OTHER', 'Collection Vincente Huidobro', 'pt_core_news_sm')\n"
     ]
    },
    {
     "name": "stdin",
     "output_type": "stream",
     "text": [
      "1 if it's OK, add the correct tag if not:  ORG\n"
     ]
    },
    {
     "name": "stdout",
     "output_type": "stream",
     "text": [
      "('GPE', 'Chili', 'pt_core_news_sm')\n"
     ]
    },
    {
     "name": "stdin",
     "output_type": "stream",
     "text": [
      "1 if it's OK, add the correct tag if not:  OTHER\n"
     ]
    },
    {
     "name": "stdout",
     "output_type": "stream",
     "text": [
      "('GPE', 'Loudmer', 'fr_core_news_sm')\n"
     ]
    },
    {
     "name": "stdin",
     "output_type": "stream",
     "text": [
      "1 if it's OK, add the correct tag if not:  1\n"
     ]
    },
    {
     "name": "stdout",
     "output_type": "stream",
     "text": [
      "('ORG', 'Arts Primitifs', 'fr_core_news_sm')\n"
     ]
    },
    {
     "name": "stdin",
     "output_type": "stream",
     "text": [
      "1 if it's OK, add the correct tag if not:  1\n"
     ]
    },
    {
     "name": "stdout",
     "output_type": "stream",
     "text": [
      "('GPE', 'Collection', 'fr_core_news_sm')\n"
     ]
    },
    {
     "name": "stdin",
     "output_type": "stream",
     "text": [
      "1 if it's OK, add the correct tag if not:  ORG\n"
     ]
    },
    {
     "name": "stdout",
     "output_type": "stream",
     "text": [
      "('PERSON', 'J034', 'nl_core_news_sm')\n"
     ]
    },
    {
     "name": "stdin",
     "output_type": "stream",
     "text": [
      "1 if it's OK, add the correct tag if not:  OTHER\n"
     ]
    },
    {
     "name": "stdout",
     "output_type": "stream",
     "text": [
      "('ORG', 'Purportedly', 'en_core_web_md')\n"
     ]
    },
    {
     "name": "stdin",
     "output_type": "stream",
     "text": [
      "1 if it's OK, add the correct tag if not:  OTHER\n"
     ]
    },
    {
     "name": "stdout",
     "output_type": "stream",
     "text": [
      "('NORP', 'Coptic', 'en_core_web_md')\n"
     ]
    },
    {
     "name": "stdin",
     "output_type": "stream",
     "text": [
      "1 if it's OK, add the correct tag if not:  1\n"
     ]
    },
    {
     "name": "stdout",
     "output_type": "stream",
     "text": [
      "('GPE', 'Giza', 'en_core_web_md')\n"
     ]
    },
    {
     "name": "stdin",
     "output_type": "stream",
     "text": [
      "1 if it's OK, add the correct tag if not:  1\n"
     ]
    },
    {
     "name": "stdout",
     "output_type": "stream",
     "text": [
      "('PERSON', 'René Withofs', 'en_core_web_md')\n"
     ]
    },
    {
     "name": "stdin",
     "output_type": "stream",
     "text": [
      "1 if it's OK, add the correct tag if not:  1\n"
     ]
    },
    {
     "name": "stdout",
     "output_type": "stream",
     "text": [
      "('OTHER', 'December 1999', 'fr_core_news_sm')\n"
     ]
    },
    {
     "name": "stdin",
     "output_type": "stream",
     "text": [
      "1 if it's OK, add the correct tag if not:  DATE\n"
     ]
    },
    {
     "name": "stdout",
     "output_type": "stream",
     "text": [
      "('OTHER', 'Dr Drs Anton C.R. Dreesmann', 'de_core_news_sm')\n"
     ]
    },
    {
     "name": "stdin",
     "output_type": "stream",
     "text": [
      "1 if it's OK, add the correct tag if not:  PERSON\n"
     ]
    },
    {
     "name": "stdout",
     "output_type": "stream",
     "text": [
      "('PERSON', 'E017', 'nl_core_news_sm')\n"
     ]
    },
    {
     "name": "stdin",
     "output_type": "stream",
     "text": [
      "1 if it's OK, add the correct tag if not:  OTHER\n"
     ]
    },
    {
     "name": "stdout",
     "output_type": "stream",
     "text": [
      "('GPE', 'E19', 'fr_core_news_sm')\n"
     ]
    },
    {
     "name": "stdin",
     "output_type": "stream",
     "text": [
      "1 if it's OK, add the correct tag if not:  OTHER\n"
     ]
    },
    {
     "name": "stdout",
     "output_type": "stream",
     "text": [
      "('LANGUAGE', 'PROPERTY', 'zh_core_web_sm')\n"
     ]
    },
    {
     "name": "stdin",
     "output_type": "stream",
     "text": [
      "1 if it's OK, add the correct tag if not:  OTHER\n"
     ]
    },
    {
     "name": "stdout",
     "output_type": "stream",
     "text": [
      "('PERSON', 'Pierre Bordes', 'en_core_web_md')\n"
     ]
    },
    {
     "name": "stdin",
     "output_type": "stream",
     "text": [
      "1 if it's OK, add the correct tag if not:  1\n"
     ]
    },
    {
     "name": "stdout",
     "output_type": "stream",
     "text": [
      "('GPE', 'Algeria', 'en_core_web_md')\n"
     ]
    },
    {
     "name": "stdin",
     "output_type": "stream",
     "text": [
      "1 if it's OK, add the correct tag if not:  1\n"
     ]
    },
    {
     "name": "stdout",
     "output_type": "stream",
     "text": [
      "('GPE', 'Belgium', 'it_core_news_sm')\n"
     ]
    },
    {
     "name": "stdin",
     "output_type": "stream",
     "text": [
      "1 if it's OK, add the correct tag if not:  1\n"
     ]
    },
    {
     "name": "stdout",
     "output_type": "stream",
     "text": [
      "('GPE', 'Marcel', 'zh_core_web_sm')\n"
     ]
    },
    {
     "name": "stdin",
     "output_type": "stream",
     "text": [
      "1 if it's OK, add the correct tag if not:  PERSON\n"
     ]
    },
    {
     "name": "stdout",
     "output_type": "stream",
     "text": [
      "('GPE', 'Italy', 'en_core_web_md')\n"
     ]
    },
    {
     "name": "stdin",
     "output_type": "stream",
     "text": [
      "1 if it's OK, add the correct tag if not:  1\n"
     ]
    },
    {
     "name": "stdout",
     "output_type": "stream",
     "text": [
      "('OTHER', 'December 2003', 'fr_core_news_sm')\n"
     ]
    },
    {
     "name": "stdin",
     "output_type": "stream",
     "text": [
      "1 if it's OK, add the correct tag if not:  DATE\n"
     ]
    },
    {
     "name": "stdout",
     "output_type": "stream",
     "text": [
      "('GPE', '黎氏', 'zh_core_web_sm')\n"
     ]
    },
    {
     "name": "stdin",
     "output_type": "stream",
     "text": [
      "1 if it's OK, add the correct tag if not:  1\n"
     ]
    },
    {
     "name": "stdout",
     "output_type": "stream",
     "text": [
      "('OTHER', 'December 2000', 'fr_core_news_sm')\n"
     ]
    },
    {
     "name": "stdin",
     "output_type": "stream",
     "text": [
      "1 if it's OK, add the correct tag if not:  DATE\n"
     ]
    },
    {
     "name": "stdout",
     "output_type": "stream",
     "text": [
      "('PERSON', 'Dragesco-Cramoisan', 'en_core_web_md')\n"
     ]
    },
    {
     "name": "stdin",
     "output_type": "stream",
     "text": [
      "1 if it's OK, add the correct tag if not:  1\n"
     ]
    },
    {
     "name": "stdout",
     "output_type": "stream",
     "text": [
      "('PERSON', 'Robert Berkeley', 'en_core_web_md')\n"
     ]
    },
    {
     "name": "stdin",
     "output_type": "stream",
     "text": [
      "1 if it's OK, add the correct tag if not:  1\n"
     ]
    },
    {
     "name": "stdout",
     "output_type": "stream",
     "text": [
      "('ORG', 'SELECTED PAINTINGS', 'zh_core_web_sm')\n"
     ]
    },
    {
     "name": "stdin",
     "output_type": "stream",
     "text": [
      "1 if it's OK, add the correct tag if not:  OTHER\n"
     ]
    },
    {
     "name": "stdout",
     "output_type": "stream",
     "text": [
      "('ORG', 'Pine and Stone Retreat Collection', 'en_core_web_md')\n"
     ]
    },
    {
     "name": "stdin",
     "output_type": "stream",
     "text": [
      "1 if it's OK, add the correct tag if not:  1\n"
     ]
    },
    {
     "name": "stdout",
     "output_type": "stream",
     "text": [
      "('PERSON', '石山房', 'zh_core_web_sm')\n"
     ]
    },
    {
     "name": "stdin",
     "output_type": "stream",
     "text": [
      "1 if it's OK, add the correct tag if not:  1\n"
     ]
    },
    {
     "name": "stdout",
     "output_type": "stream",
     "text": [
      "('FAC', '3632', 'en_core_web_md')\n"
     ]
    },
    {
     "name": "stdin",
     "output_type": "stream",
     "text": [
      "1 if it's OK, add the correct tag if not:  OTHER\n"
     ]
    },
    {
     "name": "stdout",
     "output_type": "stream",
     "text": [
      "('FAC', 'the Dafengtang Collection', 'en_core_web_md')\n"
     ]
    },
    {
     "name": "stdin",
     "output_type": "stream",
     "text": [
      "1 if it's OK, add the correct tag if not:  ORG\n"
     ]
    },
    {
     "name": "stdout",
     "output_type": "stream",
     "text": [
      "('ORG', 'Hôtel Drouot', 'en_core_web_md')\n"
     ]
    },
    {
     "name": "stdin",
     "output_type": "stream",
     "text": [
      "1 if it's OK, add the correct tag if not:  1\n"
     ]
    },
    {
     "name": "stdout",
     "output_type": "stream",
     "text": [
      "('PERSON', 'Luigi Laura', 'en_core_web_md')\n"
     ]
    },
    {
     "name": "stdin",
     "output_type": "stream",
     "text": [
      "1 if it's OK, add the correct tag if not:  1\n"
     ]
    },
    {
     "name": "stdout",
     "output_type": "stream",
     "text": [
      "('PERSON', 'Jacob Epstein', 'en_core_web_md')\n"
     ]
    },
    {
     "name": "stdin",
     "output_type": "stream",
     "text": [
      "1 if it's OK, add the correct tag if not:  1\n"
     ]
    },
    {
     "name": "stdout",
     "output_type": "stream",
     "text": [
      "('PERSON', 'Londres', 'en_core_web_md')\n"
     ]
    },
    {
     "name": "stdin",
     "output_type": "stream",
     "text": [
      "1 if it's OK, add the correct tag if not:  GPE\n"
     ]
    },
    {
     "name": "stdout",
     "output_type": "stream",
     "text": [
      "('PERSON', 'Loudmer', 'en_core_web_md')\n"
     ]
    },
    {
     "name": "stdin",
     "output_type": "stream",
     "text": [
      "1 if it's OK, add the correct tag if not:  1\n"
     ]
    },
    {
     "name": "stdout",
     "output_type": "stream",
     "text": [
      "('PERSON', 'Rudolf Schmidt', 'en_core_web_md')\n"
     ]
    },
    {
     "name": "stdin",
     "output_type": "stream",
     "text": [
      "1 if it's OK, add the correct tag if not:  1\n"
     ]
    },
    {
     "name": "stdout",
     "output_type": "stream",
     "text": [
      "('GPE', 'Solothurn', 'en_core_web_md')\n"
     ]
    },
    {
     "name": "stdin",
     "output_type": "stream",
     "text": [
      "1 if it's OK, add the correct tag if not:  1\n"
     ]
    },
    {
     "name": "stdout",
     "output_type": "stream",
     "text": [
      "('OTHER', 'Ägyptische', 'de_core_news_sm')\n"
     ]
    },
    {
     "name": "stdin",
     "output_type": "stream",
     "text": [
      "1 if it's OK, add the correct tag if not:  1\n"
     ]
    },
    {
     "name": "stdout",
     "output_type": "stream",
     "text": [
      "('GPE', 'Ägyptologische Hefte', 'de_core_news_sm')\n"
     ]
    },
    {
     "name": "stdin",
     "output_type": "stream",
     "text": [
      "1 if it's OK, add the correct tag if not:  OTHER\n"
     ]
    },
    {
     "name": "stdout",
     "output_type": "stream",
     "text": [
      "('ORG', 'Orientalischen Seminars', 'de_core_news_sm')\n"
     ]
    },
    {
     "name": "stdin",
     "output_type": "stream",
     "text": [
      "1 if it's OK, add the correct tag if not:  OTHER\n"
     ]
    },
    {
     "name": "stdout",
     "output_type": "stream",
     "text": [
      "('ORG', 'Universität Zürich', 'de_core_news_sm')\n"
     ]
    },
    {
     "name": "stdin",
     "output_type": "stream",
     "text": [
      "1 if it's OK, add the correct tag if not:  1\n"
     ]
    },
    {
     "name": "stdout",
     "output_type": "stream",
     "text": [
      "('PERSON', 'Samuel Rogers', 'en_core_web_md')\n"
     ]
    },
    {
     "name": "stdin",
     "output_type": "stream",
     "text": [
      "1 if it's OK, add the correct tag if not:  1\n"
     ]
    },
    {
     "name": "stdout",
     "output_type": "stream",
     "text": [
      "('GPE', 'Hamburg', 'en_core_web_md')\n"
     ]
    },
    {
     "name": "stdin",
     "output_type": "stream",
     "text": [
      "1 if it's OK, add the correct tag if not:  1\n"
     ]
    },
    {
     "name": "stdout",
     "output_type": "stream",
     "text": [
      "('PERSON', 'Carl J. Ulman', 'en_core_web_md')\n"
     ]
    },
    {
     "name": "stdin",
     "output_type": "stream",
     "text": [
      "1 if it's OK, add the correct tag if not:  1\n"
     ]
    },
    {
     "name": "stdout",
     "output_type": "stream",
     "text": [
      "('ORG', 'Guinevere Antiques Ltd', 'en_core_web_md')\n"
     ]
    },
    {
     "name": "stdin",
     "output_type": "stream",
     "text": [
      "1 if it's OK, add the correct tag if not:  1\n"
     ]
    },
    {
     "name": "stdout",
     "output_type": "stream",
     "text": [
      "('PERSON', 'Alfred Chester Beatty', 'en_core_web_md')\n"
     ]
    },
    {
     "name": "stdin",
     "output_type": "stream",
     "text": [
      "1 if it's OK, add the correct tag if not:  1\n"
     ]
    },
    {
     "name": "stdout",
     "output_type": "stream",
     "text": [
      "('PERSON', \"Comtesse d'Aubigny\", 'en_core_web_md')\n"
     ]
    },
    {
     "name": "stdin",
     "output_type": "stream",
     "text": [
      "1 if it's OK, add the correct tag if not:  1\n"
     ]
    },
    {
     "name": "stdout",
     "output_type": "stream",
     "text": [
      "('OTHER', 'Fortuna Fine Arts', 'it_core_news_sm')\n"
     ]
    },
    {
     "name": "stdin",
     "output_type": "stream",
     "text": [
      "1 if it's OK, add the correct tag if not:  ORG\n"
     ]
    },
    {
     "name": "stdout",
     "output_type": "stream",
     "text": [
      "('GPE', 'Ltd', 'it_core_news_sm')\n"
     ]
    },
    {
     "name": "stdin",
     "output_type": "stream",
     "text": [
      "1 if it's OK, add the correct tag if not:  ORG\n"
     ]
    },
    {
     "name": "stdout",
     "output_type": "stream",
     "text": [
      "('LAW', 'Item two', 'en_core_web_md')\n"
     ]
    },
    {
     "name": "stdin",
     "output_type": "stream",
     "text": [
      "1 if it's OK, add the correct tag if not:  OTHER\n"
     ]
    },
    {
     "name": "stdout",
     "output_type": "stream",
     "text": [
      "('PERSON', 'Carl Kempe', 'en_core_web_md')\n"
     ]
    },
    {
     "name": "stdin",
     "output_type": "stream",
     "text": [
      "1 if it's OK, add the correct tag if not:  1\n"
     ]
    },
    {
     "name": "stdout",
     "output_type": "stream",
     "text": [
      "('PERSON', 'Ernest Cassel', 'en_core_web_md')\n"
     ]
    },
    {
     "name": "stdin",
     "output_type": "stream",
     "text": [
      "1 if it's OK, add the correct tag if not:  1\n"
     ]
    },
    {
     "name": "stdout",
     "output_type": "stream",
     "text": [
      "('PERSON', 'Daphne Zimmermann', 'en_core_web_md')\n"
     ]
    },
    {
     "name": "stdin",
     "output_type": "stream",
     "text": [
      "1 if it's OK, add the correct tag if not:  1\n"
     ]
    },
    {
     "name": "stdout",
     "output_type": "stream",
     "text": [
      "('ORG', 'FROM THE COLLECTION OF BENOÎT DE GORSKI', 'ro_core_news_sm')\n"
     ]
    },
    {
     "name": "stdin",
     "output_type": "stream",
     "text": [
      "1 if it's OK, add the correct tag if not:  1\n"
     ]
    },
    {
     "name": "stdout",
     "output_type": "stream",
     "text": [
      "('GPE', 'Frederick', 'en_core_web_md')\n"
     ]
    },
    {
     "name": "stdin",
     "output_type": "stream",
     "text": [
      "1 if it's OK, add the correct tag if not:  PERSON\n"
     ]
    },
    {
     "name": "stdout",
     "output_type": "stream",
     "text": [
      "('GPE', 'Wales', 'en_core_web_md')\n"
     ]
    },
    {
     "name": "stdin",
     "output_type": "stream",
     "text": [
      "1 if it's OK, add the correct tag if not:  1\n"
     ]
    },
    {
     "name": "stdout",
     "output_type": "stream",
     "text": [
      "('GPE', 'Great Britain', 'en_core_web_md')\n"
     ]
    },
    {
     "name": "stdin",
     "output_type": "stream",
     "text": [
      "1 if it's OK, add the correct tag if not:  1\n"
     ]
    },
    {
     "name": "stdout",
     "output_type": "stream",
     "text": [
      "('GPE', 'Hanover', 'en_core_web_md')\n"
     ]
    },
    {
     "name": "stdin",
     "output_type": "stream",
     "text": [
      "1 if it's OK, add the correct tag if not:  1\n"
     ]
    },
    {
     "name": "stdout",
     "output_type": "stream",
     "text": [
      "('PERSON', 'King George II', 'en_core_web_md')\n"
     ]
    },
    {
     "name": "stdin",
     "output_type": "stream",
     "text": [
      "1 if it's OK, add the correct tag if not:  1\n"
     ]
    },
    {
     "name": "stdout",
     "output_type": "stream",
     "text": [
      "('PERSON', 'King William IV', 'en_core_web_md')\n"
     ]
    },
    {
     "name": "stdin",
     "output_type": "stream",
     "text": [
      "1 if it's OK, add the correct tag if not:  1\n"
     ]
    },
    {
     "name": "stdout",
     "output_type": "stream",
     "text": [
      "('ORG', 'Royal', 'en_core_web_md')\n"
     ]
    },
    {
     "name": "stdin",
     "output_type": "stream",
     "text": [
      "1 if it's OK, add the correct tag if not:  OTHER\n"
     ]
    },
    {
     "name": "stdout",
     "output_type": "stream",
     "text": [
      "('PERSON', 'Prince Ernst Augustus', 'en_core_web_md')\n"
     ]
    },
    {
     "name": "stdin",
     "output_type": "stream",
     "text": [
      "1 if it's OK, add the correct tag if not:  1\n"
     ]
    },
    {
     "name": "stdout",
     "output_type": "stream",
     "text": [
      "('PERSON', '1st Duke', 'en_core_web_md')\n"
     ]
    },
    {
     "name": "stdin",
     "output_type": "stream",
     "text": [
      "1 if it's OK, add the correct tag if not:  1\n"
     ]
    },
    {
     "name": "stdout",
     "output_type": "stream",
     "text": [
      "('PERSON', 'King George III', 'en_core_web_md')\n"
     ]
    },
    {
     "name": "stdin",
     "output_type": "stream",
     "text": [
      "1 if it's OK, add the correct tag if not:  1\n"
     ]
    },
    {
     "name": "stdout",
     "output_type": "stream",
     "text": [
      "('ORG', 'Teviotdale', 'en_core_web_md')\n"
     ]
    },
    {
     "name": "stdin",
     "output_type": "stream",
     "text": [
      "1 if it's OK, add the correct tag if not:  GPE\n"
     ]
    },
    {
     "name": "stdout",
     "output_type": "stream",
     "text": [
      "('ORG', 'King of Hanover', 'en_core_web_md')\n"
     ]
    },
    {
     "name": "stdin",
     "output_type": "stream",
     "text": [
      "1 if it's OK, add the correct tag if not:  1\n"
     ]
    },
    {
     "name": "stdout",
     "output_type": "stream",
     "text": [
      "('PERSON', 'George V', 'en_core_web_md')\n"
     ]
    },
    {
     "name": "stdin",
     "output_type": "stream",
     "text": [
      "1 if it's OK, add the correct tag if not:  1\n"
     ]
    },
    {
     "name": "stdout",
     "output_type": "stream",
     "text": [
      "('PERSON', 'Ernst Augustus II', 'en_core_web_md')\n"
     ]
    },
    {
     "name": "stdin",
     "output_type": "stream",
     "text": [
      "1 if it's OK, add the correct tag if not:  1\n"
     ]
    },
    {
     "name": "stdout",
     "output_type": "stream",
     "text": [
      "('PERSON', 'Crown Prince', 'en_core_web_md')\n"
     ]
    },
    {
     "name": "stdin",
     "output_type": "stream",
     "text": [
      "1 if it's OK, add the correct tag if not:  1\n"
     ]
    },
    {
     "name": "stdout",
     "output_type": "stream",
     "text": [
      "('PERSON', 'Ernst Augustus III', 'en_core_web_md')\n"
     ]
    },
    {
     "name": "stdin",
     "output_type": "stream",
     "text": [
      "1 if it's OK, add the correct tag if not:  1\n"
     ]
    },
    {
     "name": "stdout",
     "output_type": "stream",
     "text": [
      "('GPE', 'Brunswick', 'en_core_web_md')\n"
     ]
    },
    {
     "name": "stdin",
     "output_type": "stream",
     "text": [
      "1 if it's OK, add the correct tag if not:  1\n"
     ]
    },
    {
     "name": "stdout",
     "output_type": "stream",
     "text": [
      "('PERSON', 'Ernst Augustus IV', 'en_core_web_md')\n"
     ]
    },
    {
     "name": "stdin",
     "output_type": "stream",
     "text": [
      "1 if it's OK, add the correct tag if not:  1\n"
     ]
    },
    {
     "name": "stdout",
     "output_type": "stream",
     "text": [
      "('GPE', 'B85', 'es_core_news_sm')\n"
     ]
    },
    {
     "name": "stdin",
     "output_type": "stream",
     "text": [
      "1 if it's OK, add the correct tag if not:  OTHER\n"
     ]
    },
    {
     "name": "stdout",
     "output_type": "stream",
     "text": [
      "('LAW', 'B009', 'nl_core_news_sm')\n"
     ]
    },
    {
     "name": "stdin",
     "output_type": "stream",
     "text": [
      "1 if it's OK, add the correct tag if not:  OTHER\n"
     ]
    },
    {
     "name": "stdout",
     "output_type": "stream",
     "text": [
      "('GPE', 'Afd.26/3', 'fr_core_news_sm')\n"
     ]
    },
    {
     "name": "stdin",
     "output_type": "stream",
     "text": [
      "1 if it's OK, add the correct tag if not:  OTHER\n"
     ]
    },
    {
     "name": "stdout",
     "output_type": "stream",
     "text": [
      "('PERSON', 'Leo Castelli Gallery', 'en_core_web_md')\n"
     ]
    },
    {
     "name": "stdin",
     "output_type": "stream",
     "text": [
      "1 if it's OK, add the correct tag if not:  ORG\n"
     ]
    },
    {
     "name": "stdout",
     "output_type": "stream",
     "text": [
      "('GPE', 'ca', 'fr_core_news_sm')\n"
     ]
    },
    {
     "name": "stdin",
     "output_type": "stream",
     "text": [
      "1 if it's OK, add the correct tag if not:  OTHER\n"
     ]
    },
    {
     "name": "stdout",
     "output_type": "stream",
     "text": [
      "('OTHER', '1985', 'fr_core_news_sm')\n"
     ]
    },
    {
     "name": "stdin",
     "output_type": "stream",
     "text": [
      "1 if it's OK, add the correct tag if not:  DATE\n"
     ]
    },
    {
     "name": "stdout",
     "output_type": "stream",
     "text": [
      "('PERSON', 'Hôtel Drouot', 'en_core_web_md')\n"
     ]
    },
    {
     "name": "stdin",
     "output_type": "stream",
     "text": [
      "1 if it's OK, add the correct tag if not:  ORG\n"
     ]
    },
    {
     "name": "stdout",
     "output_type": "stream",
     "text": [
      "('GPE', 'Portugal', 'es_core_news_sm')\n"
     ]
    },
    {
     "name": "stdin",
     "output_type": "stream",
     "text": [
      "1 if it's OK, add the correct tag if not:  1\n"
     ]
    },
    {
     "name": "stdout",
     "output_type": "stream",
     "text": [
      "('OTHER', 'May 2013', 'fr_core_news_sm')\n"
     ]
    },
    {
     "name": "stdin",
     "output_type": "stream",
     "text": [
      "1 if it's OK, add the correct tag if not:  DATE\n"
     ]
    },
    {
     "name": "stdout",
     "output_type": "stream",
     "text": [
      "('GPE', 'Donati', 'it_core_news_sm')\n"
     ]
    },
    {
     "name": "stdin",
     "output_type": "stream",
     "text": [
      "1 if it's OK, add the correct tag if not:  PERSON\n"
     ]
    },
    {
     "name": "stdout",
     "output_type": "stream",
     "text": [
      "('GPE', 'Lugano', 'it_core_news_sm')\n"
     ]
    },
    {
     "name": "stdin",
     "output_type": "stream",
     "text": [
      "1 if it's OK, add the correct tag if not:  1\n"
     ]
    },
    {
     "name": "stdout",
     "output_type": "stream",
     "text": [
      "('PERSON', 'Anita Gray Gallery', 'en_core_web_md')\n"
     ]
    },
    {
     "name": "stdin",
     "output_type": "stream",
     "text": [
      "1 if it's OK, add the correct tag if not:  1\n"
     ]
    },
    {
     "name": "stdout",
     "output_type": "stream",
     "text": [
      "('FAC', 'Portobello Road', 'en_core_web_md')\n"
     ]
    },
    {
     "name": "stdin",
     "output_type": "stream",
     "text": [
      "1 if it's OK, add the correct tag if not:  GPE\n"
     ]
    },
    {
     "name": "stdout",
     "output_type": "stream",
     "text": [
      "('ORG', 'Londres', 'de_core_news_sm')\n"
     ]
    },
    {
     "name": "stdin",
     "output_type": "stream",
     "text": [
      "1 if it's OK, add the correct tag if not:  GPE\n"
     ]
    },
    {
     "name": "stdout",
     "output_type": "stream",
     "text": [
      "('GPE', 'Portobello Road', 'fr_core_news_sm')\n"
     ]
    },
    {
     "name": "stdin",
     "output_type": "stream",
     "text": [
      "1 if it's OK, add the correct tag if not:  1\n"
     ]
    },
    {
     "name": "stdout",
     "output_type": "stream",
     "text": [
      "('FAC', 'Edric van Vredenburgh', 'nl_core_news_sm')\n"
     ]
    },
    {
     "name": "stdin",
     "output_type": "stream",
     "text": [
      "1 if it's OK, add the correct tag if not:  PERSON\n"
     ]
    },
    {
     "name": "stdout",
     "output_type": "stream",
     "text": [
      "('PERSON', 'Edward T.\\xa0Chow', 'en_core_web_md')\n"
     ]
    },
    {
     "name": "stdin",
     "output_type": "stream",
     "text": [
      "1 if it's OK, add the correct tag if not:  1\n"
     ]
    },
    {
     "name": "stdout",
     "output_type": "stream",
     "text": [
      "('ORG', 'Emmanuel de Monbrison', 'en_core_web_md')\n"
     ]
    },
    {
     "name": "stdin",
     "output_type": "stream",
     "text": [
      "1 if it's OK, add the correct tag if not:  PERSON\n"
     ]
    },
    {
     "name": "stdout",
     "output_type": "stream",
     "text": [
      "('NORP', 'M.4.10', 'en_core_web_md')\n"
     ]
    },
    {
     "name": "stdin",
     "output_type": "stream",
     "text": [
      "1 if it's OK, add the correct tag if not:  OTHER\n"
     ]
    },
    {
     "name": "stdout",
     "output_type": "stream",
     "text": [
      "('PERSON', 'Ecoute', 'pl_core_news_sm')\n"
     ]
    },
    {
     "name": "stdin",
     "output_type": "stream",
     "text": [
      "1 if it's OK, add the correct tag if not:  OTHER\n"
     ]
    },
    {
     "name": "stdout",
     "output_type": "stream",
     "text": [
      "('GPE', 'Lyon', 'pl_core_news_sm')\n"
     ]
    },
    {
     "name": "stdin",
     "output_type": "stream",
     "text": [
      "1 if it's OK, add the correct tag if not:  1\n"
     ]
    },
    {
     "name": "stdout",
     "output_type": "stream",
     "text": [
      "('PERSON', 'Colin Gross', 'en_core_web_md')\n"
     ]
    },
    {
     "name": "stdin",
     "output_type": "stream",
     "text": [
      "1 if it's OK, add the correct tag if not:  1\n"
     ]
    },
    {
     "name": "stdout",
     "output_type": "stream",
     "text": [
      "('PERSON', 'Herbert Stern', 'en_core_web_md')\n"
     ]
    },
    {
     "name": "stdin",
     "output_type": "stream",
     "text": [
      "1 if it's OK, add the correct tag if not:  1\n"
     ]
    },
    {
     "name": "stdout",
     "output_type": "stream",
     "text": [
      "('PERSON', 'Michelham', 'en_core_web_md')\n"
     ]
    },
    {
     "name": "stdin",
     "output_type": "stream",
     "text": [
      "1 if it's OK, add the correct tag if not:  1\n"
     ]
    },
    {
     "name": "stdout",
     "output_type": "stream",
     "text": [
      "('PERSON', 'M. Parish-Watson', 'en_core_web_md')\n"
     ]
    },
    {
     "name": "stdin",
     "output_type": "stream",
     "text": [
      "1 if it's OK, add the correct tag if not:  1\n"
     ]
    },
    {
     "name": "stdout",
     "output_type": "stream",
     "text": [
      "('GPE', '6040', 'en_core_web_md')\n"
     ]
    },
    {
     "name": "stdin",
     "output_type": "stream",
     "text": [
      "1 if it's OK, add the correct tag if not:  OTHER\n"
     ]
    },
    {
     "name": "stdout",
     "output_type": "stream",
     "text": [
      "('PERSON', 'F. Warrington-Strong', 'en_core_web_md')\n"
     ]
    },
    {
     "name": "stdin",
     "output_type": "stream",
     "text": [
      "1 if it's OK, add the correct tag if not:  1\n"
     ]
    },
    {
     "name": "stdout",
     "output_type": "stream",
     "text": [
      "('ORG', 'Sotheby’s London', 'en_core_web_md')\n"
     ]
    },
    {
     "name": "stdin",
     "output_type": "stream",
     "text": [
      "1 if it's OK, add the correct tag if not:  1\n"
     ]
    },
    {
     "name": "stdout",
     "output_type": "stream",
     "text": [
      "('PERSON', 'Di Castro', 'en_core_web_md')\n"
     ]
    },
    {
     "name": "stdin",
     "output_type": "stream",
     "text": [
      "1 if it's OK, add the correct tag if not:  1\n"
     ]
    },
    {
     "name": "stdout",
     "output_type": "stream",
     "text": [
      "('PERSON', 'Luisa Vertova', 'en_core_web_md')\n"
     ]
    },
    {
     "name": "stdin",
     "output_type": "stream",
     "text": [
      "1 if it's OK, add the correct tag if not:  1\n"
     ]
    },
    {
     "name": "stdout",
     "output_type": "stream",
     "text": [
      "('PERSON', 'Stieglitz', 'en_core_web_md')\n"
     ]
    },
    {
     "name": "stdin",
     "output_type": "stream",
     "text": [
      "1 if it's OK, add the correct tag if not:  1\n"
     ]
    },
    {
     "name": "stdout",
     "output_type": "stream",
     "text": [
      "('PERSON', 'Alma Morganthau', 'en_core_web_md')\n"
     ]
    },
    {
     "name": "stdin",
     "output_type": "stream",
     "text": [
      "1 if it's OK, add the correct tag if not:  1\n"
     ]
    },
    {
     "name": "stdout",
     "output_type": "stream",
     "text": [
      "('GPE', 'Wertheim', 'en_core_web_md')\n"
     ]
    },
    {
     "name": "stdin",
     "output_type": "stream",
     "text": [
      "1 if it's OK, add the correct tag if not:  1\n"
     ]
    },
    {
     "name": "stdout",
     "output_type": "stream",
     "text": [
      "('ORG', 'An American Place', 'en_core_web_md')\n"
     ]
    },
    {
     "name": "stdin",
     "output_type": "stream",
     "text": [
      "1 if it's OK, add the correct tag if not:  GPE\n"
     ]
    },
    {
     "name": "stdout",
     "output_type": "stream",
     "text": [
      "('GPE', 'New Haven', 'de_core_news_sm')\n"
     ]
    },
    {
     "name": "stdin",
     "output_type": "stream",
     "text": [
      "1 if it's OK, add the correct tag if not:  1\n"
     ]
    },
    {
     "name": "stdout",
     "output_type": "stream",
     "text": [
      "('GPE', 'Connecticut', 'de_core_news_sm')\n"
     ]
    },
    {
     "name": "stdin",
     "output_type": "stream",
     "text": [
      "1 if it's OK, add the correct tag if not:  1\n"
     ]
    },
    {
     "name": "stdout",
     "output_type": "stream",
     "text": [
      "('ORG', 'Princeton Gallery of', 'en_core_web_md')\n"
     ]
    },
    {
     "name": "stdin",
     "output_type": "stream",
     "text": [
      "1 if it's OK, add the correct tag if not:  1\n"
     ]
    },
    {
     "name": "stdout",
     "output_type": "stream",
     "text": [
      "('ORG', 'Fine Art', 'en_core_web_md')\n"
     ]
    },
    {
     "name": "stdin",
     "output_type": "stream",
     "text": [
      "1 if it's OK, add the correct tag if not:  1\n"
     ]
    },
    {
     "name": "stdout",
     "output_type": "stream",
     "text": [
      "('GPE', 'Princeton', 'en_core_web_md')\n"
     ]
    },
    {
     "name": "stdin",
     "output_type": "stream",
     "text": [
      "1 if it's OK, add the correct tag if not:  1\n"
     ]
    },
    {
     "name": "stdout",
     "output_type": "stream",
     "text": [
      "('PERSON', 'Hayashi Gonsuke', 'en_core_web_md')\n"
     ]
    },
    {
     "name": "stdin",
     "output_type": "stream",
     "text": [
      "1 if it's OK, add the correct tag if not:  1\n"
     ]
    },
    {
     "name": "stdout",
     "output_type": "stream",
     "text": [
      "('PERSON', 'Robert\\xa0Berkeley', 'en_core_web_md')\n"
     ]
    },
    {
     "name": "stdin",
     "output_type": "stream",
     "text": [
      "1 if it's OK, add the correct tag if not:  1\n"
     ]
    },
    {
     "name": "stdout",
     "output_type": "stream",
     "text": [
      "('PERSON', 'Robert Martin Berkeley', 'en_core_web_md')\n"
     ]
    },
    {
     "name": "stdin",
     "output_type": "stream",
     "text": [
      "1 if it's OK, add the correct tag if not:  1\n"
     ]
    },
    {
     "name": "stdout",
     "output_type": "stream",
     "text": [
      "('PERSON', 'Naim Attallah CBE', 'en_core_web_md')\n"
     ]
    },
    {
     "name": "stdin",
     "output_type": "stream",
     "text": [
      "1 if it's OK, add the correct tag if not:  1\n"
     ]
    },
    {
     "name": "stdout",
     "output_type": "stream",
     "text": [
      "('GPE', 'Christie’s Paris', 'de_core_news_sm')\n"
     ]
    },
    {
     "name": "stdin",
     "output_type": "stream",
     "text": [
      "1 if it's OK, add the correct tag if not:  ORG\n"
     ]
    },
    {
     "name": "stdout",
     "output_type": "stream",
     "text": [
      "('PERSON', 'William E.', 'en_core_web_md')\n"
     ]
    },
    {
     "name": "stdin",
     "output_type": "stream",
     "text": [
      "1 if it's OK, add the correct tag if not:  1\n"
     ]
    },
    {
     "name": "stdout",
     "output_type": "stream",
     "text": [
      "('PERSON', 'Anne H. Lewis', 'en_core_web_md')\n"
     ]
    },
    {
     "name": "stdin",
     "output_type": "stream",
     "text": [
      "1 if it's OK, add the correct tag if not:  1\n"
     ]
    },
    {
     "name": "stdout",
     "output_type": "stream",
     "text": [
      "('GPE', 'Columbus', 'en_core_web_md')\n"
     ]
    },
    {
     "name": "stdin",
     "output_type": "stream",
     "text": [
      "1 if it's OK, add the correct tag if not:  1\n"
     ]
    },
    {
     "name": "stdout",
     "output_type": "stream",
     "text": [
      "('GPE', 'Ohio', 'en_core_web_md')\n"
     ]
    },
    {
     "name": "stdin",
     "output_type": "stream",
     "text": [
      "1 if it's OK, add the correct tag if not:  1\n"
     ]
    },
    {
     "name": "stdout",
     "output_type": "stream",
     "text": [
      "('ORG', 'Mitsukoshi Department Store', 'en_core_web_md')\n"
     ]
    },
    {
     "name": "stdin",
     "output_type": "stream",
     "text": [
      "1 if it's OK, add the correct tag if not:  1\n"
     ]
    },
    {
     "name": "stdout",
     "output_type": "stream",
     "text": [
      "('GPE', 'Nihonbashi', 'en_core_web_md')\n"
     ]
    },
    {
     "name": "stdin",
     "output_type": "stream",
     "text": [
      "1 if it's OK, add the correct tag if not:  1\n"
     ]
    },
    {
     "name": "stdout",
     "output_type": "stream",
     "text": [
      "('GPE', 'Tokyo', 'en_core_web_md')\n"
     ]
    },
    {
     "name": "stdin",
     "output_type": "stream",
     "text": [
      "1 if it's OK, add the correct tag if not:  1\n"
     ]
    },
    {
     "name": "stdout",
     "output_type": "stream",
     "text": [
      "('ORG', 'Summa Galleries, Inc', 'en_core_web_md')\n"
     ]
    },
    {
     "name": "stdin",
     "output_type": "stream",
     "text": [
      "1 if it's OK, add the correct tag if not:  1\n"
     ]
    },
    {
     "name": "stdout",
     "output_type": "stream",
     "text": [
      "('PERSON', 'Van Berchem', 'en_core_web_md')\n"
     ]
    },
    {
     "name": "stdin",
     "output_type": "stream",
     "text": [
      "1 if it's OK, add the correct tag if not:  1\n"
     ]
    },
    {
     "name": "stdout",
     "output_type": "stream",
     "text": [
      "('ORG', 'Ikeda Gallery', 'en_core_web_md')\n"
     ]
    },
    {
     "name": "stdin",
     "output_type": "stream",
     "text": [
      "1 if it's OK, add the correct tag if not:  1\n"
     ]
    },
    {
     "name": "stdout",
     "output_type": "stream",
     "text": [
      "('GPE', '東京', 'ja_core_news_sm')\n"
     ]
    },
    {
     "name": "stdin",
     "output_type": "stream",
     "text": [
      "1 if it's OK, add the correct tag if not:  1\n"
     ]
    },
    {
     "name": "stdout",
     "output_type": "stream",
     "text": [
      "('PERSON', 'Holger Rosell', 'en_core_web_md')\n"
     ]
    },
    {
     "name": "stdin",
     "output_type": "stream",
     "text": [
      "1 if it's OK, add the correct tag if not:  1\n"
     ]
    },
    {
     "name": "stdout",
     "output_type": "stream",
     "text": [
      "('GPE', 'Stockholm', 'en_core_web_md')\n"
     ]
    },
    {
     "name": "stdin",
     "output_type": "stream",
     "text": [
      "1 if it's OK, add the correct tag if not:  1\n"
     ]
    },
    {
     "name": "stdout",
     "output_type": "stream",
     "text": [
      "('ORG', 'Holger', 'zh_core_web_sm')\n"
     ]
    },
    {
     "name": "stdin",
     "output_type": "stream",
     "text": [
      "1 if it's OK, add the correct tag if not:  PERSON\n"
     ]
    },
    {
     "name": "stdout",
     "output_type": "stream",
     "text": [
      "('PERSON', '斯德哥爾摩', 'zh_core_web_sm')\n"
     ]
    },
    {
     "name": "stdin",
     "output_type": "stream",
     "text": [
      "1 if it's OK, add the correct tag if not:  1\n"
     ]
    },
    {
     "name": "stdout",
     "output_type": "stream",
     "text": [
      "('PERSON', 'Henry Clarke', 'en_core_web_md')\n"
     ]
    },
    {
     "name": "stdin",
     "output_type": "stream",
     "text": [
      "1 if it's OK, add the correct tag if not:  1\n"
     ]
    },
    {
     "name": "stdout",
     "output_type": "stream",
     "text": [
      "('GPE', 'Monaco', 'en_core_web_md')\n"
     ]
    },
    {
     "name": "stdin",
     "output_type": "stream",
     "text": [
      "1 if it's OK, add the correct tag if not:  1\n"
     ]
    },
    {
     "name": "stdout",
     "output_type": "stream",
     "text": [
      "('GPE', 'Piasa', 'en_core_web_md')\n"
     ]
    },
    {
     "name": "stdin",
     "output_type": "stream",
     "text": [
      "1 if it's OK, add the correct tag if not:  ORG\n"
     ]
    },
    {
     "name": "stdout",
     "output_type": "stream",
     "text": [
      "('ORG', 'Hall & Knight', 'en_core_web_md')\n"
     ]
    },
    {
     "name": "stdin",
     "output_type": "stream",
     "text": [
      "1 if it's OK, add the correct tag if not:  1\n"
     ]
    },
    {
     "name": "stdout",
     "output_type": "stream",
     "text": [
      "('GPE', 'Musée Bourdelle', 'fr_core_news_sm')\n"
     ]
    },
    {
     "name": "stdin",
     "output_type": "stream",
     "text": [
      "1 if it's OK, add the correct tag if not:  ORG\n"
     ]
    },
    {
     "name": "stdout",
     "output_type": "stream",
     "text": [
      "('ORG', 'Musée National de la Céramique à Sèvres', 'fr_core_news_sm')\n"
     ]
    },
    {
     "name": "stdin",
     "output_type": "stream",
     "text": [
      "1 if it's OK, add the correct tag if not:  1\n"
     ]
    },
    {
     "name": "stdout",
     "output_type": "stream",
     "text": [
      "('ORG', 'Mason Antiques', 'en_core_web_md')\n"
     ]
    },
    {
     "name": "stdin",
     "output_type": "stream",
     "text": [
      "1 if it's OK, add the correct tag if not:  1\n"
     ]
    },
    {
     "name": "stdout",
     "output_type": "stream",
     "text": [
      "('GPE', 'Cornwall', 'en_core_web_md')\n"
     ]
    },
    {
     "name": "stdin",
     "output_type": "stream",
     "text": [
      "1 if it's OK, add the correct tag if not:  1\n"
     ]
    },
    {
     "name": "stdout",
     "output_type": "stream",
     "text": [
      "('PERSON', 'Bruce Anderson', 'en_core_web_md')\n"
     ]
    },
    {
     "name": "stdin",
     "output_type": "stream",
     "text": [
      "1 if it's OK, add the correct tag if not:  1\n"
     ]
    },
    {
     "name": "stdout",
     "output_type": "stream",
     "text": [
      "('PERSON', 'JAMES E. SOWELL', 'en_core_web_md')\n"
     ]
    },
    {
     "name": "stdin",
     "output_type": "stream",
     "text": [
      "1 if it's OK, add the correct tag if not:  1\n"
     ]
    },
    {
     "name": "stdout",
     "output_type": "stream",
     "text": [
      "('ORG', 'Cohen & Cohen', 'en_core_web_md')\n"
     ]
    },
    {
     "name": "stdin",
     "output_type": "stream",
     "text": [
      "1 if it's OK, add the correct tag if not:  1\n"
     ]
    },
    {
     "name": "stdout",
     "output_type": "stream",
     "text": [
      "('ORG', 'Sold Without Reserve', 'en_core_web_md')\n"
     ]
    },
    {
     "name": "stdin",
     "output_type": "stream",
     "text": [
      "1 if it's OK, add the correct tag if not:  OTHER\n"
     ]
    },
    {
     "name": "stdout",
     "output_type": "stream",
     "text": [
      "('OTHER', 'Rome', 'it_core_news_sm')\n"
     ]
    },
    {
     "name": "stdin",
     "output_type": "stream",
     "text": [
      "1 if it's OK, add the correct tag if not:  GPE\n"
     ]
    },
    {
     "name": "stdout",
     "output_type": "stream",
     "text": [
      "('ORG', 'Monaco', 'es_core_news_sm')\n"
     ]
    },
    {
     "name": "stdin",
     "output_type": "stream",
     "text": [
      "1 if it's OK, add the correct tag if not:  GPE\n"
     ]
    },
    {
     "name": "stdout",
     "output_type": "stream",
     "text": [
      "('PERSON', 'Walter N. Rothschild', 'en_core_web_md')\n"
     ]
    },
    {
     "name": "stdin",
     "output_type": "stream",
     "text": [
      "1 if it's OK, add the correct tag if not:  1\n"
     ]
    },
    {
     "name": "stdout",
     "output_type": "stream",
     "text": [
      "('GPE', 'Walter', 'zh_core_web_sm')\n"
     ]
    },
    {
     "name": "stdin",
     "output_type": "stream",
     "text": [
      "1 if it's OK, add the correct tag if not:  PERSON\n"
     ]
    },
    {
     "name": "stdout",
     "output_type": "stream",
     "text": [
      "('PERSON', 'Rothschild', 'zh_core_web_sm')\n"
     ]
    },
    {
     "name": "stdin",
     "output_type": "stream",
     "text": [
      "1 if it's OK, add the correct tag if not:  1\n"
     ]
    },
    {
     "name": "stdout",
     "output_type": "stream",
     "text": [
      "('ORG', \"Sold Christie's\", 'en_core_web_md')\n"
     ]
    },
    {
     "name": "stdin",
     "output_type": "stream",
     "text": [
      "1 if it's OK, add the correct tag if not:  1\n"
     ]
    },
    {
     "name": "stdout",
     "output_type": "stream",
     "text": [
      "('PERSON', 'Carlo Cristi', 'en_core_web_md')\n"
     ]
    },
    {
     "name": "stdin",
     "output_type": "stream",
     "text": [
      "1 if it's OK, add the correct tag if not:  1\n"
     ]
    },
    {
     "name": "stdout",
     "output_type": "stream",
     "text": [
      "('GPE', 'Milan', 'en_core_web_md')\n"
     ]
    },
    {
     "name": "stdin",
     "output_type": "stream",
     "text": [
      "1 if it's OK, add the correct tag if not:  1\n"
     ]
    },
    {
     "name": "stdout",
     "output_type": "stream",
     "text": [
      "('ORG', 'Frank Sternberg AG', 'en_core_web_md')\n"
     ]
    },
    {
     "name": "stdin",
     "output_type": "stream",
     "text": [
      "1 if it's OK, add the correct tag if not:  1\n"
     ]
    },
    {
     "name": "stdout",
     "output_type": "stream",
     "text": [
      "('GPE', 'Bruxelles', 'fr_core_news_sm')\n"
     ]
    },
    {
     "name": "stdin",
     "output_type": "stream",
     "text": [
      "1 if it's OK, add the correct tag if not:  1\n"
     ]
    },
    {
     "name": "stdout",
     "output_type": "stream",
     "text": [
      "('GPE', 'Londres', 'fr_core_news_sm')\n"
     ]
    },
    {
     "name": "stdin",
     "output_type": "stream",
     "text": [
      "1 if it's OK, add the correct tag if not:  1\n"
     ]
    },
    {
     "name": "stdout",
     "output_type": "stream",
     "text": [
      "('PERSON', 'Karen Brown Gallery', 'en_core_web_md')\n"
     ]
    },
    {
     "name": "stdin",
     "output_type": "stream",
     "text": [
      "1 if it's OK, add the correct tag if not:  ORG\n"
     ]
    },
    {
     "name": "stdout",
     "output_type": "stream",
     "text": [
      "('PERSON', 'Darwin', 'en_core_web_md')\n"
     ]
    },
    {
     "name": "stdin",
     "output_type": "stream",
     "text": [
      "1 if it's OK, add the correct tag if not:  1\n"
     ]
    },
    {
     "name": "stdout",
     "output_type": "stream",
     "text": [
      "('ORG', 'The Thomas Vroom Collection', 'en_core_web_md')\n"
     ]
    },
    {
     "name": "stdin",
     "output_type": "stream",
     "text": [
      "1 if it's OK, add the correct tag if not:  1\n"
     ]
    },
    {
     "name": "stdout",
     "output_type": "stream",
     "text": [
      "('GPE', 'Netherlands', 'en_core_web_md')\n"
     ]
    },
    {
     "name": "stdin",
     "output_type": "stream",
     "text": [
      "1 if it's OK, add the correct tag if not:  1\n"
     ]
    },
    {
     "name": "stdout",
     "output_type": "stream",
     "text": [
      "('PERSON', 'Q.9.37', 'en_core_web_md')\n"
     ]
    },
    {
     "name": "stdin",
     "output_type": "stream",
     "text": [
      "1 if it's OK, add the correct tag if not:  OTHER\n"
     ]
    },
    {
     "name": "stdout",
     "output_type": "stream",
     "text": [
      "('PERSON', '洛杉磯', 'zh_core_web_sm')\n"
     ]
    },
    {
     "name": "stdin",
     "output_type": "stream",
     "text": [
      "1 if it's OK, add the correct tag if not:  GPE\n"
     ]
    },
    {
     "name": "stdout",
     "output_type": "stream",
     "text": [
      "('PERSON', 'Garth', 'en_core_web_md')\n"
     ]
    },
    {
     "name": "stdin",
     "output_type": "stream",
     "text": [
      "1 if it's OK, add the correct tag if not:  1\n"
     ]
    },
    {
     "name": "stdout",
     "output_type": "stream",
     "text": [
      "('GPE', 'Delaware', 'en_core_web_md')\n"
     ]
    },
    {
     "name": "stdin",
     "output_type": "stream",
     "text": [
      "1 if it's OK, add the correct tag if not:  1\n"
     ]
    },
    {
     "name": "stdout",
     "output_type": "stream",
     "text": [
      "('GPE', 'Maine', 'fr_core_news_sm')\n"
     ]
    },
    {
     "name": "stdin",
     "output_type": "stream",
     "text": [
      "1 if it's OK, add the correct tag if not:  1\n"
     ]
    },
    {
     "name": "stdout",
     "output_type": "stream",
     "text": [
      "('ORG', 'Zurich', 'de_core_news_sm')\n"
     ]
    },
    {
     "name": "stdin",
     "output_type": "stream",
     "text": [
      "1 if it's OK, add the correct tag if not:  1\n"
     ]
    },
    {
     "name": "stdout",
     "output_type": "stream",
     "text": [
      "('ORG', 'Diplomatic Private Collection', 'en_core_web_md')\n"
     ]
    },
    {
     "name": "stdin",
     "output_type": "stream",
     "text": [
      "1 if it's OK, add the correct tag if not:  1\n"
     ]
    },
    {
     "name": "stdout",
     "output_type": "stream",
     "text": [
      "('PERSON', 'M. van den Ende', 'en_core_web_md')\n"
     ]
    },
    {
     "name": "stdin",
     "output_type": "stream",
     "text": [
      "1 if it's OK, add the correct tag if not:  1\n"
     ]
    },
    {
     "name": "stdout",
     "output_type": "stream",
     "text": [
      "('GPE', 'The Hague', 'en_core_web_md')\n"
     ]
    },
    {
     "name": "stdin",
     "output_type": "stream",
     "text": [
      "1 if it's OK, add the correct tag if not:  1\n"
     ]
    },
    {
     "name": "stdout",
     "output_type": "stream",
     "text": [
      "('OTHER', 'D52', 'es_core_news_sm')\n"
     ]
    },
    {
     "name": "stdin",
     "output_type": "stream",
     "text": [
      "1 if it's OK, add the correct tag if not:  OTHER\n"
     ]
    },
    {
     "name": "stdout",
     "output_type": "stream",
     "text": [
      "('WORK_OF_ART', 'D032', 'nl_core_news_sm')\n"
     ]
    },
    {
     "name": "stdin",
     "output_type": "stream",
     "text": [
      "1 if it's OK, add the correct tag if not:  OTHER\n"
     ]
    },
    {
     "name": "stdout",
     "output_type": "stream",
     "text": [
      "('FAC', 'La Haye', 'nl_core_news_sm')\n"
     ]
    },
    {
     "name": "stdin",
     "output_type": "stream",
     "text": [
      "1 if it's OK, add the correct tag if not:  GPE\n"
     ]
    },
    {
     "name": "stdout",
     "output_type": "stream",
     "text": [
      "('GPE', 'D52', 'fr_core_news_sm')\n"
     ]
    },
    {
     "name": "stdin",
     "output_type": "stream",
     "text": [
      "1 if it's OK, add the correct tag if not:  OTHER\n"
     ]
    },
    {
     "name": "stdout",
     "output_type": "stream",
     "text": [
      "('ORG', 'Tehran', 'de_core_news_sm')\n"
     ]
    },
    {
     "name": "stdin",
     "output_type": "stream",
     "text": [
      "1 if it's OK, add the correct tag if not:  GPEP\n"
     ]
    },
    {
     "name": "stdout",
     "output_type": "stream",
     "text": [
      "Invalid input. Please enter 0 or 1 or a valid label.\n"
     ]
    },
    {
     "name": "stdin",
     "output_type": "stream",
     "text": [
      "1 if it's OK, add the correct tag if not:  GPE\n"
     ]
    },
    {
     "name": "stdout",
     "output_type": "stream",
     "text": [
      "('ORG', 'J.T. Tai & Co', 'en_core_web_md')\n"
     ]
    },
    {
     "name": "stdin",
     "output_type": "stream",
     "text": [
      "1 if it's OK, add the correct tag if not:  1\n"
     ]
    },
    {
     "name": "stdout",
     "output_type": "stream",
     "text": [
      "('PERSON', 'Arthur\\xa0M.\\xa0Sackler', 'en_core_web_md')\n"
     ]
    },
    {
     "name": "stdin",
     "output_type": "stream",
     "text": [
      "1 if it's OK, add the correct tag if not:  1\n"
     ]
    },
    {
     "name": "stdout",
     "output_type": "stream",
     "text": [
      "('PERSON', 'W. Forbes', 'en_core_web_md')\n"
     ]
    },
    {
     "name": "stdin",
     "output_type": "stream",
     "text": [
      "1 if it's OK, add the correct tag if not:  1\n"
     ]
    },
    {
     "name": "stdout",
     "output_type": "stream",
     "text": [
      "('PERSON', 'Jane Ramsey', 'en_core_web_md')\n"
     ]
    },
    {
     "name": "stdin",
     "output_type": "stream",
     "text": [
      "1 if it's OK, add the correct tag if not:  1\n"
     ]
    },
    {
     "name": "stdout",
     "output_type": "stream",
     "text": [
      "('GPE', 'Cazenovia', 'de_core_news_sm')\n"
     ]
    },
    {
     "name": "stdin",
     "output_type": "stream",
     "text": [
      "1 if it's OK, add the correct tag if not:  1\n"
     ]
    },
    {
     "name": "stdout",
     "output_type": "stream",
     "text": [
      "('PERSON', 'A.G. Langlois', 'en_core_web_md')\n"
     ]
    },
    {
     "name": "stdin",
     "output_type": "stream",
     "text": [
      "1 if it's OK, add the correct tag if not:  1\n"
     ]
    },
    {
     "name": "stdout",
     "output_type": "stream",
     "text": [
      "('GPE', 'Jersey', 'en_core_web_md')\n"
     ]
    },
    {
     "name": "stdin",
     "output_type": "stream",
     "text": [
      "1 if it's OK, add the correct tag if not:  1\n"
     ]
    },
    {
     "name": "stdout",
     "output_type": "stream",
     "text": [
      "('PERSON', 'Langlois', 'zh_core_web_sm')\n"
     ]
    },
    {
     "name": "stdin",
     "output_type": "stream",
     "text": [
      "1 if it's OK, add the correct tag if not:  1\n"
     ]
    },
    {
     "name": "stdout",
     "output_type": "stream",
     "text": [
      "('GPE', 'Suisse', 'fr_core_news_sm')\n"
     ]
    },
    {
     "name": "stdin",
     "output_type": "stream",
     "text": [
      "1 if it's OK, add the correct tag if not:  1\n"
     ]
    },
    {
     "name": "stdout",
     "output_type": "stream",
     "text": [
      "('ORG', 'Indianapolis Museum of Art', 'en_core_web_md')\n"
     ]
    },
    {
     "name": "stdin",
     "output_type": "stream",
     "text": [
      "1 if it's OK, add the correct tag if not:  1\n"
     ]
    },
    {
     "name": "stdout",
     "output_type": "stream",
     "text": [
      "('GPE', 'Indianapolis', 'en_core_web_md')\n"
     ]
    },
    {
     "name": "stdin",
     "output_type": "stream",
     "text": [
      "1 if it's OK, add the correct tag if not:  1\n"
     ]
    },
    {
     "name": "stdout",
     "output_type": "stream",
     "text": [
      "('ORG', 'Osterrieth House', 'en_core_web_md')\n"
     ]
    },
    {
     "name": "stdin",
     "output_type": "stream",
     "text": [
      "1 if it's OK, add the correct tag if not:  1\n"
     ]
    },
    {
     "name": "stdout",
     "output_type": "stream",
     "text": [
      "('ORG', 'Crounce Family', 'en_core_web_md')\n"
     ]
    },
    {
     "name": "stdin",
     "output_type": "stream",
     "text": [
      "1 if it's OK, add the correct tag if not:  1\n"
     ]
    },
    {
     "name": "stdout",
     "output_type": "stream",
     "text": [
      "('GPE', 'Altamont', 'en_core_web_md')\n"
     ]
    },
    {
     "name": "stdin",
     "output_type": "stream",
     "text": [
      "1 if it's OK, add the correct tag if not:  1\n"
     ]
    },
    {
     "name": "stdout",
     "output_type": "stream",
     "text": [
      "('ORG', 'Important American Furniture, Silver, Folk Art and Decorative Arts', 'en_core_web_md')\n"
     ]
    },
    {
     "name": "stdin",
     "output_type": "stream",
     "text": [
      "1 if it's OK, add the correct tag if not:  1\n"
     ]
    },
    {
     "name": "stdout",
     "output_type": "stream",
     "text": [
      "('PERSON', 'Marguerite Riordan', 'en_core_web_md')\n"
     ]
    },
    {
     "name": "stdin",
     "output_type": "stream",
     "text": [
      "1 if it's OK, add the correct tag if not:  1\n"
     ]
    },
    {
     "name": "stdout",
     "output_type": "stream",
     "text": [
      "('GPE', 'Stonington', 'en_core_web_md')\n"
     ]
    },
    {
     "name": "stdin",
     "output_type": "stream",
     "text": [
      "1 if it's OK, add the correct tag if not:  1\n"
     ]
    },
    {
     "name": "stdout",
     "output_type": "stream",
     "text": [
      "('PERSON', 'Gustave Jéquier', 'en_core_web_md')\n"
     ]
    },
    {
     "name": "stdin",
     "output_type": "stream",
     "text": [
      "1 if it's OK, add the correct tag if not:  1\n"
     ]
    },
    {
     "name": "stdout",
     "output_type": "stream",
     "text": [
      "('PERSON', 'Spencer Joshua Alwyne Compton', 'en_core_web_md')\n"
     ]
    },
    {
     "name": "stdin",
     "output_type": "stream",
     "text": [
      "1 if it's OK, add the correct tag if not:  1\n"
     ]
    },
    {
     "name": "stdout",
     "output_type": "stream",
     "text": [
      "('GPE', 'Northampton', 'en_core_web_md')\n"
     ]
    },
    {
     "name": "stdin",
     "output_type": "stream",
     "text": [
      "1 if it's OK, add the correct tag if not:  1\n"
     ]
    },
    {
     "name": "stdout",
     "output_type": "stream",
     "text": [
      "('GPE', 'Castle Ashby', 'en_core_web_md')\n"
     ]
    },
    {
     "name": "stdin",
     "output_type": "stream",
     "text": [
      "1 if it's OK, add the correct tag if not:  1\n"
     ]
    },
    {
     "name": "stdout",
     "output_type": "stream",
     "text": [
      "('ORG', 'The Castle Ashby Vases', 'en_core_web_md')\n"
     ]
    },
    {
     "name": "stdin",
     "output_type": "stream",
     "text": [
      "1 if it's OK, add the correct tag if not:  1\n"
     ]
    },
    {
     "name": "stdout",
     "output_type": "stream",
     "text": [
      "('ORG', 'Fine Antiquities', 'fr_core_news_sm')\n"
     ]
    },
    {
     "name": "stdin",
     "output_type": "stream",
     "text": [
      "1 if it's OK, add the correct tag if not:  1\n"
     ]
    },
    {
     "name": "stdout",
     "output_type": "stream",
     "text": [
      "('OTHER', 'June 1989', 'fr_core_news_sm')\n"
     ]
    },
    {
     "name": "stdin",
     "output_type": "stream",
     "text": [
      "1 if it's OK, add the correct tag if not:  DATE\n"
     ]
    },
    {
     "name": "stdout",
     "output_type": "stream",
     "text": [
      "('GPE', 'Drouot', 'en_core_web_md')\n"
     ]
    },
    {
     "name": "stdin",
     "output_type": "stream",
     "text": [
      "1 if it's OK, add the correct tag if not:  1\n"
     ]
    },
    {
     "name": "stdout",
     "output_type": "stream",
     "text": [
      "('PERSON', 'James Willis', 'en_core_web_md')\n"
     ]
    },
    {
     "name": "stdin",
     "output_type": "stream",
     "text": [
      "1 if it's OK, add the correct tag if not:  1\n"
     ]
    },
    {
     "name": "stdout",
     "output_type": "stream",
     "text": [
      "('GPE', 'Villa Visconti Alari', 'it_core_news_sm')\n"
     ]
    },
    {
     "name": "stdin",
     "output_type": "stream",
     "text": [
      "1 if it's OK, add the correct tag if not:  ORG\n"
     ]
    },
    {
     "name": "stdout",
     "output_type": "stream",
     "text": [
      "('GPE', 'Cernusco sul Naviglio', 'it_core_news_sm')\n"
     ]
    },
    {
     "name": "stdin",
     "output_type": "stream",
     "text": [
      "1 if it's OK, add the correct tag if not:  1\n"
     ]
    },
    {
     "name": "stdout",
     "output_type": "stream",
     "text": [
      "('OTHER', 'Private Collection', 'it_core_news_sm')\n"
     ]
    },
    {
     "name": "stdin",
     "output_type": "stream",
     "text": [
      "1 if it's OK, add the correct tag if not:  ORG\n"
     ]
    },
    {
     "name": "stdout",
     "output_type": "stream",
     "text": [
      "('ORG', 'Milan', 'it_core_news_sm')\n"
     ]
    },
    {
     "name": "stdin",
     "output_type": "stream",
     "text": [
      "1 if it's OK, add the correct tag if not:  GPE\n"
     ]
    },
    {
     "name": "stdout",
     "output_type": "stream",
     "text": [
      "('GPE', 'l’', 'fr_core_news_sm')\n"
     ]
    },
    {
     "name": "stdin",
     "output_type": "stream",
     "text": [
      "1 if it's OK, add the correct tag if not:  OTHER\n"
     ]
    },
    {
     "name": "stdout",
     "output_type": "stream",
     "text": [
      "('ORG', 'Mallett & Son Ltd', 'en_core_web_md')\n"
     ]
    },
    {
     "name": "stdin",
     "output_type": "stream",
     "text": [
      "1 if it's OK, add the correct tag if not:  1\n"
     ]
    },
    {
     "name": "stdout",
     "output_type": "stream",
     "text": [
      "('PERSON', 'Michael Smurfit', 'en_core_web_md')\n"
     ]
    },
    {
     "name": "stdin",
     "output_type": "stream",
     "text": [
      "1 if it's OK, add the correct tag if not:  1\n"
     ]
    },
    {
     "name": "stdout",
     "output_type": "stream",
     "text": [
      "('PRODUCT', 'French private collection', 'zh_core_web_sm')\n"
     ]
    },
    {
     "name": "stdin",
     "output_type": "stream",
     "text": [
      "1 if it's OK, add the correct tag if not:  ORG\n"
     ]
    },
    {
     "name": "stdout",
     "output_type": "stream",
     "text": [
      "('GPE', 'Woodland Hills', 'en_core_web_md')\n"
     ]
    },
    {
     "name": "stdin",
     "output_type": "stream",
     "text": [
      "1 if it's OK, add the correct tag if not:  1\n"
     ]
    },
    {
     "name": "stdout",
     "output_type": "stream",
     "text": [
      "('ORG', 'R.H. Ellsworth Ltd', 'en_core_web_md')\n"
     ]
    },
    {
     "name": "stdin",
     "output_type": "stream",
     "text": [
      "1 if it's OK, add the correct tag if not:  1\n"
     ]
    },
    {
     "name": "stdout",
     "output_type": "stream",
     "text": [
      "('PERSON', '安思遠', 'zh_core_web_sm')\n"
     ]
    },
    {
     "name": "stdin",
     "output_type": "stream",
     "text": [
      "1 if it's OK, add the correct tag if not:  1\n"
     ]
    },
    {
     "name": "stdout",
     "output_type": "stream",
     "text": [
      "('PERSON', 'William Suddaby', 'en_core_web_md')\n"
     ]
    },
    {
     "name": "stdin",
     "output_type": "stream",
     "text": [
      "1 if it's OK, add the correct tag if not:  1\n"
     ]
    },
    {
     "name": "stdout",
     "output_type": "stream",
     "text": [
      "('GPE', 'Florida', 'en_core_web_md')\n"
     ]
    },
    {
     "name": "stdin",
     "output_type": "stream",
     "text": [
      "1 if it's OK, add the correct tag if not:  1\n"
     ]
    },
    {
     "name": "stdout",
     "output_type": "stream",
     "text": [
      "('ORG', 'Ancient Vases', 'en_core_web_md')\n"
     ]
    },
    {
     "name": "stdin",
     "output_type": "stream",
     "text": [
      "1 if it's OK, add the correct tag if not:  OTHER\n"
     ]
    },
    {
     "name": "stdout",
     "output_type": "stream",
     "text": [
      "('OTHER', 'B111', 'es_core_news_sm')\n"
     ]
    },
    {
     "name": "stdin",
     "output_type": "stream",
     "text": [
      "1 if it's OK, add the correct tag if not:  1\n"
     ]
    },
    {
     "name": "stdout",
     "output_type": "stream",
     "text": [
      "('FAC', 'Collection Mrs', 'nl_core_news_sm')\n"
     ]
    },
    {
     "name": "stdin",
     "output_type": "stream",
     "text": [
      "1 if it's OK, add the correct tag if not:  ORG\n"
     ]
    },
    {
     "name": "stdout",
     "output_type": "stream",
     "text": [
      "('FAC', 'B010', 'nl_core_news_sm')\n"
     ]
    },
    {
     "name": "stdin",
     "output_type": "stream",
     "text": [
      "1 if it's OK, add the correct tag if not:  OTHER\n"
     ]
    },
    {
     "name": "stdout",
     "output_type": "stream",
     "text": [
      "('OTHER', 'Vente', 'fr_core_news_sm')\n"
     ]
    },
    {
     "name": "stdin",
     "output_type": "stream",
     "text": [
      "1 if it's OK, add the correct tag if not:  1\n"
     ]
    },
    {
     "name": "stdout",
     "output_type": "stream",
     "text": [
      "('GPE', \"Sotheby'\", 'fr_core_news_sm')\n"
     ]
    },
    {
     "name": "stdin",
     "output_type": "stream",
     "text": [
      "1 if it's OK, add the correct tag if not:  ORG\n"
     ]
    },
    {
     "name": "stdout",
     "output_type": "stream",
     "text": [
      "('GPE', 'B111', 'fr_core_news_sm')\n"
     ]
    },
    {
     "name": "stdin",
     "output_type": "stream",
     "text": [
      "1 if it's OK, add the correct tag if not:  OTHER\n"
     ]
    },
    {
     "name": "stdout",
     "output_type": "stream",
     "text": [
      "('PERSON', 'John Granville Morrison', 'en_core_web_md')\n"
     ]
    },
    {
     "name": "stdin",
     "output_type": "stream",
     "text": [
      "1 if it's OK, add the correct tag if not:  1\n"
     ]
    },
    {
     "name": "stdout",
     "output_type": "stream",
     "text": [
      "('PERSON', 'Zuluaga', 'en_core_web_md')\n"
     ]
    },
    {
     "name": "stdin",
     "output_type": "stream",
     "text": [
      "1 if it's OK, add the correct tag if not:  1\n"
     ]
    },
    {
     "name": "stdout",
     "output_type": "stream",
     "text": [
      "('ORG', 'Esq,', 'en_core_web_md')\n"
     ]
    },
    {
     "name": "stdin",
     "output_type": "stream",
     "text": [
      "1 if it's OK, add the correct tag if not:  OTHER\n"
     ]
    },
    {
     "name": "stdout",
     "output_type": "stream",
     "text": [
      "('ORG', 'Metal Vases', 'en_core_web_md')\n"
     ]
    },
    {
     "name": "stdin",
     "output_type": "stream",
     "text": [
      "1 if it's OK, add the correct tag if not:  OTHER\n"
     ]
    },
    {
     "name": "stdout",
     "output_type": "stream",
     "text": [
      "('NORP', 'Moorish', 'en_core_web_md')\n"
     ]
    },
    {
     "name": "stdin",
     "output_type": "stream",
     "text": [
      "1 if it's OK, add the correct tag if not:  1\n"
     ]
    },
    {
     "name": "stdout",
     "output_type": "stream",
     "text": [
      "('PERSON', 'Necker', 'en_core_web_md')\n"
     ]
    },
    {
     "name": "stdin",
     "output_type": "stream",
     "text": [
      "1 if it's OK, add the correct tag if not:  1\n"
     ]
    },
    {
     "name": "stdout",
     "output_type": "stream",
     "text": [
      "('GPE', 'Berkowitsch', 'de_core_news_sm')\n"
     ]
    },
    {
     "name": "stdin",
     "output_type": "stream",
     "text": [
      "1 if it's OK, add the correct tag if not:  PERSON\n"
     ]
    },
    {
     "name": "stdout",
     "output_type": "stream",
     "text": [
      "('GPE', 'Wellington Hotel', 'de_core_news_sm')\n"
     ]
    },
    {
     "name": "stdin",
     "output_type": "stream",
     "text": [
      "1 if it's OK, add the correct tag if not:  ORG\n"
     ]
    },
    {
     "name": "stdout",
     "output_type": "stream",
     "text": [
      "('GPE', 'Madrid', 'de_core_news_sm')\n"
     ]
    },
    {
     "name": "stdin",
     "output_type": "stream",
     "text": [
      "1 if it's OK, add the correct tag if not:  1\n"
     ]
    },
    {
     "name": "stdout",
     "output_type": "stream",
     "text": [
      "('GPE', 'Spain', 'en_core_web_md')\n"
     ]
    },
    {
     "name": "stdin",
     "output_type": "stream",
     "text": [
      "1 if it's OK, add the correct tag if not:  1\n"
     ]
    },
    {
     "name": "stdout",
     "output_type": "stream",
     "text": [
      "('ORG', 'ALHAMBRA', 'en_core_web_md')\n"
     ]
    },
    {
     "name": "stdin",
     "output_type": "stream",
     "text": [
      "1 if it's OK, add the correct tag if not:  GPE\n"
     ]
    },
    {
     "name": "stdout",
     "output_type": "stream",
     "text": [
      "('ORG', 'Duran Arte y Subastas', 'en_core_web_md')\n"
     ]
    },
    {
     "name": "stdin",
     "output_type": "stream",
     "text": [
      "1 if it's OK, add the correct tag if not:  1\n"
     ]
    },
    {
     "name": "stdout",
     "output_type": "stream",
     "text": [
      "('PERSON', 'Wou\\xa0Kiuan', 'en_core_web_md')\n"
     ]
    },
    {
     "name": "stdin",
     "output_type": "stream",
     "text": [
      "1 if it's OK, add the correct tag if not:  1\n"
     ]
    },
    {
     "name": "stdout",
     "output_type": "stream",
     "text": [
      "('PERSON', 'Wou\\xa0Lien-Pai Museum', 'en_core_web_md')\n"
     ]
    },
    {
     "name": "stdin",
     "output_type": "stream",
     "text": [
      "1 if it's OK, add the correct tag if not:  ORG\n"
     ]
    },
    {
     "name": "stdout",
     "output_type": "stream",
     "text": [
      "('ORG', 'an Important Private Collection', 'en_core_web_md')\n"
     ]
    },
    {
     "name": "stdin",
     "output_type": "stream",
     "text": [
      "1 if it's OK, add the correct tag if not:  1\n"
     ]
    },
    {
     "name": "stdout",
     "output_type": "stream",
     "text": [
      "('GPE', 'Australia', 'en_core_web_md')\n"
     ]
    },
    {
     "name": "stdin",
     "output_type": "stream",
     "text": [
      "1 if it's OK, add the correct tag if not:  1\n"
     ]
    },
    {
     "name": "stdout",
     "output_type": "stream",
     "text": [
      "('GPE', 'Coeur', 'en_core_web_md')\n"
     ]
    },
    {
     "name": "stdin",
     "output_type": "stream",
     "text": [
      "1 if it's OK, add the correct tag if not:  OTHER\n"
     ]
    },
    {
     "name": "stdout",
     "output_type": "stream",
     "text": [
      "('GPE', 'Reno', 'en_core_web_md')\n"
     ]
    },
    {
     "name": "stdin",
     "output_type": "stream",
     "text": [
      "1 if it's OK, add the correct tag if not:  1\n"
     ]
    },
    {
     "name": "stdout",
     "output_type": "stream",
     "text": [
      "('GPE', 'Nevada', 'en_core_web_md')\n"
     ]
    },
    {
     "name": "stdin",
     "output_type": "stream",
     "text": [
      "1 if it's OK, add the correct tag if not:  1\n"
     ]
    },
    {
     "name": "stdout",
     "output_type": "stream",
     "text": [
      "('ORG', 'the Science Museum', 'en_core_web_md')\n"
     ]
    },
    {
     "name": "stdin",
     "output_type": "stream",
     "text": [
      "1 if it's OK, add the correct tag if not:  1\n"
     ]
    },
    {
     "name": "stdout",
     "output_type": "stream",
     "text": [
      "('ORG', 'Ginac Collection', 'en_core_web_md')\n"
     ]
    },
    {
     "name": "stdin",
     "output_type": "stream",
     "text": [
      "1 if it's OK, add the correct tag if not:  1\n"
     ]
    },
    {
     "name": "stdout",
     "output_type": "stream",
     "text": [
      "('GPE', 'Nîmes', 'en_core_web_md')\n"
     ]
    },
    {
     "name": "stdin",
     "output_type": "stream",
     "text": [
      "1 if it's OK, add the correct tag if not:  1\n"
     ]
    },
    {
     "name": "stdout",
     "output_type": "stream",
     "text": [
      "('ORG', 'Far-East Gallery', 'en_core_web_md')\n"
     ]
    },
    {
     "name": "stdin",
     "output_type": "stream",
     "text": [
      "1 if it's OK, add the correct tag if not:  1\n"
     ]
    },
    {
     "name": "stdout",
     "output_type": "stream",
     "text": [
      "('ORG', 'Topper Gallery', 'en_core_web_md')\n"
     ]
    },
    {
     "name": "stdin",
     "output_type": "stream",
     "text": [
      "1 if it's OK, add the correct tag if not:  1\n"
     ]
    },
    {
     "name": "stdout",
     "output_type": "stream",
     "text": [
      "('ORG', 'Yale Burge Antiques', 'fr_core_news_sm')\n"
     ]
    },
    {
     "name": "stdin",
     "output_type": "stream",
     "text": [
      "1 if it's OK, add the correct tag if not:  1\n"
     ]
    },
    {
     "name": "stdout",
     "output_type": "stream",
     "text": [
      "('PERSON', 'Herbert Irving', 'en_core_web_md')\n"
     ]
    },
    {
     "name": "stdin",
     "output_type": "stream",
     "text": [
      "1 if it's OK, add the correct tag if not:  1\n"
     ]
    },
    {
     "name": "stdout",
     "output_type": "stream",
     "text": [
      "('PERSON', 'Princess Patricia of Connaught', 'en_core_web_md')\n"
     ]
    },
    {
     "name": "stdin",
     "output_type": "stream",
     "text": [
      "1 if it's OK, add the correct tag if not:  1\n"
     ]
    },
    {
     "name": "stdout",
     "output_type": "stream",
     "text": [
      "('PERSON', 'Patricia', 'en_core_web_md')\n"
     ]
    },
    {
     "name": "stdin",
     "output_type": "stream",
     "text": [
      "1 if it's OK, add the correct tag if not:  1\n"
     ]
    },
    {
     "name": "stdout",
     "output_type": "stream",
     "text": [
      "('PERSON', 'Mountbatten', 'en_core_web_md')\n"
     ]
    },
    {
     "name": "stdin",
     "output_type": "stream",
     "text": [
      "1 if it's OK, add the correct tag if not:  1\n"
     ]
    },
    {
     "name": "stdout",
     "output_type": "stream",
     "text": [
      "('GPE', 'Northumberland', 'en_core_web_md')\n"
     ]
    },
    {
     "name": "stdin",
     "output_type": "stream",
     "text": [
      "1 if it's OK, add the correct tag if not:  1\n"
     ]
    },
    {
     "name": "stdout",
     "output_type": "stream",
     "text": [
      "('PERSON', '牡丹堂', 'zh_core_web_sm')\n"
     ]
    },
    {
     "name": "stdin",
     "output_type": "stream",
     "text": [
      "1 if it's OK, add the correct tag if not:  1\n"
     ]
    },
    {
     "name": "stdout",
     "output_type": "stream",
     "text": [
      "('GPE', 'Nicolier', 'fr_core_news_sm')\n"
     ]
    },
    {
     "name": "stdin",
     "output_type": "stream",
     "text": [
      "1 if it's OK, add the correct tag if not:  PERSON\n"
     ]
    },
    {
     "name": "stdout",
     "output_type": "stream",
     "text": [
      "('GPE', 'Quai Voltaire', 'fr_core_news_sm')\n"
     ]
    },
    {
     "name": "stdin",
     "output_type": "stream",
     "text": [
      "1 if it's OK, add the correct tag if not:  1\n"
     ]
    },
    {
     "name": "stdout",
     "output_type": "stream",
     "text": [
      "('PERSON', 'C. J. Devine', 'en_core_web_md')\n"
     ]
    },
    {
     "name": "stdin",
     "output_type": "stream",
     "text": [
      "1 if it's OK, add the correct tag if not:  1\n"
     ]
    },
    {
     "name": "stdout",
     "output_type": "stream",
     "text": [
      "('ORG', 'Sr', 'en_core_web_md')\n"
     ]
    },
    {
     "name": "stdin",
     "output_type": "stream",
     "text": [
      "1 if it's OK, add the correct tag if not:  OTHER\n"
     ]
    },
    {
     "name": "stdout",
     "output_type": "stream",
     "text": [
      "('GPE', 'Bedelle Jewelry Collection', 'it_core_news_sm')\n"
     ]
    },
    {
     "name": "stdin",
     "output_type": "stream",
     "text": [
      "1 if it's OK, add the correct tag if not:  ORG\n"
     ]
    },
    {
     "name": "stdout",
     "output_type": "stream",
     "text": [
      "('PERSON', 'Alton Edward Mills', 'en_core_web_md')\n"
     ]
    },
    {
     "name": "stdin",
     "output_type": "stream",
     "text": [
      "1 if it's OK, add the correct tag if not:  1\n"
     ]
    },
    {
     "name": "stdout",
     "output_type": "stream",
     "text": [
      "('FAC', 'Roger Keverne', 'zh_core_web_sm')\n"
     ]
    },
    {
     "name": "stdin",
     "output_type": "stream",
     "text": [
      "1 if it's OK, add the correct tag if not:  PERSON\n"
     ]
    },
    {
     "name": "stdout",
     "output_type": "stream",
     "text": [
      "('GPE', 'Superior Galleries', 'es_core_news_sm')\n"
     ]
    },
    {
     "name": "stdin",
     "output_type": "stream",
     "text": [
      "1 if it's OK, add the correct tag if not:  ORG\n"
     ]
    },
    {
     "name": "stdout",
     "output_type": "stream",
     "text": [
      "('GPE', 'Antwerpen', 'nl_core_news_sm')\n"
     ]
    },
    {
     "name": "stdin",
     "output_type": "stream",
     "text": [
      "1 if it's OK, add the correct tag if not:  1\n"
     ]
    },
    {
     "name": "stdout",
     "output_type": "stream",
     "text": [
      "('PERSON', 'Marianne L. Dreesmann-van der Spek', 'en_core_web_md')\n"
     ]
    },
    {
     "name": "stdin",
     "output_type": "stream",
     "text": [
      "1 if it's OK, add the correct tag if not:  1\n"
     ]
    },
    {
     "name": "stdout",
     "output_type": "stream",
     "text": [
      "('ORG', 'European Collection', 'en_core_web_md')\n"
     ]
    },
    {
     "name": "stdin",
     "output_type": "stream",
     "text": [
      "1 if it's OK, add the correct tag if not:  1\n"
     ]
    },
    {
     "name": "stdout",
     "output_type": "stream",
     "text": [
      "('PERSON', 'Robert B. Woodward', 'en_core_web_md')\n"
     ]
    },
    {
     "name": "stdin",
     "output_type": "stream",
     "text": [
      "1 if it's OK, add the correct tag if not:  1\n"
     ]
    },
    {
     "name": "stdout",
     "output_type": "stream",
     "text": [
      "('ORG', 'Robert B', 'zh_core_web_sm')\n"
     ]
    },
    {
     "name": "stdin",
     "output_type": "stream",
     "text": [
      "1 if it's OK, add the correct tag if not:  1\n"
     ]
    },
    {
     "name": "stdout",
     "output_type": "stream",
     "text": [
      "('PERSON', 'Woodward', 'zh_core_web_sm')\n"
     ]
    },
    {
     "name": "stdin",
     "output_type": "stream",
     "text": [
      "1 if it's OK, add the correct tag if not:  1\n"
     ]
    },
    {
     "name": "stdout",
     "output_type": "stream",
     "text": [
      "('GPE', 'J57', 'es_core_news_sm')\n"
     ]
    },
    {
     "name": "stdin",
     "output_type": "stream",
     "text": [
      "1 if it's OK, add the correct tag if not:  OTHER\n"
     ]
    },
    {
     "name": "stdout",
     "output_type": "stream",
     "text": [
      "('PERSON', 'J017', 'nl_core_news_sm')\n"
     ]
    },
    {
     "name": "stdin",
     "output_type": "stream",
     "text": [
      "1 if it's OK, add the correct tag if not:  OTHER\n"
     ]
    },
    {
     "name": "stdout",
     "output_type": "stream",
     "text": [
      "('OTHER', 'The Dr Anton C.R.', 'fr_core_news_sm')\n"
     ]
    },
    {
     "name": "stdin",
     "output_type": "stream",
     "text": [
      "1 if it's OK, add the correct tag if not:  ORG\n"
     ]
    },
    {
     "name": "stdout",
     "output_type": "stream",
     "text": [
      "('PERSON', 'Dikran G. Kelekian', 'en_core_web_md')\n"
     ]
    },
    {
     "name": "stdin",
     "output_type": "stream",
     "text": [
      "1 if it's OK, add the correct tag if not:  1\n"
     ]
    },
    {
     "name": "stdout",
     "output_type": "stream",
     "text": [
      "('PERSON', 'Abby Aldrich Rockefeller', 'en_core_web_md')\n"
     ]
    },
    {
     "name": "stdin",
     "output_type": "stream",
     "text": [
      "1 if it's OK, add the correct tag if not:  1\n"
     ]
    },
    {
     "name": "stdout",
     "output_type": "stream",
     "text": [
      "('PERSON', 'Winthrop Rockefeller', 'en_core_web_md')\n"
     ]
    },
    {
     "name": "stdin",
     "output_type": "stream",
     "text": [
      "1 if it's OK, add the correct tag if not:  1\n"
     ]
    },
    {
     "name": "stdout",
     "output_type": "stream",
     "text": [
      "('GPE', 'Petit Jean Mountain', 'en_core_web_md')\n"
     ]
    },
    {
     "name": "stdin",
     "output_type": "stream",
     "text": [
      "1 if it's OK, add the correct tag if not:  1\n"
     ]
    },
    {
     "name": "stdout",
     "output_type": "stream",
     "text": [
      "('GPE', 'Arkansas', 'en_core_web_md')\n"
     ]
    },
    {
     "name": "stdin",
     "output_type": "stream",
     "text": [
      "1 if it's OK, add the correct tag if not:  1\n"
     ]
    },
    {
     "name": "stdout",
     "output_type": "stream",
     "text": [
      "('PERSON', 'David Rockefeller', 'en_core_web_md')\n"
     ]
    },
    {
     "name": "stdin",
     "output_type": "stream",
     "text": [
      "1 if it's OK, add the correct tag if not:  1\n"
     ]
    },
    {
     "name": "stdout",
     "output_type": "stream",
     "text": [
      "('PERSON', 'Hans', 'en_core_web_md')\n"
     ]
    },
    {
     "name": "stdin",
     "output_type": "stream",
     "text": [
      "1 if it's OK, add the correct tag if not:  1\n"
     ]
    },
    {
     "name": "stdout",
     "output_type": "stream",
     "text": [
      "('PERSON', 'Marie-Louise Erlenmeyer', 'en_core_web_md')\n"
     ]
    },
    {
     "name": "stdin",
     "output_type": "stream",
     "text": [
      "1 if it's OK, add the correct tag if not:  1\n"
     ]
    },
    {
     "name": "stdout",
     "output_type": "stream",
     "text": [
      "('FAC', 'the Erlenmeyer Collection', 'en_core_web_md')\n"
     ]
    },
    {
     "name": "stdin",
     "output_type": "stream",
     "text": [
      "1 if it's OK, add the correct tag if not:  ORG\n"
     ]
    },
    {
     "name": "stdout",
     "output_type": "stream",
     "text": [
      "('OTHER', 'June 2006', 'fr_core_news_sm')\n"
     ]
    },
    {
     "name": "stdin",
     "output_type": "stream",
     "text": [
      "1 if it's OK, add the correct tag if not:  DATE\n"
     ]
    },
    {
     "name": "stdout",
     "output_type": "stream",
     "text": [
      "('GPE', 'Berne', 'de_core_news_sm')\n"
     ]
    },
    {
     "name": "stdin",
     "output_type": "stream",
     "text": [
      "1 if it's OK, add the correct tag if not:  1\n"
     ]
    },
    {
     "name": "stdout",
     "output_type": "stream",
     "text": [
      "('ORG', 'CHI', 'zh_core_web_sm')\n"
     ]
    },
    {
     "name": "stdin",
     "output_type": "stream",
     "text": [
      "1 if it's OK, add the correct tag if not:  OTHER\n"
     ]
    },
    {
     "name": "stdout",
     "output_type": "stream",
     "text": [
      "('ORG', 'Art of the Ancient World', 'en_core_web_md')\n"
     ]
    },
    {
     "name": "stdin",
     "output_type": "stream",
     "text": [
      "1 if it's OK, add the correct tag if not:  1\n"
     ]
    },
    {
     "name": "stdout",
     "output_type": "stream",
     "text": [
      "('PERSON', 'Yanick van Ruysevelt', 'nl_core_news_sm')\n"
     ]
    },
    {
     "name": "stdin",
     "output_type": "stream",
     "text": [
      "1 if it's OK, add the correct tag if not:  1\n"
     ]
    },
    {
     "name": "stdout",
     "output_type": "stream",
     "text": [
      "('ORG', 'Sotheby Parke Bernet', 'fr_core_news_sm')\n"
     ]
    },
    {
     "name": "stdin",
     "output_type": "stream",
     "text": [
      "1 if it's OK, add the correct tag if not:  1\n"
     ]
    },
    {
     "name": "stdout",
     "output_type": "stream",
     "text": [
      "('GPE', 'Texas', 'en_core_web_md')\n"
     ]
    },
    {
     "name": "stdin",
     "output_type": "stream",
     "text": [
      "1 if it's OK, add the correct tag if not:  1\n"
     ]
    },
    {
     "name": "stdout",
     "output_type": "stream",
     "text": [
      "('ORG', 'Texas Private Collection', 'en_core_web_md')\n"
     ]
    },
    {
     "name": "stdin",
     "output_type": "stream",
     "text": [
      "1 if it's OK, add the correct tag if not:  1\n"
     ]
    },
    {
     "name": "stdout",
     "output_type": "stream",
     "text": [
      "('OTHER', 'June 2003', 'fr_core_news_sm')\n"
     ]
    },
    {
     "name": "stdin",
     "output_type": "stream",
     "text": [
      "1 if it's OK, add the correct tag if not:  DATE\n"
     ]
    },
    {
     "name": "stdout",
     "output_type": "stream",
     "text": [
      "('GPE', 'June 15th', 'it_core_news_sm')\n"
     ]
    },
    {
     "name": "stdin",
     "output_type": "stream",
     "text": [
      "1 if it's OK, add the correct tag if not:  DATE\n"
     ]
    },
    {
     "name": "stdout",
     "output_type": "stream",
     "text": [
      "('PERSON', 'Henry de Montherlant', 'en_core_web_md')\n"
     ]
    },
    {
     "name": "stdin",
     "output_type": "stream",
     "text": [
      "1 if it's OK, add the correct tag if not:  1\n"
     ]
    },
    {
     "name": "stdout",
     "output_type": "stream",
     "text": [
      "('PERSON', 'Roger Peyrefitte', 'en_core_web_md')\n"
     ]
    },
    {
     "name": "stdin",
     "output_type": "stream",
     "text": [
      "1 if it's OK, add the correct tag if not:  1\n"
     ]
    },
    {
     "name": "stdout",
     "output_type": "stream",
     "text": [
      "('ORG', 'the Los Angeles Opera', 'en_core_web_md')\n"
     ]
    },
    {
     "name": "stdin",
     "output_type": "stream",
     "text": [
      "1 if it's OK, add the correct tag if not:  1\n"
     ]
    },
    {
     "name": "stdout",
     "output_type": "stream",
     "text": [
      "('PERSON', 'Oliver Sears', 'en_core_web_md')\n"
     ]
    },
    {
     "name": "stdin",
     "output_type": "stream",
     "text": [
      "1 if it's OK, add the correct tag if not:  1\n"
     ]
    },
    {
     "name": "stdout",
     "output_type": "stream",
     "text": [
      "('GPE', 'Dublin', 'en_core_web_md')\n"
     ]
    },
    {
     "name": "stdin",
     "output_type": "stream",
     "text": [
      "1 if it's OK, add the correct tag if not:  1\n"
     ]
    },
    {
     "name": "stdout",
     "output_type": "stream",
     "text": [
      "('PERSON', 'Keith Howard', 'en_core_web_md')\n"
     ]
    },
    {
     "name": "stdin",
     "output_type": "stream",
     "text": [
      "1 if it's OK, add the correct tag if not:  1\n"
     ]
    },
    {
     "name": "stdout",
     "output_type": "stream",
     "text": [
      "('PERSON', 'Joan Howard', 'en_core_web_md')\n"
     ]
    },
    {
     "name": "stdin",
     "output_type": "stream",
     "text": [
      "1 if it's OK, add the correct tag if not:  1\n"
     ]
    },
    {
     "name": "stdout",
     "output_type": "stream",
     "text": [
      "('ORG', 'April', 'fr_core_news_sm')\n"
     ]
    },
    {
     "name": "stdin",
     "output_type": "stream",
     "text": [
      "1 if it's OK, add the correct tag if not:  DATE\n"
     ]
    },
    {
     "name": "stdout",
     "output_type": "stream",
     "text": [
      "('MONEY', '269 livres', 'en_core_web_md')\n"
     ]
    },
    {
     "name": "stdin",
     "output_type": "stream",
     "text": [
      "1 if it's OK, add the correct tag if not:  1\n"
     ]
    },
    {
     "name": "stdout",
     "output_type": "stream",
     "text": [
      "('PERSON', 'Maria Pergay', 'en_core_web_md')\n"
     ]
    },
    {
     "name": "stdin",
     "output_type": "stream",
     "text": [
      "1 if it's OK, add the correct tag if not:  1\n"
     ]
    },
    {
     "name": "stdout",
     "output_type": "stream",
     "text": [
      "('PERSON', 'Alain Chenel', 'en_core_web_md')\n"
     ]
    },
    {
     "name": "stdin",
     "output_type": "stream",
     "text": [
      "1 if it's OK, add the correct tag if not:  1\n"
     ]
    },
    {
     "name": "stdout",
     "output_type": "stream",
     "text": [
      "('GPE', 'collected', 'da_core_news_sm')\n"
     ]
    },
    {
     "name": "stdin",
     "output_type": "stream",
     "text": [
      "1 if it's OK, add the correct tag if not:  OTHER\n"
     ]
    },
    {
     "name": "stdout",
     "output_type": "stream",
     "text": [
      "('OTHER', 'Collection', 'it_core_news_sm')\n"
     ]
    },
    {
     "name": "stdin",
     "output_type": "stream",
     "text": [
      "1 if it's OK, add the correct tag if not:  ORG\n"
     ]
    },
    {
     "name": "stdout",
     "output_type": "stream",
     "text": [
      "('GPE', 'Thailand', 'it_core_news_sm')\n"
     ]
    },
    {
     "name": "stdin",
     "output_type": "stream",
     "text": [
      "1 if it's OK, add the correct tag if not:  1\n"
     ]
    },
    {
     "name": "stdout",
     "output_type": "stream",
     "text": [
      "('GPE', '泰國', 'zh_core_web_sm')\n"
     ]
    },
    {
     "name": "stdin",
     "output_type": "stream",
     "text": [
      "1 if it's OK, add the correct tag if not:  1\n"
     ]
    },
    {
     "name": "stdout",
     "output_type": "stream",
     "text": [
      "('PERSON', 'P. Czinner', 'en_core_web_md')\n"
     ]
    },
    {
     "name": "stdin",
     "output_type": "stream",
     "text": [
      "1 if it's OK, add the correct tag if not:  1\n"
     ]
    },
    {
     "name": "stdout",
     "output_type": "stream",
     "text": [
      "('PERSON', 'John Sparks', 'en_core_web_md')\n"
     ]
    },
    {
     "name": "stdin",
     "output_type": "stream",
     "text": [
      "1 if it's OK, add the correct tag if not:  1\n"
     ]
    },
    {
     "name": "stdout",
     "output_type": "stream",
     "text": [
      "('ORG', 'Chinese Porcelain Company', 'en_core_web_md')\n"
     ]
    },
    {
     "name": "stdin",
     "output_type": "stream",
     "text": [
      "1 if it's OK, add the correct tag if not:  1\n"
     ]
    },
    {
     "name": "stdout",
     "output_type": "stream",
     "text": [
      "('GPE', 'Dubai', 'en_core_web_md')\n"
     ]
    },
    {
     "name": "stdin",
     "output_type": "stream",
     "text": [
      "1 if it's OK, add the correct tag if not:  1\n"
     ]
    },
    {
     "name": "stdout",
     "output_type": "stream",
     "text": [
      "('FAC', 'Delmore Downs Station', 'en_core_web_md')\n"
     ]
    },
    {
     "name": "stdin",
     "output_type": "stream",
     "text": [
      "1 if it's OK, add the correct tag if not:  GPE\n"
     ]
    },
    {
     "name": "stdout",
     "output_type": "stream",
     "text": [
      "('FAC', 'the Delmore Gallery', 'en_core_web_md')\n"
     ]
    },
    {
     "name": "stdin",
     "output_type": "stream",
     "text": [
      "1 if it's OK, add the correct tag if not:  ORG\n"
     ]
    },
    {
     "name": "stdout",
     "output_type": "stream",
     "text": [
      "('GPE', 'Northern Territory', 'en_core_web_md')\n"
     ]
    },
    {
     "name": "stdin",
     "output_type": "stream",
     "text": [
      "1 if it's OK, add the correct tag if not:  1\n"
     ]
    },
    {
     "name": "stdout",
     "output_type": "stream",
     "text": [
      "('GPE', 'Sydney', 'en_core_web_md')\n"
     ]
    },
    {
     "name": "stdin",
     "output_type": "stream",
     "text": [
      "1 if it's OK, add the correct tag if not:  1\n"
     ]
    },
    {
     "name": "stdout",
     "output_type": "stream",
     "text": [
      "('ORG', 'Safani Gallery', 'en_core_web_md')\n"
     ]
    },
    {
     "name": "stdin",
     "output_type": "stream",
     "text": [
      "1 if it's OK, add the correct tag if not:  1\n"
     ]
    },
    {
     "name": "stdout",
     "output_type": "stream",
     "text": [
      "('ORG', 'MARKO', 'en_core_web_md')\n"
     ]
    },
    {
     "name": "stdin",
     "output_type": "stream",
     "text": [
      "1 if it's OK, add the correct tag if not:  PERSON\n"
     ]
    },
    {
     "name": "stdout",
     "output_type": "stream",
     "text": [
      "('PERSON', 'Harewood', 'en_core_web_md')\n"
     ]
    },
    {
     "name": "stdin",
     "output_type": "stream",
     "text": [
      "1 if it's OK, add the correct tag if not:  1\n"
     ]
    },
    {
     "name": "stdout",
     "output_type": "stream",
     "text": [
      "('ORG', 'Harewood House', 'en_core_web_md')\n"
     ]
    },
    {
     "name": "stdin",
     "output_type": "stream",
     "text": [
      "1 if it's OK, add the correct tag if not:  1\n"
     ]
    },
    {
     "name": "stdout",
     "output_type": "stream",
     "text": [
      "('GPE', 'Yorkshire', 'en_core_web_md')\n"
     ]
    },
    {
     "name": "stdin",
     "output_type": "stream",
     "text": [
      "1 if it's OK, add the correct tag if not:  1\n"
     ]
    },
    {
     "name": "stdout",
     "output_type": "stream",
     "text": [
      "('PERSON', 'R.A. Jude', 'en_core_web_md')\n"
     ]
    },
    {
     "name": "stdin",
     "output_type": "stream",
     "text": [
      "1 if it's OK, add the correct tag if not:  1\n"
     ]
    },
    {
     "name": "stdout",
     "output_type": "stream",
     "text": [
      "('PERSON', 'Jude', 'zh_core_web_sm')\n"
     ]
    },
    {
     "name": "stdin",
     "output_type": "stream",
     "text": [
      "1 if it's OK, add the correct tag if not:  1\n"
     ]
    },
    {
     "name": "stdout",
     "output_type": "stream",
     "text": [
      "('PERSON', 'Tristan Tzara', 'en_core_web_md')\n"
     ]
    },
    {
     "name": "stdin",
     "output_type": "stream",
     "text": [
      "1 if it's OK, add the correct tag if not:  1\n"
     ]
    },
    {
     "name": "stdout",
     "output_type": "stream",
     "text": [
      "('GPE', 'Transmis', 'fr_core_news_sm')\n"
     ]
    },
    {
     "name": "stdin",
     "output_type": "stream",
     "text": [
      "1 if it's OK, add the correct tag if not:  OTHER\n"
     ]
    },
    {
     "name": "stdout",
     "output_type": "stream",
     "text": [
      "('ORG', 'Roger Peyrefitte collection', 'nb_core_news_sm')\n"
     ]
    },
    {
     "name": "stdin",
     "output_type": "stream",
     "text": [
      "1 if it's OK, add the correct tag if not:  1\n"
     ]
    },
    {
     "name": "stdout",
     "output_type": "stream",
     "text": [
      "('ORG', 'France', 'nb_core_news_sm')\n"
     ]
    },
    {
     "name": "stdin",
     "output_type": "stream",
     "text": [
      "1 if it's OK, add the correct tag if not:  GPE\n"
     ]
    },
    {
     "name": "stdout",
     "output_type": "stream",
     "text": [
      "('ORG', 'Antiquities Ltd', 'en_core_web_md')\n"
     ]
    },
    {
     "name": "stdin",
     "output_type": "stream",
     "text": [
      "1 if it's OK, add the correct tag if not:  1\n"
     ]
    },
    {
     "name": "stdout",
     "output_type": "stream",
     "text": [
      "('PERSON', 'CHARLES W. NEWHALL', 'en_core_web_md')\n"
     ]
    },
    {
     "name": "stdin",
     "output_type": "stream",
     "text": [
      "1 if it's OK, add the correct tag if not:  1\n"
     ]
    },
    {
     "name": "stdout",
     "output_type": "stream",
     "text": [
      "('ORG', 'Sycomore Ancient Art', 'en_core_web_md')\n"
     ]
    },
    {
     "name": "stdin",
     "output_type": "stream",
     "text": [
      "1 if it's OK, add the correct tag if not:  1\n"
     ]
    },
    {
     "name": "stdout",
     "output_type": "stream",
     "text": [
      "('ORG', 'Arte alla Riva', 'en_core_web_md')\n"
     ]
    },
    {
     "name": "stdin",
     "output_type": "stream",
     "text": [
      "1 if it's OK, add the correct tag if not:  1\n"
     ]
    },
    {
     "name": "stdout",
     "output_type": "stream",
     "text": [
      "('GPE', 'Ascona', 'en_core_web_md')\n"
     ]
    },
    {
     "name": "stdin",
     "output_type": "stream",
     "text": [
      "1 if it's OK, add the correct tag if not:  1\n"
     ]
    },
    {
     "name": "stdout",
     "output_type": "stream",
     "text": [
      "('PERSON', 'Jean Olansizyn', 'en_core_web_md')\n"
     ]
    },
    {
     "name": "stdin",
     "output_type": "stream",
     "text": [
      "1 if it's OK, add the correct tag if not:  1\n"
     ]
    },
    {
     "name": "stdout",
     "output_type": "stream",
     "text": [
      "('PERSON', 'Thomas Cordis m. Hannah Cordis', 'en_core_web_md')\n"
     ]
    },
    {
     "name": "stdin",
     "output_type": "stream",
     "text": [
      "1 if it's OK, add the correct tag if not:  1\n"
     ]
    },
    {
     "name": "stdout",
     "output_type": "stream",
     "text": [
      "('PERSON', 'Thomas Cordis', 'en_core_web_md')\n"
     ]
    },
    {
     "name": "stdin",
     "output_type": "stream",
     "text": [
      "1 if it's OK, add the correct tag if not:  1\n"
     ]
    },
    {
     "name": "stdout",
     "output_type": "stream",
     "text": [
      "('PERSON', 'Cord Cordis', 'en_core_web_md')\n"
     ]
    },
    {
     "name": "stdin",
     "output_type": "stream",
     "text": [
      "1 if it's OK, add the correct tag if not:  1\n"
     ]
    },
    {
     "name": "stdout",
     "output_type": "stream",
     "text": [
      "('GPE', 'Massachusetts', 'en_core_web_md')\n"
     ]
    },
    {
     "name": "stdin",
     "output_type": "stream",
     "text": [
      "1 if it's OK, add the correct tag if not:  1\n"
     ]
    },
    {
     "name": "stdout",
     "output_type": "stream",
     "text": [
      "('ORG', 'the British Coffee House', 'en_core_web_md')\n"
     ]
    },
    {
     "name": "stdin",
     "output_type": "stream",
     "text": [
      "1 if it's OK, add the correct tag if not:  1\n"
     ]
    },
    {
     "name": "stdout",
     "output_type": "stream",
     "text": [
      "('PERSON', 'Francis Temple Cordis m. Ruth Ann Prescott', 'en_core_web_md')\n"
     ]
    },
    {
     "name": "stdin",
     "output_type": "stream",
     "text": [
      "1 if it's OK, add the correct tag if not:  1\n"
     ]
    },
    {
     "name": "stdout",
     "output_type": "stream",
     "text": [
      "('PERSON', 'Thomas Francis Cordis m. Annie Byrd Colton', 'en_core_web_md')\n"
     ]
    },
    {
     "name": "stdin",
     "output_type": "stream",
     "text": [
      "1 if it's OK, add the correct tag if not:  1\n"
     ]
    },
    {
     "name": "stdout",
     "output_type": "stream",
     "text": [
      "('GPE', 'Longmeadow', 'en_core_web_md')\n"
     ]
    },
    {
     "name": "stdin",
     "output_type": "stream",
     "text": [
      "1 if it's OK, add the correct tag if not:  1\n"
     ]
    },
    {
     "name": "stdout",
     "output_type": "stream",
     "text": [
      "('PERSON', 'Thomas Edward Cordis m. Annie Marguerite Holden', 'en_core_web_md')\n"
     ]
    },
    {
     "name": "stdin",
     "output_type": "stream",
     "text": [
      "1 if it's OK, add the correct tag if not:  1\n"
     ]
    },
    {
     "name": "stdout",
     "output_type": "stream",
     "text": [
      "('PERSON', 'Edward Colton Cordis m. Mary Elizabeth Walcott Grabe', 'en_core_web_md')\n"
     ]
    },
    {
     "name": "stdin",
     "output_type": "stream",
     "text": [
      "1 if it's OK, add the correct tag if not:  1\n"
     ]
    },
    {
     "name": "stdout",
     "output_type": "stream",
     "text": [
      "('GPE', 'Litchfield', 'en_core_web_md')\n"
     ]
    },
    {
     "name": "stdin",
     "output_type": "stream",
     "text": [
      "1 if it's OK, add the correct tag if not:  1\n"
     ]
    },
    {
     "name": "stdout",
     "output_type": "stream",
     "text": [
      "('PERSON', 'Mary Anne Cordis', 'en_core_web_md')\n"
     ]
    },
    {
     "name": "stdin",
     "output_type": "stream",
     "text": [
      "1 if it's OK, add the correct tag if not:  1\n"
     ]
    },
    {
     "name": "stdout",
     "output_type": "stream",
     "text": [
      "('GPE', 'Suffield', 'en_core_web_md')\n"
     ]
    },
    {
     "name": "stdin",
     "output_type": "stream",
     "text": [
      "1 if it's OK, add the correct tag if not:  1\n"
     ]
    },
    {
     "name": "stdout",
     "output_type": "stream",
     "text": [
      "('ORG', 'Hong Kong Private Collection', 'en_core_web_md')\n"
     ]
    },
    {
     "name": "stdin",
     "output_type": "stream",
     "text": [
      "1 if it's OK, add the correct tag if not:  1\n"
     ]
    },
    {
     "name": "stdout",
     "output_type": "stream",
     "text": [
      "('PERSON', 'Stanley Gordon Moriarty', 'en_core_web_md')\n"
     ]
    },
    {
     "name": "stdin",
     "output_type": "stream",
     "text": [
      "1 if it's OK, add the correct tag if not:  1\n"
     ]
    },
    {
     "name": "stdout",
     "output_type": "stream",
     "text": [
      "('PERSON', 'Todd Barlin', 'en_core_web_md')\n"
     ]
    },
    {
     "name": "stdin",
     "output_type": "stream",
     "text": [
      "1 if it's OK, add the correct tag if not:  1\n"
     ]
    },
    {
     "name": "stdout",
     "output_type": "stream",
     "text": [
      "('ORG', 'Graven Images', 'en_core_web_md')\n"
     ]
    },
    {
     "name": "stdin",
     "output_type": "stream",
     "text": [
      "1 if it's OK, add the correct tag if not:  1\n"
     ]
    },
    {
     "name": "stdout",
     "output_type": "stream",
     "text": [
      "('GPE', 'December', 'es_core_news_sm')\n"
     ]
    },
    {
     "name": "stdin",
     "output_type": "stream",
     "text": [
      "1 if it's OK, add the correct tag if not:  DATE\n"
     ]
    },
    {
     "name": "stdout",
     "output_type": "stream",
     "text": [
      "('PERSON', 'Charlier', 'en_core_web_md')\n"
     ]
    },
    {
     "name": "stdin",
     "output_type": "stream",
     "text": [
      "1 if it's OK, add the correct tag if not:  1\n"
     ]
    },
    {
     "name": "stdout",
     "output_type": "stream",
     "text": [
      "('PERSON', 'Cortina', 'en_core_web_md')\n"
     ]
    },
    {
     "name": "stdin",
     "output_type": "stream",
     "text": [
      "1 if it's OK, add the correct tag if not:  GPE\n"
     ]
    },
    {
     "name": "stdout",
     "output_type": "stream",
     "text": [
      "('PERSON', 'Carlo Perone-Capano', 'en_core_web_md')\n"
     ]
    },
    {
     "name": "stdin",
     "output_type": "stream",
     "text": [
      "1 if it's OK, add the correct tag if not:  1\n"
     ]
    },
    {
     "name": "stdout",
     "output_type": "stream",
     "text": [
      "('GPE', 'Damascus', 'en_core_web_md')\n"
     ]
    },
    {
     "name": "stdin",
     "output_type": "stream",
     "text": [
      "1 if it's OK, add the correct tag if not:  1\n"
     ]
    },
    {
     "name": "stdout",
     "output_type": "stream",
     "text": [
      "('ORG', 'MASTERPIECES', 'en_core_web_md')\n"
     ]
    },
    {
     "name": "stdin",
     "output_type": "stream",
     "text": [
      "1 if it's OK, add the correct tag if not:  OTHER\n"
     ]
    },
    {
     "name": "stdout",
     "output_type": "stream",
     "text": [
      "('EVENT', 'THE G. SANGIORGI COLLECTION', 'en_core_web_md')\n"
     ]
    },
    {
     "name": "stdin",
     "output_type": "stream",
     "text": [
      "1 if it's OK, add the correct tag if not:  ORG\n"
     ]
    },
    {
     "name": "stdout",
     "output_type": "stream",
     "text": [
      "('ORG', 'Ulick de Burgh', 'en_core_web_md')\n"
     ]
    },
    {
     "name": "stdin",
     "output_type": "stream",
     "text": [
      "1 if it's OK, add the correct tag if not:  PERSON\n"
     ]
    },
    {
     "name": "stdout",
     "output_type": "stream",
     "text": [
      "('ORG', 'Clanricarde', 'en_core_web_md')\n"
     ]
    },
    {
     "name": "stdin",
     "output_type": "stream",
     "text": [
      "1 if it's OK, add the correct tag if not:  PERSON\n"
     ]
    },
    {
     "name": "stdout",
     "output_type": "stream",
     "text": [
      "('PERSON', 'Hariett Marchioness', 'en_core_web_md')\n"
     ]
    },
    {
     "name": "stdin",
     "output_type": "stream",
     "text": [
      "1 if it's OK, add the correct tag if not:  1\n"
     ]
    },
    {
     "name": "stdout",
     "output_type": "stream",
     "text": [
      "('PERSON', 'Hubert George de Burgh-Canning', 'en_core_web_md')\n"
     ]
    },
    {
     "name": "stdin",
     "output_type": "stream",
     "text": [
      "1 if it's OK, add the correct tag if not:  1\n"
     ]
    },
    {
     "name": "stdout",
     "output_type": "stream",
     "text": [
      "('PERSON', 'Henry Lascelles', 'en_core_web_md')\n"
     ]
    },
    {
     "name": "stdin",
     "output_type": "stream",
     "text": [
      "1 if it's OK, add the correct tag if not:  1\n"
     ]
    },
    {
     "name": "stdout",
     "output_type": "stream",
     "text": [
      "('PERSON', 'Edward Smith', 'en_core_web_md')\n"
     ]
    },
    {
     "name": "stdin",
     "output_type": "stream",
     "text": [
      "1 if it's OK, add the correct tag if not:  1\n"
     ]
    },
    {
     "name": "stdout",
     "output_type": "stream",
     "text": [
      "('ORG', 'Fragments of Time', 'en_core_web_md')\n"
     ]
    },
    {
     "name": "stdin",
     "output_type": "stream",
     "text": [
      "1 if it's OK, add the correct tag if not:  OTHER\n"
     ]
    },
    {
     "name": "stdout",
     "output_type": "stream",
     "text": [
      "('ORG', 'Eid & Son', 'en_core_web_md')\n"
     ]
    },
    {
     "name": "stdin",
     "output_type": "stream",
     "text": [
      "1 if it's OK, add the correct tag if not:  1\n"
     ]
    },
    {
     "name": "stdout",
     "output_type": "stream",
     "text": [
      "('ORG', 'The Red Crescent', 'en_core_web_md')\n"
     ]
    },
    {
     "name": "stdin",
     "output_type": "stream",
     "text": [
      "1 if it's OK, add the correct tag if not:  1\n"
     ]
    },
    {
     "name": "stdout",
     "output_type": "stream",
     "text": [
      "('GPE', 'Suez', 'en_core_web_md')\n"
     ]
    },
    {
     "name": "stdin",
     "output_type": "stream",
     "text": [
      "1 if it's OK, add the correct tag if not:  1\n"
     ]
    },
    {
     "name": "stdout",
     "output_type": "stream",
     "text": [
      "('OTHER', 'Miss Marianne C.J. Eras', 'de_core_news_sm')\n"
     ]
    },
    {
     "name": "stdin",
     "output_type": "stream",
     "text": [
      "1 if it's OK, add the correct tag if not:  1\n"
     ]
    },
    {
     "name": "stdout",
     "output_type": "stream",
     "text": [
      "('GPE', 'Breda', 'de_core_news_sm')\n"
     ]
    },
    {
     "name": "stdin",
     "output_type": "stream",
     "text": [
      "1 if it's OK, add the correct tag if not:  1\n"
     ]
    },
    {
     "name": "stdout",
     "output_type": "stream",
     "text": [
      "('PERSON', 'F021', 'nl_core_news_sm')\n"
     ]
    },
    {
     "name": "stdin",
     "output_type": "stream",
     "text": [
      "1 if it's OK, add the correct tag if not:  OTHER\n"
     ]
    },
    {
     "name": "stdout",
     "output_type": "stream",
     "text": [
      "('PERSON', 'Andrew Hartnagle', 'en_core_web_md')\n"
     ]
    },
    {
     "name": "stdin",
     "output_type": "stream",
     "text": [
      "1 if it's OK, add the correct tag if not:  1\n"
     ]
    },
    {
     "name": "stdout",
     "output_type": "stream",
     "text": [
      "('ORG', 'Century', 'it_core_news_sm')\n"
     ]
    },
    {
     "name": "stdin",
     "output_type": "stream",
     "text": [
      "1 if it's OK, add the correct tag if not:  DATE\n"
     ]
    },
    {
     "name": "stdout",
     "output_type": "stream",
     "text": [
      "('PERSON', 'Athos Moretti', 'en_core_web_md')\n"
     ]
    },
    {
     "name": "stdin",
     "output_type": "stream",
     "text": [
      "1 if it's OK, add the correct tag if not:  1\n"
     ]
    },
    {
     "name": "stdout",
     "output_type": "stream",
     "text": [
      "('PERSON', 'Gordian Weber', 'en_core_web_md')\n"
     ]
    },
    {
     "name": "stdin",
     "output_type": "stream",
     "text": [
      "1 if it's OK, add the correct tag if not:  1\n"
     ]
    },
    {
     "name": "stdout",
     "output_type": "stream",
     "text": [
      "('PERSON', 'Ip Yee', 'en_core_web_md')\n"
     ]
    },
    {
     "name": "stdin",
     "output_type": "stream",
     "text": [
      "1 if it's OK, add the correct tag if not:  1\n"
     ]
    },
    {
     "name": "stdout",
     "output_type": "stream",
     "text": [
      "('PERSON', 'Jenny Lewis', 'en_core_web_md')\n"
     ]
    },
    {
     "name": "stdin",
     "output_type": "stream",
     "text": [
      "1 if it's OK, add the correct tag if not:  1\n"
     ]
    },
    {
     "name": "stdout",
     "output_type": "stream",
     "text": [
      "('GPE', 'England', 'en_core_web_md')\n"
     ]
    },
    {
     "name": "stdin",
     "output_type": "stream",
     "text": [
      "1 if it's OK, add the correct tag if not:  1\n"
     ]
    },
    {
     "name": "stdout",
     "output_type": "stream",
     "text": [
      "('OTHER', '21st May 2009', 'pt_core_news_sm')\n"
     ]
    },
    {
     "name": "stdin",
     "output_type": "stream",
     "text": [
      "1 if it's OK, add the correct tag if not:  DATE\n"
     ]
    },
    {
     "name": "stdout",
     "output_type": "stream",
     "text": [
      "('NORP', 'Jenny', 'zh_core_web_sm')\n"
     ]
    },
    {
     "name": "stdin",
     "output_type": "stream",
     "text": [
      "1 if it's OK, add the correct tag if not:  PERSON\n"
     ]
    },
    {
     "name": "stdout",
     "output_type": "stream",
     "text": [
      "('PERSON', 'Ari Vos', 'en_core_web_md')\n"
     ]
    },
    {
     "name": "stdin",
     "output_type": "stream",
     "text": [
      "1 if it's OK, add the correct tag if not:  1\n"
     ]
    },
    {
     "name": "stdout",
     "output_type": "stream",
     "text": [
      "('ORG', 'D. T. Bowring', 'en_core_web_md')\n"
     ]
    },
    {
     "name": "stdin",
     "output_type": "stream",
     "text": [
      "1 if it's OK, add the correct tag if not:  PERSON\n"
     ]
    },
    {
     "name": "stdout",
     "output_type": "stream",
     "text": [
      "('PERSON', 'Oliver Hoare', 'en_core_web_md')\n"
     ]
    },
    {
     "name": "stdin",
     "output_type": "stream",
     "text": [
      "1 if it's OK, add the correct tag if not:  1\n"
     ]
    },
    {
     "name": "stdout",
     "output_type": "stream",
     "text": [
      "('PERSON', 'Christopher Gibbs', 'en_core_web_md')\n"
     ]
    },
    {
     "name": "stdin",
     "output_type": "stream",
     "text": [
      "1 if it's OK, add the correct tag if not:  1\n"
     ]
    },
    {
     "name": "stdout",
     "output_type": "stream",
     "text": [
      "('PERSON', 'Morris J. Pinto', 'en_core_web_md')\n"
     ]
    },
    {
     "name": "stdin",
     "output_type": "stream",
     "text": [
      "1 if it's OK, add the correct tag if not:  1\n"
     ]
    },
    {
     "name": "stdout",
     "output_type": "stream",
     "text": [
      "('NORP', 'African', 'en_core_web_md')\n"
     ]
    },
    {
     "name": "stdin",
     "output_type": "stream",
     "text": [
      "1 if it's OK, add the correct tag if not:  1\n"
     ]
    },
    {
     "name": "stdout",
     "output_type": "stream",
     "text": [
      "('GPE', 'Oceanic', 'en_core_web_md')\n"
     ]
    },
    {
     "name": "stdin",
     "output_type": "stream",
     "text": [
      "1 if it's OK, add the correct tag if not:  NORP\n"
     ]
    },
    {
     "name": "stdout",
     "output_type": "stream",
     "text": [
      "('FAC', 'the Pinto Collection', 'en_core_web_md')\n"
     ]
    },
    {
     "name": "stdin",
     "output_type": "stream",
     "text": [
      "1 if it's OK, add the correct tag if not:  ORG\n"
     ]
    },
    {
     "name": "stdout",
     "output_type": "stream",
     "text": [
      "('PERSON', 'Murray Frum', 'en_core_web_md')\n"
     ]
    },
    {
     "name": "stdin",
     "output_type": "stream",
     "text": [
      "1 if it's OK, add the correct tag if not:  1\n"
     ]
    },
    {
     "name": "stdout",
     "output_type": "stream",
     "text": [
      "('PERSON', 'Roberta Entwistle', 'en_core_web_md')\n"
     ]
    },
    {
     "name": "stdin",
     "output_type": "stream",
     "text": [
      "1 if it's OK, add the correct tag if not:  1\n"
     ]
    },
    {
     "name": "stdout",
     "output_type": "stream",
     "text": [
      "('PERSON', 'William Boyce Thompson', 'en_core_web_md')\n"
     ]
    },
    {
     "name": "stdin",
     "output_type": "stream",
     "text": [
      "1 if it's OK, add the correct tag if not:  1\n"
     ]
    },
    {
     "name": "stdout",
     "output_type": "stream",
     "text": [
      "('ORG', 'William Boyce', 'zh_core_web_sm')\n"
     ]
    },
    {
     "name": "stdin",
     "output_type": "stream",
     "text": [
      "1 if it's OK, add the correct tag if not:  PERSON\n"
     ]
    },
    {
     "name": "stdout",
     "output_type": "stream",
     "text": [
      "('PERSON', 'Thompson', 'zh_core_web_sm')\n"
     ]
    },
    {
     "name": "stdin",
     "output_type": "stream",
     "text": [
      "1 if it's OK, add the correct tag if not:  1\n"
     ]
    },
    {
     "name": "stdout",
     "output_type": "stream",
     "text": [
      "('PERSON', 'George Halpern', 'en_core_web_md')\n"
     ]
    },
    {
     "name": "stdin",
     "output_type": "stream",
     "text": [
      "1 if it's OK, add the correct tag if not:  1\n"
     ]
    },
    {
     "name": "stdout",
     "output_type": "stream",
     "text": [
      "('GPE', 'New York City', 'en_core_web_md')\n"
     ]
    },
    {
     "name": "stdin",
     "output_type": "stream",
     "text": [
      "1 if it's OK, add the correct tag if not:  1\n"
     ]
    },
    {
     "name": "stdout",
     "output_type": "stream",
     "text": [
      "('PERSON', 'Ashburnham', 'en_core_web_md')\n"
     ]
    },
    {
     "name": "stdin",
     "output_type": "stream",
     "text": [
      "1 if it's OK, add the correct tag if not:  1\n"
     ]
    },
    {
     "name": "stdout",
     "output_type": "stream",
     "text": [
      "('PERSON', 'Catherine Ashburnham', 'en_core_web_md')\n"
     ]
    },
    {
     "name": "stdin",
     "output_type": "stream",
     "text": [
      "1 if it's OK, add the correct tag if not:  1\n"
     ]
    },
    {
     "name": "stdout",
     "output_type": "stream",
     "text": [
      "('ORG', 'Estates', 'en_core_web_md')\n"
     ]
    },
    {
     "name": "stdin",
     "output_type": "stream",
     "text": [
      "1 if it's OK, add the correct tag if not:  OTHER\n"
     ]
    },
    {
     "name": "stdout",
     "output_type": "stream",
     "text": [
      "('FAC', 'Ashburnham Place', 'en_core_web_md')\n"
     ]
    },
    {
     "name": "stdin",
     "output_type": "stream",
     "text": [
      "1 if it's OK, add the correct tag if not:  ORG\n"
     ]
    },
    {
     "name": "stdout",
     "output_type": "stream",
     "text": [
      "('PERSON', 'Abby', 'en_core_web_md')\n"
     ]
    },
    {
     "name": "stdin",
     "output_type": "stream",
     "text": [
      "1 if it's OK, add the correct tag if not:  OTHER\n"
     ]
    },
    {
     "name": "stdout",
     "output_type": "stream",
     "text": [
      "('PERSON', \"George O'Neill\", 'en_core_web_md')\n"
     ]
    },
    {
     "name": "stdin",
     "output_type": "stream",
     "text": [
      "1 if it's OK, add the correct tag if not:  1\n"
     ]
    },
    {
     "name": "stdout",
     "output_type": "stream",
     "text": [
      "('ORG', \"Needham's\", 'en_core_web_md')\n"
     ]
    },
    {
     "name": "stdin",
     "output_type": "stream",
     "text": [
      "1 if it's OK, add the correct tag if not:  PERSON\n"
     ]
    },
    {
     "name": "stdout",
     "output_type": "stream",
     "text": [
      "('ORG', 'Antiques', 'en_core_web_md')\n"
     ]
    },
    {
     "name": "stdin",
     "output_type": "stream",
     "text": [
      "1 if it's OK, add the correct tag if not:  1\n"
     ]
    },
    {
     "name": "stdout",
     "output_type": "stream",
     "text": [
      "('PERSON', 'Axel Vervoordt Antwerpen', 'en_core_web_md')\n"
     ]
    },
    {
     "name": "stdin",
     "output_type": "stream",
     "text": [
      "1 if it's OK, add the correct tag if not:  1\n"
     ]
    },
    {
     "name": "stdout",
     "output_type": "stream",
     "text": [
      "('GPE', 's-Gravenwezel', 'fr_core_news_sm')\n"
     ]
    },
    {
     "name": "stdin",
     "output_type": "stream",
     "text": [
      "1 if it's OK, add the correct tag if not:  1\n"
     ]
    },
    {
     "name": "stdout",
     "output_type": "stream",
     "text": [
      "('ORG', 'D068', 'nl_core_news_sm')\n"
     ]
    },
    {
     "name": "stdin",
     "output_type": "stream",
     "text": [
      "1 if it's OK, add the correct tag if not:  OTHER\n"
     ]
    },
    {
     "name": "stdout",
     "output_type": "stream",
     "text": [
      "('PERSON', 'Leo Biaggi de Blasys', 'en_core_web_md')\n"
     ]
    },
    {
     "name": "stdin",
     "output_type": "stream",
     "text": [
      "1 if it's OK, add the correct tag if not:  1\n"
     ]
    },
    {
     "name": "stdout",
     "output_type": "stream",
     "text": [
      "('PERSON', 'J. H. Zeeman', 'en_core_web_md')\n"
     ]
    },
    {
     "name": "stdin",
     "output_type": "stream",
     "text": [
      "1 if it's OK, add the correct tag if not:  1\n"
     ]
    },
    {
     "name": "stdout",
     "output_type": "stream",
     "text": [
      "('ORG', \"Charge d'Affaires\", 'en_core_web_md')\n"
     ]
    },
    {
     "name": "stdin",
     "output_type": "stream",
     "text": [
      "1 if it's OK, add the correct tag if not:  1\n"
     ]
    },
    {
     "name": "stdout",
     "output_type": "stream",
     "text": [
      "('ORG', 'the Embassy of the Netherlands', 'en_core_web_md')\n"
     ]
    },
    {
     "name": "stdin",
     "output_type": "stream",
     "text": [
      "1 if it's OK, add the correct tag if not:  1\n"
     ]
    },
    {
     "name": "stdout",
     "output_type": "stream",
     "text": [
      "('GPE', 'Beijing', 'en_core_web_md')\n"
     ]
    },
    {
     "name": "stdin",
     "output_type": "stream",
     "text": [
      "1 if it's OK, add the correct tag if not:  1\n"
     ]
    },
    {
     "name": "stdout",
     "output_type": "stream",
     "text": [
      "('GPE', '北京', 'zh_core_web_sm')\n"
     ]
    },
    {
     "name": "stdin",
     "output_type": "stream",
     "text": [
      "1 if it's OK, add the correct tag if not:  1\n"
     ]
    },
    {
     "name": "stdout",
     "output_type": "stream",
     "text": [
      "('PERSON', 'Paul Kasmin Gallery', 'en_core_web_md')\n"
     ]
    },
    {
     "name": "stdin",
     "output_type": "stream",
     "text": [
      "1 if it's OK, add the correct tag if not:  1\n"
     ]
    },
    {
     "name": "stdout",
     "output_type": "stream",
     "text": [
      "('ORG', 'Los Angeles', 'es_core_news_sm')\n"
     ]
    },
    {
     "name": "stdin",
     "output_type": "stream",
     "text": [
      "1 if it's OK, add the correct tag if not:  GPE\n"
     ]
    },
    {
     "name": "stdout",
     "output_type": "stream",
     "text": [
      "('PERSON', 'Prince Eugene', 'en_core_web_md')\n"
     ]
    },
    {
     "name": "stdin",
     "output_type": "stream",
     "text": [
      "1 if it's OK, add the correct tag if not:  1\n"
     ]
    },
    {
     "name": "stdout",
     "output_type": "stream",
     "text": [
      "('ORG', 'Savoy Carignano', 'en_core_web_md')\n"
     ]
    },
    {
     "name": "stdin",
     "output_type": "stream",
     "text": [
      "1 if it's OK, add the correct tag if not:  PERSON\n"
     ]
    },
    {
     "name": "stdout",
     "output_type": "stream",
     "text": [
      "('ORG', 'Swiss Art Market', 'en_core_web_md')\n"
     ]
    },
    {
     "name": "stdin",
     "output_type": "stream",
     "text": [
      "1 if it's OK, add the correct tag if not:  1\n"
     ]
    },
    {
     "name": "stdout",
     "output_type": "stream",
     "text": [
      "('GPE', 'Habsburg', 'en_core_web_md')\n"
     ]
    },
    {
     "name": "stdin",
     "output_type": "stream",
     "text": [
      "1 if it's OK, add the correct tag if not:  1\n"
     ]
    },
    {
     "name": "stdout",
     "output_type": "stream",
     "text": [
      "('PERSON', 'Bob P. Haboldt & Co', 'en_core_web_md')\n"
     ]
    },
    {
     "name": "stdin",
     "output_type": "stream",
     "text": [
      "1 if it's OK, add the correct tag if not:  ORG\n"
     ]
    },
    {
     "name": "stdout",
     "output_type": "stream",
     "text": [
      "('FAC', 'B033', 'nl_core_news_sm')\n"
     ]
    },
    {
     "name": "stdin",
     "output_type": "stream",
     "text": [
      "1 if it's OK, add the correct tag if not:  OTHER\n"
     ]
    },
    {
     "name": "stdout",
     "output_type": "stream",
     "text": [
      "('PERSON', 'Vente', 'en_core_web_md')\n"
     ]
    },
    {
     "name": "stdin",
     "output_type": "stream",
     "text": [
      "1 if it's OK, add the correct tag if not:  OTHER\n"
     ]
    },
    {
     "name": "stdout",
     "output_type": "stream",
     "text": [
      "('GPE', 'B033', 'nl_core_news_sm')\n"
     ]
    },
    {
     "name": "stdin",
     "output_type": "stream",
     "text": [
      "1 if it's OK, add the correct tag if not:  OTHER\n"
     ]
    },
    {
     "name": "stdout",
     "output_type": "stream",
     "text": [
      "('ORG', 'Superior Galleries', 'en_core_web_md')\n"
     ]
    },
    {
     "name": "stdin",
     "output_type": "stream",
     "text": [
      "1 if it's OK, add the correct tag if not:  1\n"
     ]
    },
    {
     "name": "stdout",
     "output_type": "stream",
     "text": [
      "('GPE', 'Kansas City', 'es_core_news_sm')\n"
     ]
    },
    {
     "name": "stdin",
     "output_type": "stream",
     "text": [
      "1 if it's OK, add the correct tag if not:  1\n"
     ]
    },
    {
     "name": "stdout",
     "output_type": "stream",
     "text": [
      "('ORG', 'Kodner Galleries', 'en_core_web_md')\n"
     ]
    },
    {
     "name": "stdin",
     "output_type": "stream",
     "text": [
      "1 if it's OK, add the correct tag if not:  1\n"
     ]
    },
    {
     "name": "stdout",
     "output_type": "stream",
     "text": [
      "('GPE', 'Dania Beach', 'en_core_web_md')\n"
     ]
    },
    {
     "name": "stdin",
     "output_type": "stream",
     "text": [
      "1 if it's OK, add the correct tag if not:  1\n"
     ]
    },
    {
     "name": "stdout",
     "output_type": "stream",
     "text": [
      "('PERSON', 'Henry H. Gorringe', 'en_core_web_md')\n"
     ]
    },
    {
     "name": "stdin",
     "output_type": "stream",
     "text": [
      "1 if it's OK, add the correct tag if not:  1\n"
     ]
    },
    {
     "name": "stdout",
     "output_type": "stream",
     "text": [
      "('PERSON', 'HENRY H. GORRINGE', 'en_core_web_md')\n"
     ]
    },
    {
     "name": "stdin",
     "output_type": "stream",
     "text": [
      "1 if it's OK, add the correct tag if not:  1\n"
     ]
    },
    {
     "name": "stdout",
     "output_type": "stream",
     "text": [
      "('ORG', 'the Worcester Art Museum', 'en_core_web_md')\n"
     ]
    },
    {
     "name": "stdin",
     "output_type": "stream",
     "text": [
      "1 if it's OK, add the correct tag if not:  1\n"
     ]
    },
    {
     "name": "stdout",
     "output_type": "stream",
     "text": [
      "('PERSON', 'Norman Norell', 'en_core_web_md')\n"
     ]
    },
    {
     "name": "stdin",
     "output_type": "stream",
     "text": [
      "1 if it's OK, add the correct tag if not:  1\n"
     ]
    },
    {
     "name": "stdout",
     "output_type": "stream",
     "text": [
      "('ORG', 'Sotheby Parke Bernet, Inc.', 'en_core_web_md')\n"
     ]
    },
    {
     "name": "stdin",
     "output_type": "stream",
     "text": [
      "1 if it's OK, add the correct tag if not:  1\n"
     ]
    },
    {
     "name": "stdout",
     "output_type": "stream",
     "text": [
      "('PERSON', 'George Zacos', 'en_core_web_md')\n"
     ]
    },
    {
     "name": "stdin",
     "output_type": "stream",
     "text": [
      "1 if it's OK, add the correct tag if not:  1\n"
     ]
    },
    {
     "name": "stdout",
     "output_type": "stream",
     "text": [
      "('PERSON', 'Litzelstetten', 'en_core_web_md')\n"
     ]
    },
    {
     "name": "stdin",
     "output_type": "stream",
     "text": [
      "1 if it's OK, add the correct tag if not:  GPE\n"
     ]
    },
    {
     "name": "stdout",
     "output_type": "stream",
     "text": [
      "('LAW', 'Item ten', 'en_core_web_md')\n"
     ]
    },
    {
     "name": "stdin",
     "output_type": "stream",
     "text": [
      "1 if it's OK, add the correct tag if not:  OTHER\n"
     ]
    },
    {
     "name": "stdout",
     "output_type": "stream",
     "text": [
      "('WORK_OF_ART', 'Sipplingen', 'en_core_web_md')\n"
     ]
    },
    {
     "name": "stdin",
     "output_type": "stream",
     "text": [
      "1 if it's OK, add the correct tag if not:  GPE\n"
     ]
    },
    {
     "name": "stdout",
     "output_type": "stream",
     "text": [
      "('ORG', 'Arrow', 'en_core_web_md')\n"
     ]
    },
    {
     "name": "stdin",
     "output_type": "stream",
     "text": [
      "1 if it's OK, add the correct tag if not:  OTHER\n"
     ]
    },
    {
     "name": "stdout",
     "output_type": "stream",
     "text": [
      "('OTHER', 'Arts d’orient-', 'fr_core_news_sm')\n"
     ]
    },
    {
     "name": "stdin",
     "output_type": "stream",
     "text": [
      "1 if it's OK, add the correct tag if not:  OTHER\n"
     ]
    },
    {
     "name": "stdout",
     "output_type": "stream",
     "text": [
      "('PERSON', 'A.J. Burniston', 'en_core_web_md')\n"
     ]
    },
    {
     "name": "stdin",
     "output_type": "stream",
     "text": [
      "1 if it's OK, add the correct tag if not:  1\n"
     ]
    },
    {
     "name": "stdout",
     "output_type": "stream",
     "text": [
      "('GPE', 'the Greek Islands', 'en_core_web_md')\n"
     ]
    },
    {
     "name": "stdin",
     "output_type": "stream",
     "text": [
      "1 if it's OK, add the correct tag if not:  1\n"
     ]
    },
    {
     "name": "stdout",
     "output_type": "stream",
     "text": [
      "('PERSON', 'Arthur M. Sackler', 'en_core_web_md')\n"
     ]
    },
    {
     "name": "stdin",
     "output_type": "stream",
     "text": [
      "1 if it's OK, add the correct tag if not:  1\n"
     ]
    },
    {
     "name": "stdout",
     "output_type": "stream",
     "text": [
      "('PERSON', '佳士得', 'zh_core_web_sm')\n"
     ]
    },
    {
     "name": "stdin",
     "output_type": "stream",
     "text": [
      "1 if it's OK, add the correct tag if not:  1\n"
     ]
    },
    {
     "name": "stdout",
     "output_type": "stream",
     "text": [
      "('MONEY', '212（美金8,', 'zh_core_web_sm')\n"
     ]
    },
    {
     "name": "stdin",
     "output_type": "stream",
     "text": [
      "1 if it's OK, add the correct tag if not:  1\n"
     ]
    },
    {
     "name": "stdout",
     "output_type": "stream",
     "text": [
      "('GPE', 'Leeds', 'en_core_web_md')\n"
     ]
    },
    {
     "name": "stdin",
     "output_type": "stream",
     "text": [
      "1 if it's OK, add the correct tag if not:  1\n"
     ]
    },
    {
     "name": "stdout",
     "output_type": "stream",
     "text": [
      "('PERSON', 'K.B.E. SOLD BY ORDER OF', 'en_core_web_md')\n"
     ]
    },
    {
     "name": "stdin",
     "output_type": "stream",
     "text": [
      "1 if it's OK, add the correct tag if not:  OTHER\n"
     ]
    },
    {
     "name": "stdout",
     "output_type": "stream",
     "text": [
      "('PERSON', 'EXECUTORS', 'en_core_web_md')\n"
     ]
    },
    {
     "name": "stdin",
     "output_type": "stream",
     "text": [
      "1 if it's OK, add the correct tag if not:  OTHER\n"
     ]
    },
    {
     "name": "stdout",
     "output_type": "stream",
     "text": [
      "('ORG', 'Swiss Private Collection', 'en_core_web_md')\n"
     ]
    },
    {
     "name": "stdin",
     "output_type": "stream",
     "text": [
      "1 if it's OK, add the correct tag if not:  1\n"
     ]
    },
    {
     "name": "stdout",
     "output_type": "stream",
     "text": [
      "('ORG', 'INC', 'en_core_web_md')\n"
     ]
    },
    {
     "name": "stdin",
     "output_type": "stream",
     "text": [
      "1 if it's OK, add the correct tag if not:  1\n"
     ]
    },
    {
     "name": "stdout",
     "output_type": "stream",
     "text": [
      "('PERSON', 'Edwina', 'en_core_web_md')\n"
     ]
    },
    {
     "name": "stdin",
     "output_type": "stream",
     "text": [
      "1 if it's OK, add the correct tag if not:  1\n"
     ]
    },
    {
     "name": "stdout",
     "output_type": "stream",
     "text": [
      "('ORG', 'Anastos Collection', 'es_core_news_sm')\n"
     ]
    },
    {
     "name": "stdin",
     "output_type": "stream",
     "text": [
      "1 if it's OK, add the correct tag if not:  1\n"
     ]
    },
    {
     "name": "stdout",
     "output_type": "stream",
     "text": [
      "('ORG', 'Ascot', 'en_core_web_md')\n"
     ]
    },
    {
     "name": "stdin",
     "output_type": "stream",
     "text": [
      "1 if it's OK, add the correct tag if not:  1\n"
     ]
    },
    {
     "name": "stdout",
     "output_type": "stream",
     "text": [
      "('ORG', 'The Sven Gahlin Collection', 'en_core_web_md')\n"
     ]
    },
    {
     "name": "stdin",
     "output_type": "stream",
     "text": [
      "1 if it's OK, add the correct tag if not:  1\n"
     ]
    },
    {
     "name": "stdout",
     "output_type": "stream",
     "text": [
      "('ORG', \"Christie's South Kensington\", 'en_core_web_md')\n"
     ]
    },
    {
     "name": "stdin",
     "output_type": "stream",
     "text": [
      "1 if it's OK, add the correct tag if not:  1\n"
     ]
    },
    {
     "name": "stdout",
     "output_type": "stream",
     "text": [
      "('ORG', 'J.D. van Oenen', 'nl_core_news_sm')\n"
     ]
    },
    {
     "name": "stdin",
     "output_type": "stream",
     "text": [
      "1 if it's OK, add the correct tag if not:  1\n"
     ]
    },
    {
     "name": "stdout",
     "output_type": "stream",
     "text": [
      "('PERSON', 'Anatole Demidoff', 'en_core_web_md')\n"
     ]
    },
    {
     "name": "stdin",
     "output_type": "stream",
     "text": [
      "1 if it's OK, add the correct tag if not:  1\n"
     ]
    },
    {
     "name": "stdout",
     "output_type": "stream",
     "text": [
      "('PERSON', 'Palazzo San Donato', 'en_core_web_md')\n"
     ]
    },
    {
     "name": "stdin",
     "output_type": "stream",
     "text": [
      "1 if it's OK, add the correct tag if not:  1\n"
     ]
    },
    {
     "name": "stdout",
     "output_type": "stream",
     "text": [
      "('PERSON', 'Florence', 'en_core_web_md')\n"
     ]
    },
    {
     "name": "stdin",
     "output_type": "stream",
     "text": [
      "1 if it's OK, add the correct tag if not:  GPE\n"
     ]
    },
    {
     "name": "stdout",
     "output_type": "stream",
     "text": [
      "('PERSON', 'Charles Pillet', 'en_core_web_md')\n"
     ]
    },
    {
     "name": "stdin",
     "output_type": "stream",
     "text": [
      "1 if it's OK, add the correct tag if not:  1\n"
     ]
    },
    {
     "name": "stdout",
     "output_type": "stream",
     "text": [
      "('GPE', 'San Donato', 'en_core_web_md')\n"
     ]
    },
    {
     "name": "stdin",
     "output_type": "stream",
     "text": [
      "1 if it's OK, add the correct tag if not:  PERSON\n"
     ]
    },
    {
     "name": "stdout",
     "output_type": "stream",
     "text": [
      "('GPE', 'Ferrières', 'fr_core_news_sm')\n"
     ]
    },
    {
     "name": "stdin",
     "output_type": "stream",
     "text": [
      "1 if it's OK, add the correct tag if not:  1\n"
     ]
    },
    {
     "name": "stdout",
     "output_type": "stream",
     "text": [
      "('GPE', 'Seine-et-Marne', 'fr_core_news_sm')\n"
     ]
    },
    {
     "name": "stdin",
     "output_type": "stream",
     "text": [
      "1 if it's OK, add the correct tag if not:  1\n"
     ]
    },
    {
     "name": "stdout",
     "output_type": "stream",
     "text": [
      "('ORG', 'Rothschild', 'fr_core_news_sm')\n"
     ]
    },
    {
     "name": "stdin",
     "output_type": "stream",
     "text": [
      "1 if it's OK, add the correct tag if not:  PERSON\n"
     ]
    },
    {
     "name": "stdout",
     "output_type": "stream",
     "text": [
      "('PERSON', 'Michał Tyszkiewicz', 'pl_core_news_sm')\n"
     ]
    },
    {
     "name": "stdin",
     "output_type": "stream",
     "text": [
      "1 if it's OK, add the correct tag if not:  1\n"
     ]
    },
    {
     "name": "stdout",
     "output_type": "stream",
     "text": [
      "('PERSON', 'Rome', 'pl_core_news_sm')\n"
     ]
    },
    {
     "name": "stdin",
     "output_type": "stream",
     "text": [
      "1 if it's OK, add the correct tag if not:  GPE\n"
     ]
    },
    {
     "name": "stdout",
     "output_type": "stream",
     "text": [
      "('NORP', '1892', 'pl_core_news_sm')\n"
     ]
    },
    {
     "name": "stdin",
     "output_type": "stream",
     "text": [
      "1 if it's OK, add the correct tag if not:  DATE\n"
     ]
    },
    {
     "name": "stdout",
     "output_type": "stream",
     "text": [
      "('ORG', 'Rollin & Feuardent', 'en_core_web_md')\n"
     ]
    },
    {
     "name": "stdin",
     "output_type": "stream",
     "text": [
      "1 if it's OK, add the correct tag if not:  1\n"
     ]
    },
    {
     "name": "stdout",
     "output_type": "stream",
     "text": [
      "('PERSON', 'P. Hamonic', 'en_core_web_md')\n"
     ]
    },
    {
     "name": "stdin",
     "output_type": "stream",
     "text": [
      "1 if it's OK, add the correct tag if not:  1\n"
     ]
    },
    {
     "name": "stdout",
     "output_type": "stream",
     "text": [
      "('ORG', 'Pierre and', 'fr_core_news_sm')\n"
     ]
    },
    {
     "name": "stdin",
     "output_type": "stream",
     "text": [
      "1 if it's OK, add the correct tag if not:  PERSON\n"
     ]
    },
    {
     "name": "stdout",
     "output_type": "stream",
     "text": [
      "('PERSON', 'Hartman Rare Art', 'en_core_web_md')\n"
     ]
    },
    {
     "name": "stdin",
     "output_type": "stream",
     "text": [
      "1 if it's OK, add the correct tag if not:  ORG\n"
     ]
    },
    {
     "name": "stdout",
     "output_type": "stream",
     "text": [
      "('NORP', 'Hart', 'zh_core_web_sm')\n"
     ]
    },
    {
     "name": "stdin",
     "output_type": "stream",
     "text": [
      "1 if it's OK, add the correct tag if not:  OTHER\n"
     ]
    },
    {
     "name": "stdout",
     "output_type": "stream",
     "text": [
      "('PERSON', 'Benjamin Wolff Collection', 'en_core_web_md')\n"
     ]
    },
    {
     "name": "stdin",
     "output_type": "stream",
     "text": [
      "1 if it's OK, add the correct tag if not:  ORG\n"
     ]
    },
    {
     "name": "stdout",
     "output_type": "stream",
     "text": [
      "('WORK_OF_ART', \"The Wolff Collection' Sale\", 'en_core_web_md')\n"
     ]
    },
    {
     "name": "stdin",
     "output_type": "stream",
     "text": [
      "1 if it's OK, add the correct tag if not:  ORG\n"
     ]
    },
    {
     "name": "stdout",
     "output_type": "stream",
     "text": [
      "('PERSON', 'Bruun Rasmussen', 'en_core_web_md')\n"
     ]
    },
    {
     "name": "stdin",
     "output_type": "stream",
     "text": [
      "1 if it's OK, add the correct tag if not:  1\n"
     ]
    },
    {
     "name": "stdout",
     "output_type": "stream",
     "text": [
      "('GPE', 'Copenhagen', 'en_core_web_md')\n"
     ]
    },
    {
     "name": "stdin",
     "output_type": "stream",
     "text": [
      "1 if it's OK, add the correct tag if not:  1\n"
     ]
    },
    {
     "name": "stdout",
     "output_type": "stream",
     "text": [
      "('PERSON', 'Leo Gallery', 'en_core_web_md')\n"
     ]
    },
    {
     "name": "stdin",
     "output_type": "stream",
     "text": [
      "1 if it's OK, add the correct tag if not:  ORG\n"
     ]
    },
    {
     "name": "stdout",
     "output_type": "stream",
     "text": [
      "('GPE', '上海', 'zh_core_web_sm')\n"
     ]
    },
    {
     "name": "stdin",
     "output_type": "stream",
     "text": [
      "1 if it's OK, add the correct tag if not:  1\n"
     ]
    },
    {
     "name": "stdout",
     "output_type": "stream",
     "text": [
      "('ORG', 'XXV', 'en_core_web_md')\n"
     ]
    },
    {
     "name": "stdin",
     "output_type": "stream",
     "text": [
      "1 if it's OK, add the correct tag if not:  NUMBER\n"
     ]
    },
    {
     "name": "stdout",
     "output_type": "stream",
     "text": [
      "('ORG', 'BUTLER', 'en_core_web_md')\n"
     ]
    },
    {
     "name": "stdin",
     "output_type": "stream",
     "text": [
      "1 if it's OK, add the correct tag if not:  OTHER\n"
     ]
    },
    {
     "name": "stdout",
     "output_type": "stream",
     "text": [
      "('OTHER', '4 June 2015', 'fr_core_news_sm')\n"
     ]
    },
    {
     "name": "stdin",
     "output_type": "stream",
     "text": [
      "1 if it's OK, add the correct tag if not:  DATE\n"
     ]
    },
    {
     "name": "stdout",
     "output_type": "stream",
     "text": [
      "('PERSON', 'Edgar Vincent', 'en_core_web_md')\n"
     ]
    },
    {
     "name": "stdin",
     "output_type": "stream",
     "text": [
      "1 if it's OK, add the correct tag if not:  1\n"
     ]
    },
    {
     "name": "stdout",
     "output_type": "stream",
     "text": [
      "('PERSON', \"Lady d'Abernon\", 'en_core_web_md')\n"
     ]
    },
    {
     "name": "stdin",
     "output_type": "stream",
     "text": [
      "1 if it's OK, add the correct tag if not:  1\n"
     ]
    },
    {
     "name": "stdout",
     "output_type": "stream",
     "text": [
      "('PERSON', 'Richard Worsley', 'en_core_web_md')\n"
     ]
    },
    {
     "name": "stdin",
     "output_type": "stream",
     "text": [
      "1 if it's OK, add the correct tag if not:  1\n"
     ]
    },
    {
     "name": "stdout",
     "output_type": "stream",
     "text": [
      "('PERSON', 'Appuldurcumbe House', 'en_core_web_md')\n"
     ]
    },
    {
     "name": "stdin",
     "output_type": "stream",
     "text": [
      "1 if it's OK, add the correct tag if not:  ORG\n"
     ]
    },
    {
     "name": "stdout",
     "output_type": "stream",
     "text": [
      "('GPE', 'Isle of Wight', 'en_core_web_md')\n"
     ]
    },
    {
     "name": "stdin",
     "output_type": "stream",
     "text": [
      "1 if it's OK, add the correct tag if not:  1\n"
     ]
    },
    {
     "name": "stdout",
     "output_type": "stream",
     "text": [
      "('GPE', 'Yarborough', 'en_core_web_md')\n"
     ]
    },
    {
     "name": "stdin",
     "output_type": "stream",
     "text": [
      "1 if it's OK, add the correct tag if not:  1\n"
     ]
    },
    {
     "name": "stdout",
     "output_type": "stream",
     "text": [
      "('GPE', 'Brocklesby Park', 'en_core_web_md')\n"
     ]
    },
    {
     "name": "stdin",
     "output_type": "stream",
     "text": [
      "1 if it's OK, add the correct tag if not:  1\n"
     ]
    },
    {
     "name": "stdout",
     "output_type": "stream",
     "text": [
      "('GPE', 'Bohler', 'en_core_web_md')\n"
     ]
    },
    {
     "name": "stdin",
     "output_type": "stream",
     "text": [
      "1 if it's OK, add the correct tag if not:  ORG\n"
     ]
    },
    {
     "name": "stdout",
     "output_type": "stream",
     "text": [
      "('GPE', 'Münich', 'en_core_web_md')\n"
     ]
    },
    {
     "name": "stdin",
     "output_type": "stream",
     "text": [
      "1 if it's OK, add the correct tag if not:  1\n"
     ]
    },
    {
     "name": "stdout",
     "output_type": "stream",
     "text": [
      "('GPE', 'Commissaire-priseur', 'fr_core_news_sm')\n"
     ]
    },
    {
     "name": "stdin",
     "output_type": "stream",
     "text": [
      "1 if it's OK, add the correct tag if not:  OTHER\n"
     ]
    },
    {
     "name": "stdout",
     "output_type": "stream",
     "text": [
      "('OTHER', 'February 2017', 'fr_core_news_sm')\n"
     ]
    },
    {
     "name": "stdin",
     "output_type": "stream",
     "text": [
      "1 if it's OK, add the correct tag if not:  DATE\n"
     ]
    },
    {
     "name": "stdout",
     "output_type": "stream",
     "text": [
      "('ORG', 'Sotheby Parke Bernet, Inc. New York', 'en_core_web_md')\n"
     ]
    },
    {
     "name": "stdin",
     "output_type": "stream",
     "text": [
      "1 if it's OK, add the correct tag if not:  1\n"
     ]
    },
    {
     "name": "stdout",
     "output_type": "stream",
     "text": [
      "('GPE', '瑞士', 'zh_core_web_sm')\n"
     ]
    },
    {
     "name": "stdin",
     "output_type": "stream",
     "text": [
      "1 if it's OK, add the correct tag if not:  1\n"
     ]
    },
    {
     "name": "stdout",
     "output_type": "stream",
     "text": [
      "('PERSON', 'Margaret Nash', 'en_core_web_md')\n"
     ]
    },
    {
     "name": "stdin",
     "output_type": "stream",
     "text": [
      "1 if it's OK, add the correct tag if not:  1\n"
     ]
    },
    {
     "name": "stdout",
     "output_type": "stream",
     "text": [
      "('ORG', 'Artist', 'en_core_web_md')\n"
     ]
    },
    {
     "name": "stdin",
     "output_type": "stream",
     "text": [
      "1 if it's OK, add the correct tag if not:  OTHER\n"
     ]
    },
    {
     "name": "stdout",
     "output_type": "stream",
     "text": [
      "('ORG', 'The Leicester Galleries', 'en_core_web_md')\n"
     ]
    },
    {
     "name": "stdin",
     "output_type": "stream",
     "text": [
      "1 if it's OK, add the correct tag if not:  1\n"
     ]
    },
    {
     "name": "stdout",
     "output_type": "stream",
     "text": [
      "('NORP', 'Ex-German', 'en_core_web_md')\n"
     ]
    },
    {
     "name": "stdin",
     "output_type": "stream",
     "text": [
      "1 if it's OK, add the correct tag if not:  1\n"
     ]
    },
    {
     "name": "stdout",
     "output_type": "stream",
     "text": [
      "('ORG', 'ex-H. Mol Collection', 'en_core_web_md')\n"
     ]
    },
    {
     "name": "stdin",
     "output_type": "stream",
     "text": [
      "1 if it's OK, add the correct tag if not:  1\n"
     ]
    },
    {
     "name": "stdout",
     "output_type": "stream",
     "text": [
      "('PERSON', 'Galerie Numaga', 'en_core_web_md')\n"
     ]
    },
    {
     "name": "stdin",
     "output_type": "stream",
     "text": [
      "1 if it's OK, add the correct tag if not:  ORG\n"
     ]
    },
    {
     "name": "stdout",
     "output_type": "stream",
     "text": [
      "('PERSON', 'Philippe Laeremans', 'en_core_web_md')\n"
     ]
    },
    {
     "name": "stdin",
     "output_type": "stream",
     "text": [
      "1 if it's OK, add the correct tag if not:  1\n"
     ]
    },
    {
     "name": "stdout",
     "output_type": "stream",
     "text": [
      "('GPE', 'United Kingdom', 'en_core_web_md')\n"
     ]
    },
    {
     "name": "stdin",
     "output_type": "stream",
     "text": [
      "1 if it's OK, add the correct tag if not:  1\n"
     ]
    },
    {
     "name": "stdout",
     "output_type": "stream",
     "text": [
      "('GPE', 'U.A.E.', 'en_core_web_md')\n"
     ]
    },
    {
     "name": "stdin",
     "output_type": "stream",
     "text": [
      "1 if it's OK, add the correct tag if not:  1\n"
     ]
    },
    {
     "name": "stdout",
     "output_type": "stream",
     "text": [
      "('GPE', 'Asia', 'en_core_web_md')\n"
     ]
    },
    {
     "name": "stdin",
     "output_type": "stream",
     "text": [
      "1 if it's OK, add the correct tag if not:  1\n"
     ]
    },
    {
     "name": "stdout",
     "output_type": "stream",
     "text": [
      "('PERSON', '現藏家', 'zh_core_web_sm')\n"
     ]
    },
    {
     "name": "stdin",
     "output_type": "stream",
     "text": [
      "1 if it's OK, add the correct tag if not:  1\n"
     ]
    },
    {
     "name": "stdout",
     "output_type": "stream",
     "text": [
      "('PERSON', 'Gordon Partridge', 'en_core_web_md')\n"
     ]
    },
    {
     "name": "stdin",
     "output_type": "stream",
     "text": [
      "1 if it's OK, add the correct tag if not:  1\n"
     ]
    },
    {
     "name": "stdout",
     "output_type": "stream",
     "text": [
      "('PERSON', 'Patti Cadby Birch', 'en_core_web_md')\n"
     ]
    },
    {
     "name": "stdin",
     "output_type": "stream",
     "text": [
      "1 if it's OK, add the correct tag if not:  1\n"
     ]
    },
    {
     "name": "stdout",
     "output_type": "stream",
     "text": [
      "('PERSON', 'Everett B. Birch', 'en_core_web_md')\n"
     ]
    },
    {
     "name": "stdin",
     "output_type": "stream",
     "text": [
      "1 if it's OK, add the correct tag if not:  1\n"
     ]
    },
    {
     "name": "stdout",
     "output_type": "stream",
     "text": [
      "('PERSON', 'Charles-Edouard Duflon', 'en_core_web_md')\n"
     ]
    },
    {
     "name": "stdin",
     "output_type": "stream",
     "text": [
      "1 if it's OK, add the correct tag if not:  1\n"
     ]
    },
    {
     "name": "stdout",
     "output_type": "stream",
     "text": [
      "('PERSON', 'F. Low-Beer & Co', 'en_core_web_md')\n"
     ]
    },
    {
     "name": "stdin",
     "output_type": "stream",
     "text": [
      "1 if it's OK, add the correct tag if not:  ORG\n"
     ]
    },
    {
     "name": "stdout",
     "output_type": "stream",
     "text": [
      "('PERSON', '肯普', 'zh_core_web_sm')\n"
     ]
    },
    {
     "name": "stdin",
     "output_type": "stream",
     "text": [
      "1 if it's OK, add the correct tag if not:  1\n"
     ]
    },
    {
     "name": "stdout",
     "output_type": "stream",
     "text": [
      "('GPE', 'Auxerre', 'fr_core_news_sm')\n"
     ]
    },
    {
     "name": "stdin",
     "output_type": "stream",
     "text": [
      "1 if it's OK, add the correct tag if not:  1\n"
     ]
    },
    {
     "name": "stdout",
     "output_type": "stream",
     "text": [
      "('OTHER', 'October 1985', 'fr_core_news_sm')\n"
     ]
    },
    {
     "name": "stdin",
     "output_type": "stream",
     "text": [
      "1 if it's OK, add the correct tag if not:  DATE\n"
     ]
    },
    {
     "name": "stdout",
     "output_type": "stream",
     "text": [
      "('PERSON', 'Nina Borowski', 'en_core_web_md')\n"
     ]
    },
    {
     "name": "stdin",
     "output_type": "stream",
     "text": [
      "1 if it's OK, add the correct tag if not:  1\n"
     ]
    },
    {
     "name": "stdout",
     "output_type": "stream",
     "text": [
      "('ORG', 'Arts Nouv', 'fr_core_news_sm')\n"
     ]
    },
    {
     "name": "stdin",
     "output_type": "stream",
     "text": [
      "1 if it's OK, add the correct tag if not:  1\n"
     ]
    },
    {
     "name": "stdout",
     "output_type": "stream",
     "text": [
      "('GPE', 'Hôtel Drouot', 'fr_core_news_sm')\n"
     ]
    },
    {
     "name": "stdin",
     "output_type": "stream",
     "text": [
      "1 if it's OK, add the correct tag if not:  ORG\n"
     ]
    },
    {
     "name": "stdout",
     "output_type": "stream",
     "text": [
      "('OTHER', 'June 2014', 'fr_core_news_sm')\n"
     ]
    },
    {
     "name": "stdin",
     "output_type": "stream",
     "text": [
      "1 if it's OK, add the correct tag if not:  DATE\n"
     ]
    },
    {
     "name": "stdout",
     "output_type": "stream",
     "text": [
      "('OTHER', 'lot5', 'fr_core_news_sm')\n"
     ]
    },
    {
     "name": "stdin",
     "output_type": "stream",
     "text": [
      "1 if it's OK, add the correct tag if not:  OTHER\n"
     ]
    },
    {
     "name": "stdout",
     "output_type": "stream",
     "text": [
      "('OTHER', 'The Dillée Collection', 'fr_core_news_sm')\n"
     ]
    },
    {
     "name": "stdin",
     "output_type": "stream",
     "text": [
      "1 if it's OK, add the correct tag if not:  ORG\n"
     ]
    },
    {
     "name": "stdout",
     "output_type": "stream",
     "text": [
      "('ORG', 'ROCAILLE', 'en_core_web_md')\n"
     ]
    },
    {
     "name": "stdin",
     "output_type": "stream",
     "text": [
      "1 if it's OK, add the correct tag if not:  OTHER\n"
     ]
    },
    {
     "name": "stdout",
     "output_type": "stream",
     "text": [
      "('WORK_OF_ART', 'Faces From The Ancient World', 'en_core_web_md')\n"
     ]
    },
    {
     "name": "stdin",
     "output_type": "stream",
     "text": [
      "1 if it's OK, add the correct tag if not:  OTHER\n"
     ]
    },
    {
     "name": "stdout",
     "output_type": "stream",
     "text": [
      "('NORP', 'Egyptian', 'en_core_web_md')\n"
     ]
    },
    {
     "name": "stdin",
     "output_type": "stream",
     "text": [
      "1 if it's OK, add the correct tag if not:  1\n"
     ]
    },
    {
     "name": "stdout",
     "output_type": "stream",
     "text": [
      "('PERSON', 'Amlash Pottery', 'en_core_web_md')\n"
     ]
    },
    {
     "name": "stdin",
     "output_type": "stream",
     "text": [
      "1 if it's OK, add the correct tag if not:  1\n"
     ]
    },
    {
     "name": "stdout",
     "output_type": "stream",
     "text": [
      "('PERSON', 'The Leo Mildenberg Collection of Ancient Animals', 'en_core_web_md')\n"
     ]
    },
    {
     "name": "stdin",
     "output_type": "stream",
     "text": [
      "1 if it's OK, add the correct tag if not:  ORG\n"
     ]
    },
    {
     "name": "stdout",
     "output_type": "stream",
     "text": [
      "('PERSON', 'J. Settgast', 'en_core_web_md')\n"
     ]
    },
    {
     "name": "stdin",
     "output_type": "stream",
     "text": [
      "1 if it's OK, add the correct tag if not:  1\n"
     ]
    },
    {
     "name": "stdout",
     "output_type": "stream",
     "text": [
      "('FAC', 'E.T. Hall', 'en_core_web_md')\n"
     ]
    },
    {
     "name": "stdin",
     "output_type": "stream",
     "text": [
      "1 if it's OK, add the correct tag if not:  1\n"
     ]
    },
    {
     "name": "stdout",
     "output_type": "stream",
     "text": [
      "('GPE', 'Mediterranean World', 'en_core_web_md')\n"
     ]
    },
    {
     "name": "stdin",
     "output_type": "stream",
     "text": [
      "1 if it's OK, add the correct tag if not:  1\n"
     ]
    },
    {
     "name": "stdout",
     "output_type": "stream",
     "text": [
      "('PERSON', 'Archibald Stirling', 'en_core_web_md')\n"
     ]
    },
    {
     "name": "stdin",
     "output_type": "stream",
     "text": [
      "1 if it's OK, add the correct tag if not:  1\n"
     ]
    },
    {
     "name": "stdout",
     "output_type": "stream",
     "text": [
      "('ORG', 'Keir', 'en_core_web_md')\n"
     ]
    },
    {
     "name": "stdin",
     "output_type": "stream",
     "text": [
      "1 if it's OK, add the correct tag if not:  1\n"
     ]
    },
    {
     "name": "stdout",
     "output_type": "stream",
     "text": [
      "('PERSON', 'William Joseph Stirling', 'en_core_web_md')\n"
     ]
    },
    {
     "name": "stdin",
     "output_type": "stream",
     "text": [
      "1 if it's OK, add the correct tag if not:  1\n"
     ]
    },
    {
     "name": "stdout",
     "output_type": "stream",
     "text": [
      "('PERSON', 'Richard D.', 'en_core_web_md')\n"
     ]
    },
    {
     "name": "stdin",
     "output_type": "stream",
     "text": [
      "1 if it's OK, add the correct tag if not:  1\n"
     ]
    },
    {
     "name": "stdout",
     "output_type": "stream",
     "text": [
      "('PERSON', 'Billie Lou Wood', 'en_core_web_md')\n"
     ]
    },
    {
     "name": "stdin",
     "output_type": "stream",
     "text": [
      "1 if it's OK, add the correct tag if not:  1\n"
     ]
    },
    {
     "name": "stdout",
     "output_type": "stream",
     "text": [
      "('PERSON', 'Alfred Morrison', 'en_core_web_md')\n"
     ]
    },
    {
     "name": "stdin",
     "output_type": "stream",
     "text": [
      "1 if it's OK, add the correct tag if not:  1\n"
     ]
    },
    {
     "name": "stdout",
     "output_type": "stream",
     "text": [
      "('ORG', 'Carlton House Terrace', 'en_core_web_md')\n"
     ]
    },
    {
     "name": "stdin",
     "output_type": "stream",
     "text": [
      "1 if it's OK, add the correct tag if not:  org\n"
     ]
    },
    {
     "name": "stdout",
     "output_type": "stream",
     "text": [
      "('PERSON', 'Hester Sassoon', 'en_core_web_md')\n"
     ]
    },
    {
     "name": "stdin",
     "output_type": "stream",
     "text": [
      "1 if it's OK, add the correct tag if not:  1\n"
     ]
    },
    {
     "name": "stdout",
     "output_type": "stream",
     "text": [
      "('PERSON', 'née Gatty', 'en_core_web_md')\n"
     ]
    },
    {
     "name": "stdin",
     "output_type": "stream",
     "text": [
      "1 if it's OK, add the correct tag if not:  1\n"
     ]
    },
    {
     "name": "stdout",
     "output_type": "stream",
     "text": [
      "('PERSON', 'Siegried Sassoon', 'en_core_web_md')\n"
     ]
    },
    {
     "name": "stdin",
     "output_type": "stream",
     "text": [
      "1 if it's OK, add the correct tag if not:  1\n"
     ]
    },
    {
     "name": "stdout",
     "output_type": "stream",
     "text": [
      "('FAC', 'Heytesbury House', 'en_core_web_md')\n"
     ]
    },
    {
     "name": "stdin",
     "output_type": "stream",
     "text": [
      "1 if it's OK, add the correct tag if not:  ORG\n"
     ]
    },
    {
     "name": "stdout",
     "output_type": "stream",
     "text": [
      "('GPE', 'Wiltshire', 'en_core_web_md')\n"
     ]
    },
    {
     "name": "stdin",
     "output_type": "stream",
     "text": [
      "1 if it's OK, add the correct tag if not:  1\n"
     ]
    },
    {
     "name": "stdout",
     "output_type": "stream",
     "text": [
      "('PERSON', 'George Sassoon', 'en_core_web_md')\n"
     ]
    },
    {
     "name": "stdin",
     "output_type": "stream",
     "text": [
      "1 if it's OK, add the correct tag if not:  1\n"
     ]
    },
    {
     "name": "stdout",
     "output_type": "stream",
     "text": [
      "('GPE', 'Edinburgh', 'en_core_web_md')\n"
     ]
    },
    {
     "name": "stdin",
     "output_type": "stream",
     "text": [
      "1 if it's OK, add the correct tag if not:  1\n"
     ]
    },
    {
     "name": "stdout",
     "output_type": "stream",
     "text": [
      "('GPE', 'Feldman', 'en_core_web_md')\n"
     ]
    },
    {
     "name": "stdin",
     "output_type": "stream",
     "text": [
      "1 if it's OK, add the correct tag if not:  PERSON\n"
     ]
    },
    {
     "name": "stdout",
     "output_type": "stream",
     "text": [
      "('PERSON', 'Albert Spaulding', 'en_core_web_md')\n"
     ]
    },
    {
     "name": "stdin",
     "output_type": "stream",
     "text": [
      "1 if it's OK, add the correct tag if not:  1\n"
     ]
    },
    {
     "name": "stdout",
     "output_type": "stream",
     "text": [
      "('GPE', 'Pittsfield', 'en_core_web_md')\n"
     ]
    },
    {
     "name": "stdin",
     "output_type": "stream",
     "text": [
      "1 if it's OK, add the correct tag if not:  1\n"
     ]
    },
    {
     "name": "stdout",
     "output_type": "stream",
     "text": [
      "('ORG', 'The Berkshire Museum', 'en_core_web_md')\n"
     ]
    },
    {
     "name": "stdin",
     "output_type": "stream",
     "text": [
      "1 if it's OK, add the correct tag if not:  1\n"
     ]
    },
    {
     "name": "stdout",
     "output_type": "stream",
     "text": [
      "('PERSON', 'Pittsfield', 'en_core_web_md')\n"
     ]
    },
    {
     "name": "stdin",
     "output_type": "stream",
     "text": [
      "1 if it's OK, add the correct tag if not:  GPE\n"
     ]
    },
    {
     "name": "stdout",
     "output_type": "stream",
     "text": [
      "('GPE', 'Bar Harbor', 'en_core_web_md')\n"
     ]
    },
    {
     "name": "stdin",
     "output_type": "stream",
     "text": [
      "1 if it's OK, add the correct tag if not:  1\n"
     ]
    },
    {
     "name": "stdout",
     "output_type": "stream",
     "text": [
      "('ORG', 'Seal Harbor', 'de_core_news_sm')\n"
     ]
    },
    {
     "name": "stdin",
     "output_type": "stream",
     "text": [
      "1 if it's OK, add the correct tag if not:  GPE\n"
     ]
    },
    {
     "name": "stdout",
     "output_type": "stream",
     "text": [
      "('ORG', 'CORD', 'en_core_web_md')\n"
     ]
    },
    {
     "name": "stdin",
     "output_type": "stream",
     "text": [
      "1 if it's OK, add the correct tag if not:  OTHER\n"
     ]
    },
    {
     "name": "stdout",
     "output_type": "stream",
     "text": [
      "('PERSON', 'Richard H. Cord', 'en_core_web_md')\n"
     ]
    },
    {
     "name": "stdin",
     "output_type": "stream",
     "text": [
      "1 if it's OK, add the correct tag if not:  1\n"
     ]
    },
    {
     "name": "stdout",
     "output_type": "stream",
     "text": [
      "('PERSON', 'K. Woodard', 'lt_core_news_sm')\n"
     ]
    },
    {
     "name": "stdin",
     "output_type": "stream",
     "text": [
      "1 if it's OK, add the correct tag if not:  1\n"
     ]
    },
    {
     "name": "stdout",
     "output_type": "stream",
     "text": [
      "('ORG', 'Northeast Auctions', 'en_core_web_md')\n"
     ]
    },
    {
     "name": "stdin",
     "output_type": "stream",
     "text": [
      "1 if it's OK, add the correct tag if not:  1\n"
     ]
    },
    {
     "name": "stdout",
     "output_type": "stream",
     "text": [
      "('GPE', 'Manchester', 'en_core_web_md')\n"
     ]
    },
    {
     "name": "stdin",
     "output_type": "stream",
     "text": [
      "1 if it's OK, add the correct tag if not:  1\n"
     ]
    },
    {
     "name": "stdout",
     "output_type": "stream",
     "text": [
      "('GPE', 'New Hampshire', 'en_core_web_md')\n"
     ]
    },
    {
     "name": "stdin",
     "output_type": "stream",
     "text": [
      "1 if it's OK, add the correct tag if not:  1\n"
     ]
    },
    {
     "name": "stdout",
     "output_type": "stream",
     "text": [
      "('PERSON', 'Susan', 'en_core_web_md')\n"
     ]
    },
    {
     "name": "stdin",
     "output_type": "stream",
     "text": [
      "1 if it's OK, add the correct tag if not:  1\n"
     ]
    },
    {
     "name": "stdout",
     "output_type": "stream",
     "text": [
      "('PERSON', 'Raymond Egan', 'en_core_web_md')\n"
     ]
    },
    {
     "name": "stdin",
     "output_type": "stream",
     "text": [
      "1 if it's OK, add the correct tag if not:  1\n"
     ]
    },
    {
     "name": "stdout",
     "output_type": "stream",
     "text": [
      "('GPE', 'Galerie 41', 'de_core_news_sm')\n"
     ]
    },
    {
     "name": "stdin",
     "output_type": "stream",
     "text": [
      "1 if it's OK, add the correct tag if not:  ORG\n"
     ]
    },
    {
     "name": "stdout",
     "output_type": "stream",
     "text": [
      "('PERSON', 'Galerie', 'zh_core_web_sm')\n"
     ]
    },
    {
     "name": "stdin",
     "output_type": "stream",
     "text": [
      "1 if it's OK, add the correct tag if not:  ORG\n"
     ]
    },
    {
     "name": "stdout",
     "output_type": "stream",
     "text": [
      "('PERSON', 'H. Mansour Collection', 'en_core_web_md')\n"
     ]
    },
    {
     "name": "stdin",
     "output_type": "stream",
     "text": [
      "1 if it's OK, add the correct tag if not:  ORG\n"
     ]
    },
    {
     "name": "stdout",
     "output_type": "stream",
     "text": [
      "('PERSON', 'Tim D. Wright Master Drawings', 'en_core_web_md')\n"
     ]
    },
    {
     "name": "stdin",
     "output_type": "stream",
     "text": [
      "1 if it's OK, add the correct tag if not:  OTHER\n"
     ]
    },
    {
     "name": "stdout",
     "output_type": "stream",
     "text": [
      "('PERSON', 'David Jones', 'en_core_web_md')\n"
     ]
    },
    {
     "name": "stdin",
     "output_type": "stream",
     "text": [
      "1 if it's OK, add the correct tag if not:  1\n"
     ]
    },
    {
     "name": "stdout",
     "output_type": "stream",
     "text": [
      "('GPE', 'SYDNEY', 'en_core_web_md')\n"
     ]
    },
    {
     "name": "stdin",
     "output_type": "stream",
     "text": [
      "1 if it's OK, add the correct tag if not:  1\n"
     ]
    },
    {
     "name": "stdout",
     "output_type": "stream",
     "text": [
      "('ORG', 'Fine and Decorative Art', 'en_core_web_md')\n"
     ]
    },
    {
     "name": "stdin",
     "output_type": "stream",
     "text": [
      "1 if it's OK, add the correct tag if not:  1\n"
     ]
    },
    {
     "name": "stdout",
     "output_type": "stream",
     "text": [
      "('GPE', 'Lempertz', 'de_core_news_sm')\n"
     ]
    },
    {
     "name": "stdin",
     "output_type": "stream",
     "text": [
      "1 if it's OK, add the correct tag if not:  1\n"
     ]
    },
    {
     "name": "stdout",
     "output_type": "stream",
     "text": [
      "('ORG', 'G. McKinley Collection', 'en_core_web_md')\n"
     ]
    },
    {
     "name": "stdin",
     "output_type": "stream",
     "text": [
      "1 if it's OK, add the correct tag if not:  1\n"
     ]
    },
    {
     "name": "stdout",
     "output_type": "stream",
     "text": [
      "('ORG', 'nbr', 'en_core_web_md')\n"
     ]
    },
    {
     "name": "stdin",
     "output_type": "stream",
     "text": [
      "1 if it's OK, add the correct tag if not:  OTHER\n"
     ]
    },
    {
     "name": "stdout",
     "output_type": "stream",
     "text": [
      "('PERSON', 'Bonham', 'en_core_web_md')\n"
     ]
    },
    {
     "name": "stdin",
     "output_type": "stream",
     "text": [
      "1 if it's OK, add the correct tag if not:  ORG\n"
     ]
    },
    {
     "name": "stdout",
     "output_type": "stream",
     "text": [
      "('PERSON', 'Dikran Kelekian', 'en_core_web_md')\n"
     ]
    },
    {
     "name": "stdin",
     "output_type": "stream",
     "text": [
      "1 if it's OK, add the correct tag if not:  1\n"
     ]
    },
    {
     "name": "stdout",
     "output_type": "stream",
     "text": [
      "('PERSON', 'Ellen Moeller', 'en_core_web_md')\n"
     ]
    },
    {
     "name": "stdin",
     "output_type": "stream",
     "text": [
      "1 if it's OK, add the correct tag if not:  1\n"
     ]
    },
    {
     "name": "stdout",
     "output_type": "stream",
     "text": [
      "('ORG', 'Pennsylvania Private Collection', 'en_core_web_md')\n"
     ]
    },
    {
     "name": "stdin",
     "output_type": "stream",
     "text": [
      "1 if it's OK, add the correct tag if not:  1\n"
     ]
    },
    {
     "name": "stdout",
     "output_type": "stream",
     "text": [
      "('PERSON', 'Alexander Schreiber', 'en_core_web_md')\n"
     ]
    },
    {
     "name": "stdin",
     "output_type": "stream",
     "text": [
      "1 if it's OK, add the correct tag if not:  1\n"
     ]
    },
    {
     "name": "stdout",
     "output_type": "stream",
     "text": [
      "('PERSON', 'Possibly Loed van Bussel', 'en_core_web_md')\n"
     ]
    },
    {
     "name": "stdin",
     "output_type": "stream",
     "text": [
      "1 if it's OK, add the correct tag if not:  1\n"
     ]
    },
    {
     "name": "stdout",
     "output_type": "stream",
     "text": [
      "('PERSON', 'Cornelis Pieter Meulendijk', 'en_core_web_md')\n"
     ]
    },
    {
     "name": "stdin",
     "output_type": "stream",
     "text": [
      "1 if it's OK, add the correct tag if not:  1\n"
     ]
    },
    {
     "name": "stdout",
     "output_type": "stream",
     "text": [
      "('GPE', 'Rotterdam', 'en_core_web_md')\n"
     ]
    },
    {
     "name": "stdin",
     "output_type": "stream",
     "text": [
      "1 if it's OK, add the correct tag if not:  1\n"
     ]
    },
    {
     "name": "stdout",
     "output_type": "stream",
     "text": [
      "('ORG', 'The Meulendijk Collection of Tribal Art', 'en_core_web_md')\n"
     ]
    },
    {
     "name": "stdin",
     "output_type": "stream",
     "text": [
      "1 if it's OK, add the correct tag if not:  1\n"
     ]
    },
    {
     "name": "stdout",
     "output_type": "stream",
     "text": [
      "('PERSON', 'Ben Heller', 'en_core_web_md')\n"
     ]
    },
    {
     "name": "stdin",
     "output_type": "stream",
     "text": [
      "1 if it's OK, add the correct tag if not:  1\n"
     ]
    },
    {
     "name": "stdout",
     "output_type": "stream",
     "text": [
      "('PERSON', 'Antiquair K. Grusenmeyer', 'en_core_web_md')\n"
     ]
    },
    {
     "name": "stdin",
     "output_type": "stream",
     "text": [
      "1 if it's OK, add the correct tag if not:  ORG\n"
     ]
    },
    {
     "name": "stdout",
     "output_type": "stream",
     "text": [
      "('ORG', 'Henningsen Collection', 'de_core_news_sm')\n"
     ]
    },
    {
     "name": "stdin",
     "output_type": "stream",
     "text": [
      "1 if it's OK, add the correct tag if not:  1\n"
     ]
    },
    {
     "name": "stdout",
     "output_type": "stream",
     "text": [
      "('PERSON', 'Zakaria Collection', 'en_core_web_md')\n"
     ]
    },
    {
     "name": "stdin",
     "output_type": "stream",
     "text": [
      "1 if it's OK, add the correct tag if not:  1\n"
     ]
    },
    {
     "name": "stdout",
     "output_type": "stream",
     "text": [
      "('PERSON', 'Hadji Baba', 'en_core_web_md')\n"
     ]
    },
    {
     "name": "stdin",
     "output_type": "stream",
     "text": [
      "1 if it's OK, add the correct tag if not:  1\n"
     ]
    },
    {
     "name": "stdout",
     "output_type": "stream",
     "text": [
      "('PERSON', 'Anthony Jacobs', 'en_core_web_md')\n"
     ]
    },
    {
     "name": "stdin",
     "output_type": "stream",
     "text": [
      "1 if it's OK, add the correct tag if not:  1\n"
     ]
    },
    {
     "name": "stdout",
     "output_type": "stream",
     "text": [
      "('PERSON', 'Wilhelm Horn', 'en_core_web_md')\n"
     ]
    },
    {
     "name": "stdin",
     "output_type": "stream",
     "text": [
      "1 if it's OK, add the correct tag if not:  1\n"
     ]
    },
    {
     "name": "stdout",
     "output_type": "stream",
     "text": [
      "[('ORG', \"Christie's Los Angeles\", 1, 'ORG', 'en_core_web_md'), ('ORG', 'Myth', 0, 'OTHER', 'en_core_web_md'), ('NORP', 'Chinese', 1, 'NORP', 'en_core_web_md'), ('PERSON', 'Julius Eberhardt', 1, 'PERSON', 'en_core_web_md'), ('GPE', 'Nagel Stuttgart', 1, 'GPE', 'en_core_web_md'), ('FAC', '洛杉磯佳士得', 1, 'FAC', 'zh_core_web_sm'), ('WORK_OF_ART', 'Myth and Reality', 1, 'WORK_OF_ART', 'zh_core_web_sm'), ('PERSON', '朱利思∙', 1, 'PERSON', 'zh_core_web_sm'), ('PERSON', '艾伯哈特', 1, 'PERSON', 'zh_core_web_sm'), ('ORG', \"Sotheby's Hong Kong\", 1, 'ORG', 'en_core_web_md'), ('ORG', \"Sotheby's\", 1, 'ORG', 'en_core_web_md'), ('GPE', 'Paris', 1, 'GPE', 'en_core_web_md'), ('PERSON', 'Karim Grusenmeyer', 1, 'PERSON', 'en_core_web_md'), ('ORG', \"Sotheby's New York\", 1, 'ORG', 'en_core_web_md'), ('PERSON', 'Abraham Rosman', 1, 'PERSON', 'en_core_web_md'), ('PERSON', 'Paula Rubel', 1, 'PERSON', 'en_core_web_md'), ('GPE', 'New York', 1, 'GPE', 'en_core_web_md'), ('ORG', \"Christie's\", 1, 'ORG', 'en_core_web_md'), ('GPE', 'Wisconsin', 1, 'GPE', 'de_core_news_sm'), ('GPE', 'Cairo', 1, 'GPE', 'de_core_news_sm'), ('PERSON', 'Frederick Henry von Schleinitz', 1, 'PERSON', 'en_core_web_md'), ('OTHER', 'December 1982', 0, 'DATE', 'fr_core_news_sm'), ('OTHER', 'December 1992', 0, 'DATE', 'fr_core_news_sm'), ('ORG', 'Private Collection', 1, 'ORG', 'en_core_web_md'), ('GPE', 'U.S.', 1, 'GPE', 'en_core_web_md'), ('ORG', 'American Private Collection', 1, 'ORG', 'en_core_web_md'), ('ORG', 'PRINCELY', 0, 'OTHER', 'en_core_web_md'), ('PERSON', 'Marcel Bissey', 1, 'PERSON', 'en_core_web_md'), ('ORG', 'Leonard Hutton Galleries', 1, 'ORG', 'en_core_web_md'), ('PERSON', 'Emmanuel Moatti', 1, 'PERSON', 'en_core_web_md'), ('ORG', 'Collection Mrs', 1, 'ORG', 'nl_core_news_sm'), ('GPE', 'Laren', 1, 'GPE', 'nl_core_news_sm'), ('FAC', 'B004', 0, 'OTHER', 'nl_core_news_sm'), ('GPE', 'n°', 0, 'OTHER', 'en_core_web_md'), ('ORG', 'European Private Collection', 1, 'ORG', 'en_core_web_md'), ('GPE', 'London', 1, 'GPE', 'en_core_web_md'), ('GPE', 'UK', 1, 'GPE', 'en_core_web_md'), ('PERSON', 'Robert Bloch', 1, 'PERSON', 'sv_core_news_sm'), ('GPE', 'Munich', 1, 'GPE', 'en_core_web_md'), ('PERSON', 'Alexandre Iolas', 1, 'PERSON', 'en_core_web_md'), ('ORG', \"Sotheby's London\", 1, 'ORG', 'en_core_web_md'), ('ORG', \"Christie's East New York\", 1, 'ORG', 'en_core_web_md'), ('LANGUAGE', 'Filipino', 0, 'PERSON', 'en_core_web_md'), ('ORG', 'Kerr Collection', 1, 'ORG', 'en_core_web_md'), ('PERSON', 'Charles Ede', 1, 'PERSON', 'en_core_web_md'), ('PERSON', 'Quincy Chuang', 1, 'PERSON', 'en_core_web_md'), ('PERSON', 'Maurice Bonnefoy', 1, 'PERSON', 'en_core_web_md'), ('ORG', \"D'Arcy Galleries\", 1, 'ORG', 'en_core_web_md'), ('PERSON', 'James Barzyk', 1, 'PERSON', 'pl_core_news_sm'), ('GPE', 'Chicago', 1, 'GPE', 'pl_core_news_sm'), ('PERSON', 'Alex Philips', 1, 'PERSON', 'en_core_web_md'), ('GPE', 'Melbourne', 1, 'GPE', 'en_core_web_md'), ('PERSON', 'Susan Kloman', 1, 'PERSON', 'en_core_web_md'), ('ORG', 'the Museum of Fine Arts', 1, 'ORG', 'en_core_web_md'), ('GPE', 'Boston', 1, 'GPE', 'en_core_web_md'), ('GPE', 'USA', 1, 'GPE', 'en_core_web_md'), ('GPE', 'Petit Musée', 0, 'ORG', 'fr_core_news_sm'), ('GPE', 'Montreal', 1, 'GPE', 'fr_core_news_sm'), ('PRODUCT', 'Cinq-Mars', 0, 'OTHER', 'en_core_web_md'), ('GPE', 'Canada', 1, 'GPE', 'en_core_web_md'), ('PERSON', 'Spier', 1, 'PERSON', 'en_core_web_md'), ('PERSON', 'Wou Kiuan', 1, 'PERSON', 'en_core_web_md'), ('PERSON', 'Wou Lien-Pai Museum', 1, 'PERSON', 'en_core_web_md'), ('NORP', 'German', 1, 'NORP', 'en_core_web_md'), ('ORG', 'S. Marchant & Son', 1, 'ORG', 'en_core_web_md'), ('OTHER', 'Sui Yuan', 0, 'PERSON', 'fr_core_news_sm'), ('ORG', \"Christie's London\", 1, 'ORG', 'en_core_web_md'), ('GPE', 'U.S', 1, 'GPE', 'en_core_web_md'), ('GPE', 'Arte Primitivo', 0, 'ORG', 'en_core_web_md'), ('GPE', 'Hong Kong', 1, 'GPE', 'en_core_web_md'), ('PERSON', 'John J. Klejman', 1, 'PERSON', 'en_core_web_md'), ('ORG', 'Martin', 0, 'PERSON', 'en_core_web_md'), ('PERSON', 'Giovanni Vincitore Ruggiero', 1, 'PERSON', 'en_core_web_md'), ('GPE', 'Brooklyn', 1, 'GPE', 'en_core_web_md'), ('PERSON', 'Mabel Markey', 1, 'PERSON', 'en_core_web_md'), ('PERSON', 'John Joseph Ruggiero', 1, 'PERSON', 'en_core_web_md'), ('GPE', 'Queens', 1, 'GPE', 'en_core_web_md'), ('PERSON', 'Agnes Dympna', 1, 'PERSON', 'en_core_web_md'), ('PERSON', 'McKenna', 1, 'PERSON', 'fi_core_news_sm'), ('ORG', 'Queens', 0, 'GPE', 'fi_core_news_sm'), ('ORG', 'MIAMI', 0, 'GPE', 'en_core_web_md'), ('PERSON', 'Ernst Langlotz', 1, 'PERSON', 'en_core_web_md'), ('GPE', 'Bonn', 1, 'GPE', 'en_core_web_md'), ('PERSON', 'Cahn', 1, 'PERSON', 'en_core_web_md'), ('GPE', 'Basel', 1, 'GPE', 'en_core_web_md'), ('ORG', 'Royal-Athena Galleries', 1, 'ORG', 'en_core_web_md'), ('ORG', 'XII', 0, 'NUMBER', 'en_core_web_md'), ('PERSON', 'Kofler', 1, 'PERSON', 'en_core_web_md'), ('PERSON', 'JM Béalu et fils', 1, 'PERSON', 'en_core_web_md'), ('PERSON', 'Joseph Hume', 1, 'PERSON', 'en_core_web_md'), ('PERSON', 'John Bedford', 1, 'PERSON', 'en_core_web_md'), ('PERSON', 'William Philip Molyneux', 1, 'PERSON', 'en_core_web_md'), ('PERSON', '4th Earl', 1, 'PERSON', 'en_core_web_md'), ('PERSON', 'Sefton', 1, 'PERSON', 'en_core_web_md'), ('OTHER', 'Galerie Démons', 0, 'ORG', 'fr_core_news_sm'), ('GPE', 'Merveilles', 0, 'OTHER', 'fr_core_news_sm'), ('NORP', 'Belgian', 1, 'NORP', 'en_core_web_md'), ('ORG', 'Charles Ede Ltd', 1, 'ORG', 'en_core_web_md'), ('GPE', 'Lonsdale', 1, 'GPE', 'en_core_web_md'), ('GPE', 'Westmoreland', 1, 'GPE', 'en_core_web_md'), ('PERSON', 'Lowther Castle', 0, 'ORG', 'en_core_web_md'), ('ORG', 'London Market', 1, 'ORG', 'en_core_web_md'), ('ORG', 'Florida Private Collection', 1, 'ORG', 'es_core_news_sm'), ('FAC', 'the Tuyet Nguyet', 0, 'ORG', 'en_core_web_md'), ('PERSON', 'Stephen Markbreiter Collection', 1, 'PERSON', 'en_core_web_md'), ('ORG', 'Earl of Sandwich', 1, 'ORG', 'en_core_web_md'), ('GPE', 'U.K.', 1, 'GPE', 'en_core_web_md'), ('PERSON', 'Mathias Komor', 1, 'PERSON', 'en_core_web_md'), ('PERSON', 'Mathilda Goldman', 1, 'PERSON', 'en_core_web_md'), ('GPE', \"Christie'\", 0, 'ORG', 'fr_core_news_sm'), ('OTHER', 'December 2001', 0, 'DATE', 'fr_core_news_sm'), ('OTHER', 'December 2002', 0, 'DATE', 'fr_core_news_sm'), ('PERSON', 'Barakat Antiquities', 0, 'ORG', 'en_core_web_md'), ('GPE', 'Jerusalem', 1, 'GPE', 'en_core_web_md'), ('PERSON', 'David Garth', 1, 'PERSON', 'en_core_web_md'), ('OTHER', 'Private collection', 1, 'OTHER', 'es_core_news_sm'), ('ORG', 'Corte Madera', 1, 'ORG', 'es_core_news_sm'), ('GPE', 'California', 1, 'GPE', 'es_core_news_sm'), ('PERSON', 'Susan Warner', 1, 'PERSON', 'en_core_web_md'), ('ORG', 'Butterfield & Butterfield', 1, 'ORG', 'en_core_web_md'), ('GPE', 'San Francisco', 1, 'GPE', 'en_core_web_md'), ('GPE', 'Israel', 1, 'GPE', 'en_core_web_md'), ('ORG', 'LUGGALA', 0, 'GPE', 'en_core_web_md'), ('ORG', 'HON', 0, 'OTHER', 'en_core_web_md'), ('GPE', 'Switzerland', 1, 'GPE', 'en_core_web_md'), ('ORG', 'GENTLEMAN', 1, 'ORG', 'en_core_web_md'), ('PERSON', 'Henry Pelham', 1, 'PERSON', 'en_core_web_md'), ('PERSON', 'Archibald Douglas Pelham-Clinton', 1, 'PERSON', 'en_core_web_md'), ('GPE', 'Newcastle', 1, 'GPE', 'en_core_web_md'), ('GPE', 'Clumber Park', 1, 'GPE', 'en_core_web_md'), ('GPE', 'Nottinghamshire', 1, 'GPE', 'en_core_web_md'), ('ORG', 'Lincoln', 0, 'GPE', 'en_core_web_md'), ('PERSON', 'Henry Francis Hope Pelham-Clinton-Hope', 1, 'PERSON', 'en_core_web_md'), ('ORG', 'Christie’s', 1, 'ORG', 'en_core_web_md'), ('NORP', 'Heape', 0, 'PERSON', 'en_core_web_md'), ('NORP', 'French', 1, 'NORP', 'en_core_web_md'), ('GPE', '巴黎', 1, 'GPE', 'zh_core_web_sm'), ('PERSON', 'Nathaniel Clements', 1, 'PERSON', 'en_core_web_md'), ('PERSON', '2nd Earl', 1, 'PERSON', 'en_core_web_md'), ('GPE', 'Leitrim', 1, 'GPE', 'en_core_web_md'), ('ORG', 'KP', 0, 'OTHER', 'en_core_web_md'), ('PERSON', 'KILLADOON HOUSE', 0, 'ORG', 'en_core_web_md'), ('ORG', 'CRG Gallery', 1, 'ORG', 'en_core_web_md'), ('OTHER', 'English', 0, 'NORP', 'it_core_news_sm'), ('ORG', 'Clarks Auction', 1, 'ORG', 'en_core_web_md'), ('GPE', 'Liskaerd Cornwall', 1, 'GPE', 'en_core_web_md'), ('PERSON', 'Edric van Vredenburgh Collection', 1, 'PERSON', 'en_core_web_md'), ('ORG', 'Liskaerd, Cornouailles', 0, 'GPE', 'en_core_web_md'), ('ORG', \"Christie's Hong Kong\", 1, 'ORG', 'en_core_web_md'), ('GPE', '香港', 1, 'GPE', 'zh_core_web_sm'), ('NORP', 'Dutch', 1, 'NORP', 'en_core_web_md'), ('PERSON', 'Samuel P. Avery', 1, 'PERSON', 'en_core_web_md'), ('ORG', 'the Brooklyn Museum', 1, 'ORG', 'en_core_web_md'), ('GPE', '布魯克林', 1, 'GPE', 'zh_core_web_sm'), ('PERSON', '布魯克林', 0, 'GPE', 'zh_core_web_sm'), ('PERSON', 'George Terasaki', 1, 'PERSON', 'en_core_web_md'), ('ORG', 'Hotspur Ltd', 1, 'ORG', 'en_core_web_md'), ('ORG', 'Mallett & Son Ltd.', 1, 'ORG', 'en_core_web_md'), ('GPE', 'Europe', 1, 'GPE', 'en_core_web_md'), ('ORG', 'Dominique Thirion Gallery', 1, 'ORG', 'en_core_web_md'), ('GPE', 'Brussels', 1, 'GPE', 'en_core_web_md'), ('PERSON', 'Alfred E. Mirsky', 1, 'PERSON', 'en_core_web_md'), ('PERSON', 'Kurt Deppert', 1, 'PERSON', 'en_core_web_md'), ('GPE', 'Frankfurt', 1, 'GPE', 'en_core_web_md'), ('GPE', 'Germany', 1, 'GPE', 'en_core_web_md'), ('PERSON', 'Elie Borowski', 1, 'PERSON', 'en_core_web_md'), ('FAC', 'Collection Particulière', 0, 'ORG', 'zh_core_web_sm'), ('ORG', 'CHINE', 0, 'NORP', 'zh_core_web_sm'), ('PERSON', 'Oranmore', 0, 'GPE', 'en_core_web_md'), ('PERSON', 'Browne K.P.', 1, 'PERSON', 'en_core_web_md'), ('GPE', 'Exton Park', 1, 'GPE', 'en_core_web_md'), ('GPE', 'Rutland', 1, 'GPE', 'en_core_web_md'), ('ORG', 'ROSALINDE', 0, 'PERSON', 'en_core_web_md'), ('GPE', 'Syon Lodge', 1, 'GPE', 'en_core_web_md'), ('ORG', 'New York Private Collection', 1, 'ORG', 'en_core_web_md'), ('ORG', 'New York Art Market', 1, 'ORG', 'en_core_web_md'), ('OTHER', 'Zurich 12 May', 0, 'DATE', 'de_core_news_sm'), ('ORG', 'Viktor & Edit Baerlocher', 1, 'ORG', 'en_core_web_md'), ('GPE', 'Vienna', 1, 'GPE', 'en_core_web_md'), ('GPE', 'Gallen', 1, 'GPE', 'en_core_web_md'), ('ORG', 'Yamanaka & Company', 1, 'ORG', 'en_core_web_md'), ('GPE', 'Osaka', 1, 'GPE', 'en_core_web_md'), ('PERSON', 'William Cary', 1, 'PERSON', 'en_core_web_md'), ('PERSON', 'Lois Crane', 1, 'PERSON', 'en_core_web_md'), ('GPE', '大阪', 1, 'GPE', 'zh_core_web_sm'), ('PERSON', 'Hei Hung-Lu', 1, 'PERSON', 'en_core_web_md'), ('PERSON', 'Giorgio Sangiorgi', 1, 'PERSON', 'en_core_web_md'), ('GPE', 'Rome', 1, 'GPE', 'en_core_web_md'), ('OTHER', 'April 2010', 0, 'DATE', 'fr_core_news_sm'), ('GPE', '3653', 0, 'NUMBER', 'en_core_web_md'), ('PERSON', 'Cornelius Vermeule', 1, 'PERSON', 'en_core_web_md'), ('GPE', 'Cambridge', 1, 'GPE', 'en_core_web_md'), ('GPE', 'MA', 1, 'GPE', 'en_core_web_md'), ('ORG', 'Hurst Gallery', 1, 'ORG', 'en_core_web_md'), ('ORG', 'Sotheby’s', 1, 'ORG', 'en_core_web_md'), ('ORG', 'the Elizabeth A. Keck Collection', 1, 'ORG', 'en_core_web_md'), ('ORG', 'Luxe', 1, 'ORG', 'en_core_web_md'), ('ORG', 'Antiquarium', 1, 'ORG', 'en_core_web_md'), ('PERSON', 'Denny Pinkus', 1, 'PERSON', 'en_core_web_md'), ('GPE', 'Jaffa', 1, 'GPE', 'en_core_web_md'), ('ORG', 'Fortuna Fine Arts', 1, 'ORG', 'en_core_web_md'), ('ORG', 'New York Private Collector', 1, 'ORG', 'en_core_web_md'), ('PERSON', 'Robert Deutch', 1, 'PERSON', 'en_core_web_md'), ('ORG', 'Archaeological Center', 1, 'ORG', 'en_core_web_md'), ('GPE', 'Tel Aviv', 1, 'GPE', 'en_core_web_md'), ('PERSON', 'Ralph M', 1, 'PERSON', 'zh_core_web_sm'), ('PERSON', 'Kurokawa', 1, 'PERSON', 'en_core_web_md'), ('GPE', 'Japan', 1, 'GPE', 'en_core_web_md'), ('ORG', 'Sotheby Parke Bernet Inc', 1, 'ORG', 'en_core_web_md'), ('GPE', 'Minneapolis', 1, 'GPE', 'en_core_web_md'), ('GPE', 'U.S.A.', 1, 'GPE', 'en_core_web_md'), ('PERSON', 'Thomas Barlow Walker', 1, 'PERSON', 'en_core_web_md'), ('NORP', 'Japanese', 1, 'NORP', 'en_core_web_md'), ('ORG', 'the Aoyama Studio Collection', 1, 'ORG', 'en_core_web_md'), ('GPE', '日本', 1, 'GPE', 'zh_core_web_sm'), ('ORG', 'the De An Tang Collection', 1, 'ORG', 'en_core_web_md'), ('PERSON', '德安堂藏玉', 1, 'PERSON', 'en_core_web_md'), ('GPE', 'Lebanon', 1, 'GPE', 'en_core_web_md'), ('GPE', 'Beirut', 1, 'GPE', 'en_core_web_md'), ('GPE', 'Geneva', 1, 'GPE', 'en_core_web_md'), ('NORP', 'European', 1, 'NORP', 'en_core_web_md'), ('PERSON', 'Ramos Studio', 1, 'PERSON', 'lt_core_news_sm'), ('PERSON', 'Oakland', 0, 'GPE', 'lt_core_news_sm'), ('ORG', 'March', 0, 'DATE', 'de_core_news_sm'), ('ORG', 'Japanese Private Collection', 1, 'ORG', 'es_core_news_sm'), ('OTHER', 'Mandi royal collection', 0, 'ORG', 'it_core_news_sm'), ('PERSON', 'Theodore Graf', 1, 'PERSON', 'en_core_web_md'), ('GPE', 'Austria', 1, 'GPE', 'en_core_web_md'), ('ORG', 'Austrian Private Collection', 1, 'ORG', 'en_core_web_md'), ('PERSON', 'Kai-Yin Lo 羅啟姸收藏', 1, 'PERSON', 'en_core_web_md'), ('ORG', 'the Hagop Kevorkian Fund', 1, 'ORG', 'en_core_web_md'), ('PERSON', 'Fine Oriental Manuscripts', 0, 'ORG', 'en_core_web_md'), ('PERSON', 'Magdeleine Blanche', 1, 'PERSON', 'en_core_web_md'), ('PERSON', 'Nolie Croset', 1, 'PERSON', 'en_core_web_md'), ('GPE', 'France', 1, 'GPE', 'en_core_web_md'), ('PERSON', 'Richard Burnett', 1, 'PERSON', 'en_core_web_md'), ('PERSON', 'J. Sam Houston', 1, 'PERSON', 'en_core_web_md'), ('PERSON', 'Adonna Houston', 1, 'PERSON', 'en_core_web_md'), ('ORG', 'Gentry Dog', 1, 'ORG', 'en_core_web_md'), ('GPE', 'Long Beach', 1, 'GPE', 'en_core_web_md'), ('PERSON', 'Larry Mooney', 1, 'PERSON', 'en_core_web_md'), ('PERSON', 'Popo DeBathe', 1, 'PERSON', 'en_core_web_md'), ('GPE', 'Virginia', 1, 'GPE', 'en_core_web_md'), ('PERSON', 'Lynne Bell', 1, 'PERSON', 'en_core_web_md'), ('GPE', 'Iowa', 1, 'GPE', 'en_core_web_md'), ('NORP', 'JAMIESON', 0, 'ORG', 'en_core_web_md'), ('PERSON', 'Billy Jamieson', 1, 'PERSON', 'en_core_web_md'), ('GPE', 'Toronto', 1, 'GPE', 'en_core_web_md'), ('ORG', 'Schoonover Studios Ltd', 1, 'ORG', 'es_core_news_sm'), ('ORG', 'Rossi & Rossi Ltd, London', 1, 'ORG', 'it_core_news_sm'), ('OTHER', 'December 1995', 0, 'DATE', 'it_core_news_sm'), ('PERSON', 'Rossi', 1, 'PERSON', 'zh_core_web_sm'), ('PERSON', 'C.T. Loo', 0, 'ORG', 'en_core_web_md'), ('ORG', 'Private Library', 1, 'ORG', 'en_core_web_md'), ('PERSON', 'Frank Caro', 1, 'PERSON', 'en_core_web_md'), ('PERSON', '盧芹齋', 1, 'PERSON', 'zh_core_web_sm'), ('ORG', 'London', 0, 'GPE', 'it_core_news_sm'), ('PERSON', 'Sleiman Aboutaam', 1, 'PERSON', 'en_core_web_md'), ('PERSON', 'Charles Pankow', 1, 'PERSON', 'en_core_web_md'), ('ORG', 'Sotheby’s Parke Bernet', 1, 'ORG', 'en_core_web_md'), ('GPE', 'Egypt', 1, 'GPE', 'en_core_web_md'), ('PERSON', 'K. A. Moosberg', 1, 'PERSON', 'en_core_web_md'), ('PERSON', 'Elsa Bloch-Diener', 1, 'PERSON', 'en_core_web_md'), ('ORG', 'Bern', 1, 'ORG', 'en_core_web_md'), ('OTHER', 'Surena collection', 0, 'ORG', 'it_core_news_sm'), ('PERSON', 'Edward I. Farmer', 1, 'PERSON', 'en_core_web_md'), ('GPE', 'New Jersey', 1, 'GPE', 'en_core_web_md'), ('ORG', 'Delbeke House', 1, 'ORG', 'en_core_web_md'), ('GPE', 'Antwerp', 1, 'GPE', 'en_core_web_md'), ('PERSON', 'Christopher Sheppard', 1, 'PERSON', 'en_core_web_md'), ('PERSON', 'José Felipe de Alcover', 1, 'PERSON', 'en_core_web_md'), ('PERSON', 'Sureda', 1, 'PERSON', 'en_core_web_md'), ('PERSON', 'kilga', 0, 'OTHER', 'en_core_web_md'), ('WORK_OF_ART', 'Sureda', 0, 'OTHER', 'en_core_web_md'), ('GPE', 'the Middle East', 1, 'GPE', 'en_core_web_md'), ('NORP', 'Spanish', 1, 'NORP', 'en_core_web_md'), ('ORG', 'Foreign Affairs', 1, 'ORG', 'en_core_web_md'), ('ORG', 'Consul-General', 1, 'ORG', 'en_core_web_md'), ('ORG', 'Surena', 0, 'OTHER', 'en_core_web_md'), ('GPE', 'Rabat', 1, 'GPE', 'en_core_web_md'), ('ORG', 'Empress Alexandra Feodorovna', 1, 'ORG', 'en_core_web_md'), ('ORG', 'Fabergé', 1, 'ORG', 'en_core_web_md'), ('GPE', 'St Petersburg', 1, 'GPE', 'en_core_web_md'), ('PERSON', 'Louis Battenberg', 1, 'PERSON', 'en_core_web_md'), ('PERSON', 'Princess Victoria', 1, 'PERSON', 'en_core_web_md'), ('GPE', 'Empress', 0, 'PERSON', 'en_core_web_md'), ('PERSON', 'Blanche Ryan', 1, 'PERSON', 'en_core_web_md'), ('ORG', 'Merlin Montagu Douglas Scott', 0, 'PERSON', 'en_core_web_md'), ('ORG', 'the Merlin Trust', 1, 'ORG', 'en_core_web_md'), ('ORG', 'Gallery Rosen Ancient Art', 1, 'ORG', 'en_core_web_md'), ('PERSON', 'Kunsthandel Nicolaas Beets', 1, 'PERSON', 'en_core_web_md'), ('GPE', 'Amsterdam', 1, 'GPE', 'en_core_web_md'), ('PERSON', 'Anton C.R. Dreesmann', 1, 'PERSON', 'en_core_web_md'), ('PERSON', 'Laren', 1, 'PERSON', 'en_core_web_md'), ('PERSON', 'Anton C.R. Dreesmann Collection', 1, 'PERSON', 'en_core_web_md'), ('PERSON', 'Marianne Dreesmann', 1, 'PERSON', 'en_core_web_md'), ('GPE', 'C007', 0, 'OTHER', 'nl_core_news_sm'), ('OTHER', 'C164', 1, 'OTHER', 'fr_core_news_sm'), ('PERSON', 'Sa vente', 0, 'OTHER', 'en_core_web_md'), ('PERSON', 'Jean-Pierre Laprugne', 1, 'PERSON', 'en_core_web_md'), ('PERSON', 'Tom White', 1, 'PERSON', 'en_core_web_md'), ('PERSON', 'London', 0, 'GPE', 'zh_core_web_sm'), ('PRODUCT', '1083', 0, 'OTHER', 'en_core_web_md'), ('PERSON', 'Susan\\xa0Ollemans', 1, 'PERSON', 'ja_core_news_sm'), ('PERSON', 'Gisèle Croës', 1, 'PERSON', 'en_core_web_md'), ('ORG', 'an Important American Private Collection', 1, 'ORG', 'en_core_web_md'), ('ORG', 'Khawam Brothers', 1, 'ORG', 'en_core_web_md'), ('PERSON', 'Dan E. Richardson', 1, 'PERSON', 'en_core_web_md'), ('PERSON', 'Richardson', 1, 'PERSON', 'zh_core_web_sm'), ('PERSON', 'Junkunc', 1, 'PERSON', 'en_core_web_md'), ('PERSON', 'Stephen Junkunc', 1, 'PERSON', 'en_core_web_md'), ('GPE', 'Bonhams Hong Kong', 0, 'ORG', 'pt_core_news_sm'), ('OTHER', '24th November', 0, 'DATE', 'pt_core_news_sm'), ('FAC', '288', 0, 'OTHER', 'zh_core_web_sm'), ('PERSON', 'Joseph Leeson', 1, 'PERSON', 'en_core_web_md'), ('GPE', 'Milltown', 1, 'GPE', 'en_core_web_md'), ('GPE', 'Russborough House', 1, 'GPE', 'en_core_web_md'), ('GPE', 'County Wicklow', 1, 'GPE', 'en_core_web_md'), ('PERSON', 'Elizabeth', 1, 'PERSON', 'en_core_web_md'), ('PERSON', 'Leitrim', 0, 'GPE', 'en_core_web_md'), ('PERSON', 'Félix Houphouët-Boigny', 1, 'PERSON', 'en_core_web_md'), ('GPE', 'the Republic of the Ivory Coast', 1, 'GPE', 'en_core_web_md'), ('ORG', 'Distinguished Midwest Private Collection', 1, 'ORG', 'en_core_web_md'), ('ORG', \"Christie's New York\", 1, 'ORG', 'en_core_web_md'), ('ORG', 'Russian Works of Art', 1, 'ORG', 'en_core_web_md'), ('PERSON', 'Oscar Blum Gentilomo', 1, 'PERSON', 'en_core_web_md'), ('ORG', 'The Groppi Collection', 1, 'ORG', 'en_core_web_md'), ('OTHER', '14 June 2000', 0, 'DATE', 'fr_core_news_sm'), ('NORP', 'Swiss', 1, 'NORP', 'en_core_web_md'), ('GPE', 'Segarra', 1, 'GPE', 'es_core_news_sm'), ('GPE', 'Barcelona', 1, 'GPE', 'es_core_news_sm'), ('PERSON', 'Sam Fogg', 1, 'PERSON', 'en_core_web_md'), ('PERSON', '巴塞隆', 1, 'PERSON', 'zh_core_web_sm'), ('GPE', 'Imre', 1, 'GPE', 'en_core_web_md'), ('PERSON', 'Nicholas T. Molnar', 1, 'PERSON', 'en_core_web_md'), ('ORG', 'Sotheby & Co', 1, 'ORG', 'en_core_web_md'), ('ORG', \"Sold Sotheby's\", 1, 'ORG', 'en_core_web_md'), ('NORP', 'American', 1, 'NORP', 'en_core_web_md'), ('PERSON', '史蒂芬', 1, 'PERSON', 'zh_core_web_sm'), ('PERSON', 'Simon Spero', 1, 'PERSON', 'en_core_web_md'), ('NORP', 'Taiwanese', 1, 'NORP', 'en_core_web_md'), ('GPE', '台灣', 1, 'GPE', 'zh_core_web_sm'), ('PERSON', 'Agnes Mary Berkeley', 1, 'PERSON', 'en_core_web_md'), ('ORG', 'a Sister of Charity', 1, 'ORG', 'en_core_web_md'), ('GPE', 'Shanghai', 1, 'GPE', 'en_core_web_md'), ('GPE', 'China', 1, 'GPE', 'en_core_web_md'), ('PERSON', 'Robert Valentine\\xa0', 1, 'PERSON', 'en_core_web_md'), ('GPE', 'Wyndham', 1, 'GPE', 'en_core_web_md'), ('PERSON', 'Francis Cook', 1, 'PERSON', 'en_core_web_md'), ('ORG', 'Cook Collection', 1, 'ORG', 'en_core_web_md'), ('ORG', 'Buffalo', 0, 'GPE', 'de_core_news_sm'), ('ORG', 'Geneva Private Collection', 1, 'ORG', 'en_core_web_md'), ('GPE', 'Seattle', 1, 'GPE', 'en_core_web_md'), ('GPE', 'Lausanne', 1, 'GPE', 'fr_core_news_sm'), ('PERSON', 'Renaud Gillet', 1, 'PERSON', 'en_core_web_md'), ('GPE', 'Bessborough', 1, 'GPE', 'en_core_web_md'), ('PERSON', 'William', 1, 'PERSON', 'en_core_web_md'), ('PERSON', 'Second Earl', 1, 'PERSON', 'en_core_web_md'), ('ORG', 'Lonsdale', 1, 'ORG', 'en_core_web_md'), ('FAC', 'Lowther Castle', 0, 'ORG', 'en_core_web_md'), ('GPE', 'Cumberland', 1, 'GPE', 'en_core_web_md'), ('ORG', 'Thorntons of York', 1, 'ORG', 'en_core_web_md'), ('PERSON', 'R. Schmidt', 1, 'PERSON', 'en_core_web_md'), ('PERSON', 'Merton D. Simpson', 1, 'PERSON', 'en_core_web_md'), ('PERSON', 'Christopher B. Hemmeter', 1, 'PERSON', 'en_core_web_md'), ('GPE', 'Honolulu', 1, 'GPE', 'en_core_web_md'), ('PERSON', 'Kevin Conru', 1, 'PERSON', 'en_core_web_md'), ('OTHER', 'December 1977', 0, 'DATE', 'fr_core_news_sm'), ('OTHER', 'Arete', 0, 'ORG', 'de_core_news_sm'), ('GPE', 'Zurich', 1, 'GPE', 'de_core_news_sm'), ('PERSON', 'Anton Pestalozzi', 1, 'PERSON', 'en_core_web_md'), ('GPE', 'Jacaranda', 1, 'GPE', 'en_core_web_md'), ('PERSON', 'Jean-Marc Roudinesco', 1, 'PERSON', 'en_core_web_md'), ('GPE', 'Neuilly', 1, 'GPE', 'en_core_web_md'), ('PERSON', 'Jean-Marc\\xa0Roudinesco', 1, 'PERSON', 'en_core_web_md'), ('PERSON', 'Jean Wanecq', 1, 'PERSON', 'en_core_web_md'), ('LAW', 'D001', 0, 'OTHER', 'nl_core_news_sm'), ('PERSON', 'D001', 0, 'OTHER', 'nl_core_news_sm'), ('ORG', 'Basel', 0, 'GPE', 'de_core_news_sm'), ('OTHER', 'Auktion XVIII', 0, 'OTHER', 'de_core_news_sm'), ('ORG', 'California Private Collection', 1, 'ORG', 'en_core_web_md'), ('ORG', 'Antiqua', 1, 'ORG', 'en_core_web_md'), ('GPE', 'Los Angeles', 1, 'GPE', 'en_core_web_md'), ('OTHER', '4 June 1999', 0, 'DATE', 'fr_core_news_sm'), ('ORG', 'Ancient Greek Vases Formerly', 1, 'ORG', 'en_core_web_md'), ('ORG', 'Deburaux & Associés', 1, 'ORG', 'fr_core_news_sm'), ('GPE', 'March 2008', 0, 'DATE', 'fr_core_news_sm'), ('GPE', 'Freiburg', 1, 'GPE', 'de_core_news_sm'), ('GPE', 'Cologne', 1, 'GPE', 'de_core_news_sm'), ('PERSON', 'Werner Schatz', 1, 'PERSON', 'en_core_web_md'), ('GPE', 'Wuppertal', 1, 'GPE', 'en_core_web_md'), ('PERSON', 'Schatz', 1, 'PERSON', 'en_core_web_md'), ('ORG', 'Art Market', 1, 'ORG', 'en_core_web_md'), ('OTHER', 'July 1992', 0, 'DATE', 'fr_core_news_sm'), ('FAC', 'the Ronald W. Longsdorf Collection |', 0, 'ORG', 'en_core_web_md'), ('PERSON', 'Ronald W. Longsdorf', 1, 'PERSON', 'en_core_web_md'), ('ORG', 'English Private Collection', 1, 'ORG', 'en_core_web_md'), ('ORG', 'Fuse Lighting', 1, 'ORG', 'en_core_web_md'), ('ORG', '中國', 1, 'ORG', 'zh_core_web_sm'), ('PERSON', 'Herbert Kühn', 1, 'PERSON', 'en_core_web_md'), ('ORG', 'Mainz', 0, 'GPE', 'en_core_web_md'), ('GPE', \"Christie's\", 0, 'ORG', 'de_core_news_sm'), ('ORG', 'Provincetown', 1, 'ORG', 'en_core_web_md'), ('GPE', 'Wittelsbach', 1, 'GPE', 'en_core_web_md'), ('PERSON', 'Hamiltons Gallery', 0, 'ORG', 'en_core_web_md'), ('GPE', 'Bayville', 1, 'GPE', 'fr_core_news_sm'), ('GPE', 'March', 0, 'DATE', 'fr_core_news_sm'), ('PERSON', 'Mary Western Hugessen', 1, 'PERSON', 'en_core_web_md'), ('PERSON', 'Edward Knatchbull', 1, 'PERSON', 'en_core_web_md'), ('PERSON', 'Howard Lipman', 1, 'PERSON', 'en_core_web_md'), ('PERSON', 'JO KOBACKER', 1, 'PERSON', 'en_core_web_md'), ('PERSON', 'John', 1, 'PERSON', 'en_core_web_md'), ('PERSON', 'Somers', 1, 'PERSON', 'en_core_web_md'), ('GPE', 'Lawrence', 0, 'PERSON', 'lt_core_news_sm'), ('PERSON', 'M.H. Bloxam', 1, 'PERSON', 'en_core_web_md'), ('ORG', 'Rugby School Art Museum', 1, 'ORG', 'en_core_web_md'), ('PERSON', 'Matt', 1, 'PERSON', 'en_core_web_md'), ('PERSON', 'Nic', 1, 'PERSON', 'en_core_web_md'), ('OTHER', 'Pomarancio -/ a.d', 0, 'OTHER', 'it_core_news_sm'), ('OTHER', 'Lawrence Collection', 0, 'ORG', 'it_core_news_sm'), ('ORG', 'Phoenix Ancient Art', 1, 'ORG', 'en_core_web_md'), ('ORG', 'Gold & Silver Auction Part II', 0, 'OTHER', 'en_core_web_md'), ('ORG', 'Ancient', 1, 'ORG', 'en_core_web_md'), ('ORG', 'Renaissance', 0, 'OTHER', 'en_core_web_md'), ('ORG', 'Taisei Gallery', 1, 'ORG', 'en_core_web_md'), ('GPE', 'Bonhams', 0, 'ORG', 'en_core_web_md'), ('PERSON', 'N. Koutoulakis', 1, 'PERSON', 'en_core_web_md'), ('ORG', 'Manhattan Private Collection', 1, 'ORG', 'en_core_web_md'), ('OTHER', 'October 2017', 0, 'DATE', 'fr_core_news_sm'), ('OTHER', 'October 2018', 0, 'DATE', 'fr_core_news_sm'), ('GPE', 'Maui', 1, 'GPE', 'en_core_web_md'), ('PERSON', 'Hilary Chelminski', 1, 'PERSON', 'en_core_web_md'), ('FAC', 'Collection W.J.R. Dreesmann', 0, 'ORG', 'nl_core_news_sm'), ('OTHER', 'Collection Professor Dr Drs Anton C.R. Dreesmann', 0, 'ORG', 'es_core_news_sm'), ('GPE', 'D73', 0, 'OTHER', 'es_core_news_sm'), ('WORK_OF_ART', 'D040', 0, 'OTHER', 'nl_core_news_sm'), ('ORG', 'Collection Professeur', 1, 'ORG', 'fr_core_news_sm'), ('OTHER', 'two', 0, 'NUMBER', 'fr_core_news_sm'), ('PERSON', 'Edric van Vredenburgh', 1, 'PERSON', 'en_core_web_md'), ('NORP', 'Asian', 1, 'NORP', 'en_core_web_md'), ('ORG', 'Stuttgart', 0, 'GPE', 'fi_core_news_sm'), ('PERSON', 'S.J. Phillips', 1, 'PERSON', 'en_core_web_md'), ('PERSON', 'Frank Partridge', 1, 'PERSON', 'en_core_web_md'), ('ORG', 'Sons Ltd', 1, 'ORG', 'en_core_web_md'), ('GPE', 'Sammlung  Hans Koenig', 0, 'PERSON', 'de_core_news_sm'), ('PERSON', 'Bonhams London', 0, 'ORG', 'en_core_web_md'), ('ORG', 'Brandeis University', 1, 'ORG', 'pt_core_news_sm'), ('ORG', 'Waltham\\xa0', 1, 'ORG', 'pt_core_news_sm'), ('PERSON', 'Paul Kantor Gallery', 1, 'PERSON', 'en_core_web_md'), ('GPE', 'Beverly Hills', 1, 'GPE', 'en_core_web_md'), ('ORG', 'The Purchase Gallery, Inc', 1, 'ORG', 'en_core_web_md'), ('ORG', 'Purchase', 1, 'ORG', 'en_core_web_md'), ('PERSON', 'Bernice Clyman', 1, 'PERSON', 'en_core_web_md'), ('PERSON', 'Sidney', 0, 'GPE', 'en_core_web_md'), ('ORG', 'Scarsdale', 0, 'GPE', 'en_core_web_md'), ('GPE', 'Bath', 1, 'GPE', 'en_core_web_md'), ('GPE', 'Somerset', 1, 'GPE', 'en_core_web_md'), ('ORG', 'M. Gillingham', 0, 'PERSON', 'en_core_web_md'), ('PERSON', 'C.K. Liang', 1, 'PERSON', 'en_core_web_md'), ('GPE', 'Jade House', 0, 'ORG', 'en_core_web_md'), ('PERSON', '梁宗亢', 1, 'PERSON', 'zh_core_web_sm'), ('ORG', '中易公司', 1, 'ORG', 'zh_core_web_sm'), ('MONEY', '52,000', 1, 'MONEY', 'zh_core_web_sm'), ('ORG', 'Freiburg', 0, 'GPE', 'de_core_news_sm'), ('ORG', 'Summa Galleries', 1, 'ORG', 'en_core_web_md'), ('PERSON', 'ERIKA POHL-STRÖHER', 1, 'PERSON', 'sv_core_news_sm'), ('PERSON', 'Erika Pohl-Ströher', 1, 'PERSON', 'en_core_web_md'), ('OTHER', 'Eymery & Cie', 0, 'ORG', 'fr_core_news_sm'), ('GPE', 'St Honoré', 1, 'GPE', 'fr_core_news_sm'), ('PERSON', 'Eymery', 1, 'PERSON', 'zh_core_web_sm'), ('GPE', 'Mazandaran', 1, 'GPE', 'en_core_web_md'), ('GPE', 'Iran', 1, 'GPE', 'en_core_web_md'), ('ORG', 'K. Rabenou Gallery', 1, 'ORG', 'en_core_web_md'), ('PERSON', 'Wilfrid Sloane', 1, 'PERSON', 'en_core_web_md'), ('PERSON', 'John Pierpont Morgan', 1, 'PERSON', 'en_core_web_md'), ('ORG', 'Duveen Brothers Inc', 1, 'ORG', 'en_core_web_md'), ('PERSON', 'John D. Rockefeller', 1, 'PERSON', 'en_core_web_md'), ('PERSON', 'Jr', 1, 'PERSON', 'en_core_web_md'), ('PERSON', 'J. Uzan', 1, 'PERSON', 'en_core_web_md'), ('OTHER', 'Geneva', 0, 'GPE', 'de_core_news_sm'), ('ORG', 'Royal Athena Galleries', 1, 'ORG', 'en_core_web_md'), ('PERSON', 'Anthony Meyer', 1, 'PERSON', 'en_core_web_md'), ('PERSON', 'Nicolas Koutoulakis', 1, 'PERSON', 'en_core_web_md'), ('OTHER', 'Collection Vincente Huidobro', 0, 'ORG', 'pt_core_news_sm'), ('GPE', 'Chili', 0, 'OTHER', 'pt_core_news_sm'), ('GPE', 'Loudmer', 1, 'GPE', 'fr_core_news_sm'), ('ORG', 'Arts Primitifs', 1, 'ORG', 'fr_core_news_sm'), ('GPE', 'Collection', 0, 'ORG', 'fr_core_news_sm'), ('PERSON', 'J034', 0, 'OTHER', 'nl_core_news_sm'), ('ORG', 'Purportedly', 0, 'OTHER', 'en_core_web_md'), ('NORP', 'Coptic', 1, 'NORP', 'en_core_web_md'), ('GPE', 'Giza', 1, 'GPE', 'en_core_web_md'), ('PERSON', 'René Withofs', 1, 'PERSON', 'en_core_web_md'), ('OTHER', 'December 1999', 0, 'DATE', 'fr_core_news_sm'), ('OTHER', 'Dr Drs Anton C.R. Dreesmann', 0, 'PERSON', 'de_core_news_sm'), ('PERSON', 'E017', 0, 'OTHER', 'nl_core_news_sm'), ('GPE', 'E19', 0, 'OTHER', 'fr_core_news_sm'), ('LANGUAGE', 'PROPERTY', 0, 'OTHER', 'zh_core_web_sm'), ('PERSON', 'Pierre Bordes', 1, 'PERSON', 'en_core_web_md'), ('GPE', 'Algeria', 1, 'GPE', 'en_core_web_md'), ('GPE', 'Belgium', 1, 'GPE', 'it_core_news_sm'), ('GPE', 'Marcel', 0, 'PERSON', 'zh_core_web_sm'), ('GPE', 'Italy', 1, 'GPE', 'en_core_web_md'), ('OTHER', 'December 2003', 0, 'DATE', 'fr_core_news_sm'), ('GPE', '黎氏', 1, 'GPE', 'zh_core_web_sm'), ('OTHER', 'December 2000', 0, 'DATE', 'fr_core_news_sm'), ('PERSON', 'Dragesco-Cramoisan', 1, 'PERSON', 'en_core_web_md'), ('PERSON', 'Robert Berkeley', 1, 'PERSON', 'en_core_web_md'), ('ORG', 'SELECTED PAINTINGS', 0, 'OTHER', 'zh_core_web_sm'), ('ORG', 'Pine and Stone Retreat Collection', 1, 'ORG', 'en_core_web_md'), ('PERSON', '石山房', 1, 'PERSON', 'zh_core_web_sm'), ('FAC', '3632', 0, 'OTHER', 'en_core_web_md'), ('FAC', 'the Dafengtang Collection', 0, 'ORG', 'en_core_web_md'), ('ORG', 'Hôtel Drouot', 1, 'ORG', 'en_core_web_md'), ('PERSON', 'Luigi Laura', 1, 'PERSON', 'en_core_web_md'), ('PERSON', 'Jacob Epstein', 1, 'PERSON', 'en_core_web_md'), ('PERSON', 'Londres', 0, 'GPE', 'en_core_web_md'), ('PERSON', 'Loudmer', 1, 'PERSON', 'en_core_web_md'), ('PERSON', 'Rudolf Schmidt', 1, 'PERSON', 'en_core_web_md'), ('GPE', 'Solothurn', 1, 'GPE', 'en_core_web_md'), ('OTHER', 'Ägyptische', 1, 'OTHER', 'de_core_news_sm'), ('GPE', 'Ägyptologische Hefte', 0, 'OTHER', 'de_core_news_sm'), ('ORG', 'Orientalischen Seminars', 0, 'OTHER', 'de_core_news_sm'), ('ORG', 'Universität Zürich', 1, 'ORG', 'de_core_news_sm'), ('PERSON', 'Samuel Rogers', 1, 'PERSON', 'en_core_web_md'), ('GPE', 'Hamburg', 1, 'GPE', 'en_core_web_md'), ('PERSON', 'Carl J. Ulman', 1, 'PERSON', 'en_core_web_md'), ('ORG', 'Guinevere Antiques Ltd', 1, 'ORG', 'en_core_web_md'), ('PERSON', 'Alfred Chester Beatty', 1, 'PERSON', 'en_core_web_md'), ('PERSON', \"Comtesse d'Aubigny\", 1, 'PERSON', 'en_core_web_md'), ('OTHER', 'Fortuna Fine Arts', 0, 'ORG', 'it_core_news_sm'), ('GPE', 'Ltd', 0, 'ORG', 'it_core_news_sm'), ('LAW', 'Item two', 0, 'OTHER', 'en_core_web_md'), ('PERSON', 'Carl Kempe', 1, 'PERSON', 'en_core_web_md'), ('PERSON', 'Ernest Cassel', 1, 'PERSON', 'en_core_web_md'), ('PERSON', 'Daphne Zimmermann', 1, 'PERSON', 'en_core_web_md'), ('ORG', 'FROM THE COLLECTION OF BENOÎT DE GORSKI', 1, 'ORG', 'ro_core_news_sm'), ('GPE', 'Frederick', 0, 'PERSON', 'en_core_web_md'), ('GPE', 'Wales', 1, 'GPE', 'en_core_web_md'), ('GPE', 'Great Britain', 1, 'GPE', 'en_core_web_md'), ('GPE', 'Hanover', 1, 'GPE', 'en_core_web_md'), ('PERSON', 'King George II', 1, 'PERSON', 'en_core_web_md'), ('PERSON', 'King William IV', 1, 'PERSON', 'en_core_web_md'), ('ORG', 'Royal', 0, 'OTHER', 'en_core_web_md'), ('PERSON', 'Prince Ernst Augustus', 1, 'PERSON', 'en_core_web_md'), ('PERSON', '1st Duke', 1, 'PERSON', 'en_core_web_md'), ('PERSON', 'King George III', 1, 'PERSON', 'en_core_web_md'), ('ORG', 'Teviotdale', 0, 'GPE', 'en_core_web_md'), ('ORG', 'King of Hanover', 1, 'ORG', 'en_core_web_md'), ('PERSON', 'George V', 1, 'PERSON', 'en_core_web_md'), ('PERSON', 'Ernst Augustus II', 1, 'PERSON', 'en_core_web_md'), ('PERSON', 'Crown Prince', 1, 'PERSON', 'en_core_web_md'), ('PERSON', 'Ernst Augustus III', 1, 'PERSON', 'en_core_web_md'), ('GPE', 'Brunswick', 1, 'GPE', 'en_core_web_md'), ('PERSON', 'Ernst Augustus IV', 1, 'PERSON', 'en_core_web_md'), ('GPE', 'B85', 0, 'OTHER', 'es_core_news_sm'), ('LAW', 'B009', 0, 'OTHER', 'nl_core_news_sm'), ('GPE', 'Afd.26/3', 0, 'OTHER', 'fr_core_news_sm'), ('PERSON', 'Leo Castelli Gallery', 0, 'ORG', 'en_core_web_md'), ('GPE', 'ca', 0, 'OTHER', 'fr_core_news_sm'), ('OTHER', '1985', 0, 'DATE', 'fr_core_news_sm'), ('PERSON', 'Hôtel Drouot', 0, 'ORG', 'en_core_web_md'), ('GPE', 'Portugal', 1, 'GPE', 'es_core_news_sm'), ('OTHER', 'May 2013', 0, 'DATE', 'fr_core_news_sm'), ('GPE', 'Donati', 0, 'PERSON', 'it_core_news_sm'), ('GPE', 'Lugano', 1, 'GPE', 'it_core_news_sm'), ('PERSON', 'Anita Gray Gallery', 1, 'PERSON', 'en_core_web_md'), ('FAC', 'Portobello Road', 0, 'GPE', 'en_core_web_md'), ('ORG', 'Londres', 0, 'GPE', 'de_core_news_sm'), ('GPE', 'Portobello Road', 1, 'GPE', 'fr_core_news_sm'), ('FAC', 'Edric van Vredenburgh', 0, 'PERSON', 'nl_core_news_sm'), ('PERSON', 'Edward T.\\xa0Chow', 1, 'PERSON', 'en_core_web_md'), ('ORG', 'Emmanuel de Monbrison', 0, 'PERSON', 'en_core_web_md'), ('NORP', 'M.4.10', 0, 'OTHER', 'en_core_web_md'), ('PERSON', 'Ecoute', 0, 'OTHER', 'pl_core_news_sm'), ('GPE', 'Lyon', 1, 'GPE', 'pl_core_news_sm'), ('PERSON', 'Colin Gross', 1, 'PERSON', 'en_core_web_md'), ('PERSON', 'Herbert Stern', 1, 'PERSON', 'en_core_web_md'), ('PERSON', 'Michelham', 1, 'PERSON', 'en_core_web_md'), ('PERSON', 'M. Parish-Watson', 1, 'PERSON', 'en_core_web_md'), ('GPE', '6040', 0, 'OTHER', 'en_core_web_md'), ('PERSON', 'F. Warrington-Strong', 1, 'PERSON', 'en_core_web_md'), ('ORG', 'Sotheby’s London', 1, 'ORG', 'en_core_web_md'), ('PERSON', 'Di Castro', 1, 'PERSON', 'en_core_web_md'), ('PERSON', 'Luisa Vertova', 1, 'PERSON', 'en_core_web_md'), ('PERSON', 'Stieglitz', 1, 'PERSON', 'en_core_web_md'), ('PERSON', 'Alma Morganthau', 1, 'PERSON', 'en_core_web_md'), ('GPE', 'Wertheim', 1, 'GPE', 'en_core_web_md'), ('ORG', 'An American Place', 0, 'GPE', 'en_core_web_md'), ('GPE', 'New Haven', 1, 'GPE', 'de_core_news_sm'), ('GPE', 'Connecticut', 1, 'GPE', 'de_core_news_sm'), ('ORG', 'Princeton Gallery of', 1, 'ORG', 'en_core_web_md'), ('ORG', 'Fine Art', 1, 'ORG', 'en_core_web_md'), ('GPE', 'Princeton', 1, 'GPE', 'en_core_web_md'), ('PERSON', 'Hayashi Gonsuke', 1, 'PERSON', 'en_core_web_md'), ('PERSON', 'Robert\\xa0Berkeley', 1, 'PERSON', 'en_core_web_md'), ('PERSON', 'Robert Martin Berkeley', 1, 'PERSON', 'en_core_web_md'), ('PERSON', 'Naim Attallah CBE', 1, 'PERSON', 'en_core_web_md'), ('GPE', 'Christie’s Paris', 0, 'ORG', 'de_core_news_sm'), ('PERSON', 'William E.', 1, 'PERSON', 'en_core_web_md'), ('PERSON', 'Anne H. Lewis', 1, 'PERSON', 'en_core_web_md'), ('GPE', 'Columbus', 1, 'GPE', 'en_core_web_md'), ('GPE', 'Ohio', 1, 'GPE', 'en_core_web_md'), ('ORG', 'Mitsukoshi Department Store', 1, 'ORG', 'en_core_web_md'), ('GPE', 'Nihonbashi', 1, 'GPE', 'en_core_web_md'), ('GPE', 'Tokyo', 1, 'GPE', 'en_core_web_md'), ('ORG', 'Summa Galleries, Inc', 1, 'ORG', 'en_core_web_md'), ('PERSON', 'Van Berchem', 1, 'PERSON', 'en_core_web_md'), ('ORG', 'Ikeda Gallery', 1, 'ORG', 'en_core_web_md'), ('GPE', '東京', 1, 'GPE', 'ja_core_news_sm'), ('PERSON', 'Holger Rosell', 1, 'PERSON', 'en_core_web_md'), ('GPE', 'Stockholm', 1, 'GPE', 'en_core_web_md'), ('ORG', 'Holger', 0, 'PERSON', 'zh_core_web_sm'), ('PERSON', '斯德哥爾摩', 1, 'PERSON', 'zh_core_web_sm'), ('PERSON', 'Henry Clarke', 1, 'PERSON', 'en_core_web_md'), ('GPE', 'Monaco', 1, 'GPE', 'en_core_web_md'), ('GPE', 'Piasa', 0, 'ORG', 'en_core_web_md'), ('ORG', 'Hall & Knight', 1, 'ORG', 'en_core_web_md'), ('GPE', 'Musée Bourdelle', 0, 'ORG', 'fr_core_news_sm'), ('ORG', 'Musée National de la Céramique à Sèvres', 1, 'ORG', 'fr_core_news_sm'), ('ORG', 'Mason Antiques', 1, 'ORG', 'en_core_web_md'), ('GPE', 'Cornwall', 1, 'GPE', 'en_core_web_md'), ('PERSON', 'Bruce Anderson', 1, 'PERSON', 'en_core_web_md'), ('PERSON', 'JAMES E. SOWELL', 1, 'PERSON', 'en_core_web_md'), ('ORG', 'Cohen & Cohen', 1, 'ORG', 'en_core_web_md'), ('ORG', 'Sold Without Reserve', 0, 'OTHER', 'en_core_web_md'), ('OTHER', 'Rome', 0, 'GPE', 'it_core_news_sm'), ('ORG', 'Monaco', 0, 'GPE', 'es_core_news_sm'), ('PERSON', 'Walter N. Rothschild', 1, 'PERSON', 'en_core_web_md'), ('GPE', 'Walter', 0, 'PERSON', 'zh_core_web_sm'), ('PERSON', 'Rothschild', 1, 'PERSON', 'zh_core_web_sm'), ('ORG', \"Sold Christie's\", 1, 'ORG', 'en_core_web_md'), ('PERSON', 'Carlo Cristi', 1, 'PERSON', 'en_core_web_md'), ('GPE', 'Milan', 1, 'GPE', 'en_core_web_md'), ('ORG', 'Frank Sternberg AG', 1, 'ORG', 'en_core_web_md'), ('GPE', 'Bruxelles', 1, 'GPE', 'fr_core_news_sm'), ('GPE', 'Londres', 1, 'GPE', 'fr_core_news_sm'), ('PERSON', 'Karen Brown Gallery', 0, 'ORG', 'en_core_web_md'), ('PERSON', 'Darwin', 1, 'PERSON', 'en_core_web_md'), ('ORG', 'The Thomas Vroom Collection', 1, 'ORG', 'en_core_web_md'), ('GPE', 'Netherlands', 1, 'GPE', 'en_core_web_md'), ('PERSON', 'Q.9.37', 0, 'OTHER', 'en_core_web_md'), ('PERSON', '洛杉磯', 0, 'GPE', 'zh_core_web_sm'), ('PERSON', 'Garth', 1, 'PERSON', 'en_core_web_md'), ('GPE', 'Delaware', 1, 'GPE', 'en_core_web_md'), ('GPE', 'Maine', 1, 'GPE', 'fr_core_news_sm'), ('ORG', 'Zurich', 1, 'ORG', 'de_core_news_sm'), ('ORG', 'Diplomatic Private Collection', 1, 'ORG', 'en_core_web_md'), ('PERSON', 'M. van den Ende', 1, 'PERSON', 'en_core_web_md'), ('GPE', 'The Hague', 1, 'GPE', 'en_core_web_md'), ('OTHER', 'D52', 0, 'OTHER', 'es_core_news_sm'), ('WORK_OF_ART', 'D032', 0, 'OTHER', 'nl_core_news_sm'), ('FAC', 'La Haye', 0, 'GPE', 'nl_core_news_sm'), ('GPE', 'D52', 0, 'OTHER', 'fr_core_news_sm'), ('ORG', 'Tehran', 0, 'GPE', 'de_core_news_sm'), ('ORG', 'J.T. Tai & Co', 1, 'ORG', 'en_core_web_md'), ('PERSON', 'Arthur\\xa0M.\\xa0Sackler', 1, 'PERSON', 'en_core_web_md'), ('PERSON', 'W. Forbes', 1, 'PERSON', 'en_core_web_md'), ('PERSON', 'Jane Ramsey', 1, 'PERSON', 'en_core_web_md'), ('GPE', 'Cazenovia', 1, 'GPE', 'de_core_news_sm'), ('PERSON', 'A.G. Langlois', 1, 'PERSON', 'en_core_web_md'), ('GPE', 'Jersey', 1, 'GPE', 'en_core_web_md'), ('PERSON', 'Langlois', 1, 'PERSON', 'zh_core_web_sm'), ('GPE', 'Suisse', 1, 'GPE', 'fr_core_news_sm'), ('ORG', 'Indianapolis Museum of Art', 1, 'ORG', 'en_core_web_md'), ('GPE', 'Indianapolis', 1, 'GPE', 'en_core_web_md'), ('ORG', 'Osterrieth House', 1, 'ORG', 'en_core_web_md'), ('ORG', 'Crounce Family', 1, 'ORG', 'en_core_web_md'), ('GPE', 'Altamont', 1, 'GPE', 'en_core_web_md'), ('ORG', 'Important American Furniture, Silver, Folk Art and Decorative Arts', 1, 'ORG', 'en_core_web_md'), ('PERSON', 'Marguerite Riordan', 1, 'PERSON', 'en_core_web_md'), ('GPE', 'Stonington', 1, 'GPE', 'en_core_web_md'), ('PERSON', 'Gustave Jéquier', 1, 'PERSON', 'en_core_web_md'), ('PERSON', 'Spencer Joshua Alwyne Compton', 1, 'PERSON', 'en_core_web_md'), ('GPE', 'Northampton', 1, 'GPE', 'en_core_web_md'), ('GPE', 'Castle Ashby', 1, 'GPE', 'en_core_web_md'), ('ORG', 'The Castle Ashby Vases', 1, 'ORG', 'en_core_web_md'), ('ORG', 'Fine Antiquities', 1, 'ORG', 'fr_core_news_sm'), ('OTHER', 'June 1989', 0, 'DATE', 'fr_core_news_sm'), ('GPE', 'Drouot', 1, 'GPE', 'en_core_web_md'), ('PERSON', 'James Willis', 1, 'PERSON', 'en_core_web_md'), ('GPE', 'Villa Visconti Alari', 0, 'ORG', 'it_core_news_sm'), ('GPE', 'Cernusco sul Naviglio', 1, 'GPE', 'it_core_news_sm'), ('OTHER', 'Private Collection', 0, 'ORG', 'it_core_news_sm'), ('ORG', 'Milan', 0, 'GPE', 'it_core_news_sm'), ('GPE', 'l’', 0, 'OTHER', 'fr_core_news_sm'), ('ORG', 'Mallett & Son Ltd', 1, 'ORG', 'en_core_web_md'), ('PERSON', 'Michael Smurfit', 1, 'PERSON', 'en_core_web_md'), ('PRODUCT', 'French private collection', 0, 'ORG', 'zh_core_web_sm'), ('GPE', 'Woodland Hills', 1, 'GPE', 'en_core_web_md'), ('ORG', 'R.H. Ellsworth Ltd', 1, 'ORG', 'en_core_web_md'), ('PERSON', '安思遠', 1, 'PERSON', 'zh_core_web_sm'), ('PERSON', 'William Suddaby', 1, 'PERSON', 'en_core_web_md'), ('GPE', 'Florida', 1, 'GPE', 'en_core_web_md'), ('ORG', 'Ancient Vases', 0, 'OTHER', 'en_core_web_md'), ('OTHER', 'B111', 1, 'OTHER', 'es_core_news_sm'), ('FAC', 'Collection Mrs', 0, 'ORG', 'nl_core_news_sm'), ('FAC', 'B010', 0, 'OTHER', 'nl_core_news_sm'), ('OTHER', 'Vente', 1, 'OTHER', 'fr_core_news_sm'), ('GPE', \"Sotheby'\", 0, 'ORG', 'fr_core_news_sm'), ('GPE', 'B111', 0, 'OTHER', 'fr_core_news_sm'), ('PERSON', 'John Granville Morrison', 1, 'PERSON', 'en_core_web_md'), ('PERSON', 'Zuluaga', 1, 'PERSON', 'en_core_web_md'), ('ORG', 'Esq,', 0, 'OTHER', 'en_core_web_md'), ('ORG', 'Metal Vases', 0, 'OTHER', 'en_core_web_md'), ('NORP', 'Moorish', 1, 'NORP', 'en_core_web_md'), ('PERSON', 'Necker', 1, 'PERSON', 'en_core_web_md'), ('GPE', 'Berkowitsch', 0, 'PERSON', 'de_core_news_sm'), ('GPE', 'Wellington Hotel', 0, 'ORG', 'de_core_news_sm'), ('GPE', 'Madrid', 1, 'GPE', 'de_core_news_sm'), ('GPE', 'Spain', 1, 'GPE', 'en_core_web_md'), ('ORG', 'ALHAMBRA', 0, 'GPE', 'en_core_web_md'), ('ORG', 'Duran Arte y Subastas', 1, 'ORG', 'en_core_web_md'), ('PERSON', 'Wou\\xa0Kiuan', 1, 'PERSON', 'en_core_web_md'), ('PERSON', 'Wou\\xa0Lien-Pai Museum', 0, 'ORG', 'en_core_web_md'), ('ORG', 'an Important Private Collection', 1, 'ORG', 'en_core_web_md'), ('GPE', 'Australia', 1, 'GPE', 'en_core_web_md'), ('GPE', 'Coeur', 0, 'OTHER', 'en_core_web_md'), ('GPE', 'Reno', 1, 'GPE', 'en_core_web_md'), ('GPE', 'Nevada', 1, 'GPE', 'en_core_web_md'), ('ORG', 'the Science Museum', 1, 'ORG', 'en_core_web_md'), ('ORG', 'Ginac Collection', 1, 'ORG', 'en_core_web_md'), ('GPE', 'Nîmes', 1, 'GPE', 'en_core_web_md'), ('ORG', 'Far-East Gallery', 1, 'ORG', 'en_core_web_md'), ('ORG', 'Topper Gallery', 1, 'ORG', 'en_core_web_md'), ('ORG', 'Yale Burge Antiques', 1, 'ORG', 'fr_core_news_sm'), ('PERSON', 'Herbert Irving', 1, 'PERSON', 'en_core_web_md'), ('PERSON', 'Princess Patricia of Connaught', 1, 'PERSON', 'en_core_web_md'), ('PERSON', 'Patricia', 1, 'PERSON', 'en_core_web_md'), ('PERSON', 'Mountbatten', 1, 'PERSON', 'en_core_web_md'), ('GPE', 'Northumberland', 1, 'GPE', 'en_core_web_md'), ('PERSON', '牡丹堂', 1, 'PERSON', 'zh_core_web_sm'), ('GPE', 'Nicolier', 0, 'PERSON', 'fr_core_news_sm'), ('GPE', 'Quai Voltaire', 1, 'GPE', 'fr_core_news_sm'), ('PERSON', 'C. J. Devine', 1, 'PERSON', 'en_core_web_md'), ('ORG', 'Sr', 0, 'OTHER', 'en_core_web_md'), ('GPE', 'Bedelle Jewelry Collection', 0, 'ORG', 'it_core_news_sm'), ('PERSON', 'Alton Edward Mills', 1, 'PERSON', 'en_core_web_md'), ('FAC', 'Roger Keverne', 0, 'PERSON', 'zh_core_web_sm'), ('GPE', 'Superior Galleries', 0, 'ORG', 'es_core_news_sm'), ('GPE', 'Antwerpen', 1, 'GPE', 'nl_core_news_sm'), ('PERSON', 'Marianne L. Dreesmann-van der Spek', 1, 'PERSON', 'en_core_web_md'), ('ORG', 'European Collection', 1, 'ORG', 'en_core_web_md'), ('PERSON', 'Robert B. Woodward', 1, 'PERSON', 'en_core_web_md'), ('ORG', 'Robert B', 1, 'ORG', 'zh_core_web_sm'), ('PERSON', 'Woodward', 1, 'PERSON', 'zh_core_web_sm'), ('GPE', 'J57', 0, 'OTHER', 'es_core_news_sm'), ('PERSON', 'J017', 0, 'OTHER', 'nl_core_news_sm'), ('OTHER', 'The Dr Anton C.R.', 0, 'ORG', 'fr_core_news_sm'), ('PERSON', 'Dikran G. Kelekian', 1, 'PERSON', 'en_core_web_md'), ('PERSON', 'Abby Aldrich Rockefeller', 1, 'PERSON', 'en_core_web_md'), ('PERSON', 'Winthrop Rockefeller', 1, 'PERSON', 'en_core_web_md'), ('GPE', 'Petit Jean Mountain', 1, 'GPE', 'en_core_web_md'), ('GPE', 'Arkansas', 1, 'GPE', 'en_core_web_md'), ('PERSON', 'David Rockefeller', 1, 'PERSON', 'en_core_web_md'), ('PERSON', 'Hans', 1, 'PERSON', 'en_core_web_md'), ('PERSON', 'Marie-Louise Erlenmeyer', 1, 'PERSON', 'en_core_web_md'), ('FAC', 'the Erlenmeyer Collection', 0, 'ORG', 'en_core_web_md'), ('OTHER', 'June 2006', 0, 'DATE', 'fr_core_news_sm'), ('GPE', 'Berne', 1, 'GPE', 'de_core_news_sm'), ('ORG', 'CHI', 0, 'OTHER', 'zh_core_web_sm'), ('ORG', 'Art of the Ancient World', 1, 'ORG', 'en_core_web_md'), ('PERSON', 'Yanick van Ruysevelt', 1, 'PERSON', 'nl_core_news_sm'), ('ORG', 'Sotheby Parke Bernet', 1, 'ORG', 'fr_core_news_sm'), ('GPE', 'Texas', 1, 'GPE', 'en_core_web_md'), ('ORG', 'Texas Private Collection', 1, 'ORG', 'en_core_web_md'), ('OTHER', 'June 2003', 0, 'DATE', 'fr_core_news_sm'), ('GPE', 'June 15th', 0, 'DATE', 'it_core_news_sm'), ('PERSON', 'Henry de Montherlant', 1, 'PERSON', 'en_core_web_md'), ('PERSON', 'Roger Peyrefitte', 1, 'PERSON', 'en_core_web_md'), ('ORG', 'the Los Angeles Opera', 1, 'ORG', 'en_core_web_md'), ('PERSON', 'Oliver Sears', 1, 'PERSON', 'en_core_web_md'), ('GPE', 'Dublin', 1, 'GPE', 'en_core_web_md'), ('PERSON', 'Keith Howard', 1, 'PERSON', 'en_core_web_md'), ('PERSON', 'Joan Howard', 1, 'PERSON', 'en_core_web_md'), ('ORG', 'April', 0, 'DATE', 'fr_core_news_sm'), ('MONEY', '269 livres', 1, 'MONEY', 'en_core_web_md'), ('PERSON', 'Maria Pergay', 1, 'PERSON', 'en_core_web_md'), ('PERSON', 'Alain Chenel', 1, 'PERSON', 'en_core_web_md'), ('GPE', 'collected', 0, 'OTHER', 'da_core_news_sm'), ('OTHER', 'Collection', 0, 'ORG', 'it_core_news_sm'), ('GPE', 'Thailand', 1, 'GPE', 'it_core_news_sm'), ('GPE', '泰國', 1, 'GPE', 'zh_core_web_sm'), ('PERSON', 'P. Czinner', 1, 'PERSON', 'en_core_web_md'), ('PERSON', 'John Sparks', 1, 'PERSON', 'en_core_web_md'), ('ORG', 'Chinese Porcelain Company', 1, 'ORG', 'en_core_web_md'), ('GPE', 'Dubai', 1, 'GPE', 'en_core_web_md'), ('FAC', 'Delmore Downs Station', 0, 'GPE', 'en_core_web_md'), ('FAC', 'the Delmore Gallery', 0, 'ORG', 'en_core_web_md'), ('GPE', 'Northern Territory', 1, 'GPE', 'en_core_web_md'), ('GPE', 'Sydney', 1, 'GPE', 'en_core_web_md'), ('ORG', 'Safani Gallery', 1, 'ORG', 'en_core_web_md'), ('ORG', 'MARKO', 0, 'PERSON', 'en_core_web_md'), ('PERSON', 'Harewood', 1, 'PERSON', 'en_core_web_md'), ('ORG', 'Harewood House', 1, 'ORG', 'en_core_web_md'), ('GPE', 'Yorkshire', 1, 'GPE', 'en_core_web_md'), ('PERSON', 'R.A. Jude', 1, 'PERSON', 'en_core_web_md'), ('PERSON', 'Jude', 1, 'PERSON', 'zh_core_web_sm'), ('PERSON', 'Tristan Tzara', 1, 'PERSON', 'en_core_web_md'), ('GPE', 'Transmis', 0, 'OTHER', 'fr_core_news_sm'), ('ORG', 'Roger Peyrefitte collection', 1, 'ORG', 'nb_core_news_sm'), ('ORG', 'France', 0, 'GPE', 'nb_core_news_sm'), ('ORG', 'Antiquities Ltd', 1, 'ORG', 'en_core_web_md'), ('PERSON', 'CHARLES W. NEWHALL', 1, 'PERSON', 'en_core_web_md'), ('ORG', 'Sycomore Ancient Art', 1, 'ORG', 'en_core_web_md'), ('ORG', 'Arte alla Riva', 1, 'ORG', 'en_core_web_md'), ('GPE', 'Ascona', 1, 'GPE', 'en_core_web_md'), ('PERSON', 'Jean Olansizyn', 1, 'PERSON', 'en_core_web_md'), ('PERSON', 'Thomas Cordis m. Hannah Cordis', 1, 'PERSON', 'en_core_web_md'), ('PERSON', 'Thomas Cordis', 1, 'PERSON', 'en_core_web_md'), ('PERSON', 'Cord Cordis', 1, 'PERSON', 'en_core_web_md'), ('GPE', 'Massachusetts', 1, 'GPE', 'en_core_web_md'), ('ORG', 'the British Coffee House', 1, 'ORG', 'en_core_web_md'), ('PERSON', 'Francis Temple Cordis m. Ruth Ann Prescott', 1, 'PERSON', 'en_core_web_md'), ('PERSON', 'Thomas Francis Cordis m. Annie Byrd Colton', 1, 'PERSON', 'en_core_web_md'), ('GPE', 'Longmeadow', 1, 'GPE', 'en_core_web_md'), ('PERSON', 'Thomas Edward Cordis m. Annie Marguerite Holden', 1, 'PERSON', 'en_core_web_md'), ('PERSON', 'Edward Colton Cordis m. Mary Elizabeth Walcott Grabe', 1, 'PERSON', 'en_core_web_md'), ('GPE', 'Litchfield', 1, 'GPE', 'en_core_web_md'), ('PERSON', 'Mary Anne Cordis', 1, 'PERSON', 'en_core_web_md'), ('GPE', 'Suffield', 1, 'GPE', 'en_core_web_md'), ('ORG', 'Hong Kong Private Collection', 1, 'ORG', 'en_core_web_md'), ('PERSON', 'Stanley Gordon Moriarty', 1, 'PERSON', 'en_core_web_md'), ('PERSON', 'Todd Barlin', 1, 'PERSON', 'en_core_web_md'), ('ORG', 'Graven Images', 1, 'ORG', 'en_core_web_md'), ('GPE', 'December', 0, 'DATE', 'es_core_news_sm'), ('PERSON', 'Charlier', 1, 'PERSON', 'en_core_web_md'), ('PERSON', 'Cortina', 0, 'GPE', 'en_core_web_md'), ('PERSON', 'Carlo Perone-Capano', 1, 'PERSON', 'en_core_web_md'), ('GPE', 'Damascus', 1, 'GPE', 'en_core_web_md'), ('ORG', 'MASTERPIECES', 0, 'OTHER', 'en_core_web_md'), ('EVENT', 'THE G. SANGIORGI COLLECTION', 0, 'ORG', 'en_core_web_md'), ('ORG', 'Ulick de Burgh', 0, 'PERSON', 'en_core_web_md'), ('ORG', 'Clanricarde', 0, 'PERSON', 'en_core_web_md'), ('PERSON', 'Hariett Marchioness', 1, 'PERSON', 'en_core_web_md'), ('PERSON', 'Hubert George de Burgh-Canning', 1, 'PERSON', 'en_core_web_md'), ('PERSON', 'Henry Lascelles', 1, 'PERSON', 'en_core_web_md'), ('PERSON', 'Edward Smith', 1, 'PERSON', 'en_core_web_md'), ('ORG', 'Fragments of Time', 0, 'OTHER', 'en_core_web_md'), ('ORG', 'Eid & Son', 1, 'ORG', 'en_core_web_md'), ('ORG', 'The Red Crescent', 1, 'ORG', 'en_core_web_md'), ('GPE', 'Suez', 1, 'GPE', 'en_core_web_md'), ('OTHER', 'Miss Marianne C.J. Eras', 1, 'OTHER', 'de_core_news_sm'), ('GPE', 'Breda', 1, 'GPE', 'de_core_news_sm'), ('PERSON', 'F021', 0, 'OTHER', 'nl_core_news_sm'), ('PERSON', 'Andrew Hartnagle', 1, 'PERSON', 'en_core_web_md'), ('ORG', 'Century', 0, 'DATE', 'it_core_news_sm'), ('PERSON', 'Athos Moretti', 1, 'PERSON', 'en_core_web_md'), ('PERSON', 'Gordian Weber', 1, 'PERSON', 'en_core_web_md'), ('PERSON', 'Ip Yee', 1, 'PERSON', 'en_core_web_md'), ('PERSON', 'Jenny Lewis', 1, 'PERSON', 'en_core_web_md'), ('GPE', 'England', 1, 'GPE', 'en_core_web_md'), ('OTHER', '21st May 2009', 0, 'DATE', 'pt_core_news_sm'), ('NORP', 'Jenny', 0, 'PERSON', 'zh_core_web_sm'), ('PERSON', 'Ari Vos', 1, 'PERSON', 'en_core_web_md'), ('ORG', 'D. T. Bowring', 0, 'PERSON', 'en_core_web_md'), ('PERSON', 'Oliver Hoare', 1, 'PERSON', 'en_core_web_md'), ('PERSON', 'Christopher Gibbs', 1, 'PERSON', 'en_core_web_md'), ('PERSON', 'Morris J. Pinto', 1, 'PERSON', 'en_core_web_md'), ('NORP', 'African', 1, 'NORP', 'en_core_web_md'), ('GPE', 'Oceanic', 0, 'NORP', 'en_core_web_md'), ('FAC', 'the Pinto Collection', 0, 'ORG', 'en_core_web_md'), ('PERSON', 'Murray Frum', 1, 'PERSON', 'en_core_web_md'), ('PERSON', 'Roberta Entwistle', 1, 'PERSON', 'en_core_web_md'), ('PERSON', 'William Boyce Thompson', 1, 'PERSON', 'en_core_web_md'), ('ORG', 'William Boyce', 0, 'PERSON', 'zh_core_web_sm'), ('PERSON', 'Thompson', 1, 'PERSON', 'zh_core_web_sm'), ('PERSON', 'George Halpern', 1, 'PERSON', 'en_core_web_md'), ('GPE', 'New York City', 1, 'GPE', 'en_core_web_md'), ('PERSON', 'Ashburnham', 1, 'PERSON', 'en_core_web_md'), ('PERSON', 'Catherine Ashburnham', 1, 'PERSON', 'en_core_web_md'), ('ORG', 'Estates', 0, 'OTHER', 'en_core_web_md'), ('FAC', 'Ashburnham Place', 0, 'ORG', 'en_core_web_md'), ('PERSON', 'Abby', 0, 'OTHER', 'en_core_web_md'), ('PERSON', \"George O'Neill\", 1, 'PERSON', 'en_core_web_md'), ('ORG', \"Needham's\", 0, 'PERSON', 'en_core_web_md'), ('ORG', 'Antiques', 1, 'ORG', 'en_core_web_md'), ('PERSON', 'Axel Vervoordt Antwerpen', 1, 'PERSON', 'en_core_web_md'), ('GPE', 's-Gravenwezel', 1, 'GPE', 'fr_core_news_sm'), ('ORG', 'D068', 0, 'OTHER', 'nl_core_news_sm'), ('PERSON', 'Leo Biaggi de Blasys', 1, 'PERSON', 'en_core_web_md'), ('PERSON', 'J. H. Zeeman', 1, 'PERSON', 'en_core_web_md'), ('ORG', \"Charge d'Affaires\", 1, 'ORG', 'en_core_web_md'), ('ORG', 'the Embassy of the Netherlands', 1, 'ORG', 'en_core_web_md'), ('GPE', 'Beijing', 1, 'GPE', 'en_core_web_md'), ('GPE', '北京', 1, 'GPE', 'zh_core_web_sm'), ('PERSON', 'Paul Kasmin Gallery', 1, 'PERSON', 'en_core_web_md'), ('ORG', 'Los Angeles', 0, 'GPE', 'es_core_news_sm'), ('PERSON', 'Prince Eugene', 1, 'PERSON', 'en_core_web_md'), ('ORG', 'Savoy Carignano', 0, 'PERSON', 'en_core_web_md'), ('ORG', 'Swiss Art Market', 1, 'ORG', 'en_core_web_md'), ('GPE', 'Habsburg', 1, 'GPE', 'en_core_web_md'), ('PERSON', 'Bob P. Haboldt & Co', 0, 'ORG', 'en_core_web_md'), ('FAC', 'B033', 0, 'OTHER', 'nl_core_news_sm'), ('PERSON', 'Vente', 0, 'OTHER', 'en_core_web_md'), ('GPE', 'B033', 0, 'OTHER', 'nl_core_news_sm'), ('ORG', 'Superior Galleries', 1, 'ORG', 'en_core_web_md'), ('GPE', 'Kansas City', 1, 'GPE', 'es_core_news_sm'), ('ORG', 'Kodner Galleries', 1, 'ORG', 'en_core_web_md'), ('GPE', 'Dania Beach', 1, 'GPE', 'en_core_web_md'), ('PERSON', 'Henry H. Gorringe', 1, 'PERSON', 'en_core_web_md'), ('PERSON', 'HENRY H. GORRINGE', 1, 'PERSON', 'en_core_web_md'), ('ORG', 'the Worcester Art Museum', 1, 'ORG', 'en_core_web_md'), ('PERSON', 'Norman Norell', 1, 'PERSON', 'en_core_web_md'), ('ORG', 'Sotheby Parke Bernet, Inc.', 1, 'ORG', 'en_core_web_md'), ('PERSON', 'George Zacos', 1, 'PERSON', 'en_core_web_md'), ('PERSON', 'Litzelstetten', 0, 'GPE', 'en_core_web_md'), ('LAW', 'Item ten', 0, 'OTHER', 'en_core_web_md'), ('WORK_OF_ART', 'Sipplingen', 0, 'GPE', 'en_core_web_md'), ('ORG', 'Arrow', 0, 'OTHER', 'en_core_web_md'), ('OTHER', 'Arts d’orient-', 0, 'OTHER', 'fr_core_news_sm'), ('PERSON', 'A.J. Burniston', 1, 'PERSON', 'en_core_web_md'), ('GPE', 'the Greek Islands', 1, 'GPE', 'en_core_web_md'), ('PERSON', 'Arthur M. Sackler', 1, 'PERSON', 'en_core_web_md'), ('PERSON', '佳士得', 1, 'PERSON', 'zh_core_web_sm'), ('MONEY', '212（美金8,', 1, 'MONEY', 'zh_core_web_sm'), ('GPE', 'Leeds', 1, 'GPE', 'en_core_web_md'), ('PERSON', 'K.B.E. SOLD BY ORDER OF', 0, 'OTHER', 'en_core_web_md'), ('PERSON', 'EXECUTORS', 0, 'OTHER', 'en_core_web_md'), ('ORG', 'Swiss Private Collection', 1, 'ORG', 'en_core_web_md'), ('ORG', 'INC', 1, 'ORG', 'en_core_web_md'), ('PERSON', 'Edwina', 1, 'PERSON', 'en_core_web_md'), ('ORG', 'Anastos Collection', 1, 'ORG', 'es_core_news_sm'), ('ORG', 'Ascot', 1, 'ORG', 'en_core_web_md'), ('ORG', 'The Sven Gahlin Collection', 1, 'ORG', 'en_core_web_md'), ('ORG', \"Christie's South Kensington\", 1, 'ORG', 'en_core_web_md'), ('ORG', 'J.D. van Oenen', 1, 'ORG', 'nl_core_news_sm'), ('PERSON', 'Anatole Demidoff', 1, 'PERSON', 'en_core_web_md'), ('PERSON', 'Palazzo San Donato', 1, 'PERSON', 'en_core_web_md'), ('PERSON', 'Florence', 0, 'GPE', 'en_core_web_md'), ('PERSON', 'Charles Pillet', 1, 'PERSON', 'en_core_web_md'), ('GPE', 'San Donato', 0, 'PERSON', 'en_core_web_md'), ('GPE', 'Ferrières', 1, 'GPE', 'fr_core_news_sm'), ('GPE', 'Seine-et-Marne', 1, 'GPE', 'fr_core_news_sm'), ('ORG', 'Rothschild', 0, 'PERSON', 'fr_core_news_sm'), ('PERSON', 'Michał Tyszkiewicz', 1, 'PERSON', 'pl_core_news_sm'), ('PERSON', 'Rome', 0, 'GPE', 'pl_core_news_sm'), ('NORP', '1892', 0, 'DATE', 'pl_core_news_sm'), ('ORG', 'Rollin & Feuardent', 1, 'ORG', 'en_core_web_md'), ('PERSON', 'P. Hamonic', 1, 'PERSON', 'en_core_web_md'), ('ORG', 'Pierre and', 0, 'PERSON', 'fr_core_news_sm'), ('PERSON', 'Hartman Rare Art', 0, 'ORG', 'en_core_web_md'), ('NORP', 'Hart', 0, 'OTHER', 'zh_core_web_sm'), ('PERSON', 'Benjamin Wolff Collection', 0, 'ORG', 'en_core_web_md'), ('WORK_OF_ART', \"The Wolff Collection' Sale\", 0, 'ORG', 'en_core_web_md'), ('PERSON', 'Bruun Rasmussen', 1, 'PERSON', 'en_core_web_md'), ('GPE', 'Copenhagen', 1, 'GPE', 'en_core_web_md'), ('PERSON', 'Leo Gallery', 0, 'ORG', 'en_core_web_md'), ('GPE', '上海', 1, 'GPE', 'zh_core_web_sm'), ('ORG', 'XXV', 0, 'NUMBER', 'en_core_web_md'), ('ORG', 'BUTLER', 0, 'OTHER', 'en_core_web_md'), ('OTHER', '4 June 2015', 0, 'DATE', 'fr_core_news_sm'), ('PERSON', 'Edgar Vincent', 1, 'PERSON', 'en_core_web_md'), ('PERSON', \"Lady d'Abernon\", 1, 'PERSON', 'en_core_web_md'), ('PERSON', 'Richard Worsley', 1, 'PERSON', 'en_core_web_md'), ('PERSON', 'Appuldurcumbe House', 0, 'ORG', 'en_core_web_md'), ('GPE', 'Isle of Wight', 1, 'GPE', 'en_core_web_md'), ('GPE', 'Yarborough', 1, 'GPE', 'en_core_web_md'), ('GPE', 'Brocklesby Park', 1, 'GPE', 'en_core_web_md'), ('GPE', 'Bohler', 0, 'ORG', 'en_core_web_md'), ('GPE', 'Münich', 1, 'GPE', 'en_core_web_md'), ('GPE', 'Commissaire-priseur', 0, 'OTHER', 'fr_core_news_sm'), ('OTHER', 'February 2017', 0, 'DATE', 'fr_core_news_sm'), ('ORG', 'Sotheby Parke Bernet, Inc. New York', 1, 'ORG', 'en_core_web_md'), ('GPE', '瑞士', 1, 'GPE', 'zh_core_web_sm'), ('PERSON', 'Margaret Nash', 1, 'PERSON', 'en_core_web_md'), ('ORG', 'Artist', 0, 'OTHER', 'en_core_web_md'), ('ORG', 'The Leicester Galleries', 1, 'ORG', 'en_core_web_md'), ('NORP', 'Ex-German', 1, 'NORP', 'en_core_web_md'), ('ORG', 'ex-H. Mol Collection', 1, 'ORG', 'en_core_web_md'), ('PERSON', 'Galerie Numaga', 0, 'ORG', 'en_core_web_md'), ('PERSON', 'Philippe Laeremans', 1, 'PERSON', 'en_core_web_md'), ('GPE', 'United Kingdom', 1, 'GPE', 'en_core_web_md'), ('GPE', 'U.A.E.', 1, 'GPE', 'en_core_web_md'), ('GPE', 'Asia', 1, 'GPE', 'en_core_web_md'), ('PERSON', '現藏家', 1, 'PERSON', 'zh_core_web_sm'), ('PERSON', 'Gordon Partridge', 1, 'PERSON', 'en_core_web_md'), ('PERSON', 'Patti Cadby Birch', 1, 'PERSON', 'en_core_web_md'), ('PERSON', 'Everett B. Birch', 1, 'PERSON', 'en_core_web_md'), ('PERSON', 'Charles-Edouard Duflon', 1, 'PERSON', 'en_core_web_md'), ('PERSON', 'F. Low-Beer & Co', 0, 'ORG', 'en_core_web_md'), ('PERSON', '肯普', 1, 'PERSON', 'zh_core_web_sm'), ('GPE', 'Auxerre', 1, 'GPE', 'fr_core_news_sm'), ('OTHER', 'October 1985', 0, 'DATE', 'fr_core_news_sm'), ('PERSON', 'Nina Borowski', 1, 'PERSON', 'en_core_web_md'), ('ORG', 'Arts Nouv', 1, 'ORG', 'fr_core_news_sm'), ('GPE', 'Hôtel Drouot', 0, 'ORG', 'fr_core_news_sm'), ('OTHER', 'June 2014', 0, 'DATE', 'fr_core_news_sm'), ('OTHER', 'lot5', 0, 'OTHER', 'fr_core_news_sm'), ('OTHER', 'The Dillée Collection', 0, 'ORG', 'fr_core_news_sm'), ('ORG', 'ROCAILLE', 0, 'OTHER', 'en_core_web_md'), ('WORK_OF_ART', 'Faces From The Ancient World', 0, 'OTHER', 'en_core_web_md'), ('NORP', 'Egyptian', 1, 'NORP', 'en_core_web_md'), ('PERSON', 'Amlash Pottery', 1, 'PERSON', 'en_core_web_md'), ('PERSON', 'The Leo Mildenberg Collection of Ancient Animals', 0, 'ORG', 'en_core_web_md'), ('PERSON', 'J. Settgast', 1, 'PERSON', 'en_core_web_md'), ('FAC', 'E.T. Hall', 1, 'FAC', 'en_core_web_md'), ('GPE', 'Mediterranean World', 1, 'GPE', 'en_core_web_md'), ('PERSON', 'Archibald Stirling', 1, 'PERSON', 'en_core_web_md'), ('ORG', 'Keir', 1, 'ORG', 'en_core_web_md'), ('PERSON', 'William Joseph Stirling', 1, 'PERSON', 'en_core_web_md'), ('PERSON', 'Richard D.', 1, 'PERSON', 'en_core_web_md'), ('PERSON', 'Billie Lou Wood', 1, 'PERSON', 'en_core_web_md'), ('PERSON', 'Alfred Morrison', 1, 'PERSON', 'en_core_web_md'), ('ORG', 'Carlton House Terrace', 0, 'ORG', 'en_core_web_md'), ('PERSON', 'Hester Sassoon', 1, 'PERSON', 'en_core_web_md'), ('PERSON', 'née Gatty', 1, 'PERSON', 'en_core_web_md'), ('PERSON', 'Siegried Sassoon', 1, 'PERSON', 'en_core_web_md'), ('FAC', 'Heytesbury House', 0, 'ORG', 'en_core_web_md'), ('GPE', 'Wiltshire', 1, 'GPE', 'en_core_web_md'), ('PERSON', 'George Sassoon', 1, 'PERSON', 'en_core_web_md'), ('GPE', 'Edinburgh', 1, 'GPE', 'en_core_web_md'), ('GPE', 'Feldman', 0, 'PERSON', 'en_core_web_md'), ('PERSON', 'Albert Spaulding', 1, 'PERSON', 'en_core_web_md'), ('GPE', 'Pittsfield', 1, 'GPE', 'en_core_web_md'), ('ORG', 'The Berkshire Museum', 1, 'ORG', 'en_core_web_md'), ('PERSON', 'Pittsfield', 0, 'GPE', 'en_core_web_md'), ('GPE', 'Bar Harbor', 1, 'GPE', 'en_core_web_md'), ('ORG', 'Seal Harbor', 0, 'GPE', 'de_core_news_sm'), ('ORG', 'CORD', 0, 'OTHER', 'en_core_web_md'), ('PERSON', 'Richard H. Cord', 1, 'PERSON', 'en_core_web_md'), ('PERSON', 'K. Woodard', 1, 'PERSON', 'lt_core_news_sm'), ('ORG', 'Northeast Auctions', 1, 'ORG', 'en_core_web_md'), ('GPE', 'Manchester', 1, 'GPE', 'en_core_web_md'), ('GPE', 'New Hampshire', 1, 'GPE', 'en_core_web_md'), ('PERSON', 'Susan', 1, 'PERSON', 'en_core_web_md'), ('PERSON', 'Raymond Egan', 1, 'PERSON', 'en_core_web_md'), ('GPE', 'Galerie 41', 0, 'ORG', 'de_core_news_sm'), ('PERSON', 'Galerie', 0, 'ORG', 'zh_core_web_sm'), ('PERSON', 'H. Mansour Collection', 0, 'ORG', 'en_core_web_md'), ('PERSON', 'Tim D. Wright Master Drawings', 0, 'OTHER', 'en_core_web_md'), ('PERSON', 'David Jones', 1, 'PERSON', 'en_core_web_md'), ('GPE', 'SYDNEY', 1, 'GPE', 'en_core_web_md'), ('ORG', 'Fine and Decorative Art', 1, 'ORG', 'en_core_web_md'), ('GPE', 'Lempertz', 1, 'GPE', 'de_core_news_sm'), ('ORG', 'G. McKinley Collection', 1, 'ORG', 'en_core_web_md'), ('ORG', 'nbr', 0, 'OTHER', 'en_core_web_md'), ('PERSON', 'Bonham', 0, 'ORG', 'en_core_web_md'), ('PERSON', 'Dikran Kelekian', 1, 'PERSON', 'en_core_web_md'), ('PERSON', 'Ellen Moeller', 1, 'PERSON', 'en_core_web_md'), ('ORG', 'Pennsylvania Private Collection', 1, 'ORG', 'en_core_web_md'), ('PERSON', 'Alexander Schreiber', 1, 'PERSON', 'en_core_web_md'), ('PERSON', 'Possibly Loed van Bussel', 1, 'PERSON', 'en_core_web_md'), ('PERSON', 'Cornelis Pieter Meulendijk', 1, 'PERSON', 'en_core_web_md'), ('GPE', 'Rotterdam', 1, 'GPE', 'en_core_web_md'), ('ORG', 'The Meulendijk Collection of Tribal Art', 1, 'ORG', 'en_core_web_md'), ('PERSON', 'Ben Heller', 1, 'PERSON', 'en_core_web_md'), ('PERSON', 'Antiquair K. Grusenmeyer', 0, 'ORG', 'en_core_web_md'), ('ORG', 'Henningsen Collection', 1, 'ORG', 'de_core_news_sm'), ('PERSON', 'Zakaria Collection', 1, 'PERSON', 'en_core_web_md'), ('PERSON', 'Hadji Baba', 1, 'PERSON', 'en_core_web_md'), ('PERSON', 'Anthony Jacobs', 1, 'PERSON', 'en_core_web_md'), ('PERSON', 'Wilhelm Horn', 1, 'PERSON', 'en_core_web_md')]\n"
     ]
    }
   ],
   "source": [
    "NER_res = []\n",
    "labels = new_dict.keys()\n",
    "labels = list(labels)\n",
    "labels.append('OTHER')\n",
    "print(len(NER_eval))\n",
    "exceptions = ['DATE','NUMBER']\n",
    "for x in new_eval:\n",
    "    if x[0] in exceptions:\n",
    "        pass\n",
    "    else:\n",
    "            \n",
    "        # Flag to indicate whether a match is found in NER_res\n",
    "        match_found = False\n",
    "        \n",
    "        for res in NER_res:\n",
    "            if (x[0], x[1]) == (res[0], res[1]):\n",
    "                match_found = True\n",
    "                break  # Exit the loop if a match is found\n",
    "        \n",
    "        if not match_found:\n",
    "            print(x)\n",
    "            \n",
    "            while True:\n",
    "                answer = input(\"1 if it's OK, add the correct tag if not: \")\n",
    "                if answer == \"1\":\n",
    "                    y = (x[0], x[1], 1, x[0], x[2])\n",
    "                    break  # Exit the loop when valid input is provided\n",
    "                elif answer.upper() in labels:\n",
    "                    y = (x[0], x[1], 0, answer.upper(), x[2])\n",
    "                    break  # Exit the loop when valid input is provided\n",
    "                else:\n",
    "                    print(\"Invalid input. Please enter 0 or 1 or a valid label.\")\n",
    "            \n",
    "            NER_res.append(y)\n",
    "\n",
    "print(NER_res)"
   ]
  },
  {
   "cell_type": "code",
   "execution_count": 82,
   "id": "3ec93324-a27e-41be-b9e1-7c7050be8c35",
   "metadata": {},
   "outputs": [
    {
     "name": "stdout",
     "output_type": "stream",
     "text": [
      "good 780\n",
      "bad 273\n",
      "Counts of models in most inaccurates: Counter({'en_core_web_md': 123, 'fr_core_news_sm': 52, 'de_core_news_sm': 20, 'nl_core_news_sm': 19, 'it_core_news_sm': 18, 'zh_core_web_sm': 18, 'es_core_news_sm': 9, 'pt_core_news_sm': 5, 'pl_core_news_sm': 3, 'fi_core_news_sm': 2, 'lt_core_news_sm': 2, 'da_core_news_sm': 1, 'nb_core_news_sm': 1})\n",
      "Most inaccurate tags: Counter({'ORG instead of OTHER': 27, 'OTHER instead of DATE': 27, 'PERSON instead of ORG': 23, 'ORG instead of GPE': 22, 'GPE instead of OTHER': 20, 'GPE instead of ORG': 20, 'ORG instead of PERSON': 15, 'PERSON instead of OTHER': 14, 'OTHER instead of ORG': 13, 'PERSON instead of GPE': 13, 'FAC instead of ORG': 12, 'GPE instead of PERSON': 11, 'FAC instead of OTHER': 5, 'OTHER instead of OTHER': 5, 'WORK_OF_ART instead of OTHER': 4, 'LAW instead of OTHER': 4, 'GPE instead of DATE': 4, 'ORG instead of DATE': 3, 'FAC instead of GPE': 3, 'PRODUCT instead of OTHER': 2, 'OTHER instead of PERSON': 2, 'ORG instead of NUMBER': 2, 'NORP instead of PERSON': 2, 'OTHER instead of GPE': 2, 'FAC instead of PERSON': 2, 'NORP instead of OTHER': 2, 'LANGUAGE instead of PERSON': 1, 'OTHER instead of NORP': 1, 'ORG instead of NORP': 1, 'GPE instead of NUMBER': 1, 'NORP instead of ORG': 1, 'OTHER instead of NUMBER': 1, 'LANGUAGE instead of OTHER': 1, 'PRODUCT instead of ORG': 1, 'EVENT instead of ORG': 1, 'GPE instead of NORP': 1, 'WORK_OF_ART instead of GPE': 1, 'NORP instead of DATE': 1, 'WORK_OF_ART instead of ORG': 1, 'ORG instead of ORG': 1})\n"
     ]
    }
   ],
   "source": [
    "good = 0\n",
    "bad = 0\n",
    "bads = []\n",
    "\n",
    "for x in NER_res:\n",
    "    if x[2] == 1:\n",
    "        good += 1\n",
    "    else:\n",
    "        bad += 1\n",
    "        bads.append(x)\n",
    "\n",
    "print(f'good {good}')\n",
    "print(f'bad {bad}')\n",
    "\n",
    "# Count the occurrences of each model in the most inaccurates\n",
    "from collections import Counter\n",
    "model_counts = Counter(x[4] for x in bads)\n",
    "\n",
    "# Find the most inaccurate tags\n",
    "most_inaccurates_tags = Counter([f\"{x[0]} instead of {x[3]}\" for x in bads])\n",
    "\n",
    "print(f\"Counts of models in most inaccurates: {model_counts}\")\n",
    "print(f\"Most inaccurate tags: {most_inaccurates_tags}\")\n"
   ]
  },
  {
   "cell_type": "code",
   "execution_count": 115,
   "id": "35acfbce-2ae8-4d8d-bf55-14870f4043bd",
   "metadata": {},
   "outputs": [],
   "source": [
    "TAGS_ = []\n",
    "for x in bads:\n",
    "    TAGS_.append(x[3])\n",
    "tags_ = list(set(TAGS_))"
   ]
  },
  {
   "cell_type": "code",
   "execution_count": 116,
   "id": "3c773be5-2e16-4a80-b17a-cbbc38961456",
   "metadata": {},
   "outputs": [
    {
     "data": {
      "text/plain": [
       "['GPE', 'NUMBER', 'NORP', 'OTHER', 'PERSON', 'ORG', 'DATE']"
      ]
     },
     "execution_count": 116,
     "metadata": {},
     "output_type": "execute_result"
    }
   ],
   "source": [
    "tags_"
   ]
  },
  {
   "cell_type": "code",
   "execution_count": 117,
   "id": "20a533d2-6828-433d-801f-92b20714fc6f",
   "metadata": {
    "scrolled": true
   },
   "outputs": [
    {
     "data": {
      "text/plain": [
       "[('ORG', 'Myth', 0, 'OTHER', 'en_core_web_md'),\n",
       " ('OTHER', 'December 1982', 0, 'DATE', 'fr_core_news_sm'),\n",
       " ('OTHER', 'December 1992', 0, 'DATE', 'fr_core_news_sm'),\n",
       " ('ORG', 'PRINCELY', 0, 'OTHER', 'en_core_web_md'),\n",
       " ('FAC', 'B004', 0, 'OTHER', 'nl_core_news_sm'),\n",
       " ('GPE', 'n°', 0, 'OTHER', 'en_core_web_md'),\n",
       " ('LANGUAGE', 'Filipino', 0, 'PERSON', 'en_core_web_md'),\n",
       " ('GPE', 'Petit Musée', 0, 'ORG', 'fr_core_news_sm'),\n",
       " ('PRODUCT', 'Cinq-Mars', 0, 'OTHER', 'en_core_web_md'),\n",
       " ('OTHER', 'Sui Yuan', 0, 'PERSON', 'fr_core_news_sm'),\n",
       " ('GPE', 'Arte Primitivo', 0, 'ORG', 'en_core_web_md'),\n",
       " ('ORG', 'Martin', 0, 'PERSON', 'en_core_web_md'),\n",
       " ('ORG', 'Queens', 0, 'GPE', 'fi_core_news_sm'),\n",
       " ('ORG', 'MIAMI', 0, 'GPE', 'en_core_web_md'),\n",
       " ('ORG', 'XII', 0, 'NUMBER', 'en_core_web_md'),\n",
       " ('OTHER', 'Galerie Démons', 0, 'ORG', 'fr_core_news_sm'),\n",
       " ('GPE', 'Merveilles', 0, 'OTHER', 'fr_core_news_sm'),\n",
       " ('PERSON', 'Lowther Castle', 0, 'ORG', 'en_core_web_md'),\n",
       " ('FAC', 'the Tuyet Nguyet', 0, 'ORG', 'en_core_web_md'),\n",
       " ('GPE', \"Christie'\", 0, 'ORG', 'fr_core_news_sm'),\n",
       " ('OTHER', 'December 2001', 0, 'DATE', 'fr_core_news_sm'),\n",
       " ('OTHER', 'December 2002', 0, 'DATE', 'fr_core_news_sm'),\n",
       " ('PERSON', 'Barakat Antiquities', 0, 'ORG', 'en_core_web_md'),\n",
       " ('ORG', 'LUGGALA', 0, 'GPE', 'en_core_web_md'),\n",
       " ('ORG', 'HON', 0, 'OTHER', 'en_core_web_md'),\n",
       " ('ORG', 'Lincoln', 0, 'GPE', 'en_core_web_md'),\n",
       " ('NORP', 'Heape', 0, 'PERSON', 'en_core_web_md'),\n",
       " ('ORG', 'KP', 0, 'OTHER', 'en_core_web_md'),\n",
       " ('PERSON', 'KILLADOON HOUSE', 0, 'ORG', 'en_core_web_md'),\n",
       " ('OTHER', 'English', 0, 'NORP', 'it_core_news_sm'),\n",
       " ('ORG', 'Liskaerd, Cornouailles', 0, 'GPE', 'en_core_web_md'),\n",
       " ('PERSON', '布魯克林', 0, 'GPE', 'zh_core_web_sm'),\n",
       " ('FAC', 'Collection Particulière', 0, 'ORG', 'zh_core_web_sm'),\n",
       " ('ORG', 'CHINE', 0, 'NORP', 'zh_core_web_sm'),\n",
       " ('PERSON', 'Oranmore', 0, 'GPE', 'en_core_web_md'),\n",
       " ('ORG', 'ROSALINDE', 0, 'PERSON', 'en_core_web_md'),\n",
       " ('OTHER', 'Zurich 12 May', 0, 'DATE', 'de_core_news_sm'),\n",
       " ('OTHER', 'April 2010', 0, 'DATE', 'fr_core_news_sm'),\n",
       " ('GPE', '3653', 0, 'NUMBER', 'en_core_web_md'),\n",
       " ('PERSON', 'Oakland', 0, 'GPE', 'lt_core_news_sm'),\n",
       " ('ORG', 'March', 0, 'DATE', 'de_core_news_sm'),\n",
       " ('OTHER', 'Mandi royal collection', 0, 'ORG', 'it_core_news_sm'),\n",
       " ('PERSON', 'Fine Oriental Manuscripts', 0, 'ORG', 'en_core_web_md'),\n",
       " ('NORP', 'JAMIESON', 0, 'ORG', 'en_core_web_md'),\n",
       " ('OTHER', 'December 1995', 0, 'DATE', 'it_core_news_sm'),\n",
       " ('PERSON', 'C.T. Loo', 0, 'ORG', 'en_core_web_md'),\n",
       " ('ORG', 'London', 0, 'GPE', 'it_core_news_sm'),\n",
       " ('OTHER', 'Surena collection', 0, 'ORG', 'it_core_news_sm'),\n",
       " ('PERSON', 'kilga', 0, 'OTHER', 'en_core_web_md'),\n",
       " ('WORK_OF_ART', 'Sureda', 0, 'OTHER', 'en_core_web_md'),\n",
       " ('ORG', 'Surena', 0, 'OTHER', 'en_core_web_md'),\n",
       " ('GPE', 'Empress', 0, 'PERSON', 'en_core_web_md'),\n",
       " ('ORG', 'Merlin Montagu Douglas Scott', 0, 'PERSON', 'en_core_web_md'),\n",
       " ('GPE', 'C007', 0, 'OTHER', 'nl_core_news_sm'),\n",
       " ('PERSON', 'Sa vente', 0, 'OTHER', 'en_core_web_md'),\n",
       " ('PERSON', 'London', 0, 'GPE', 'zh_core_web_sm'),\n",
       " ('PRODUCT', '1083', 0, 'OTHER', 'en_core_web_md'),\n",
       " ('GPE', 'Bonhams Hong Kong', 0, 'ORG', 'pt_core_news_sm'),\n",
       " ('OTHER', '24th November', 0, 'DATE', 'pt_core_news_sm'),\n",
       " ('FAC', '288', 0, 'OTHER', 'zh_core_web_sm'),\n",
       " ('PERSON', 'Leitrim', 0, 'GPE', 'en_core_web_md'),\n",
       " ('OTHER', '14 June 2000', 0, 'DATE', 'fr_core_news_sm'),\n",
       " ('ORG', 'Buffalo', 0, 'GPE', 'de_core_news_sm'),\n",
       " ('FAC', 'Lowther Castle', 0, 'ORG', 'en_core_web_md'),\n",
       " ('OTHER', 'December 1977', 0, 'DATE', 'fr_core_news_sm'),\n",
       " ('OTHER', 'Arete', 0, 'ORG', 'de_core_news_sm'),\n",
       " ('LAW', 'D001', 0, 'OTHER', 'nl_core_news_sm'),\n",
       " ('PERSON', 'D001', 0, 'OTHER', 'nl_core_news_sm'),\n",
       " ('ORG', 'Basel', 0, 'GPE', 'de_core_news_sm'),\n",
       " ('OTHER', 'Auktion XVIII', 0, 'OTHER', 'de_core_news_sm'),\n",
       " ('OTHER', '4 June 1999', 0, 'DATE', 'fr_core_news_sm'),\n",
       " ('GPE', 'March 2008', 0, 'DATE', 'fr_core_news_sm'),\n",
       " ('OTHER', 'July 1992', 0, 'DATE', 'fr_core_news_sm'),\n",
       " ('FAC', 'the Ronald W. Longsdorf Collection |', 0, 'ORG', 'en_core_web_md'),\n",
       " ('ORG', 'Mainz', 0, 'GPE', 'en_core_web_md'),\n",
       " ('GPE', \"Christie's\", 0, 'ORG', 'de_core_news_sm'),\n",
       " ('PERSON', 'Hamiltons Gallery', 0, 'ORG', 'en_core_web_md'),\n",
       " ('GPE', 'March', 0, 'DATE', 'fr_core_news_sm'),\n",
       " ('GPE', 'Lawrence', 0, 'PERSON', 'lt_core_news_sm'),\n",
       " ('OTHER', 'Pomarancio -/ a.d', 0, 'OTHER', 'it_core_news_sm'),\n",
       " ('OTHER', 'Lawrence Collection', 0, 'ORG', 'it_core_news_sm'),\n",
       " ('ORG', 'Gold & Silver Auction Part II', 0, 'OTHER', 'en_core_web_md'),\n",
       " ('ORG', 'Renaissance', 0, 'OTHER', 'en_core_web_md'),\n",
       " ('GPE', 'Bonhams', 0, 'ORG', 'en_core_web_md'),\n",
       " ('OTHER', 'October 2017', 0, 'DATE', 'fr_core_news_sm'),\n",
       " ('OTHER', 'October 2018', 0, 'DATE', 'fr_core_news_sm'),\n",
       " ('FAC', 'Collection W.J.R. Dreesmann', 0, 'ORG', 'nl_core_news_sm'),\n",
       " ('OTHER',\n",
       "  'Collection Professor Dr Drs Anton C.R. Dreesmann',\n",
       "  0,\n",
       "  'ORG',\n",
       "  'es_core_news_sm'),\n",
       " ('GPE', 'D73', 0, 'OTHER', 'es_core_news_sm'),\n",
       " ('WORK_OF_ART', 'D040', 0, 'OTHER', 'nl_core_news_sm'),\n",
       " ('OTHER', 'two', 0, 'NUMBER', 'fr_core_news_sm'),\n",
       " ('ORG', 'Stuttgart', 0, 'GPE', 'fi_core_news_sm'),\n",
       " ('GPE', 'Sammlung  Hans Koenig', 0, 'PERSON', 'de_core_news_sm'),\n",
       " ('PERSON', 'Bonhams London', 0, 'ORG', 'en_core_web_md'),\n",
       " ('PERSON', 'Sidney', 0, 'GPE', 'en_core_web_md'),\n",
       " ('ORG', 'Scarsdale', 0, 'GPE', 'en_core_web_md'),\n",
       " ('ORG', 'M. Gillingham', 0, 'PERSON', 'en_core_web_md'),\n",
       " ('GPE', 'Jade House', 0, 'ORG', 'en_core_web_md'),\n",
       " ('ORG', 'Freiburg', 0, 'GPE', 'de_core_news_sm'),\n",
       " ('OTHER', 'Eymery & Cie', 0, 'ORG', 'fr_core_news_sm'),\n",
       " ('OTHER', 'Geneva', 0, 'GPE', 'de_core_news_sm'),\n",
       " ('OTHER', 'Collection Vincente Huidobro', 0, 'ORG', 'pt_core_news_sm'),\n",
       " ('GPE', 'Chili', 0, 'OTHER', 'pt_core_news_sm'),\n",
       " ('GPE', 'Collection', 0, 'ORG', 'fr_core_news_sm'),\n",
       " ('PERSON', 'J034', 0, 'OTHER', 'nl_core_news_sm'),\n",
       " ('ORG', 'Purportedly', 0, 'OTHER', 'en_core_web_md'),\n",
       " ('OTHER', 'December 1999', 0, 'DATE', 'fr_core_news_sm'),\n",
       " ('OTHER', 'Dr Drs Anton C.R. Dreesmann', 0, 'PERSON', 'de_core_news_sm'),\n",
       " ('PERSON', 'E017', 0, 'OTHER', 'nl_core_news_sm'),\n",
       " ('GPE', 'E19', 0, 'OTHER', 'fr_core_news_sm'),\n",
       " ('LANGUAGE', 'PROPERTY', 0, 'OTHER', 'zh_core_web_sm'),\n",
       " ('GPE', 'Marcel', 0, 'PERSON', 'zh_core_web_sm'),\n",
       " ('OTHER', 'December 2003', 0, 'DATE', 'fr_core_news_sm'),\n",
       " ('OTHER', 'December 2000', 0, 'DATE', 'fr_core_news_sm'),\n",
       " ('ORG', 'SELECTED PAINTINGS', 0, 'OTHER', 'zh_core_web_sm'),\n",
       " ('FAC', '3632', 0, 'OTHER', 'en_core_web_md'),\n",
       " ('FAC', 'the Dafengtang Collection', 0, 'ORG', 'en_core_web_md'),\n",
       " ('PERSON', 'Londres', 0, 'GPE', 'en_core_web_md'),\n",
       " ('GPE', 'Ägyptologische Hefte', 0, 'OTHER', 'de_core_news_sm'),\n",
       " ('ORG', 'Orientalischen Seminars', 0, 'OTHER', 'de_core_news_sm'),\n",
       " ('OTHER', 'Fortuna Fine Arts', 0, 'ORG', 'it_core_news_sm'),\n",
       " ('GPE', 'Ltd', 0, 'ORG', 'it_core_news_sm'),\n",
       " ('LAW', 'Item two', 0, 'OTHER', 'en_core_web_md'),\n",
       " ('GPE', 'Frederick', 0, 'PERSON', 'en_core_web_md'),\n",
       " ('ORG', 'Royal', 0, 'OTHER', 'en_core_web_md'),\n",
       " ('ORG', 'Teviotdale', 0, 'GPE', 'en_core_web_md'),\n",
       " ('GPE', 'B85', 0, 'OTHER', 'es_core_news_sm'),\n",
       " ('LAW', 'B009', 0, 'OTHER', 'nl_core_news_sm'),\n",
       " ('GPE', 'Afd.26/3', 0, 'OTHER', 'fr_core_news_sm'),\n",
       " ('PERSON', 'Leo Castelli Gallery', 0, 'ORG', 'en_core_web_md'),\n",
       " ('GPE', 'ca', 0, 'OTHER', 'fr_core_news_sm'),\n",
       " ('OTHER', '1985', 0, 'DATE', 'fr_core_news_sm'),\n",
       " ('PERSON', 'Hôtel Drouot', 0, 'ORG', 'en_core_web_md'),\n",
       " ('OTHER', 'May 2013', 0, 'DATE', 'fr_core_news_sm'),\n",
       " ('GPE', 'Donati', 0, 'PERSON', 'it_core_news_sm'),\n",
       " ('FAC', 'Portobello Road', 0, 'GPE', 'en_core_web_md'),\n",
       " ('ORG', 'Londres', 0, 'GPE', 'de_core_news_sm'),\n",
       " ('FAC', 'Edric van Vredenburgh', 0, 'PERSON', 'nl_core_news_sm'),\n",
       " ('ORG', 'Emmanuel de Monbrison', 0, 'PERSON', 'en_core_web_md'),\n",
       " ('NORP', 'M.4.10', 0, 'OTHER', 'en_core_web_md'),\n",
       " ('PERSON', 'Ecoute', 0, 'OTHER', 'pl_core_news_sm'),\n",
       " ('GPE', '6040', 0, 'OTHER', 'en_core_web_md'),\n",
       " ('ORG', 'An American Place', 0, 'GPE', 'en_core_web_md'),\n",
       " ('GPE', 'Christie’s Paris', 0, 'ORG', 'de_core_news_sm'),\n",
       " ('ORG', 'Holger', 0, 'PERSON', 'zh_core_web_sm'),\n",
       " ('GPE', 'Piasa', 0, 'ORG', 'en_core_web_md'),\n",
       " ('GPE', 'Musée Bourdelle', 0, 'ORG', 'fr_core_news_sm'),\n",
       " ('ORG', 'Sold Without Reserve', 0, 'OTHER', 'en_core_web_md'),\n",
       " ('OTHER', 'Rome', 0, 'GPE', 'it_core_news_sm'),\n",
       " ('ORG', 'Monaco', 0, 'GPE', 'es_core_news_sm'),\n",
       " ('GPE', 'Walter', 0, 'PERSON', 'zh_core_web_sm'),\n",
       " ('PERSON', 'Karen Brown Gallery', 0, 'ORG', 'en_core_web_md'),\n",
       " ('PERSON', 'Q.9.37', 0, 'OTHER', 'en_core_web_md'),\n",
       " ('PERSON', '洛杉磯', 0, 'GPE', 'zh_core_web_sm'),\n",
       " ('OTHER', 'D52', 0, 'OTHER', 'es_core_news_sm'),\n",
       " ('WORK_OF_ART', 'D032', 0, 'OTHER', 'nl_core_news_sm'),\n",
       " ('FAC', 'La Haye', 0, 'GPE', 'nl_core_news_sm'),\n",
       " ('GPE', 'D52', 0, 'OTHER', 'fr_core_news_sm'),\n",
       " ('ORG', 'Tehran', 0, 'GPE', 'de_core_news_sm'),\n",
       " ('OTHER', 'June 1989', 0, 'DATE', 'fr_core_news_sm'),\n",
       " ('GPE', 'Villa Visconti Alari', 0, 'ORG', 'it_core_news_sm'),\n",
       " ('OTHER', 'Private Collection', 0, 'ORG', 'it_core_news_sm'),\n",
       " ('ORG', 'Milan', 0, 'GPE', 'it_core_news_sm'),\n",
       " ('GPE', 'l’', 0, 'OTHER', 'fr_core_news_sm'),\n",
       " ('PRODUCT', 'French private collection', 0, 'ORG', 'zh_core_web_sm'),\n",
       " ('ORG', 'Ancient Vases', 0, 'OTHER', 'en_core_web_md'),\n",
       " ('FAC', 'Collection Mrs', 0, 'ORG', 'nl_core_news_sm'),\n",
       " ('FAC', 'B010', 0, 'OTHER', 'nl_core_news_sm'),\n",
       " ('GPE', \"Sotheby'\", 0, 'ORG', 'fr_core_news_sm'),\n",
       " ('GPE', 'B111', 0, 'OTHER', 'fr_core_news_sm'),\n",
       " ('ORG', 'Esq,', 0, 'OTHER', 'en_core_web_md'),\n",
       " ('ORG', 'Metal Vases', 0, 'OTHER', 'en_core_web_md'),\n",
       " ('GPE', 'Berkowitsch', 0, 'PERSON', 'de_core_news_sm'),\n",
       " ('GPE', 'Wellington Hotel', 0, 'ORG', 'de_core_news_sm'),\n",
       " ('ORG', 'ALHAMBRA', 0, 'GPE', 'en_core_web_md'),\n",
       " ('PERSON', 'Wou\\xa0Lien-Pai Museum', 0, 'ORG', 'en_core_web_md'),\n",
       " ('GPE', 'Coeur', 0, 'OTHER', 'en_core_web_md'),\n",
       " ('GPE', 'Nicolier', 0, 'PERSON', 'fr_core_news_sm'),\n",
       " ('ORG', 'Sr', 0, 'OTHER', 'en_core_web_md'),\n",
       " ('GPE', 'Bedelle Jewelry Collection', 0, 'ORG', 'it_core_news_sm'),\n",
       " ('FAC', 'Roger Keverne', 0, 'PERSON', 'zh_core_web_sm'),\n",
       " ('GPE', 'Superior Galleries', 0, 'ORG', 'es_core_news_sm'),\n",
       " ('GPE', 'J57', 0, 'OTHER', 'es_core_news_sm'),\n",
       " ('PERSON', 'J017', 0, 'OTHER', 'nl_core_news_sm'),\n",
       " ('OTHER', 'The Dr Anton C.R.', 0, 'ORG', 'fr_core_news_sm'),\n",
       " ('FAC', 'the Erlenmeyer Collection', 0, 'ORG', 'en_core_web_md'),\n",
       " ('OTHER', 'June 2006', 0, 'DATE', 'fr_core_news_sm'),\n",
       " ('ORG', 'CHI', 0, 'OTHER', 'zh_core_web_sm'),\n",
       " ('OTHER', 'June 2003', 0, 'DATE', 'fr_core_news_sm'),\n",
       " ('GPE', 'June 15th', 0, 'DATE', 'it_core_news_sm'),\n",
       " ('ORG', 'April', 0, 'DATE', 'fr_core_news_sm'),\n",
       " ('GPE', 'collected', 0, 'OTHER', 'da_core_news_sm'),\n",
       " ('OTHER', 'Collection', 0, 'ORG', 'it_core_news_sm'),\n",
       " ('FAC', 'Delmore Downs Station', 0, 'GPE', 'en_core_web_md'),\n",
       " ('FAC', 'the Delmore Gallery', 0, 'ORG', 'en_core_web_md'),\n",
       " ('ORG', 'MARKO', 0, 'PERSON', 'en_core_web_md'),\n",
       " ('GPE', 'Transmis', 0, 'OTHER', 'fr_core_news_sm'),\n",
       " ('ORG', 'France', 0, 'GPE', 'nb_core_news_sm'),\n",
       " ('GPE', 'December', 0, 'DATE', 'es_core_news_sm'),\n",
       " ('PERSON', 'Cortina', 0, 'GPE', 'en_core_web_md'),\n",
       " ('ORG', 'MASTERPIECES', 0, 'OTHER', 'en_core_web_md'),\n",
       " ('EVENT', 'THE G. SANGIORGI COLLECTION', 0, 'ORG', 'en_core_web_md'),\n",
       " ('ORG', 'Ulick de Burgh', 0, 'PERSON', 'en_core_web_md'),\n",
       " ('ORG', 'Clanricarde', 0, 'PERSON', 'en_core_web_md'),\n",
       " ('ORG', 'Fragments of Time', 0, 'OTHER', 'en_core_web_md'),\n",
       " ('PERSON', 'F021', 0, 'OTHER', 'nl_core_news_sm'),\n",
       " ('ORG', 'Century', 0, 'DATE', 'it_core_news_sm'),\n",
       " ('OTHER', '21st May 2009', 0, 'DATE', 'pt_core_news_sm'),\n",
       " ('NORP', 'Jenny', 0, 'PERSON', 'zh_core_web_sm'),\n",
       " ('ORG', 'D. T. Bowring', 0, 'PERSON', 'en_core_web_md'),\n",
       " ('GPE', 'Oceanic', 0, 'NORP', 'en_core_web_md'),\n",
       " ('FAC', 'the Pinto Collection', 0, 'ORG', 'en_core_web_md'),\n",
       " ('ORG', 'William Boyce', 0, 'PERSON', 'zh_core_web_sm'),\n",
       " ('ORG', 'Estates', 0, 'OTHER', 'en_core_web_md'),\n",
       " ('FAC', 'Ashburnham Place', 0, 'ORG', 'en_core_web_md'),\n",
       " ('PERSON', 'Abby', 0, 'OTHER', 'en_core_web_md'),\n",
       " ('ORG', \"Needham's\", 0, 'PERSON', 'en_core_web_md'),\n",
       " ('ORG', 'D068', 0, 'OTHER', 'nl_core_news_sm'),\n",
       " ('ORG', 'Los Angeles', 0, 'GPE', 'es_core_news_sm'),\n",
       " ('ORG', 'Savoy Carignano', 0, 'PERSON', 'en_core_web_md'),\n",
       " ('PERSON', 'Bob P. Haboldt & Co', 0, 'ORG', 'en_core_web_md'),\n",
       " ('FAC', 'B033', 0, 'OTHER', 'nl_core_news_sm'),\n",
       " ('PERSON', 'Vente', 0, 'OTHER', 'en_core_web_md'),\n",
       " ('GPE', 'B033', 0, 'OTHER', 'nl_core_news_sm'),\n",
       " ('PERSON', 'Litzelstetten', 0, 'GPE', 'en_core_web_md'),\n",
       " ('LAW', 'Item ten', 0, 'OTHER', 'en_core_web_md'),\n",
       " ('WORK_OF_ART', 'Sipplingen', 0, 'GPE', 'en_core_web_md'),\n",
       " ('ORG', 'Arrow', 0, 'OTHER', 'en_core_web_md'),\n",
       " ('OTHER', 'Arts d’orient-', 0, 'OTHER', 'fr_core_news_sm'),\n",
       " ('PERSON', 'K.B.E. SOLD BY ORDER OF', 0, 'OTHER', 'en_core_web_md'),\n",
       " ('PERSON', 'EXECUTORS', 0, 'OTHER', 'en_core_web_md'),\n",
       " ('PERSON', 'Florence', 0, 'GPE', 'en_core_web_md'),\n",
       " ('GPE', 'San Donato', 0, 'PERSON', 'en_core_web_md'),\n",
       " ('ORG', 'Rothschild', 0, 'PERSON', 'fr_core_news_sm'),\n",
       " ('PERSON', 'Rome', 0, 'GPE', 'pl_core_news_sm'),\n",
       " ('NORP', '1892', 0, 'DATE', 'pl_core_news_sm'),\n",
       " ('ORG', 'Pierre and', 0, 'PERSON', 'fr_core_news_sm'),\n",
       " ('PERSON', 'Hartman Rare Art', 0, 'ORG', 'en_core_web_md'),\n",
       " ('NORP', 'Hart', 0, 'OTHER', 'zh_core_web_sm'),\n",
       " ('PERSON', 'Benjamin Wolff Collection', 0, 'ORG', 'en_core_web_md'),\n",
       " ('WORK_OF_ART', \"The Wolff Collection' Sale\", 0, 'ORG', 'en_core_web_md'),\n",
       " ('PERSON', 'Leo Gallery', 0, 'ORG', 'en_core_web_md'),\n",
       " ('ORG', 'XXV', 0, 'NUMBER', 'en_core_web_md'),\n",
       " ('ORG', 'BUTLER', 0, 'OTHER', 'en_core_web_md'),\n",
       " ('OTHER', '4 June 2015', 0, 'DATE', 'fr_core_news_sm'),\n",
       " ('PERSON', 'Appuldurcumbe House', 0, 'ORG', 'en_core_web_md'),\n",
       " ('GPE', 'Bohler', 0, 'ORG', 'en_core_web_md'),\n",
       " ('GPE', 'Commissaire-priseur', 0, 'OTHER', 'fr_core_news_sm'),\n",
       " ('OTHER', 'February 2017', 0, 'DATE', 'fr_core_news_sm'),\n",
       " ('ORG', 'Artist', 0, 'OTHER', 'en_core_web_md'),\n",
       " ('PERSON', 'Galerie Numaga', 0, 'ORG', 'en_core_web_md'),\n",
       " ('PERSON', 'F. Low-Beer & Co', 0, 'ORG', 'en_core_web_md'),\n",
       " ('OTHER', 'October 1985', 0, 'DATE', 'fr_core_news_sm'),\n",
       " ('GPE', 'Hôtel Drouot', 0, 'ORG', 'fr_core_news_sm'),\n",
       " ('OTHER', 'June 2014', 0, 'DATE', 'fr_core_news_sm'),\n",
       " ('OTHER', 'lot5', 0, 'OTHER', 'fr_core_news_sm'),\n",
       " ('OTHER', 'The Dillée Collection', 0, 'ORG', 'fr_core_news_sm'),\n",
       " ('ORG', 'ROCAILLE', 0, 'OTHER', 'en_core_web_md'),\n",
       " ('WORK_OF_ART', 'Faces From The Ancient World', 0, 'OTHER', 'en_core_web_md'),\n",
       " ('PERSON',\n",
       "  'The Leo Mildenberg Collection of Ancient Animals',\n",
       "  0,\n",
       "  'ORG',\n",
       "  'en_core_web_md'),\n",
       " ('ORG', 'Carlton House Terrace', 0, 'ORG', 'en_core_web_md'),\n",
       " ('FAC', 'Heytesbury House', 0, 'ORG', 'en_core_web_md'),\n",
       " ('GPE', 'Feldman', 0, 'PERSON', 'en_core_web_md'),\n",
       " ('PERSON', 'Pittsfield', 0, 'GPE', 'en_core_web_md'),\n",
       " ('ORG', 'Seal Harbor', 0, 'GPE', 'de_core_news_sm'),\n",
       " ('ORG', 'CORD', 0, 'OTHER', 'en_core_web_md'),\n",
       " ('GPE', 'Galerie 41', 0, 'ORG', 'de_core_news_sm'),\n",
       " ('PERSON', 'Galerie', 0, 'ORG', 'zh_core_web_sm'),\n",
       " ('PERSON', 'H. Mansour Collection', 0, 'ORG', 'en_core_web_md'),\n",
       " ('PERSON', 'Tim D. Wright Master Drawings', 0, 'OTHER', 'en_core_web_md'),\n",
       " ('ORG', 'nbr', 0, 'OTHER', 'en_core_web_md'),\n",
       " ('PERSON', 'Bonham', 0, 'ORG', 'en_core_web_md'),\n",
       " ('PERSON', 'Antiquair K. Grusenmeyer', 0, 'ORG', 'en_core_web_md')]"
      ]
     },
     "execution_count": 117,
     "metadata": {},
     "output_type": "execute_result"
    }
   ],
   "source": [
    "bads"
   ]
  },
  {
   "cell_type": "code",
   "execution_count": 94,
   "id": "1d8bc190-951a-46b3-82b3-77641ec20476",
   "metadata": {},
   "outputs": [
    {
     "name": "stdout",
     "output_type": "stream",
     "text": [
      "['ORG', 'OTHER', 'NORP', 'PERSON', 'GPE', 'FAC', 'WORK_OF_ART', 'DATE', 'NUMBER', 'MONEY']\n"
     ]
    }
   ],
   "source": [
    "tags_res = []\n",
    "for x in NER_res:\n",
    "    if x[3] in tags_res:\n",
    "        pass\n",
    "    else:\n",
    "        tags_res.append(x[3])\n",
    "print(tags_res)\n",
    "\n",
    "dict_res = {}\n",
    "for x in tags_res:\n",
    "    dict_res[x] = []\n",
    "    for y in NER_res:\n",
    "        if y[3] == x:\n",
    "            dict_res[x].append(y[1])\n"
   ]
  },
  {
   "cell_type": "code",
   "execution_count": 95,
   "id": "183c72f1-b0e9-4c4c-9be5-95646947cab3",
   "metadata": {
    "scrolled": true
   },
   "outputs": [
    {
     "data": {
      "text/plain": [
       "{'ORG': [\"Christie's Los Angeles\",\n",
       "  \"Sotheby's Hong Kong\",\n",
       "  \"Sotheby's\",\n",
       "  \"Sotheby's New York\",\n",
       "  \"Christie's\",\n",
       "  'Private Collection',\n",
       "  'American Private Collection',\n",
       "  'Leonard Hutton Galleries',\n",
       "  'Collection Mrs',\n",
       "  'European Private Collection',\n",
       "  \"Sotheby's London\",\n",
       "  \"Christie's East New York\",\n",
       "  'Kerr Collection',\n",
       "  \"D'Arcy Galleries\",\n",
       "  'the Museum of Fine Arts',\n",
       "  'Petit Musée',\n",
       "  'S. Marchant & Son',\n",
       "  \"Christie's London\",\n",
       "  'Arte Primitivo',\n",
       "  'Royal-Athena Galleries',\n",
       "  'Galerie Démons',\n",
       "  'Charles Ede Ltd',\n",
       "  'Lowther Castle',\n",
       "  'London Market',\n",
       "  'Florida Private Collection',\n",
       "  'the Tuyet Nguyet',\n",
       "  'Earl of Sandwich',\n",
       "  \"Christie'\",\n",
       "  'Barakat Antiquities',\n",
       "  'Corte Madera',\n",
       "  'Butterfield & Butterfield',\n",
       "  'GENTLEMAN',\n",
       "  'Christie’s',\n",
       "  'KILLADOON HOUSE',\n",
       "  'CRG Gallery',\n",
       "  'Clarks Auction',\n",
       "  \"Christie's Hong Kong\",\n",
       "  'the Brooklyn Museum',\n",
       "  'Hotspur Ltd',\n",
       "  'Mallett & Son Ltd.',\n",
       "  'Dominique Thirion Gallery',\n",
       "  'Collection Particulière',\n",
       "  'New York Private Collection',\n",
       "  'New York Art Market',\n",
       "  'Viktor & Edit Baerlocher',\n",
       "  'Yamanaka & Company',\n",
       "  'Hurst Gallery',\n",
       "  'Sotheby’s',\n",
       "  'the Elizabeth A. Keck Collection',\n",
       "  'Luxe',\n",
       "  'Antiquarium',\n",
       "  'Fortuna Fine Arts',\n",
       "  'New York Private Collector',\n",
       "  'Archaeological Center',\n",
       "  'Sotheby Parke Bernet Inc',\n",
       "  'the Aoyama Studio Collection',\n",
       "  'the De An Tang Collection',\n",
       "  'Japanese Private Collection',\n",
       "  'Mandi royal collection',\n",
       "  'Austrian Private Collection',\n",
       "  'the Hagop Kevorkian Fund',\n",
       "  'Fine Oriental Manuscripts',\n",
       "  'Gentry Dog',\n",
       "  'JAMIESON',\n",
       "  'Schoonover Studios Ltd',\n",
       "  'Rossi & Rossi Ltd, London',\n",
       "  'C.T. Loo',\n",
       "  'Private Library',\n",
       "  'Sotheby’s Parke Bernet',\n",
       "  'Bern',\n",
       "  'Surena collection',\n",
       "  'Delbeke House',\n",
       "  'Foreign Affairs',\n",
       "  'Consul-General',\n",
       "  'Empress Alexandra Feodorovna',\n",
       "  'Fabergé',\n",
       "  'the Merlin Trust',\n",
       "  'Gallery Rosen Ancient Art',\n",
       "  'an Important American Private Collection',\n",
       "  'Khawam Brothers',\n",
       "  'Bonhams Hong Kong',\n",
       "  'Distinguished Midwest Private Collection',\n",
       "  \"Christie's New York\",\n",
       "  'Russian Works of Art',\n",
       "  'The Groppi Collection',\n",
       "  'Sotheby & Co',\n",
       "  \"Sold Sotheby's\",\n",
       "  'a Sister of Charity',\n",
       "  'Cook Collection',\n",
       "  'Geneva Private Collection',\n",
       "  'Lonsdale',\n",
       "  'Lowther Castle',\n",
       "  'Thorntons of York',\n",
       "  'Arete',\n",
       "  'California Private Collection',\n",
       "  'Antiqua',\n",
       "  'Ancient Greek Vases Formerly',\n",
       "  'Deburaux & Associés',\n",
       "  'Art Market',\n",
       "  'the Ronald W. Longsdorf Collection |',\n",
       "  'English Private Collection',\n",
       "  'Fuse Lighting',\n",
       "  '中國',\n",
       "  \"Christie's\",\n",
       "  'Provincetown',\n",
       "  'Hamiltons Gallery',\n",
       "  'Rugby School Art Museum',\n",
       "  'Lawrence Collection',\n",
       "  'Phoenix Ancient Art',\n",
       "  'Ancient',\n",
       "  'Taisei Gallery',\n",
       "  'Bonhams',\n",
       "  'Manhattan Private Collection',\n",
       "  'Collection W.J.R. Dreesmann',\n",
       "  'Collection Professor Dr Drs Anton C.R. Dreesmann',\n",
       "  'Collection Professeur',\n",
       "  'Sons Ltd',\n",
       "  'Bonhams London',\n",
       "  'Brandeis University',\n",
       "  'Waltham\\xa0',\n",
       "  'The Purchase Gallery, Inc',\n",
       "  'Purchase',\n",
       "  'Jade House',\n",
       "  '中易公司',\n",
       "  'Summa Galleries',\n",
       "  'Eymery & Cie',\n",
       "  'K. Rabenou Gallery',\n",
       "  'Duveen Brothers Inc',\n",
       "  'Royal Athena Galleries',\n",
       "  'Collection Vincente Huidobro',\n",
       "  'Arts Primitifs',\n",
       "  'Collection',\n",
       "  'Pine and Stone Retreat Collection',\n",
       "  'the Dafengtang Collection',\n",
       "  'Hôtel Drouot',\n",
       "  'Universität Zürich',\n",
       "  'Guinevere Antiques Ltd',\n",
       "  'Fortuna Fine Arts',\n",
       "  'Ltd',\n",
       "  'FROM THE COLLECTION OF BENOÎT DE GORSKI',\n",
       "  'King of Hanover',\n",
       "  'Leo Castelli Gallery',\n",
       "  'Hôtel Drouot',\n",
       "  'Sotheby’s London',\n",
       "  'Princeton Gallery of',\n",
       "  'Fine Art',\n",
       "  'Christie’s Paris',\n",
       "  'Mitsukoshi Department Store',\n",
       "  'Summa Galleries, Inc',\n",
       "  'Ikeda Gallery',\n",
       "  'Piasa',\n",
       "  'Hall & Knight',\n",
       "  'Musée Bourdelle',\n",
       "  'Musée National de la Céramique à Sèvres',\n",
       "  'Mason Antiques',\n",
       "  'Cohen & Cohen',\n",
       "  \"Sold Christie's\",\n",
       "  'Frank Sternberg AG',\n",
       "  'Karen Brown Gallery',\n",
       "  'The Thomas Vroom Collection',\n",
       "  'Zurich',\n",
       "  'Diplomatic Private Collection',\n",
       "  'J.T. Tai & Co',\n",
       "  'Indianapolis Museum of Art',\n",
       "  'Osterrieth House',\n",
       "  'Crounce Family',\n",
       "  'Important American Furniture, Silver, Folk Art and Decorative Arts',\n",
       "  'The Castle Ashby Vases',\n",
       "  'Fine Antiquities',\n",
       "  'Villa Visconti Alari',\n",
       "  'Private Collection',\n",
       "  'Mallett & Son Ltd',\n",
       "  'French private collection',\n",
       "  'R.H. Ellsworth Ltd',\n",
       "  'Collection Mrs',\n",
       "  \"Sotheby'\",\n",
       "  'Wellington Hotel',\n",
       "  'Duran Arte y Subastas',\n",
       "  'Wou\\xa0Lien-Pai Museum',\n",
       "  'an Important Private Collection',\n",
       "  'the Science Museum',\n",
       "  'Ginac Collection',\n",
       "  'Far-East Gallery',\n",
       "  'Topper Gallery',\n",
       "  'Yale Burge Antiques',\n",
       "  'Bedelle Jewelry Collection',\n",
       "  'Superior Galleries',\n",
       "  'European Collection',\n",
       "  'Robert B',\n",
       "  'The Dr Anton C.R.',\n",
       "  'the Erlenmeyer Collection',\n",
       "  'Art of the Ancient World',\n",
       "  'Sotheby Parke Bernet',\n",
       "  'Texas Private Collection',\n",
       "  'the Los Angeles Opera',\n",
       "  'Collection',\n",
       "  'Chinese Porcelain Company',\n",
       "  'the Delmore Gallery',\n",
       "  'Safani Gallery',\n",
       "  'Harewood House',\n",
       "  'Roger Peyrefitte collection',\n",
       "  'Antiquities Ltd',\n",
       "  'Sycomore Ancient Art',\n",
       "  'Arte alla Riva',\n",
       "  'the British Coffee House',\n",
       "  'Hong Kong Private Collection',\n",
       "  'Graven Images',\n",
       "  'THE G. SANGIORGI COLLECTION',\n",
       "  'Eid & Son',\n",
       "  'The Red Crescent',\n",
       "  'the Pinto Collection',\n",
       "  'Ashburnham Place',\n",
       "  'Antiques',\n",
       "  \"Charge d'Affaires\",\n",
       "  'the Embassy of the Netherlands',\n",
       "  'Swiss Art Market',\n",
       "  'Bob P. Haboldt & Co',\n",
       "  'Superior Galleries',\n",
       "  'Kodner Galleries',\n",
       "  'the Worcester Art Museum',\n",
       "  'Sotheby Parke Bernet, Inc.',\n",
       "  'Swiss Private Collection',\n",
       "  'INC',\n",
       "  'Anastos Collection',\n",
       "  'Ascot',\n",
       "  'The Sven Gahlin Collection',\n",
       "  \"Christie's South Kensington\",\n",
       "  'J.D. van Oenen',\n",
       "  'Rollin & Feuardent',\n",
       "  'Hartman Rare Art',\n",
       "  'Benjamin Wolff Collection',\n",
       "  \"The Wolff Collection' Sale\",\n",
       "  'Leo Gallery',\n",
       "  'Appuldurcumbe House',\n",
       "  'Bohler',\n",
       "  'Sotheby Parke Bernet, Inc. New York',\n",
       "  'The Leicester Galleries',\n",
       "  'ex-H. Mol Collection',\n",
       "  'Galerie Numaga',\n",
       "  'F. Low-Beer & Co',\n",
       "  'Arts Nouv',\n",
       "  'Hôtel Drouot',\n",
       "  'The Dillée Collection',\n",
       "  'The Leo Mildenberg Collection of Ancient Animals',\n",
       "  'Keir',\n",
       "  'Carlton House Terrace',\n",
       "  'Heytesbury House',\n",
       "  'The Berkshire Museum',\n",
       "  'Northeast Auctions',\n",
       "  'Galerie 41',\n",
       "  'Galerie',\n",
       "  'H. Mansour Collection',\n",
       "  'Fine and Decorative Art',\n",
       "  'G. McKinley Collection',\n",
       "  'Bonham',\n",
       "  'Pennsylvania Private Collection',\n",
       "  'The Meulendijk Collection of Tribal Art',\n",
       "  'Antiquair K. Grusenmeyer',\n",
       "  'Henningsen Collection'],\n",
       " 'OTHER': ['Myth',\n",
       "  'PRINCELY',\n",
       "  'B004',\n",
       "  'n°',\n",
       "  'Cinq-Mars',\n",
       "  'Merveilles',\n",
       "  'Private collection',\n",
       "  'HON',\n",
       "  'KP',\n",
       "  'kilga',\n",
       "  'Sureda',\n",
       "  'Surena',\n",
       "  'C007',\n",
       "  'C164',\n",
       "  'Sa vente',\n",
       "  '1083',\n",
       "  '288',\n",
       "  'D001',\n",
       "  'D001',\n",
       "  'Auktion XVIII',\n",
       "  'Pomarancio -/ a.d',\n",
       "  'Gold & Silver Auction Part II',\n",
       "  'Renaissance',\n",
       "  'D73',\n",
       "  'D040',\n",
       "  'Chili',\n",
       "  'J034',\n",
       "  'Purportedly',\n",
       "  'E017',\n",
       "  'E19',\n",
       "  'PROPERTY',\n",
       "  'SELECTED PAINTINGS',\n",
       "  '3632',\n",
       "  'Ägyptische',\n",
       "  'Ägyptologische Hefte',\n",
       "  'Orientalischen Seminars',\n",
       "  'Item two',\n",
       "  'Royal',\n",
       "  'B85',\n",
       "  'B009',\n",
       "  'Afd.26/3',\n",
       "  'ca',\n",
       "  'M.4.10',\n",
       "  'Ecoute',\n",
       "  '6040',\n",
       "  'Sold Without Reserve',\n",
       "  'Q.9.37',\n",
       "  'D52',\n",
       "  'D032',\n",
       "  'D52',\n",
       "  'l’',\n",
       "  'Ancient Vases',\n",
       "  'B111',\n",
       "  'B010',\n",
       "  'Vente',\n",
       "  'B111',\n",
       "  'Esq,',\n",
       "  'Metal Vases',\n",
       "  'Coeur',\n",
       "  'Sr',\n",
       "  'J57',\n",
       "  'J017',\n",
       "  'CHI',\n",
       "  'collected',\n",
       "  'Transmis',\n",
       "  'MASTERPIECES',\n",
       "  'Fragments of Time',\n",
       "  'Miss Marianne C.J. Eras',\n",
       "  'F021',\n",
       "  'Estates',\n",
       "  'Abby',\n",
       "  'D068',\n",
       "  'B033',\n",
       "  'Vente',\n",
       "  'B033',\n",
       "  'Item ten',\n",
       "  'Arrow',\n",
       "  'Arts d’orient-',\n",
       "  'K.B.E. SOLD BY ORDER OF',\n",
       "  'EXECUTORS',\n",
       "  'Hart',\n",
       "  'BUTLER',\n",
       "  'Commissaire-priseur',\n",
       "  'Artist',\n",
       "  'lot5',\n",
       "  'ROCAILLE',\n",
       "  'Faces From The Ancient World',\n",
       "  'CORD',\n",
       "  'Tim D. Wright Master Drawings',\n",
       "  'nbr'],\n",
       " 'NORP': ['Chinese',\n",
       "  'German',\n",
       "  'Belgian',\n",
       "  'French',\n",
       "  'English',\n",
       "  'Dutch',\n",
       "  'CHINE',\n",
       "  'Japanese',\n",
       "  'European',\n",
       "  'Spanish',\n",
       "  'Swiss',\n",
       "  'American',\n",
       "  'Taiwanese',\n",
       "  'Asian',\n",
       "  'Coptic',\n",
       "  'Moorish',\n",
       "  'African',\n",
       "  'Oceanic',\n",
       "  'Ex-German',\n",
       "  'Egyptian'],\n",
       " 'PERSON': ['Julius Eberhardt',\n",
       "  '朱利思∙',\n",
       "  '艾伯哈特',\n",
       "  'Karim Grusenmeyer',\n",
       "  'Abraham Rosman',\n",
       "  'Paula Rubel',\n",
       "  'Frederick Henry von Schleinitz',\n",
       "  'Marcel Bissey',\n",
       "  'Emmanuel Moatti',\n",
       "  'Robert Bloch',\n",
       "  'Alexandre Iolas',\n",
       "  'Filipino',\n",
       "  'Charles Ede',\n",
       "  'Quincy Chuang',\n",
       "  'Maurice Bonnefoy',\n",
       "  'James Barzyk',\n",
       "  'Alex Philips',\n",
       "  'Susan Kloman',\n",
       "  'Spier',\n",
       "  'Wou Kiuan',\n",
       "  'Wou Lien-Pai Museum',\n",
       "  'Sui Yuan',\n",
       "  'John J. Klejman',\n",
       "  'Martin',\n",
       "  'Giovanni Vincitore Ruggiero',\n",
       "  'Mabel Markey',\n",
       "  'John Joseph Ruggiero',\n",
       "  'Agnes Dympna',\n",
       "  'McKenna',\n",
       "  'Ernst Langlotz',\n",
       "  'Cahn',\n",
       "  'Kofler',\n",
       "  'JM Béalu et fils',\n",
       "  'Joseph Hume',\n",
       "  'John Bedford',\n",
       "  'William Philip Molyneux',\n",
       "  '4th Earl',\n",
       "  'Sefton',\n",
       "  'Stephen Markbreiter Collection',\n",
       "  'Mathias Komor',\n",
       "  'Mathilda Goldman',\n",
       "  'David Garth',\n",
       "  'Susan Warner',\n",
       "  'Henry Pelham',\n",
       "  'Archibald Douglas Pelham-Clinton',\n",
       "  'Henry Francis Hope Pelham-Clinton-Hope',\n",
       "  'Heape',\n",
       "  'Nathaniel Clements',\n",
       "  '2nd Earl',\n",
       "  'Edric van Vredenburgh Collection',\n",
       "  'Samuel P. Avery',\n",
       "  'George Terasaki',\n",
       "  'Alfred E. Mirsky',\n",
       "  'Kurt Deppert',\n",
       "  'Elie Borowski',\n",
       "  'Browne K.P.',\n",
       "  'ROSALINDE',\n",
       "  'William Cary',\n",
       "  'Lois Crane',\n",
       "  'Hei Hung-Lu',\n",
       "  'Giorgio Sangiorgi',\n",
       "  'Cornelius Vermeule',\n",
       "  'Denny Pinkus',\n",
       "  'Robert Deutch',\n",
       "  'Ralph M',\n",
       "  'Kurokawa',\n",
       "  'Thomas Barlow Walker',\n",
       "  '德安堂藏玉',\n",
       "  'Ramos Studio',\n",
       "  'Theodore Graf',\n",
       "  'Kai-Yin Lo 羅啟姸收藏',\n",
       "  'Magdeleine Blanche',\n",
       "  'Nolie Croset',\n",
       "  'Richard Burnett',\n",
       "  'J. Sam Houston',\n",
       "  'Adonna Houston',\n",
       "  'Larry Mooney',\n",
       "  'Popo DeBathe',\n",
       "  'Lynne Bell',\n",
       "  'Billy Jamieson',\n",
       "  'Rossi',\n",
       "  'Frank Caro',\n",
       "  '盧芹齋',\n",
       "  'Sleiman Aboutaam',\n",
       "  'Charles Pankow',\n",
       "  'K. A. Moosberg',\n",
       "  'Elsa Bloch-Diener',\n",
       "  'Edward I. Farmer',\n",
       "  'Christopher Sheppard',\n",
       "  'José Felipe de Alcover',\n",
       "  'Sureda',\n",
       "  'Louis Battenberg',\n",
       "  'Princess Victoria',\n",
       "  'Empress',\n",
       "  'Blanche Ryan',\n",
       "  'Merlin Montagu Douglas Scott',\n",
       "  'Kunsthandel Nicolaas Beets',\n",
       "  'Anton C.R. Dreesmann',\n",
       "  'Laren',\n",
       "  'Anton C.R. Dreesmann Collection',\n",
       "  'Marianne Dreesmann',\n",
       "  'Jean-Pierre Laprugne',\n",
       "  'Tom White',\n",
       "  'Susan\\xa0Ollemans',\n",
       "  'Gisèle Croës',\n",
       "  'Dan E. Richardson',\n",
       "  'Richardson',\n",
       "  'Junkunc',\n",
       "  'Stephen Junkunc',\n",
       "  'Joseph Leeson',\n",
       "  'Elizabeth',\n",
       "  'Félix Houphouët-Boigny',\n",
       "  'Oscar Blum Gentilomo',\n",
       "  'Sam Fogg',\n",
       "  '巴塞隆',\n",
       "  'Nicholas T. Molnar',\n",
       "  '史蒂芬',\n",
       "  'Simon Spero',\n",
       "  'Agnes Mary Berkeley',\n",
       "  'Robert Valentine\\xa0',\n",
       "  'Francis Cook',\n",
       "  'Renaud Gillet',\n",
       "  'William',\n",
       "  'Second Earl',\n",
       "  'R. Schmidt',\n",
       "  'Merton D. Simpson',\n",
       "  'Christopher B. Hemmeter',\n",
       "  'Kevin Conru',\n",
       "  'Anton Pestalozzi',\n",
       "  'Jean-Marc Roudinesco',\n",
       "  'Jean-Marc\\xa0Roudinesco',\n",
       "  'Jean Wanecq',\n",
       "  'Werner Schatz',\n",
       "  'Schatz',\n",
       "  'Ronald W. Longsdorf',\n",
       "  'Herbert Kühn',\n",
       "  'Mary Western Hugessen',\n",
       "  'Edward Knatchbull',\n",
       "  'Howard Lipman',\n",
       "  'JO KOBACKER',\n",
       "  'John',\n",
       "  'Somers',\n",
       "  'Lawrence',\n",
       "  'M.H. Bloxam',\n",
       "  'Matt',\n",
       "  'Nic',\n",
       "  'N. Koutoulakis',\n",
       "  'Hilary Chelminski',\n",
       "  'Edric van Vredenburgh',\n",
       "  'S.J. Phillips',\n",
       "  'Frank Partridge',\n",
       "  'Sammlung  Hans Koenig',\n",
       "  'Paul Kantor Gallery',\n",
       "  'Bernice Clyman',\n",
       "  'M. Gillingham',\n",
       "  'C.K. Liang',\n",
       "  '梁宗亢',\n",
       "  'ERIKA POHL-STRÖHER',\n",
       "  'Erika Pohl-Ströher',\n",
       "  'Eymery',\n",
       "  'Wilfrid Sloane',\n",
       "  'John Pierpont Morgan',\n",
       "  'John D. Rockefeller',\n",
       "  'Jr',\n",
       "  'J. Uzan',\n",
       "  'Anthony Meyer',\n",
       "  'Nicolas Koutoulakis',\n",
       "  'René Withofs',\n",
       "  'Dr Drs Anton C.R. Dreesmann',\n",
       "  'Pierre Bordes',\n",
       "  'Marcel',\n",
       "  'Dragesco-Cramoisan',\n",
       "  'Robert Berkeley',\n",
       "  '石山房',\n",
       "  'Luigi Laura',\n",
       "  'Jacob Epstein',\n",
       "  'Loudmer',\n",
       "  'Rudolf Schmidt',\n",
       "  'Samuel Rogers',\n",
       "  'Carl J. Ulman',\n",
       "  'Alfred Chester Beatty',\n",
       "  \"Comtesse d'Aubigny\",\n",
       "  'Carl Kempe',\n",
       "  'Ernest Cassel',\n",
       "  'Daphne Zimmermann',\n",
       "  'Frederick',\n",
       "  'King George II',\n",
       "  'King William IV',\n",
       "  'Prince Ernst Augustus',\n",
       "  '1st Duke',\n",
       "  'King George III',\n",
       "  'George V',\n",
       "  'Ernst Augustus II',\n",
       "  'Crown Prince',\n",
       "  'Ernst Augustus III',\n",
       "  'Ernst Augustus IV',\n",
       "  'Donati',\n",
       "  'Anita Gray Gallery',\n",
       "  'Edric van Vredenburgh',\n",
       "  'Edward T.\\xa0Chow',\n",
       "  'Emmanuel de Monbrison',\n",
       "  'Colin Gross',\n",
       "  'Herbert Stern',\n",
       "  'Michelham',\n",
       "  'M. Parish-Watson',\n",
       "  'F. Warrington-Strong',\n",
       "  'Di Castro',\n",
       "  'Luisa Vertova',\n",
       "  'Stieglitz',\n",
       "  'Alma Morganthau',\n",
       "  'Hayashi Gonsuke',\n",
       "  'Robert\\xa0Berkeley',\n",
       "  'Robert Martin Berkeley',\n",
       "  'Naim Attallah CBE',\n",
       "  'William E.',\n",
       "  'Anne H. Lewis',\n",
       "  'Van Berchem',\n",
       "  'Holger Rosell',\n",
       "  'Holger',\n",
       "  '斯德哥爾摩',\n",
       "  'Henry Clarke',\n",
       "  'Bruce Anderson',\n",
       "  'JAMES E. SOWELL',\n",
       "  'Walter N. Rothschild',\n",
       "  'Walter',\n",
       "  'Rothschild',\n",
       "  'Carlo Cristi',\n",
       "  'Darwin',\n",
       "  'Garth',\n",
       "  'M. van den Ende',\n",
       "  'Arthur\\xa0M.\\xa0Sackler',\n",
       "  'W. Forbes',\n",
       "  'Jane Ramsey',\n",
       "  'A.G. Langlois',\n",
       "  'Langlois',\n",
       "  'Marguerite Riordan',\n",
       "  'Gustave Jéquier',\n",
       "  'Spencer Joshua Alwyne Compton',\n",
       "  'James Willis',\n",
       "  'Michael Smurfit',\n",
       "  '安思遠',\n",
       "  'William Suddaby',\n",
       "  'John Granville Morrison',\n",
       "  'Zuluaga',\n",
       "  'Necker',\n",
       "  'Berkowitsch',\n",
       "  'Wou\\xa0Kiuan',\n",
       "  'Herbert Irving',\n",
       "  'Princess Patricia of Connaught',\n",
       "  'Patricia',\n",
       "  'Mountbatten',\n",
       "  '牡丹堂',\n",
       "  'Nicolier',\n",
       "  'C. J. Devine',\n",
       "  'Alton Edward Mills',\n",
       "  'Roger Keverne',\n",
       "  'Marianne L. Dreesmann-van der Spek',\n",
       "  'Robert B. Woodward',\n",
       "  'Woodward',\n",
       "  'Dikran G. Kelekian',\n",
       "  'Abby Aldrich Rockefeller',\n",
       "  'Winthrop Rockefeller',\n",
       "  'David Rockefeller',\n",
       "  'Hans',\n",
       "  'Marie-Louise Erlenmeyer',\n",
       "  'Yanick van Ruysevelt',\n",
       "  'Henry de Montherlant',\n",
       "  'Roger Peyrefitte',\n",
       "  'Oliver Sears',\n",
       "  'Keith Howard',\n",
       "  'Joan Howard',\n",
       "  'Maria Pergay',\n",
       "  'Alain Chenel',\n",
       "  'P. Czinner',\n",
       "  'John Sparks',\n",
       "  'MARKO',\n",
       "  'Harewood',\n",
       "  'R.A. Jude',\n",
       "  'Jude',\n",
       "  'Tristan Tzara',\n",
       "  'CHARLES W. NEWHALL',\n",
       "  'Jean Olansizyn',\n",
       "  'Thomas Cordis m. Hannah Cordis',\n",
       "  'Thomas Cordis',\n",
       "  'Cord Cordis',\n",
       "  'Francis Temple Cordis m. Ruth Ann Prescott',\n",
       "  'Thomas Francis Cordis m. Annie Byrd Colton',\n",
       "  'Thomas Edward Cordis m. Annie Marguerite Holden',\n",
       "  'Edward Colton Cordis m. Mary Elizabeth Walcott Grabe',\n",
       "  'Mary Anne Cordis',\n",
       "  'Stanley Gordon Moriarty',\n",
       "  'Todd Barlin',\n",
       "  'Charlier',\n",
       "  'Carlo Perone-Capano',\n",
       "  'Ulick de Burgh',\n",
       "  'Clanricarde',\n",
       "  'Hariett Marchioness',\n",
       "  'Hubert George de Burgh-Canning',\n",
       "  'Henry Lascelles',\n",
       "  'Edward Smith',\n",
       "  'Andrew Hartnagle',\n",
       "  'Athos Moretti',\n",
       "  'Gordian Weber',\n",
       "  'Ip Yee',\n",
       "  'Jenny Lewis',\n",
       "  'Jenny',\n",
       "  'Ari Vos',\n",
       "  'D. T. Bowring',\n",
       "  'Oliver Hoare',\n",
       "  'Christopher Gibbs',\n",
       "  'Morris J. Pinto',\n",
       "  'Murray Frum',\n",
       "  'Roberta Entwistle',\n",
       "  'William Boyce Thompson',\n",
       "  'William Boyce',\n",
       "  'Thompson',\n",
       "  'George Halpern',\n",
       "  'Ashburnham',\n",
       "  'Catherine Ashburnham',\n",
       "  \"George O'Neill\",\n",
       "  \"Needham's\",\n",
       "  'Axel Vervoordt Antwerpen',\n",
       "  'Leo Biaggi de Blasys',\n",
       "  'J. H. Zeeman',\n",
       "  'Paul Kasmin Gallery',\n",
       "  'Prince Eugene',\n",
       "  'Savoy Carignano',\n",
       "  'Henry H. Gorringe',\n",
       "  'HENRY H. GORRINGE',\n",
       "  'Norman Norell',\n",
       "  'George Zacos',\n",
       "  'A.J. Burniston',\n",
       "  'Arthur M. Sackler',\n",
       "  '佳士得',\n",
       "  'Edwina',\n",
       "  'Anatole Demidoff',\n",
       "  'Palazzo San Donato',\n",
       "  'Charles Pillet',\n",
       "  'San Donato',\n",
       "  'Rothschild',\n",
       "  'Michał Tyszkiewicz',\n",
       "  'P. Hamonic',\n",
       "  'Pierre and',\n",
       "  'Bruun Rasmussen',\n",
       "  'Edgar Vincent',\n",
       "  \"Lady d'Abernon\",\n",
       "  'Richard Worsley',\n",
       "  'Margaret Nash',\n",
       "  'Philippe Laeremans',\n",
       "  '現藏家',\n",
       "  'Gordon Partridge',\n",
       "  'Patti Cadby Birch',\n",
       "  'Everett B. Birch',\n",
       "  'Charles-Edouard Duflon',\n",
       "  '肯普',\n",
       "  'Nina Borowski',\n",
       "  'Amlash Pottery',\n",
       "  'J. Settgast',\n",
       "  'Archibald Stirling',\n",
       "  'William Joseph Stirling',\n",
       "  'Richard D.',\n",
       "  'Billie Lou Wood',\n",
       "  'Alfred Morrison',\n",
       "  'Hester Sassoon',\n",
       "  'née Gatty',\n",
       "  'Siegried Sassoon',\n",
       "  'George Sassoon',\n",
       "  'Feldman',\n",
       "  'Albert Spaulding',\n",
       "  'Richard H. Cord',\n",
       "  'K. Woodard',\n",
       "  'Susan',\n",
       "  'Raymond Egan',\n",
       "  'David Jones',\n",
       "  'Dikran Kelekian',\n",
       "  'Ellen Moeller',\n",
       "  'Alexander Schreiber',\n",
       "  'Possibly Loed van Bussel',\n",
       "  'Cornelis Pieter Meulendijk',\n",
       "  'Ben Heller',\n",
       "  'Zakaria Collection',\n",
       "  'Hadji Baba',\n",
       "  'Anthony Jacobs',\n",
       "  'Wilhelm Horn'],\n",
       " 'GPE': ['Nagel Stuttgart',\n",
       "  'Paris',\n",
       "  'New York',\n",
       "  'Wisconsin',\n",
       "  'Cairo',\n",
       "  'U.S.',\n",
       "  'Laren',\n",
       "  'London',\n",
       "  'UK',\n",
       "  'Munich',\n",
       "  'Chicago',\n",
       "  'Melbourne',\n",
       "  'Boston',\n",
       "  'USA',\n",
       "  'Montreal',\n",
       "  'Canada',\n",
       "  'U.S',\n",
       "  'Hong Kong',\n",
       "  'Brooklyn',\n",
       "  'Queens',\n",
       "  'Queens',\n",
       "  'MIAMI',\n",
       "  'Bonn',\n",
       "  'Basel',\n",
       "  'Lonsdale',\n",
       "  'Westmoreland',\n",
       "  'U.K.',\n",
       "  'Jerusalem',\n",
       "  'California',\n",
       "  'San Francisco',\n",
       "  'Israel',\n",
       "  'LUGGALA',\n",
       "  'Switzerland',\n",
       "  'Newcastle',\n",
       "  'Clumber Park',\n",
       "  'Nottinghamshire',\n",
       "  'Lincoln',\n",
       "  '巴黎',\n",
       "  'Leitrim',\n",
       "  'Liskaerd Cornwall',\n",
       "  'Liskaerd, Cornouailles',\n",
       "  '香港',\n",
       "  '布魯克林',\n",
       "  '布魯克林',\n",
       "  'Europe',\n",
       "  'Brussels',\n",
       "  'Frankfurt',\n",
       "  'Germany',\n",
       "  'Oranmore',\n",
       "  'Exton Park',\n",
       "  'Rutland',\n",
       "  'Syon Lodge',\n",
       "  'Vienna',\n",
       "  'Gallen',\n",
       "  'Osaka',\n",
       "  '大阪',\n",
       "  'Rome',\n",
       "  'Cambridge',\n",
       "  'MA',\n",
       "  'Jaffa',\n",
       "  'Tel Aviv',\n",
       "  'Japan',\n",
       "  'Minneapolis',\n",
       "  'U.S.A.',\n",
       "  '日本',\n",
       "  'Lebanon',\n",
       "  'Beirut',\n",
       "  'Geneva',\n",
       "  'Oakland',\n",
       "  'Austria',\n",
       "  'France',\n",
       "  'Long Beach',\n",
       "  'Virginia',\n",
       "  'Iowa',\n",
       "  'Toronto',\n",
       "  'London',\n",
       "  'Egypt',\n",
       "  'New Jersey',\n",
       "  'Antwerp',\n",
       "  'the Middle East',\n",
       "  'Rabat',\n",
       "  'St Petersburg',\n",
       "  'Amsterdam',\n",
       "  'London',\n",
       "  'Milltown',\n",
       "  'Russborough House',\n",
       "  'County Wicklow',\n",
       "  'Leitrim',\n",
       "  'the Republic of the Ivory Coast',\n",
       "  'Segarra',\n",
       "  'Barcelona',\n",
       "  'Imre',\n",
       "  '台灣',\n",
       "  'Shanghai',\n",
       "  'China',\n",
       "  'Wyndham',\n",
       "  'Buffalo',\n",
       "  'Seattle',\n",
       "  'Lausanne',\n",
       "  'Bessborough',\n",
       "  'Cumberland',\n",
       "  'Honolulu',\n",
       "  'Zurich',\n",
       "  'Jacaranda',\n",
       "  'Neuilly',\n",
       "  'Basel',\n",
       "  'Los Angeles',\n",
       "  'Freiburg',\n",
       "  'Cologne',\n",
       "  'Wuppertal',\n",
       "  'Mainz',\n",
       "  'Wittelsbach',\n",
       "  'Bayville',\n",
       "  'Maui',\n",
       "  'Stuttgart',\n",
       "  'Beverly Hills',\n",
       "  'Sidney',\n",
       "  'Scarsdale',\n",
       "  'Bath',\n",
       "  'Somerset',\n",
       "  'Freiburg',\n",
       "  'St Honoré',\n",
       "  'Mazandaran',\n",
       "  'Iran',\n",
       "  'Geneva',\n",
       "  'Loudmer',\n",
       "  'Giza',\n",
       "  'Algeria',\n",
       "  'Belgium',\n",
       "  'Italy',\n",
       "  '黎氏',\n",
       "  'Londres',\n",
       "  'Solothurn',\n",
       "  'Hamburg',\n",
       "  'Wales',\n",
       "  'Great Britain',\n",
       "  'Hanover',\n",
       "  'Teviotdale',\n",
       "  'Brunswick',\n",
       "  'Portugal',\n",
       "  'Lugano',\n",
       "  'Portobello Road',\n",
       "  'Londres',\n",
       "  'Portobello Road',\n",
       "  'Lyon',\n",
       "  'Wertheim',\n",
       "  'An American Place',\n",
       "  'New Haven',\n",
       "  'Connecticut',\n",
       "  'Princeton',\n",
       "  'Columbus',\n",
       "  'Ohio',\n",
       "  'Nihonbashi',\n",
       "  'Tokyo',\n",
       "  '東京',\n",
       "  'Stockholm',\n",
       "  'Monaco',\n",
       "  'Cornwall',\n",
       "  'Rome',\n",
       "  'Monaco',\n",
       "  'Milan',\n",
       "  'Bruxelles',\n",
       "  'Londres',\n",
       "  'Netherlands',\n",
       "  '洛杉磯',\n",
       "  'Delaware',\n",
       "  'Maine',\n",
       "  'The Hague',\n",
       "  'La Haye',\n",
       "  'Tehran',\n",
       "  'Cazenovia',\n",
       "  'Jersey',\n",
       "  'Suisse',\n",
       "  'Indianapolis',\n",
       "  'Altamont',\n",
       "  'Stonington',\n",
       "  'Northampton',\n",
       "  'Castle Ashby',\n",
       "  'Drouot',\n",
       "  'Cernusco sul Naviglio',\n",
       "  'Milan',\n",
       "  'Woodland Hills',\n",
       "  'Florida',\n",
       "  'Madrid',\n",
       "  'Spain',\n",
       "  'ALHAMBRA',\n",
       "  'Australia',\n",
       "  'Reno',\n",
       "  'Nevada',\n",
       "  'Nîmes',\n",
       "  'Northumberland',\n",
       "  'Quai Voltaire',\n",
       "  'Antwerpen',\n",
       "  'Petit Jean Mountain',\n",
       "  'Arkansas',\n",
       "  'Berne',\n",
       "  'Texas',\n",
       "  'Dublin',\n",
       "  'Thailand',\n",
       "  '泰國',\n",
       "  'Dubai',\n",
       "  'Delmore Downs Station',\n",
       "  'Northern Territory',\n",
       "  'Sydney',\n",
       "  'Yorkshire',\n",
       "  'France',\n",
       "  'Ascona',\n",
       "  'Massachusetts',\n",
       "  'Longmeadow',\n",
       "  'Litchfield',\n",
       "  'Suffield',\n",
       "  'Cortina',\n",
       "  'Damascus',\n",
       "  'Suez',\n",
       "  'Breda',\n",
       "  'England',\n",
       "  'New York City',\n",
       "  's-Gravenwezel',\n",
       "  'Beijing',\n",
       "  '北京',\n",
       "  'Los Angeles',\n",
       "  'Habsburg',\n",
       "  'Kansas City',\n",
       "  'Dania Beach',\n",
       "  'Litzelstetten',\n",
       "  'Sipplingen',\n",
       "  'the Greek Islands',\n",
       "  'Leeds',\n",
       "  'Florence',\n",
       "  'Ferrières',\n",
       "  'Seine-et-Marne',\n",
       "  'Rome',\n",
       "  'Copenhagen',\n",
       "  '上海',\n",
       "  'Isle of Wight',\n",
       "  'Yarborough',\n",
       "  'Brocklesby Park',\n",
       "  'Münich',\n",
       "  '瑞士',\n",
       "  'United Kingdom',\n",
       "  'U.A.E.',\n",
       "  'Asia',\n",
       "  'Auxerre',\n",
       "  'Mediterranean World',\n",
       "  'Wiltshire',\n",
       "  'Edinburgh',\n",
       "  'Pittsfield',\n",
       "  'Pittsfield',\n",
       "  'Bar Harbor',\n",
       "  'Seal Harbor',\n",
       "  'Manchester',\n",
       "  'New Hampshire',\n",
       "  'SYDNEY',\n",
       "  'Lempertz',\n",
       "  'Rotterdam'],\n",
       " 'FAC': ['洛杉磯佳士得', 'E.T. Hall'],\n",
       " 'WORK_OF_ART': ['Myth and Reality'],\n",
       " 'DATE': ['December 1982',\n",
       "  'December 1992',\n",
       "  'December 2001',\n",
       "  'December 2002',\n",
       "  'Zurich 12 May',\n",
       "  'April 2010',\n",
       "  'March',\n",
       "  'December 1995',\n",
       "  '24th November',\n",
       "  '14 June 2000',\n",
       "  'December 1977',\n",
       "  '4 June 1999',\n",
       "  'March 2008',\n",
       "  'July 1992',\n",
       "  'March',\n",
       "  'October 2017',\n",
       "  'October 2018',\n",
       "  'December 1999',\n",
       "  'December 2003',\n",
       "  'December 2000',\n",
       "  '1985',\n",
       "  'May 2013',\n",
       "  'June 1989',\n",
       "  'June 2006',\n",
       "  'June 2003',\n",
       "  'June 15th',\n",
       "  'April',\n",
       "  'December',\n",
       "  'Century',\n",
       "  '21st May 2009',\n",
       "  '1892',\n",
       "  '4 June 2015',\n",
       "  'February 2017',\n",
       "  'October 1985',\n",
       "  'June 2014'],\n",
       " 'NUMBER': ['XII', '3653', 'two', 'XXV'],\n",
       " 'MONEY': ['52,000', '269 livres', '212（美金8,']}"
      ]
     },
     "execution_count": 95,
     "metadata": {},
     "output_type": "execute_result"
    }
   ],
   "source": [
    "dict_res"
   ]
  },
  {
   "cell_type": "code",
   "execution_count": null,
   "id": "280c53ec-b937-4f78-854c-7ca4320125e7",
   "metadata": {},
   "outputs": [],
   "source": []
  },
  {
   "cell_type": "code",
   "execution_count": 114,
   "id": "64cc0d3f-d8c9-4b77-bd4a-4005d0a36019",
   "metadata": {},
   "outputs": [
    {
     "ename": "SyntaxError",
     "evalue": "unexpected EOF while parsing (4129644338.py, line 29)",
     "output_type": "error",
     "traceback": [
      "\u001b[1;36m  Cell \u001b[1;32mIn[114], line 29\u001b[1;36m\u001b[0m\n\u001b[1;33m    \u001b[0m\n\u001b[1;37m    ^\u001b[0m\n\u001b[1;31mSyntaxError\u001b[0m\u001b[1;31m:\u001b[0m unexpected EOF while parsing\n"
     ]
    }
   ],
   "source": [
    "\n",
    "with open(file, 'r') as input_f:\n",
    "\n",
    "    # Returns json object as a dictionary\n",
    "    data = json.load(input_f)\n",
    "\n",
    "    # Iterating through the json list\n",
    "    # Iterating through the json list\n",
    "    for k, v in tqdm(data['lots'].items()):\n",
    "\n",
    "        json_object = v\n",
    "        prov = v['lotProvenance']\n",
    "        events_of_artworks = []\n",
    "\n",
    "        # Consider only artworks with provenance\n",
    "        if (prov):\n",
    "            try:\n",
    "                # Preprocessing\n",
    "                for k, v in prov.items():\n",
    "                    if v is None:\n",
    "                        pass\n",
    "                    else:\n",
    "                        prov = clean_provenance(v)\n",
    "\n",
    "                        # Remove dots from names, etc.\n",
    "                        entities = extract_named_entities(ner_model, prov)\n",
    "                        for i, entity_ls in enumerate(entities.values()):\n",
    "                            print(i,entity_ls)\n",
    "                            break\n",
    "                                "
   ]
  },
  {
   "cell_type": "code",
   "execution_count": null,
   "id": "cbb4ab45-6a55-4265-8748-d8d31f961fcc",
   "metadata": {},
   "outputs": [],
   "source": [
    "'''\n",
    "                            break\n",
    "                            for i, entity_ls in enumerate(entities.values()):\n",
    "                                if (list(entities.keys())[i] != 'DATE'):\n",
    "                                    for e in entity_ls:\n",
    "                                        prov = prov.replace(e, utils.remove_dots(e))\n",
    "\n",
    "                            events = extract_events_dot(prov)\n",
    "\n",
    "                            # Extract named entities from the events\n",
    "                            artwork_events = []\n",
    "\n",
    "                            for event in events:\n",
    "                                ev_data = {}\n",
    "                                ev_data['label'] = event\n",
    "\n",
    "                                ev_entites = utils.extract_named_entities(ner_model, event)\n",
    "\n",
    "                                for entity_type in ev_entites.keys():\n",
    "                                    ev_data[entity_type] = ev_entites[entity_type]\n",
    "\n",
    "                                artwork_events.append(ev_data)\n",
    "                                print('oLDone\\n', artwork_events)\n",
    "                                from collections import Counter\n",
    "                                new_artwork_events = []\n",
    "                                from collections import Counter\n",
    "\n",
    "                                for event in artwork_events:\n",
    "                                    new_elems = []\n",
    "                                    label_value = None  # Initialize a variable to store the 'label' value\n",
    "                                    for k, v in event.items():\n",
    "                                        if k == 'label':  # Check if the key is 'label'\n",
    "                                            label_value = v\n",
    "                                            new_elems.append((k, v))\n",
    "                                        if type(v) is str:\n",
    "                                            if v in annosk:\n",
    "                                                idx = annosk.index(v)\n",
    "                                                new_elems.append((annosv[idx], v))\n",
    "                                                print('is str in annosk', new_elems)\n",
    "                                            elif 'collection' in v.lower():\n",
    "                                                if k == 'label':\n",
    "                                                    if len(event) == 1:\n",
    "                                                        new_elems.append(('ORG', v))\n",
    "                                                        print('collection in v lower with label k', new_elems)\n",
    "                                                        new_elems.append(('label', v))\n",
    "                                                        print('readding label', new_elems)\n",
    "                                                else:\n",
    "                                                    new_elems.append(('ORG', v))\n",
    "                                                    print('not label k', new_elems)\n",
    "                                            else:\n",
    "                                                new_elems.append((k, v))\n",
    "                                                print('else', new_elems)\n",
    "                                        elif type(v) is list:\n",
    "                                            key = k\n",
    "                                            for element in v:\n",
    "                                                if element in annosk:\n",
    "                                                    idx = annosk.index(element)\n",
    "                                                    new_elems.append((annosv[idx], element))\n",
    "                                                    print('list', new_elems)\n",
    "                                                elif 'collection' in element.lower():\n",
    "                                                    if key == 'label':\n",
    "                                                        if len(event) == 1:\n",
    "                                                            new_elems.append(('ORG', element))\n",
    "                                                            print('listwithcollectionlabel', new_elems)\n",
    "                                                            new_elems.append(('label', element))\n",
    "                                                            print('readdinglabel', new_elems)\n",
    "                                                    else:\n",
    "                                                        new_elems.append(('ORG', element))\n",
    "                                                        print('notlist', new_elems)\n",
    "                                                else:\n",
    "                                                    new_elems.append((k, element))\n",
    "                                                    print(new_elems)\n",
    "                                    event['new_elem'] = new_elems\n",
    "                                    output_dict = {}\n",
    "\n",
    "                                    for elem in event['new_elem']:\n",
    "                                        key, value = elem\n",
    "\n",
    "                                        if key in output_dict:\n",
    "                                            if isinstance(output_dict[key], list):\n",
    "                                                output_dict[key].append(value)\n",
    "                                            else:\n",
    "                                                output_dict[key] = [output_dict[key], value]\n",
    "                                        else:\n",
    "                                            output_dict[key] = value\n",
    "\n",
    "                                    output_dict['label'] = label_value  # Restore the 'label' key-value pair\n",
    "                                    event.clear()\n",
    "                                    event.update(output_dict)\n",
    "\n",
    "                                print('newone\\n', artwork_events)\n",
    "\n",
    "                        events_of_artworks.append(artwork_events)\n",
    "\n",
    "                    with open('events/events.txt', 'a', encoding=\"utf-8\") as output_f:\n",
    "                        json_object[\"events\"] = events_of_artworks\n",
    "                        json_str = json.dumps({str(artwork_index): json_object}, ensure_ascii=False)\n",
    "                        output_f.write(json_str + \"\\n\")\n",
    "                        artwork_index += 1\n",
    "                except:\n",
    "                    with open('events/events.txt', 'a', encoding=\"utf-8\") as output_f:\n",
    "                        json_object[\"events\"] = \"\"\n",
    "                        json_str = json.dumps({str(artwork_index): json_object}, ensure_ascii=False)\n",
    "                        output_f.write(json_str + \"\\n\")\n",
    "                        artwork_index += 1\n",
    "                    with open('events/noevents.txt', 'a', encoding=\"utf-8\") as output_f:\n",
    "                        json_object[\"eventy\"] = \"\"\n",
    "                        json_str = json.dumps({str(artwork_index): json_object}, ensure_ascii=False)\n",
    "                        output_f.write(json_str + \"\\n\")\n",
    "                        artwork_index += 1\n",
    "            else:\n",
    "                with open('events/events.txt', 'a', encoding=\"utf-8\") as output_f:\n",
    "                    json_object[\"events\"] = \"\"\n",
    "                    json_str = json.dumps({str(artwork_index): json_object}, ensure_ascii=False)\n",
    "                    output_f.write(json_str + \"\\n\")\n",
    "                    artwork_index += 1\n",
    "                with open('events/noevents.txt', 'a', encoding=\"utf-8\") as output_f:\n",
    "                    json_object[\"events\"] = \"\"\n",
    "                    json_str = json.dumps({str(artwork_index): json_object}, ensure_ascii=False)\n",
    "                    output_f.write(json_str + \"\\n\")\n",
    "                    artwork_index += 1\n",
    "\n",
    "    return artwork_index'''"
   ]
  }
 ],
 "metadata": {
  "kernelspec": {
   "display_name": "Python 3 (ipykernel)",
   "language": "python",
   "name": "python3"
  },
  "language_info": {
   "codemirror_mode": {
    "name": "ipython",
    "version": 3
   },
   "file_extension": ".py",
   "mimetype": "text/x-python",
   "name": "python",
   "nbconvert_exporter": "python",
   "pygments_lexer": "ipython3",
   "version": "3.9.5"
  }
 },
 "nbformat": 4,
 "nbformat_minor": 5
}
